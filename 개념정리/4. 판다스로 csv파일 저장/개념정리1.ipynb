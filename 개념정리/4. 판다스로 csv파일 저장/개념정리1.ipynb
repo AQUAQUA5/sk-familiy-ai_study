{
 "cells": [
  {
   "cell_type": "code",
   "id": "initial_id",
   "metadata": {
    "collapsed": true,
    "ExecuteTime": {
     "end_time": "2025-05-27T08:05:15.302721Z",
     "start_time": "2025-05-27T08:05:15.199277Z"
    }
   },
   "source": "import numpy as np",
   "outputs": [],
   "execution_count": 1
  },
  {
   "metadata": {
    "ExecuteTime": {
     "end_time": "2025-05-27T08:05:17.601336Z",
     "start_time": "2025-05-27T08:05:17.591726Z"
    }
   },
   "cell_type": "code",
   "source": [
    "np.array([1,2,3,4,5])\n",
    "\n",
    "print(np.arange(20).reshape(4,5))\n",
    "np.arange(20).reshape(4,5).ndim"
   ],
   "id": "b1411adcaa50f385",
   "outputs": [
    {
     "name": "stdout",
     "output_type": "stream",
     "text": [
      "[[ 0  1  2  3  4]\n",
      " [ 5  6  7  8  9]\n",
      " [10 11 12 13 14]\n",
      " [15 16 17 18 19]]\n"
     ]
    },
    {
     "data": {
      "text/plain": [
       "2"
      ]
     },
     "execution_count": 2,
     "metadata": {},
     "output_type": "execute_result"
    }
   ],
   "execution_count": 2
  },
  {
   "metadata": {
    "ExecuteTime": {
     "end_time": "2025-05-27T08:06:34.815759Z",
     "start_time": "2025-05-27T08:06:34.804481Z"
    }
   },
   "cell_type": "code",
   "source": [
    "np.arange(20).reshape(-1,4,5)\n",
    "'''\n",
    "reshape 에서 -1은 해당 칸을 자동으로 계산\n",
    "20을 n,4,5로 리쉐입하는데, n은 1이어야 값이 맞으니 1로 설정함\n",
    "np.arange(21).reshape(2,-1) 처럼 어떻게도 값이 남거나 부족하면 오류\n",
    "'''"
   ],
   "id": "2bd9b92a6f57bc29",
   "outputs": [
    {
     "data": {
      "text/plain": [
       "'\\nreshape 에서 -1은 해당 칸을 자동으로 계산\\n20을 n,4,5로 리쉐입하는데, n은 1이어야 값이 맞으니 1로 설정함\\nnp.arange(21).reshape(2,-1) 처럼 어떻게도 값이 남거나 부족하면 오류\\n'"
      ]
     },
     "execution_count": 6,
     "metadata": {},
     "output_type": "execute_result"
    }
   ],
   "execution_count": 6
  },
  {
   "metadata": {
    "ExecuteTime": {
     "end_time": "2025-05-27T08:13:25.163697Z",
     "start_time": "2025-05-27T08:13:25.103185Z"
    }
   },
   "cell_type": "code",
   "source": [
    "import requests\n",
    "from xml.etree import ElementTree as ET\n",
    "\n",
    "url = f\"https://m.stock.naver.com/front-api/external/chart/domestic/notice?symbol=010140&startTime=20141017&endTime=20150702&requestType=0\"\n",
    "\n"
   ],
   "id": "bd58d61949fd22e3",
   "outputs": [],
   "execution_count": 17
  },
  {
   "metadata": {
    "ExecuteTime": {
     "end_time": "2025-05-27T08:31:14.442936Z",
     "start_time": "2025-05-27T08:31:14.376493Z"
    }
   },
   "cell_type": "code",
   "source": [
    "'''\n",
    "ET.fromstring(data)\n",
    "ET.fromstring() 함수는 XML 형식의 문자열(data)을 파싱(분석)하여 XML 트리의 루트 요소(root element)를 생성합니다.\n",
    "반환된 root는 XML 문서의 최상위 요소(Element) 객체이며, 이 객체를 통해 XML 내부의 태그, 속성, 자식 요소 등에 접근할 수 있습니다\n",
    "'''\n",
    "data = requests.get(url).text\n",
    "with open('./xml파일 구조.txt', 'w', encoding='utf-8') as f:\n",
    "    f.write(data)\n",
    "root = ET.fromstring(data)"
   ],
   "id": "d4e471464b8bf34d",
   "outputs": [],
   "execution_count": 28
  },
  {
   "metadata": {
    "ExecuteTime": {
     "end_time": "2025-05-27T08:16:47.741389Z",
     "start_time": "2025-05-27T08:16:47.736584Z"
    }
   },
   "cell_type": "code",
   "source": [
    "'''\n",
    "ET에서 제공하는 iter는 조건을 만족하는 모든 요소를 반복하는 제네레이터를 반환(한 번 사용하면 삭제)\n",
    "'''\n",
    "items = root.iter(tag='item')\n",
    "total1 = []\n",
    "for i in items:\n",
    "    for x in i:\n",
    "        total1.append({i.get('date'), x.text})"
   ],
   "id": "e0af040f130b1649",
   "outputs": [],
   "execution_count": 21
  },
  {
   "metadata": {
    "ExecuteTime": {
     "end_time": "2025-05-27T08:16:48.434246Z",
     "start_time": "2025-05-27T08:16:48.428049Z"
    }
   },
   "cell_type": "code",
   "source": [
    "'''\n",
    "방법2 : 한줄에 넣음\n",
    "'''\n",
    "total2 = [{'date' : i.get('date'), 'information' : x.text} for i in root.iter(tag='item')  for x in i]"
   ],
   "id": "13233c5974139e1e",
   "outputs": [],
   "execution_count": 22
  },
  {
   "metadata": {
    "ExecuteTime": {
     "end_time": "2025-05-27T08:19:06.314490Z",
     "start_time": "2025-05-27T08:19:06.309053Z"
    }
   },
   "cell_type": "code",
   "source": [
    "import pandas as pd\n",
    "pd.DataFrame(total).to_csv(\"./total1.csv\", index=False, encoding='utf-8-sig')\n",
    "pd.DataFrame(total2).to_csv(\"./total2.csv\", index=False, encoding='utf-8-sig')"
   ],
   "id": "ce37cb9ccae9ff31",
   "outputs": [],
   "execution_count": 27
  },
  {
   "metadata": {},
   "cell_type": "code",
   "outputs": [],
   "execution_count": null,
   "source": "",
   "id": "9e0461687a3dde29"
  }
 ],
 "metadata": {
  "kernelspec": {
   "display_name": "Python [conda env:base] *",
   "language": "python",
   "name": "conda-base-py"
  },
  "language_info": {
   "codemirror_mode": {
    "name": "ipython",
    "version": 2
   },
   "file_extension": ".py",
   "mimetype": "text/x-python",
   "name": "python",
   "nbconvert_exporter": "python",
   "pygments_lexer": "ipython2",
   "version": "2.7.6"
  }
 },
 "nbformat": 4,
 "nbformat_minor": 5
}
