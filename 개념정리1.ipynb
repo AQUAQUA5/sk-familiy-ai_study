{
 "cells": [
  {
   "metadata": {
    "ExecuteTime": {
     "end_time": "2025-05-25T04:19:52.327783Z",
     "start_time": "2025-05-25T04:19:52.018572Z"
    }
   },
   "cell_type": "code",
   "source": [
    "from urllib.parse import urlparse, urlencode, quote\n",
    "import requests\n",
    "from bs4 import BeautifulSoup\n",
    "import re\n",
    "import os\n",
    "import pathlib"
   ],
   "id": "4799de3c2d79cf38",
   "outputs": [],
   "execution_count": 2
  },
  {
   "metadata": {},
   "cell_type": "code",
   "outputs": [],
   "execution_count": 1,
   "source": [
    "'''\n",
    "request.get을 이용하여 url과 헤더 값을 가지고 html정보 가져오기\n",
    "'''\n",
    "def my_request(url, method='get'):\n",
    "    head = {'user-agent'\n",
    "            : 'Mozilla/5.0 (Windows NT 10.0; Win64; x64) AppleWebKit/537.36 (KHTML, like Gecko) Chrome/136.0.0.0 Safari/537.36 Edg/136.0.0.0'}\n",
    "    if method == \"get\":\n",
    "        return requests.get(url, headers=head)"
   ],
   "id": "initial_id"
  },
  {
   "metadata": {},
   "cell_type": "code",
   "outputs": [],
   "execution_count": null,
   "source": [
    "'''\n",
    "웹페이지에서 필요한 부분 가져오기\n",
    "BeautifulSoup을 이용하여 html을 text나 content로 변환 후 파싱\n",
    "find('태그', '속성=속성값')을 이용하여 찾음\n",
    "find는 조건을 만족하는 최초 태그, find_all은 조건을 만족하는 모든 태그 반환 ( [n] n번째 검색 )\n",
    "finde_all은 ResultSet객체 반환. 리스트처럼 작동\n",
    "\n",
    "'''\n",
    "def search_id(title):\n",
    "    host = \"https://www.melon.com/search/total/index.htm?\"\n",
    "    payload = {\n",
    "        'searchGnbYn' : ['Y'],\n",
    "        'kkoSpl' :  ['Y'],\n",
    "        'mwkLogType' : ['T']\n",
    "    }\n",
    "    payload['q'] = [title]\n",
    "\n",
    "    # url 주소 생성\n",
    "    url = host + urlencode(payload, doseq=True)\n",
    "\n",
    "    # return url\n",
    "    r = my_request(url)\n",
    "    text = BeautifulSoup(r.text).find(\"div\", class_=\"tb_list d_song_list songTypeOne\").find_all(\"tr\")[1].find(\"button\",\"btn_icon play\" )['onclick']\n",
    "\n",
    "    return p.findall(text)[0][-1]"
   ],
   "id": "93a2ab145984e519"
  }
 ],
 "metadata": {
  "kernelspec": {
   "display_name": "Python [conda env:base] *",
   "language": "python",
   "name": "conda-base-py"
  },
  "language_info": {
   "codemirror_mode": {
    "name": "ipython",
    "version": 2
   },
   "file_extension": ".py",
   "mimetype": "text/x-python",
   "name": "python",
   "nbconvert_exporter": "python",
   "pygments_lexer": "ipython2",
   "version": "2.7.6"
  }
 },
 "nbformat": 4,
 "nbformat_minor": 5
}
