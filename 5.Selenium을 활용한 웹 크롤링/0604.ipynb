{
 "cells": [
  {
   "cell_type": "code",
   "id": "initial_id",
   "metadata": {
    "collapsed": true
   },
   "source": "pip install webdriver_manager",
   "outputs": [],
   "execution_count": null
  },
  {
   "metadata": {},
   "cell_type": "code",
   "source": [
    "from selenium import webdriver\n",
    "from selenium.webdriver.chrome.service import Service as ChromeService\n",
    "from webdriver_manager.chrome import ChromeDriverManager"
   ],
   "id": "e775645bd3d994c1",
   "outputs": [],
   "execution_count": null
  },
  {
   "metadata": {},
   "cell_type": "code",
   "source": "driver = webdriver.Chrome(service=ChromeService(ChromeDriverManager().install()))",
   "id": "68146431905107ef",
   "outputs": [],
   "execution_count": null
  },
  {
   "metadata": {},
   "cell_type": "code",
   "source": "driver.get(\"https://www.naver.com/\")",
   "id": "1fe2e338d0db862a",
   "outputs": [],
   "execution_count": null
  },
  {
   "metadata": {},
   "cell_type": "code",
   "source": [
    "driver.get(\"https://www.naver.com\")\n",
    "#요소를 기반으로 찾기 할수 있는 By\n",
    "from selenium.webdriver.common.by import By\n",
    "\n",
    "#CSS 요소 검색창\n",
    "click = \"#query\"\n",
    "\n",
    "#해당요소 찾아서 click해\n",
    "driver.find_element(By.CSS_SELECTOR, click).click()\n",
    "\n",
    "#해당요소 찾아서 키보드 값 보내\n",
    "driver.find_element(By.CSS_SELECTOR, click).send_keys(\"손흥민\")"
   ],
   "id": "82ddb60f758daa9a",
   "outputs": [],
   "execution_count": null
  },
  {
   "metadata": {},
   "cell_type": "code",
   "source": "driver.find_element(By.CSS_SELECTOR, click).clear()",
   "id": "df7f3dead7bd5ee6",
   "outputs": [],
   "execution_count": null
  },
  {
   "metadata": {},
   "cell_type": "code",
   "source": [
    "driver.find_element(By.CSS_SELECTOR, click).send_keys(\"검색어 넣으세요\")\n",
    "from selenium.webdriver.common.keys import Keys\n",
    "driver.find_element(By.CSS_SELECTOR, click).send_keys(Keys.ENTER)"
   ],
   "id": "5abf983a30521302",
   "outputs": [],
   "execution_count": null
  },
  {
   "metadata": {},
   "cell_type": "code",
   "source": [
    "###야구선수 정보\n",
    "driver.get(\"https://www.koreabaseball.com/Default.aspx?vote=true\")\n",
    "driver.find_element(By.CSS_SELECTOR,\"#lnb > li:nth-child(3) > a\").click()"
   ],
   "id": "2547828bcd47060f",
   "outputs": [],
   "execution_count": null
  },
  {
   "metadata": {},
   "cell_type": "code",
   "source": [
    "#팀드롭박스 메뉴에서 팀 위치\n",
    "#cphContents_cphContents_cphContents_ddlTeam > option:nth-child(2)\n",
    "#cphContents_cphContents_cphContents_ddlTeam > option:nth-child(3)\n",
    "#cphContents_cphContents_cphContents_ddlTeam > option:nth-child(4)\n",
    "#cphContents_cphContents_cphContents_ddlTeam > option:nth-child(11)\n"
   ],
   "id": "1b8772739feb746e",
   "outputs": [],
   "execution_count": null
  },
  {
   "metadata": {},
   "cell_type": "code",
   "source": "driver.find_element(By.CSS_SELECTOR,\"#cphContents_cphContents_cphContents_ddlTeam > option:nth-child(4)\").click()",
   "id": "e606a8197497f9ff",
   "outputs": [],
   "execution_count": null
  },
  {
   "metadata": {},
   "cell_type": "code",
   "source": [
    "#cphContents_cphContents_cphContents_ucPager_btnNo2\n",
    "#cphContents_cphContents_cphContents_ucPager_btnNo3\n",
    "#cphContents_cphContents_cphContents_ucPager_btnNo5\n",
    "# - 아래 데이터 + 선수ID값\n",
    "# table명 : kbo_players\n",
    "# - 선수ID, 등번호, 선수명, 팀, 포지션, 생년월일, 키, 몸무게, 출신"
   ],
   "id": "17fa4339f651b3c8",
   "outputs": [],
   "execution_count": null
  }
 ],
 "metadata": {
  "kernelspec": {
   "display_name": "Python [conda env:base] *",
   "language": "python",
   "name": "conda-base-py"
  },
  "language_info": {
   "codemirror_mode": {
    "name": "ipython",
    "version": 2
   },
   "file_extension": ".py",
   "mimetype": "text/x-python",
   "name": "python",
   "nbconvert_exporter": "python",
   "pygments_lexer": "ipython2",
   "version": "2.7.6"
  }
 },
 "nbformat": 4,
 "nbformat_minor": 5
}
