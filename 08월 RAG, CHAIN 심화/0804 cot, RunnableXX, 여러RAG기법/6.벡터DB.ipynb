{
 "cells": [
  {
   "cell_type": "code",
   "execution_count": null,
   "id": "4159dbc6",
   "metadata": {},
   "outputs": [],
   "source": [
    "앞으로 사용하게 될 postgresql 설치하기 (벡터 db로 활용)\n",
    "----\n",
    "sudo apt install -y postgresql-common\n",
    "sudo /usr/share/postgresql-common/pgdg/apt.postgresql.org.sh\n",
    "\n",
    "sudo apt install curl ca-certificates\n",
    "sudo install -d /usr/share/postgresql-common/pgdg\n",
    "sudo curl -o /usr/share/postgresql-common/pgdg/apt.postgresql.org.asc --fail https://www.postgresql.org/media/keys/ACCC4CF8.asc\n",
    ". /etc/os-release\n",
    "sudo sh -c \"echo 'deb [signed-by=/usr/share/postgresql-common/pgdg/apt.postgresql.org.asc] https://apt.postgresql.org/pub/repos/apt $VERSION_CODENAME-pgdg main' > /etc/apt/sources.list.d/pgdg.list\"\n",
    "sudo apt update\n",
    "sudo apt -y install postgresql\n",
    "sudo service  postgresql start"
   ]
  }
 ],
 "metadata": {
  "language_info": {
   "name": "python"
  }
 },
 "nbformat": 4,
 "nbformat_minor": 5
}
