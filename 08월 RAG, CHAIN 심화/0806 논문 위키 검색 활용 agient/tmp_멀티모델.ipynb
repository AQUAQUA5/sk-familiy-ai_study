{
 "cells": [
  {
   "cell_type": "code",
   "execution_count": 2,
   "id": "79e7629e",
   "metadata": {},
   "outputs": [
    {
     "name": "stderr",
     "output_type": "stream",
     "text": [
      "/home/user1/miniconda3/envs/openai/lib/python3.11/site-packages/tqdm/auto.py:21: TqdmWarning: IProgress not found. Please update jupyter and ipywidgets. See https://ipywidgets.readthedocs.io/en/stable/user_install.html\n",
      "  from .autonotebook import tqdm as notebook_tqdm\n",
      "Generating train split: 100%|██████████| 45623/45623 [00:11<00:00, 3936.23 examples/s]\n",
      "Generating val split: 100%|██████████| 1158/1158 [00:00<00:00, 7624.80 examples/s]\n"
     ]
    }
   ],
   "source": [
    "from datasets import load_dataset\n",
    "\n",
    "# datasets\n",
    "dataset = load_dataset(\"detection-datasets/fashionpedia\")"
   ]
  },
  {
   "cell_type": "code",
   "execution_count": 4,
   "id": "1d1f881a",
   "metadata": {},
   "outputs": [],
   "source": [
    "from chromadb.utils.embedding_functions import OpenCLIPEmbeddingFunction\n",
    "from chromadb.utils.data_loaders import ImageLoader\n",
    "import chromadb"
   ]
  },
  {
   "cell_type": "code",
   "execution_count": 6,
   "id": "cbd55fb6",
   "metadata": {},
   "outputs": [],
   "source": [
    "chroma_client = chromadb.PersistentClient(\"./fvector\")\n",
    "image_loader = ImageLoader()\n",
    "\n",
    "CLIP = OpenCLIPEmbeddingFunction()\n",
    "\n",
    "image_vdb = chroma_client.get_or_create_collection(\n",
    "        name=\"image\", embedding_function=CLIP, data_loader=image_loader)"
   ]
  },
  {
   "cell_type": "code",
   "execution_count": 11,
   "id": "9f37a8f0",
   "metadata": {},
   "outputs": [],
   "source": [
    "import os\n",
    "ids = []\n",
    "uris =[]\n",
    "roots = \"./data/fashion_dataset/fashion_dataset/\"\n",
    "for idx, filename in enumerate(sorted(os.listdir(roots))):\n",
    "    if filename.endswith(\".png\"):\n",
    "        uris.append(roots+filename)\n",
    "        ids.append(str(idx))\n",
    "\n",
    "if ids and uris:\n",
    "    image_vdb.add(ids=ids, uris=uris)\n",
    "else:\n",
    "    print(\"추가할 데이터가 없습니다.\")"
   ]
  },
  {
   "cell_type": "code",
   "execution_count": null,
   "id": "34d4c18a",
   "metadata": {},
   "outputs": [],
   "source": []
  }
 ],
 "metadata": {
  "kernelspec": {
   "display_name": "openai",
   "language": "python",
   "name": "python3"
  },
  "language_info": {
   "codemirror_mode": {
    "name": "ipython",
    "version": 3
   },
   "file_extension": ".py",
   "mimetype": "text/x-python",
   "name": "python",
   "nbconvert_exporter": "python",
   "pygments_lexer": "ipython3",
   "version": "3.11.13"
  }
 },
 "nbformat": 4,
 "nbformat_minor": 5
}
