{
 "cells": [
  {
   "cell_type": "code",
   "execution_count": null,
   "id": "6b4eb8e6",
   "metadata": {},
   "outputs": [],
   "source": [
    "import imaplib\n",
    "import email\n",
    "from email.header import decode_header, make_header"
   ]
  },
  {
   "cell_type": "code",
   "execution_count": null,
   "id": "5da42deb",
   "metadata": {},
   "outputs": [],
   "source": [
    "import smtplib\n",
    "from email.mime.multipart import MIMEMultipart\n",
    "from email.mime.text import MIMEText\n",
    "from email.utils import formatdate\n",
    "from email.mime.application import MIMEApplication\n",
    "from email.mime.base import MIMEBase\n",
    "from email.encoders import encode_base64\n",
    "from email.header import Header"
   ]
  },
  {
   "cell_type": "code",
   "execution_count": null,
   "id": "1b285b88",
   "metadata": {},
   "outputs": [],
   "source": [
    "def send_mail(id_, pass_, email_to , email_subject, email_message_html, filename=None):\n",
    "    smtp = smtplib.SMTP_SSL(\"smtp.gmail.com\", 465)\n",
    "    smtp.login(id_, pass_)\n",
    "   \n",
    "    msg = MIMEMultipart('mixed')\n",
    "    # 보내는 사람\n",
    "    # msg['From'] = email_to\n",
    "    # 받는 사람\n",
    "    msg['To'] = email_to\n",
    "    # 날짜\n",
    "    # msg['Date'] = formatdate(localtime=True)\n",
    "    # 제목\n",
    "    msg['Subject'] = email_subject\n",
    "    # 본문 추가 (html형식으로 인코딩 방식은 utf-8)\n",
    "    msg.attach(MIMEText(email_message_html, \"html\", _charset=\"utf-8\"))\n",
    "    smtp.sendmail(email_to,email_to, msg.as_string())"
   ]
  },
  {
   "cell_type": "code",
   "execution_count": null,
   "id": "33a74955",
   "metadata": {},
   "outputs": [],
   "source": [
    "from langchain_core.prompts import PromptTemplate\n",
    "from langchain_openai import ChatOpenAI"
   ]
  },
  {
   "cell_type": "code",
   "execution_count": null,
   "id": "65215269",
   "metadata": {},
   "outputs": [],
   "source": [
    "from datetime import datetime\n",
    "def get_today():\n",
    "    return datetime.now().strftime(\"%m-%d\")\n",
    "\n",
    "prompt = PromptTemplate(\n",
    "    template=\"오늘의 날짜는 {today}야. 오늘 날짜에 일어난 역사적으로 큰 사건 {n}개를 나열해줘.\",\n",
    "    input_variables=[\"n\"],\n",
    "    partial_variables={\n",
    "        \"today\" : get_today\n",
    "    }\n",
    ")\n",
    "\n",
    "llm = ChatOpenAI(\n",
    "    temperature=0,\n",
    "    #model_name='o4-mini-2025-04-16',\n",
    "    model_name='gpt-4.1-nano',\n",
    "    api_key=my_key\n",
    ")\n",
    "\n",
    "chain = prompt | llm"
   ]
  },
  {
   "cell_type": "code",
   "execution_count": null,
   "id": "260e1623",
   "metadata": {},
   "outputs": [],
   "source": [
    "email_date = formatdate(localtime=True)\n",
    "email_subject = \"2025-07-16 역사적인.....\"\n",
    "email_message_html = chain.invoke(5).content\n",
    "id_ = \"seowoong362@gmail.com\"\n",
    "pass_ = 'qiul jsce dper kncd'\n",
    "send_mail(id_, pass_, '51chief@naver.com', \"안녕\", email_message_html)"
   ]
  }
 ],
 "metadata": {
  "kernelspec": {
   "display_name": "openai",
   "language": "python",
   "name": "python3"
  },
  "language_info": {
   "codemirror_mode": {
    "name": "ipython",
    "version": 3
   },
   "file_extension": ".py",
   "mimetype": "text/x-python",
   "name": "python",
   "nbconvert_exporter": "python",
   "pygments_lexer": "ipython3",
   "version": "3.11.13"
  }
 },
 "nbformat": 4,
 "nbformat_minor": 5
}
