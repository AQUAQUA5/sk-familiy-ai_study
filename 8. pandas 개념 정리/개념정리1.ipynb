{
 "cells": [
  {
   "cell_type": "code",
   "execution_count": null,
   "id": "e5934e9f",
   "metadata": {},
   "outputs": [],
   "source": [
    "import pandas as pd\n",
    "pd.__version__     #버전확인\n",
    "df= pd.DataFrame({'a' : [1,2,3], 'b' : [2,3,4]})    #칼럼이름 : [칼럼값] 으로 데이터 생성\n",
    "type(df)    #pandas.core.frame.DataFrame : 타입은 판다스df객체로 "
   ]
  },
  {
   "cell_type": "code",
   "execution_count": null,
   "id": "12502a0e",
   "metadata": {},
   "outputs": [],
   "source": [
    "pd.Series(arr, dtype='int32')\n",
    "Pandas의 Series는 1차원 배열로서 다음의 특징을 가집니다.\n",
    "데이터를 담는 차원 배열 구조를 가집니다.\n",
    "인덱스(index)를 사용 가능합니다.\n",
    "데이터 타입을 가집니다. (dtype)\n",
    "\n",
    "생성 : 넘파이 array로 생성, 파이썬 list로 생성\n",
    "arr = np.arange(100, 105)\n",
    "s = pd.Series(arr)\n",
    "s = pd.Series(arr, dtype='int32')\n",
    "\n",
    "pylist = ['부장', '차장', '대리', '사원', '인턴']\n",
    "s = pd.Series(pylist)\n",
    "s = pd.Series(pylist, dtype = 'int32')"
   ]
  },
  {
   "cell_type": "code",
   "execution_count": null,
   "id": "6013f3c8",
   "metadata": {},
   "outputs": [],
   "source": [
    "df"
   ]
  },
  {
   "cell_type": "code",
   "execution_count": null,
   "id": "a4a9c6d9",
   "metadata": {},
   "outputs": [],
   "source": [
    "df['a']"
   ]
  },
  {
   "cell_type": "code",
   "execution_count": null,
   "id": "b305b78f",
   "metadata": {},
   "outputs": [],
   "source": [
    "type(df['a'])"
   ]
  },
  {
   "cell_type": "code",
   "execution_count": null,
   "id": "bd0e101f",
   "metadata": {},
   "outputs": [],
   "source": [
    "df['a'].values #출력 : array([1, 2, 3])\n",
    "test = df['a'].values"
   ]
  },
  {
   "cell_type": "code",
   "execution_count": null,
   "id": "597e6d11",
   "metadata": {},
   "outputs": [],
   "source": [
    "#넘파이는 선형대수에 관한 패키지 \n",
    "DF에서 행 또는 열을 가져오면 시리즈가 된다.\n",
    "DF하나의 원소는 넘파이로 되어있다."
   ]
  },
  {
   "cell_type": "code",
   "execution_count": null,
   "id": "5404c3e0",
   "metadata": {},
   "outputs": [],
   "source": [
    "import pymysql\n",
    "conn = pymysql.connect(host='222.112.208.67', user='play', passwd='123', database='sk17', port=3306)\n",
    "cur = conn.cursor()"
   ]
  },
  {
   "cell_type": "code",
   "execution_count": null,
   "id": "05391806",
   "metadata": {},
   "outputs": [],
   "source": [
    "sql = \"select * from kbo_player\"\n",
    "kbo_df = pd.read_sql_query(sql, con=conn) #대입 대상이 있어야함"
   ]
  },
  {
   "cell_type": "code",
   "execution_count": null,
   "id": "ea79aa67",
   "metadata": {},
   "outputs": [],
   "source": [
    "kbo_df.shape # (893, 9)\n",
    "kbo_df.info()"
   ]
  },
  {
   "cell_type": "code",
   "execution_count": null,
   "id": "9f979e57",
   "metadata": {},
   "outputs": [],
   "source": [
    "kbo_df.isnull() #모든 테이블을 True와 False로 결측치 보여줌 , isint는 없음\n",
    "kbo_df.isnull().sum() #결측치 전부 더해서 보여줌 (true는 )\n",
    "# player_number    20   결측치 20개\n",
    "# name              0\n",
    "# kbo_id            0\n",
    "# team              0\n",
    "# position          1\n",
    "# birthday          0\n",
    "# height            1\n",
    "# weight            1\n",
    "# career            0\n",
    "# dtype: int64\n",
    "\n",
    "#결측치는 평균값 삽입 혹은 삭제 등으로 처리\n",
    "#결측치가 없는 칼럼의 수는?"
   ]
  },
  {
   "cell_type": "code",
   "execution_count": null,
   "id": "fea139a2",
   "metadata": {},
   "outputs": [],
   "source": [
    "#describe()는 요약 통계(기술 통계)\n",
    "#기본적으로 수치형(numeric) 데이터만 요약 : 갯수, 평균, 표준편차, 최소값, 1분위값, 중위값, 3분위값, 4분위값\n",
    "# include 옵션을 사용하면 특정 데이터 타입의 열만 골라서 요약\n",
    "kbo_df.describe()       "
   ]
  },
  {
   "cell_type": "code",
   "execution_count": null,
   "id": "471fdaa9",
   "metadata": {},
   "outputs": [],
   "source": [
    "# include=['object', 'category']는\n",
    "# 문자열(텍스트) 데이터(object 타입)와\n",
    "# 범주형 데이터(category 타입) 열에 대해서만 요약약\n",
    "\n",
    "# object: 판다스에서 문자열(텍스트) 데이터가 저장되는 기본 타입\n",
    "# category: 범주형 데이터(예: 팀명, 등급 등 한정된 값만 가질 수 있는 데이터\n",
    "kbo_df.describe(include=['object', 'category'])"
   ]
  },
  {
   "cell_type": "code",
   "execution_count": null,
   "id": "606fe58a",
   "metadata": {},
   "outputs": [],
   "source": [
    "kbo_df.columns  #칼럼 리스트 반환 , pandas.core.indexes.base.Index타입"
   ]
  },
  {
   "cell_type": "code",
   "execution_count": null,
   "id": "ab99aa63",
   "metadata": {},
   "outputs": [],
   "source": [
    "#데이터 접근 iloc, loc\n",
    "#pandas.core.frame.DataFrame 타입이며, print함수로 출력 가능능\n",
    "#1:4 처럼 범위 선택 가능\n",
    "\n",
    "#iloc은 인덱스로 접근        \n",
    "kbo_df.iloc[4,1]        # 구본혁\n",
    "\n",
    "#loc는 low, column 명으로 접근\n",
    "kbo_df.loc[1,'name']    # 강민균\n",
    "\n",
    "#사용 예시\n",
    "kbo_df.iloc[2:5, 1]\n",
    "kbo_df.loc[1:5 ,'name':'career']\n",
    "kbo_df.loc[: ,'name':'career']"
   ]
  },
  {
   "cell_type": "code",
   "execution_count": null,
   "id": "355ee045",
   "metadata": {},
   "outputs": [],
   "source": [
    "#브로드캐스팅 : 원소 전체에 연산을 적용하는 것으로 판다스의 객체와 넘파이의 배열이 가능하다.\n",
    "import numpy as np\n",
    "\n",
    "np.array([1,2,3,4]) + 10\n",
    "np.array([1,2,3,4]) == 1\n",
    "df['col'] = df['col'] + 1\n",
    "\n",
    "\n",
    "masked = kbo_df['position'] == \"투수\"\n",
    "\n",
    "#True or False로 이루어진 시리즈\n",
    "type(masked)        \n",
    "#pandas.core.series.Series"
   ]
  },
  {
   "cell_type": "code",
   "execution_count": null,
   "id": "084458fe",
   "metadata": {},
   "outputs": [],
   "source": [
    "#조건에 맞는 True or False로 이루어진 시리즈를 이용하여\n",
    "#조건에 맞는 값만 반환하는 기법 : 마스크 mask\n",
    "kbo_df[masked] #투수만 반환\n",
    "\n",
    "#두산의 투수만 반환\n",
    "#파이썬 비트연산 &, | , !\n",
    "masked = (kbo_df['position'] == \"투수\") & (kbo_df['team'] == \"두산\")\n",
    "kbo_df[masked]"
   ]
  },
  {
   "cell_type": "code",
   "execution_count": null,
   "id": "6b041eec",
   "metadata": {},
   "outputs": [],
   "source": [
    "#apply()는 모든 원소에 함수를 적용한다.\n",
    "\n",
    "def get_age3(x):\n",
    "    return date.today().year -x.year\n",
    "\n",
    "kbo_df['age'] = kbo_df['birthday'].apply(get_age3)\n",
    "#kbo_df['age'] 는 DF에 열 추가됨\n",
    "\n",
    "#apply는 람다를 많이씀\n",
    "kbo_df['age'] = kbo_df['birthday'].apply( lambda x : date.today().year - x.year)"
   ]
  },
  {
   "cell_type": "code",
   "execution_count": null,
   "id": "9c94900a",
   "metadata": {},
   "outputs": [],
   "source": [
    "a = kbo_df.groupby(['team'])['height'].mean()               #시리즈 타입\n",
    "b = kbo_df.groupby(['team'])[['height']].mean()             #DF 타입\n",
    "kbo_agg = kbo_df.groupby(['team'])[['height', 'weight']].mean()   #DF 타입"
   ]
  },
  {
   "cell_type": "code",
   "execution_count": null,
   "id": "4ce4d4d7",
   "metadata": {},
   "outputs": [],
   "source": [
    "#둘다 가능\n",
    "kbo_agg.loc['한화',]        #시리즈 타입\n",
    "kbo_agg.loc['한화']         \n",
    "\n",
    "#\n",
    "kbo_agg.loc['KT':'NC',]"
   ]
  },
  {
   "cell_type": "code",
   "execution_count": null,
   "id": "fe704ec2",
   "metadata": {},
   "outputs": [],
   "source": [
    "#iterrows()\n",
    "#iterrows(df)인덱스와 함께 데이터를 하나씩 반환\n",
    "#시리즈는 안됨 \n",
    "#사용 예시, 스타벅스 데이터 가공 파일에서 확인 \n",
    "import time , tqdm\n",
    "total =[]\n",
    "for _, data in star_df2.iterrows():\n",
    "    biz_code = data['s_biz_code']\n",
    "    view_payload['in_biz_cd'] = biz_code\n",
    "    total.append(pd.DataFrame(requests.post(view_url, data=view_payload).json()['view']))\n",
    "    if _ % 100 == 99:\n",
    "        time.sleep(3)"
   ]
  },
  {
   "cell_type": "code",
   "execution_count": null,
   "id": "682ea56f",
   "metadata": {},
   "outputs": [],
   "source": [
    "concat이란\n",
    "\n",
    "import pandas as pd\n",
    "pd.concat([df1, df2], axis=0, join='outer', ignore_index=False)\n",
    "[df1, df2]: 합칠 데이터프레임(또는 시리즈) 리스트\n",
    "\n",
    "axis=0: 행 방향(위아래)으로 합침 (기본값)\n",
    "axis=1: 열 방향(좌우)으로 합침\n",
    "join: 'outer'(기본)면 모든 인덱스/컬럼을 포함, 'inner'면 공통된 부분만 포함\n",
    "ignore_index=True: 인덱스를 새로 부여"
   ]
  },
  {
   "cell_type": "code",
   "execution_count": null,
   "id": "42b7bb5c",
   "metadata": {},
   "outputs": [],
   "source": [
    "Merge 명령어 사용법?\tpd.merge(left, right, how, on, left_on, right_on, left_index, right_index)\n",
    "\tleft : Merge 할 왼쪽 DataFrame\n",
    "\tright : Merge 할 오른쪽 DataFrame\n",
    "\thow : inner, left, right, outer\n",
    "\ton : 두 DataFrame을 Join할 기준 컬럼명(컬럼명이 동일할 경우)\n",
    "\tleft_on : Join할 기준 컬럼의 왼쪽 DataFrame의 컬럼명\n",
    "\tright_on : Join할 기준 컬럼의 오른쪽 DataFrame의 컬럼명\n",
    "\tleft_index : 왼쪽 DataFrame index로 Join할 경우 True\n",
    "\tright_index : 오른쪽 DataFrame index로 Join할 경우 True\n",
    "\n",
    "concat 명령어 사용법?\tpd.concat([left,right], axis, join,...)\n",
    "\t[left,right] : left DataFrame과 right DataFrame으로 이루어진 List\n",
    "\taxis = 0 : 행기준으로 합치기, 1: 열기준으로 Index명으로 합치기"
   ]
  }
 ],
 "metadata": {
  "kernelspec": {
   "display_name": "pandas",
   "language": "python",
   "name": "python3"
  },
  "language_info": {
   "codemirror_mode": {
    "name": "ipython",
    "version": 3
   },
   "file_extension": ".py",
   "mimetype": "text/x-python",
   "name": "python",
   "nbconvert_exporter": "python",
   "pygments_lexer": "ipython3",
   "version": "3.12.11"
  }
 },
 "nbformat": 4,
 "nbformat_minor": 5
}
