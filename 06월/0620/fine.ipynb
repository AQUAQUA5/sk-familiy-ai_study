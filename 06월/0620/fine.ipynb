{
 "cells": [
  {
   "cell_type": "code",
   "execution_count": null,
   "id": "cea8c177",
   "metadata": {},
   "outputs": [],
   "source": [
    "import pandas as pd\n",
    "import numpy as np\n",
    "import os"
   ]
  },
  {
   "cell_type": "code",
   "execution_count": null,
   "id": "17444586",
   "metadata": {},
   "outputs": [],
   "source": [
    "import kagglehub\n",
    "# Download latest version\n",
    "path = kagglehub.dataset_download(\"ulrikthygepedersen/speed-dating\")\n",
    "print(\"Path to dataset files:\", path)"
   ]
  },
  {
   "cell_type": "code",
   "execution_count": null,
   "id": "0015894e",
   "metadata": {},
   "outputs": [],
   "source": [
    "print(os.listdir(path))"
   ]
  },
  {
   "cell_type": "code",
   "execution_count": null,
   "id": "805c7f6f",
   "metadata": {},
   "outputs": [],
   "source": [
    "df = pd.read_csv(path+'/speeddating.csv')\n",
    "df.loc[:, (df.dtypes == 'object').values] = df.loc[:, (df.dtypes == 'object').values].map(lambda x: x.replace(\"b'\", '').replace(\"'\", \"\"))"
   ]
  },
  {
   "cell_type": "code",
   "execution_count": null,
   "id": "82f872b0",
   "metadata": {},
   "outputs": [],
   "source": [
    "summary_df = pd.DataFrame({\n",
    "    'dtype': df.dtypes.astype(str),\n",
    "    'unique_count': df.nunique(),\n",
    "    'missing_count': df.isnull().sum(),\n",
    "    'mean': df.mean(numeric_only=True),\n",
    "    'std': df.std(numeric_only=True),\n",
    "    'min': df.min(numeric_only=True),\n",
    "    'max': df.max(numeric_only=True),\n",
    "    'mode': df.mode().iloc[0],  # 최빈값\n",
    "    'zero_count': (df == 0).sum()  # 0값 개수\n",
    "})"
   ]
  },
  {
   "cell_type": "code",
   "execution_count": null,
   "id": "cc3b42ae",
   "metadata": {},
   "outputs": [],
   "source": [
    "pd.set_option('display.max_rows', 1000)   \n",
    "pd.set_option('display.max_columns', 2000) \n",
    "summary_df = summary_df.T"
   ]
  },
  {
   "cell_type": "code",
   "execution_count": null,
   "id": "b5cc4b39",
   "metadata": {},
   "outputs": [],
   "source": [
    "type(summary_df)"
   ]
  },
  {
   "cell_type": "code",
   "execution_count": null,
   "id": "d29e340b",
   "metadata": {},
   "outputs": [],
   "source": [
    "summary_df[summary_df.loc['dtype',:] == 'object']"
   ]
  },
  {
   "cell_type": "code",
   "execution_count": null,
   "id": "de0ae871",
   "metadata": {},
   "outputs": [],
   "source": [
    "type(summary_df.loc['dtype',:] == 'object')"
   ]
  },
  {
   "cell_type": "code",
   "execution_count": null,
   "id": "a7fe72a0",
   "metadata": {},
   "outputs": [],
   "source": [
    "print(summary_df.index.tolist())"
   ]
  },
  {
   "cell_type": "code",
   "execution_count": null,
   "id": "3387731f",
   "metadata": {},
   "outputs": [],
   "source": [
    "summary_df.loc['dtype'] == 'object'"
   ]
  },
  {
   "cell_type": "code",
   "execution_count": null,
   "id": "c6fc128b",
   "metadata": {},
   "outputs": [],
   "source": [
    "summary_df.loc[:, summary_df.loc['dtype'] == 'object']"
   ]
  },
  {
   "cell_type": "code",
   "execution_count": null,
   "id": "a8873063",
   "metadata": {},
   "outputs": [],
   "source": [
    "need_encod = summary_df.loc[:, (summary_df.loc['unique_count'] < 10) & (summary_df.loc['dtype'] == 'object')].columns"
   ]
  },
  {
   "cell_type": "code",
   "execution_count": null,
   "id": "f272ac80",
   "metadata": {},
   "outputs": [],
   "source": [
    "need_encod.shape"
   ]
  },
  {
   "cell_type": "code",
   "execution_count": null,
   "id": "066f4157",
   "metadata": {},
   "outputs": [],
   "source": [
    "df_encoded = pd.get_dummies(df, prefix=None, prefix_sep='_', dummy_na=True, columns=need_encod, drop_first=False)"
   ]
  },
  {
   "cell_type": "code",
   "execution_count": null,
   "id": "78767186",
   "metadata": {},
   "outputs": [],
   "source": [
    "df_encoded.shape"
   ]
  },
  {
   "cell_type": "code",
   "execution_count": null,
   "id": "f2326a07",
   "metadata": {},
   "outputs": [],
   "source": [
    "corr_matrix = df_encoded.corr()\n",
    "print(corr_matrix)\n"
   ]
  },
  {
   "cell_type": "code",
   "execution_count": null,
   "id": "fc7aa064",
   "metadata": {},
   "outputs": [],
   "source": [
    "df_encoded.dtypes == 'object'"
   ]
  },
  {
   "cell_type": "code",
   "execution_count": null,
   "id": "3a683485",
   "metadata": {},
   "outputs": [],
   "source": [
    "summary_df_endcoded = pd.DataFrame({\n",
    "    'dtype': df_encoded.dtypes.astype(str),\n",
    "    'unique_count': df_encoded.nunique(),\n",
    "    'missing_count': df_encoded.isnull().sum(),\n",
    "    'mean': df_encoded.mean(numeric_only=True),\n",
    "    'std': df_encoded.std(numeric_only=True),\n",
    "    'min': df_encoded.min(numeric_only=True),\n",
    "    'max': df_encoded.max(numeric_only=True),\n",
    "    'mode': df_encoded.mode().iloc[0],  # 최빈값\n",
    "    'zero_count': (df_encoded == 0).sum()  # 0값 개수\n",
    "})"
   ]
  },
  {
   "cell_type": "code",
   "execution_count": null,
   "id": "ae764f17",
   "metadata": {},
   "outputs": [],
   "source": [
    "summary_df_endcoded[(summary_df_endcoded.loc[:,'dtype'] == 'object') & (summary_df_endcoded.loc[:,'unique_count'] > 10)]"
   ]
  },
  {
   "cell_type": "code",
   "execution_count": null,
   "id": "30a6557e",
   "metadata": {},
   "outputs": [],
   "source": [
    "df_encoded['field'].unique()"
   ]
  },
  {
   "cell_type": "code",
   "execution_count": null,
   "id": "f002ed35",
   "metadata": {},
   "outputs": [],
   "source": [
    "def categorize_field(field):\n",
    "    field_lower = str(field).lower()\n",
    "    law_keywords = ['law', 'legal']\n",
    "    business_keywords = ['business', 'finance', 'mba', 'marketing', 'management', 'consulting', 'real estate', 'private equity']\n",
    "    science_keywords = ['engineering', 'biology', 'chemistry', 'physics', 'math', 'medicine', 'biomedical', 'neuroscience', 'statistics', 'informatics', 'environmental', 'ecology', 'genetics', 'microbiology', 'biotechnology', 'industrial', 'operations research']\n",
    "    social_keywords = ['education', 'social work', 'psychology', 'public administration', 'political science', 'international affairs', 'sociology', 'anthropology', 'public health', 'health policy', 'human rights', 'history', 'communication', 'curriculum', 'teaching', 'school', 'counseling', 'nutrition', 'speech', 'policy', 'development', 'urban planning']\n",
    "    arts_keywords = ['art', 'music', 'film', 'theater', 'philosophy', 'literature', 'creative writing', 'language', 'nonfiction', 'poetry', 'acting', 'drama', 'classics']\n",
    "\n",
    "    if any(k in field_lower for k in law_keywords):\n",
    "        return 'Law'\n",
    "    elif any(k in field_lower for k in business_keywords):\n",
    "        return 'Business/Finance'\n",
    "    elif any(k in field_lower for k in science_keywords):\n",
    "        return 'Science/Engineering'\n",
    "    elif any(k in field_lower for k in social_keywords):\n",
    "        return 'Social Sciences/Education'\n",
    "    elif any(k in field_lower for k in arts_keywords):\n",
    "        return 'Arts/Humanities/Other'\n",
    "    else:\n",
    "        return 'Other'\n",
    "\n",
    "df_encoded['category'] = df_encoded['field'].apply(categorize_field)\n"
   ]
  },
  {
   "cell_type": "code",
   "execution_count": null,
   "id": "cbfe623d",
   "metadata": {},
   "outputs": [],
   "source": [
    "df_encoded['category'].unique()"
   ]
  },
  {
   "cell_type": "code",
   "execution_count": null,
   "id": "c02bd89c",
   "metadata": {},
   "outputs": [],
   "source": [
    "df_encoded = pd.get_dummies(df_encoded, prefix=None, prefix_sep='_', dummy_na=True, columns=['category'], drop_first=False)"
   ]
  },
  {
   "cell_type": "code",
   "execution_count": null,
   "id": "dfd929fc",
   "metadata": {},
   "outputs": [],
   "source": [
    "df_encoded.shape"
   ]
  },
  {
   "cell_type": "code",
   "execution_count": null,
   "id": "395b595c",
   "metadata": {},
   "outputs": [],
   "source": [
    "mask = (df_encoded.dtypes == 'object') & (df_encoded.nunique() >= 10)\n",
    "df_encoded.loc[:, mask].columns"
   ]
  },
  {
   "cell_type": "code",
   "execution_count": null,
   "id": "611f587a",
   "metadata": {},
   "outputs": [],
   "source": [
    "df_encoded.shape"
   ]
  },
  {
   "cell_type": "code",
   "execution_count": null,
   "id": "360a074e",
   "metadata": {},
   "outputs": [],
   "source": [
    "df_encoded = df_encoded.drop(['field'], axis=1)"
   ]
  },
  {
   "cell_type": "code",
   "execution_count": null,
   "id": "6f589812",
   "metadata": {},
   "outputs": [],
   "source": [
    "mask = (df_encoded.dtypes == 'object')\n",
    "df_encoded.loc[:, mask].columns"
   ]
  },
  {
   "cell_type": "code",
   "execution_count": null,
   "id": "cd1d7b14",
   "metadata": {},
   "outputs": [],
   "source": [
    "corr_matrix = df_encoded.corr()\n",
    "print(corr_matrix)"
   ]
  },
  {
   "cell_type": "code",
   "execution_count": null,
   "id": "931e4529",
   "metadata": {},
   "outputs": [],
   "source": [
    "import matplotlib.pyplot as plt\n",
    "import seaborn as sns\n",
    "\n",
    "# 히트맵 시각화\n",
    "plt.figure(figsize=(20, 15))  # 크기 조절\n",
    "sns.heatmap(corr_matrix, cmap='coolwarm', center=0, annot=False, fmt='.2f', \n",
    "            cbar=True, square=True, linewidths=0.5)\n",
    "plt.title('Correlation Matrix Heatmap')\n",
    "plt.show()\n"
   ]
  },
  {
   "cell_type": "code",
   "execution_count": null,
   "id": "03cdf54d",
   "metadata": {},
   "outputs": [],
   "source": [
    "df['match']"
   ]
  },
  {
   "cell_type": "code",
   "execution_count": null,
   "id": "dc31f541",
   "metadata": {},
   "outputs": [],
   "source": []
  }
 ],
 "metadata": {
  "kernelspec": {
   "display_name": "pandas",
   "language": "python",
   "name": "python3"
  },
  "language_info": {
   "codemirror_mode": {
    "name": "ipython",
    "version": 3
   },
   "file_extension": ".py",
   "mimetype": "text/x-python",
   "name": "python",
   "nbconvert_exporter": "python",
   "pygments_lexer": "ipython3",
   "version": "3.12.11"
  }
 },
 "nbformat": 4,
 "nbformat_minor": 5
}
