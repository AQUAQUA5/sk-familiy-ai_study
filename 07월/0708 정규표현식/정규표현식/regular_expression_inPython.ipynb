{
 "cells": [
  {
   "cell_type": "code",
   "execution_count": 3,
   "id": "694a91fd",
   "metadata": {},
   "outputs": [],
   "source": [
    "import re\n",
    "p = re.compile(\"[\\w._%+-]+@[\\w.-]+\\.[a-zA-Z]{2,4}\")"
   ]
  },
  {
   "cell_type": "code",
   "execution_count": 5,
   "id": "5b9eeffe",
   "metadata": {},
   "outputs": [],
   "source": [
    "import requests\n",
    "r = requests.get(\"https://n.news.naver.com/article/366/0001090694?cds=news_media_pc\")"
   ]
  },
  {
   "cell_type": "code",
   "execution_count": 7,
   "id": "64d9ce6f",
   "metadata": {},
   "outputs": [
    {
     "data": {
      "text/plain": [
       "['ojo@chosunbiz.com']"
      ]
     },
     "execution_count": 7,
     "metadata": {},
     "output_type": "execute_result"
    }
   ],
   "source": [
    "p.findall(r.text)"
   ]
  },
  {
   "cell_type": "code",
   "execution_count": null,
   "id": "9aa6b127",
   "metadata": {},
   "outputs": [],
   "source": []
  }
 ],
 "metadata": {
  "kernelspec": {
   "display_name": "dnn3",
   "language": "python",
   "name": "python3"
  },
  "language_info": {
   "codemirror_mode": {
    "name": "ipython",
    "version": 3
   },
   "file_extension": ".py",
   "mimetype": "text/x-python",
   "name": "python",
   "nbconvert_exporter": "python",
   "pygments_lexer": "ipython3",
   "version": "3.11.13"
  }
 },
 "nbformat": 4,
 "nbformat_minor": 5
}
