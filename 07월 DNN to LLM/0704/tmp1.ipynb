{
 "cells": [
  {
   "cell_type": "code",
   "execution_count": null,
   "id": "714f156a",
   "metadata": {},
   "outputs": [],
   "source": [
    "import pandas as pd\n",
    "from torch.utils.data import DataLoader, Dataset\n",
    "from PIL import Image\n",
    "import os\n",
    "\n",
    "import torchvision\n",
    "from torchvision import transforms\n",
    "import torch\n",
    "import PIL"
   ]
  },
  {
   "cell_type": "code",
   "execution_count": null,
   "id": "02a82d89",
   "metadata": {},
   "outputs": [],
   "source": [
    "class dc_dataset(Dataset):\n",
    "    def __init__(self, path ,transform=None):\n",
    "        self.path = path\n",
    "        self.img_list = os.listdir(path)\n",
    "        self.transform = transform\n",
    "\n",
    "    def __getitem__(self, idx):\n",
    "        if self.img_list[idx][0] =='d':\n",
    "            label = 0\n",
    "        else:\n",
    "            label = 1\n",
    "        image = Image.open( os.path.join(self.path, self.img_list[idx]) ).convert(\"RGB\")\n",
    "        if self.transform:\n",
    "            image = self.transform(image)\n",
    "        return image, label\n",
    "    \n",
    "    def __len__(self):\n",
    "        return len(self.img_list)"
   ]
  },
  {
   "cell_type": "code",
   "execution_count": null,
   "id": "6f1598f2",
   "metadata": {},
   "outputs": [],
   "source": [
    "from torchvision import transforms\n",
    "\n",
    "tran = transforms.Compose([\n",
    "    transforms.Resize((60, 60)),\n",
    "    transforms.ToTensor()  # PIL → Tensor [C, H, W], 0~1 float32\n",
    "])\n",
    "\n",
    "train = dc_dataset('./train', transform=tran)\n",
    "test = dc_dataset('./test', transform=tran)"
   ]
  },
  {
   "cell_type": "code",
   "execution_count": null,
   "id": "a8927496",
   "metadata": {},
   "outputs": [],
   "source": [
    "train_loader = DataLoader(dataset = train, batch_size = 64, shuffle = True, num_workers = 2)\n",
    "test_loader = DataLoader(dataset = test, batch_size = 64, shuffle = True, num_workers = 2)"
   ]
  },
  {
   "cell_type": "code",
   "execution_count": null,
   "id": "4f51bb3f",
   "metadata": {},
   "outputs": [],
   "source": [
    "import torch\n",
    "import torch.nn as nn\n",
    "import torch.nn.functional as F\n",
    "\n",
    "class cnn1(nn.Module):\n",
    "    def __init__(self):\n",
    "        super(cnn1, self).__init__()\n",
    "        # 입력 채널: 3 (RGB), 출력 채널: 8, 커널 크기: 3x3\n",
    "        self.conv1 = nn.Conv2d(3, 8, kernel_size=3, padding=1)\n",
    "        # 두 번째 합성곱 층: 입력 채널 8, 출력 채널 16\n",
    "        self.conv2 = nn.Conv2d(8, 16, kernel_size=3, padding=1)\n",
    "        # 완전연결층: 16채널, 15x15 크기 (60x60 -> maxpool 2번으로 15x15)\n",
    "        self.fc1 = nn.Linear(16 * 15 * 15, 2)  # 클래스 2개\n",
    "\n",
    "    def forward(self, x):\n",
    "        x = F.relu(self.conv1(x))      # [B, 3, 60, 60] -> [B, 8, 60, 60]\n",
    "        x = F.max_pool2d(x, 2)         # [B, 8, 60, 60] -> [B, 8, 30, 30]\n",
    "        x = F.relu(self.conv2(x))      # [B, 8, 30, 30] -> [B, 16, 30, 30]\n",
    "        x = F.max_pool2d(x, 2)         # [B, 16, 30, 30] -> [B, 16, 15, 15]\n",
    "        x = x.view(x.size(0), -1)      # [B, 16, 15, 15] -> [B, 16*15*15]\n",
    "        x = self.fc1(x)                # [B, 16*15*15] -> [B, 2]\n",
    "        return x"
   ]
  },
  {
   "cell_type": "code",
   "execution_count": null,
   "id": "0fe8de99",
   "metadata": {},
   "outputs": [],
   "source": [
    "# 장치 설정\n",
    "device = torch.device('cuda' if torch.cuda.is_available() else 'cpu')\n",
    "\n",
    "# 모델, 손실함수, 옵티마이저 정의\n",
    "model = cnn1().to(device)\n",
    "criterion = nn.CrossEntropyLoss()\n",
    "optimizer = torch.optim.SGD(model.parameters(), lr = 0.001, momentum = 0.5)  \n",
    "\n",
    "epoch = 10\n",
    "BATCH_SIZE = 64"
   ]
  },
  {
   "cell_type": "code",
   "execution_count": null,
   "id": "a58b8a51",
   "metadata": {},
   "outputs": [],
   "source": []
  },
  {
   "cell_type": "code",
   "execution_count": null,
   "id": "838f4544",
   "metadata": {},
   "outputs": [],
   "source": [
    "def train(model, train_loader, optimizer, log_interval):\n",
    "    model.train()\n",
    "    for batch_idx, (image, label) in enumerate(train_loader):\n",
    "        image = image.to(device)\n",
    "        label = label.to(device)\n",
    "        optimizer.zero_grad()\n",
    "        output = model(image)\n",
    "        loss = criterion(output, label)\n",
    "        loss.backward()\n",
    "        optimizer.step()\n",
    "\n",
    "\n",
    "        if batch_idx % log_interval == 0:\n",
    "            print(\"Train Epoch: {} [{}/{} ({:.0f}%)]\\tTrain Loss: {:.6f}\".format(\n",
    "                epoch, batch_idx * len(image),\n",
    "                len(train_loader.dataset), 100. * batch_idx / len(train_loader),\n",
    "                loss.item()))\n"
   ]
  },
  {
   "cell_type": "code",
   "execution_count": null,
   "id": "70375b6c",
   "metadata": {},
   "outputs": [],
   "source": [
    "def evaluate(model, test_loader):\n",
    "    model.eval()\n",
    "    test_loss = 0\n",
    "    correct = 0\n",
    "\n",
    "\n",
    "    with torch.no_grad():\n",
    "        for image, label in test_loader:\n",
    "            image = image.to(device)\n",
    "            label = label.to(device)\n",
    "            output = model(image)\n",
    "            test_loss += criterion(output, label).item()\n",
    "            prediction = output.max(1, keepdim = True)[1]\n",
    "            correct += prediction.eq(label.view_as(prediction)).sum().item()\n",
    "\n",
    "\n",
    "    test_loss /= (len(test_loader.dataset) / BATCH_SIZE)\n",
    "    test_accuracy = 100. * correct / len(test_loader.dataset)\n",
    "    return test_loss, test_accuracy"
   ]
  },
  {
   "cell_type": "code",
   "execution_count": null,
   "id": "cbf55f32",
   "metadata": {},
   "outputs": [],
   "source": [
    "optimizer = torch.optim.SGD(model.parameters(), lr = 0.001, momentum = 0.5)  "
   ]
  },
  {
   "cell_type": "code",
   "execution_count": 19,
   "id": "454fecbb",
   "metadata": {},
   "outputs": [
    {
     "name": "stdout",
     "output_type": "stream",
     "text": [
      "Train Epoch: 1 [0/25000 (0%)]\tTrain Loss: 0.445292\n",
      "Train Epoch: 1 [12800/25000 (51%)]\tTrain Loss: 0.548132\n",
      "\n",
      "[EPOCH: 1], \tTest Loss: 0.5173, \tTest Accuracy: 75.33 % \n",
      "\n",
      "Train Epoch: 2 [0/25000 (0%)]\tTrain Loss: 0.574407\n",
      "Train Epoch: 2 [12800/25000 (51%)]\tTrain Loss: 0.469801\n",
      "\n",
      "[EPOCH: 2], \tTest Loss: 0.5146, \tTest Accuracy: 75.48 % \n",
      "\n",
      "Train Epoch: 3 [0/25000 (0%)]\tTrain Loss: 0.492079\n",
      "Train Epoch: 3 [12800/25000 (51%)]\tTrain Loss: 0.512940\n",
      "\n",
      "[EPOCH: 3], \tTest Loss: 0.5134, \tTest Accuracy: 75.53 % \n",
      "\n",
      "Train Epoch: 4 [0/25000 (0%)]\tTrain Loss: 0.485815\n",
      "Train Epoch: 4 [12800/25000 (51%)]\tTrain Loss: 0.634937\n",
      "\n",
      "[EPOCH: 4], \tTest Loss: 0.5140, \tTest Accuracy: 74.94 % \n",
      "\n",
      "Train Epoch: 5 [0/25000 (0%)]\tTrain Loss: 0.456752\n",
      "Train Epoch: 5 [12800/25000 (51%)]\tTrain Loss: 0.501680\n",
      "\n",
      "[EPOCH: 5], \tTest Loss: 0.5104, \tTest Accuracy: 75.98 % \n",
      "\n",
      "Train Epoch: 6 [0/25000 (0%)]\tTrain Loss: 0.451191\n",
      "Train Epoch: 6 [12800/25000 (51%)]\tTrain Loss: 0.477610\n",
      "\n",
      "[EPOCH: 6], \tTest Loss: 0.5165, \tTest Accuracy: 74.59 % \n",
      "\n",
      "Train Epoch: 7 [0/25000 (0%)]\tTrain Loss: 0.484745\n",
      "Train Epoch: 7 [12800/25000 (51%)]\tTrain Loss: 0.545208\n",
      "\n",
      "[EPOCH: 7], \tTest Loss: 0.5141, \tTest Accuracy: 74.79 % \n",
      "\n",
      "Train Epoch: 8 [0/25000 (0%)]\tTrain Loss: 0.452916\n",
      "Train Epoch: 8 [12800/25000 (51%)]\tTrain Loss: 0.445900\n",
      "\n",
      "[EPOCH: 8], \tTest Loss: 0.5096, \tTest Accuracy: 75.53 % \n",
      "\n",
      "Train Epoch: 9 [0/25000 (0%)]\tTrain Loss: 0.520119\n",
      "Train Epoch: 9 [12800/25000 (51%)]\tTrain Loss: 0.440168\n",
      "\n",
      "[EPOCH: 9], \tTest Loss: 0.5105, \tTest Accuracy: 75.28 % \n",
      "\n",
      "Train Epoch: 10 [0/25000 (0%)]\tTrain Loss: 0.499975\n",
      "Train Epoch: 10 [12800/25000 (51%)]\tTrain Loss: 0.467349\n",
      "\n",
      "[EPOCH: 10], \tTest Loss: 0.5114, \tTest Accuracy: 75.33 % \n",
      "\n"
     ]
    }
   ],
   "source": [
    "EPOCHS = 10\n",
    "for epoch in range(1, EPOCHS + 1):\n",
    "    train(model, train_loader, optimizer, log_interval = 200)\n",
    "    test_loss, test_accuracy = evaluate(model, test_loader)\n",
    "    print(\"\\n[EPOCH: {}], \\tTest Loss: {:.4f}, \\tTest Accuracy: {:.2f} % \\n\".format(\n",
    "        epoch, test_loss, test_accuracy))\n"
   ]
  },
  {
   "cell_type": "code",
   "execution_count": null,
   "id": "d5116fa3",
   "metadata": {},
   "outputs": [],
   "source": []
  },
  {
   "cell_type": "code",
   "execution_count": null,
   "id": "6019ef8e",
   "metadata": {},
   "outputs": [],
   "source": []
  },
  {
   "cell_type": "code",
   "execution_count": null,
   "id": "335a9970",
   "metadata": {},
   "outputs": [],
   "source": []
  }
 ],
 "metadata": {
  "kernelspec": {
   "display_name": "dnn3",
   "language": "python",
   "name": "python3"
  },
  "language_info": {
   "codemirror_mode": {
    "name": "ipython",
    "version": 3
   },
   "file_extension": ".py",
   "mimetype": "text/x-python",
   "name": "python",
   "nbconvert_exporter": "python",
   "pygments_lexer": "ipython3",
   "version": "3.11.13"
  }
 },
 "nbformat": 4,
 "nbformat_minor": 5
}
