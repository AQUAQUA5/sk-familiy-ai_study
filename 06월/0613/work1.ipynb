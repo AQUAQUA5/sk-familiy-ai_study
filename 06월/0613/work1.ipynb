{
 "cells": [
  {
   "cell_type": "code",
   "execution_count": null,
   "id": "cb0ed5b1",
   "metadata": {},
   "outputs": [],
   "source": [
    "import os\n",
    "import pandas as pd\n",
    "import zipfile"
   ]
  },
  {
   "cell_type": "code",
   "execution_count": null,
   "id": "53dd2283",
   "metadata": {},
   "outputs": [],
   "source": [
    "path = \"./data_work/\"\n",
    "with zipfile.ZipFile(\"./data/2016.zip\") as f:\n",
    "    f.extractall(path)"
   ]
  },
  {
   "cell_type": "code",
   "execution_count": null,
   "id": "ac9273b8",
   "metadata": {},
   "outputs": [],
   "source": [
    "dfs = {}\n",
    "n = 0\n",
    "for file in os.listdir(path):\n",
    "    if file.split(\".\")[-1] ==\"csv\":\n",
    "        dfs[n] = pd.read_csv(path + file, encoding='euc-kr')\n",
    "        n += 1\n",
    "len(dfs)"
   ]
  },
  {
   "cell_type": "code",
   "execution_count": null,
   "id": "8e9bf713",
   "metadata": {},
   "outputs": [],
   "source": [
    "dfs2 = {}\n",
    "n = 0\n",
    "for file in os.listdir(path):\n",
    "    if file.split(\".\")[-1] ==\"csv\":\n",
    "        dfs2[n] = pd.read_csv(path + file, encoding='euc-kr')\n",
    "        n += 1\n",
    "len(dfs2)"
   ]
  },
  {
   "cell_type": "code",
   "execution_count": null,
   "id": "b349bfea",
   "metadata": {},
   "outputs": [],
   "source": [
    "sum =0\n",
    "for i in range(12):\n",
    "    sum += dfs[i].shape[0]\n",
    "sum"
   ]
  },
  {
   "cell_type": "code",
   "execution_count": null,
   "id": "a4a5709d",
   "metadata": {},
   "outputs": [],
   "source": [
    "dfs[12].shap"
   ]
  },
  {
   "cell_type": "code",
   "execution_count": null,
   "id": "8edb4438",
   "metadata": {},
   "outputs": [],
   "source": [
    "for i in range(0,12):\n",
    "    print(len(dfs[i].columns))"
   ]
  },
  {
   "cell_type": "code",
   "execution_count": null,
   "id": "b128bd4c",
   "metadata": {},
   "outputs": [],
   "source": [
    "df_cols = pd.DataFrame()\n",
    "for i in range(12):\n",
    "    df_cols = pd.concat([df_cols, pd.Series(dfs[i].columns).to_frame().T], ignore_index=True)"
   ]
  },
  {
   "cell_type": "code",
   "execution_count": null,
   "id": "01ebb857",
   "metadata": {},
   "outputs": [],
   "source": [
    "df_cols.to_csv('df_cols.csv', encoding='euc-kr')"
   ]
  },
  {
   "cell_type": "code",
   "execution_count": null,
   "id": "d5434ff4",
   "metadata": {},
   "outputs": [],
   "source": [
    "colss = list(set(df_cols.values.flatten()))\n",
    "print(colss)"
   ]
  },
  {
   "cell_type": "code",
   "execution_count": null,
   "id": "ab760b21",
   "metadata": {},
   "outputs": [],
   "source": [
    "len(colss)"
   ]
  },
  {
   "cell_type": "code",
   "execution_count": null,
   "id": "b3270596",
   "metadata": {},
   "outputs": [],
   "source": [
    "for i in range(0,12):\n",
    "    for j in dfs[i].columns:\n",
    "        if \"~\" in j:\n",
    "            new = j[0:2] + f\"-{(int(j[0:2])+1):02d}\"\n",
    "            dfs[i].rename(columns={j: new}, inplace=True)"
   ]
  },
  {
   "cell_type": "code",
   "execution_count": null,
   "id": "cc216156",
   "metadata": {},
   "outputs": [],
   "source": [
    "df_cols_new = pd.DataFrame()\n",
    "for i in range(12):\n",
    "    df_cols_new = pd.concat([df_cols_new, pd.Series(dfs[i].columns).to_frame().T], ignore_index=True)"
   ]
  },
  {
   "cell_type": "code",
   "execution_count": null,
   "id": "de1a57c3",
   "metadata": {},
   "outputs": [],
   "source": [
    "df_cols_new.to_csv('df_cols_new.csv', encoding='euc-kr')"
   ]
  },
  {
   "cell_type": "code",
   "execution_count": null,
   "id": "e184ab31",
   "metadata": {},
   "outputs": [],
   "source": [
    "df_cols_new"
   ]
  },
  {
   "cell_type": "code",
   "execution_count": null,
   "id": "c341d72d",
   "metadata": {},
   "outputs": [],
   "source": [
    "tmp= list(set(df_cols_new.values.flatten()))\n",
    "new_cols = []\n",
    "for i in tmp:\n",
    "    if type(i) == str:\n",
    "        new_cols.append(i)\n",
    "new_cols"
   ]
  },
  {
   "cell_type": "code",
   "execution_count": null,
   "id": "848b495e",
   "metadata": {},
   "outputs": [],
   "source": [
    "new_cols.sort()\n",
    "tmp11 = new_cols[-5:]\n",
    "tmp11.extend(new_cols[:-6])\n",
    "tmp11"
   ]
  },
  {
   "cell_type": "code",
   "execution_count": null,
   "id": "7e0259a5",
   "metadata": {},
   "outputs": [],
   "source": [
    "new_cols = tmp11"
   ]
  },
  {
   "cell_type": "code",
   "execution_count": null,
   "id": "d8a523c1",
   "metadata": {},
   "outputs": [],
   "source": [
    "must_mod = []\n",
    "\n",
    "for i in range(12):\n",
    "    for col in dfs[i].columns:\n",
    "        if not col in new_cols:\n",
    "            must_mod.append(i)\n",
    "\n",
    "    "
   ]
  },
  {
   "cell_type": "code",
   "execution_count": null,
   "id": "8ede4ed0",
   "metadata": {},
   "outputs": [],
   "source": [
    "dfs[i].rename(columns={j: new}, inplace=True)"
   ]
  },
  {
   "cell_type": "code",
   "execution_count": null,
   "id": "87b7c534",
   "metadata": {},
   "outputs": [],
   "source": [
    "for i in must_mod:\n",
    "    dfs[i].rename(columns={'구 분': '구분'}, inplace=True)"
   ]
  },
  {
   "cell_type": "code",
   "execution_count": null,
   "id": "b69fe5d0",
   "metadata": {},
   "outputs": [],
   "source": [
    "total = pd.DataFrame(columns=new_cols)\n",
    "for i in range(12):\n",
    "    total = pd.concat([total, dfs[i]])"
   ]
  },
  {
   "cell_type": "code",
   "execution_count": null,
   "id": "610cf1e8",
   "metadata": {},
   "outputs": [],
   "source": [
    "total.head(3)"
   ]
  },
  {
   "cell_type": "code",
   "execution_count": null,
   "id": "4f211fb7",
   "metadata": {},
   "outputs": [],
   "source": [
    "total['구분'].dtypes\n"
   ]
  },
  {
   "cell_type": "code",
   "execution_count": null,
   "id": "f35cf634",
   "metadata": {},
   "outputs": [],
   "source": [
    "total.dtypes"
   ]
  },
  {
   "cell_type": "code",
   "execution_count": null,
   "id": "231f2085",
   "metadata": {},
   "outputs": [],
   "source": [
    "from sqlalchemy import create_engine, MetaData, Table\n",
    "import sqlalchemy\n",
    "\n",
    "user= 'play'\n",
    "password = '123'\n",
    "host='222.112.208.67'\n",
    "port = 3306\n",
    "database='sk17'\n",
    "engine = sqlalchemy.create_engine(f\"mysql://{user}:{password}@{host}:{port}/{database}\")"
   ]
  },
  {
   "cell_type": "code",
   "execution_count": null,
   "id": "00218c8c",
   "metadata": {},
   "outputs": [],
   "source": [
    "total.shape"
   ]
  },
  {
   "cell_type": "code",
   "execution_count": null,
   "id": "b687d8ac",
   "metadata": {},
   "outputs": [],
   "source": [
    "total.to_sql(name='오원장의2016년지하철승하차정보종합데이터로29의칼럼과312366개의레코드로구성되어있습니다', con=engine, if_exists='replace', index=False)"
   ]
  },
  {
   "cell_type": "code",
   "execution_count": null,
   "id": "84c2116a",
   "metadata": {},
   "outputs": [],
   "source": [
    "from sqlalchemy import create_engine, inspect, text\n",
    "\n",
    "\n",
    "datanum = [ ]\n",
    "# 2. 모든 테이블 이름 조회\n",
    "inspector = inspect(engine)\n",
    "tables = inspector.get_table_names()\n",
    "\n",
    "# 3. 테이블별 레코드 수 계산 및 출력\n",
    "with engine.connect() as conn:\n",
    "    for table in tables:\n",
    "        query = text(f\"SELECT COUNT(*) AS cnt FROM {table}\")\n",
    "        result = conn.execute(query)\n",
    "        count = result.scalar()  # 첫 번째 행의 첫 번째 컬럼 값 추출\n",
    "        datanum.append([table, count])"
   ]
  },
  {
   "cell_type": "code",
   "execution_count": null,
   "id": "2236a4c5",
   "metadata": {},
   "outputs": [],
   "source": [
    "for i in datanum:\n",
    "    print(f\"테이블명 : {i[0]} /t/t 데이터수 : {i[1]}\")"
   ]
  },
  {
   "cell_type": "code",
   "execution_count": null,
   "id": "7448aeeb",
   "metadata": {},
   "outputs": [],
   "source": [
    "df.columns = df.columns.str.replace('old', 'new')"
   ]
  }
 ],
 "metadata": {
  "kernelspec": {
   "display_name": "pandas",
   "language": "python",
   "name": "python3"
  },
  "language_info": {
   "codemirror_mode": {
    "name": "ipython",
    "version": 3
   },
   "file_extension": ".py",
   "mimetype": "text/x-python",
   "name": "python",
   "nbconvert_exporter": "python",
   "pygments_lexer": "ipython3",
   "version": "3.12.11"
  }
 },
 "nbformat": 4,
 "nbformat_minor": 5
}
