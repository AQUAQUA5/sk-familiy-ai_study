{
 "cells": [
  {
   "cell_type": "code",
   "execution_count": null,
   "id": "ae7bd10b",
   "metadata": {},
   "outputs": [],
   "source": [
    "import os\n",
    "import pandas as pd\n"
   ]
  },
  {
   "cell_type": "code",
   "execution_count": null,
   "id": "b700235d",
   "metadata": {},
   "outputs": [],
   "source": [
    "import os\n",
    "import pandas as pd\n",
    "import zipfile\n",
    "for x in [file for file in os.listdir(\"./data\") if file.find(\"상권\") > -1 and file.split(\".\")[-1] == 'zip']:\n",
    "    with zipfile.ZipFile(\"./data/\" + x) as f:\n",
    "        f.extractall(\"./data2/\")\n",
    "\n",
    "\n"
   ]
  },
  {
   "cell_type": "code",
   "execution_count": null,
   "id": "0f6083f8",
   "metadata": {},
   "outputs": [],
   "source": [
    "import re\n",
    "p = re.compile(\"[0-9]+\")\n",
    "total = []\n",
    "for x in [file for file in os.listdir(\"./data2/\") if file.find(\"서울\") > -1 ]:\n",
    "    df = pd.read_csv(\"./data2/\"+ x, low_memory=True)\n",
    "    df['분기'] = p.findall(x)[0]\n",
    "    # x.split(\"_\")[-1].split(\".\")[0]\n",
    "    total.append(df)\n",
    "\n",
    "\n",
    "df = pd.concat(total, ignore_index=True)"
   ]
  },
  {
   "cell_type": "code",
   "execution_count": null,
   "id": "899bc5c0",
   "metadata": {},
   "outputs": [],
   "source": [
    "df.shape"
   ]
  },
  {
   "cell_type": "code",
   "execution_count": null,
   "id": "1194036a",
   "metadata": {},
   "outputs": [],
   "source": [
    "df = pd.concat(total, ignore_index=True)\n",
    "df.sort_values(by=['분기'], inplace=True)\n",
    "서울치킨카페 = df[df.상권업종소분류명.isin(['카페', '치킨'])].copy()\n",
    "결과 = 서울치킨카페.groupby(['분기', '상권업종소분류명', '시군구명'])[['상가업소번호']].count()\n",
    "결과.rename(columns={'상가업소번호' : '매장수'}, inplace=True)\n",
    "결과.reset_index(inplace=True)\n"
   ]
  },
  {
   "cell_type": "code",
   "execution_count": null,
   "id": "b7a62101",
   "metadata": {},
   "outputs": [],
   "source": [
    "결과[결과.상권업종소분류명 == '카페']"
   ]
  },
  {
   "cell_type": "code",
   "execution_count": null,
   "id": "032273b1",
   "metadata": {},
   "outputs": [],
   "source": [
    "import seaborn as sns\n",
    "import matplotlib.pyplot as plt\n",
    "plt.rcParams['font.family'] = 'NanumGothic'\n",
    "plt.figure(figsize=(10,10))\n",
    "sns.lineplot(data=결과[결과.상권업종소분류명 == \"카페\"], x='분기', y='매장수', hue='시군구명')\n",
    "plt.legend(loc='upper right')\n",
    "plt.show()"
   ]
  },
  {
   "cell_type": "code",
   "execution_count": null,
   "id": "aadac461",
   "metadata": {},
   "outputs": [],
   "source": []
  }
 ],
 "metadata": {
  "kernelspec": {
   "display_name": "pandas",
   "language": "python",
   "name": "python3"
  },
  "language_info": {
   "codemirror_mode": {
    "name": "ipython",
    "version": 3
   },
   "file_extension": ".py",
   "mimetype": "text/x-python",
   "name": "python",
   "nbconvert_exporter": "python",
   "pygments_lexer": "ipython3",
   "version": "3.12.11"
  }
 },
 "nbformat": 4,
 "nbformat_minor": 5
}
