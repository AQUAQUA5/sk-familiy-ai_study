{
 "cells": [
  {
   "cell_type": "code",
   "execution_count": null,
   "id": "890c9127",
   "metadata": {},
   "outputs": [],
   "source": []
  },
  {
   "cell_type": "markdown",
   "id": "a9b8d387",
   "metadata": {},
   "source": [
    "(cloud) server에 ftp에 붙이는 법 \n",
    "1. 윈도우 탐색기 -> 사용자 -> .ssh 폴더 찾기 \n",
    "   -> 없다 ?   \n",
    "   - cmd 실행 → > ssh-keygen -t rsa \n",
    "\n",
    "2. server 에서 사용자 계정에 .ssh 폴더\n",
    "\n",
    "cd ~/.ssh\n",
    "\n",
    "3. vim authorized_keys\n",
    "\n",
    "4. filezilla에서 접속\n",
    "\n",
    "- runpod -> public ip port forwarding port\n",
    "\n"
   ]
  },
  {
   "cell_type": "code",
   "execution_count": null,
   "id": "813289b4",
   "metadata": {},
   "outputs": [],
   "source": [
    "#### ppk 생성\n",
    "# 터미널에서\n",
    "cd ~/.ssh \n",
    "root@ac7e919b37cb:~/.ssh#  <- 공개키를 등록해야 함\n",
    "\n",
    "\n",
    "apt update\n",
    "apt install\n",
    "vim athorized_keys\n",
    "i\n",
    "\n",
    "null # 지우고 내 키 입력 # 키는 .pub 퍼블릭 파일을 텍스트로 열면 키가 있음. 복붙 \n",
    "esc\n",
    ":wq enter"
   ]
  }
 ],
 "metadata": {
  "language_info": {
   "name": "python"
  }
 },
 "nbformat": 4,
 "nbformat_minor": 5
}
