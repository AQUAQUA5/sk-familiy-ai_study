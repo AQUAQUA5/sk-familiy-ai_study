{
 "cells": [
  {
   "cell_type": "markdown",
   "id": "0d166a22",
   "metadata": {},
   "source": [
    "2019.12.31 기준\n",
    "각 지역(25개지역구)별 상표 순위\n",
    "\n",
    "금천구 대상으로 각 주유소 1년치 휘발유 가격, 국제 유가(WTI, 브렌트, 두바이유가)의 상관계수"
   ]
  },
  {
   "cell_type": "code",
   "execution_count": 28,
   "id": "738d1503",
   "metadata": {},
   "outputs": [],
   "source": [
    "import os\n",
    "import zipfile\n",
    "import pandas as pd\n",
    "import numpy as np"
   ]
  },
  {
   "cell_type": "code",
   "execution_count": 4,
   "id": "261870fb",
   "metadata": {},
   "outputs": [
    {
     "data": {
      "text/plain": [
       "['주유소-20250618T053441Z-1-001.zip',\n",
       " '주유소-20250618T053441Z-1-001.zip:Zone.Identifier']"
      ]
     },
     "execution_count": 4,
     "metadata": {},
     "output_type": "execute_result"
    }
   ],
   "source": [
    "path = './data/'\n",
    "os.listdir(path)"
   ]
  },
  {
   "cell_type": "code",
   "execution_count": 8,
   "id": "2d549620",
   "metadata": {},
   "outputs": [],
   "source": [
    "for file in os.listdir(path):\n",
    "    if file.split('.')[-1]=='zip':\n",
    "        with zipfile.ZipFile(path + file) as f:\n",
    "            f.extractall(path)"
   ]
  },
  {
   "cell_type": "code",
   "execution_count": 29,
   "id": "b6805d3b",
   "metadata": {},
   "outputs": [],
   "source": [
    "path2 = './data/주유소/'\n",
    "df = pd.concat( [ pd.read_csv(path2+file, encoding='euc-kr') for file in os.listdir(path2) if file.split('.')[-1] =='csv'] )"
   ]
  },
  {
   "cell_type": "code",
   "execution_count": 25,
   "id": "529d6e80",
   "metadata": {},
   "outputs": [
    {
     "data": {
      "text/html": [
       "<div>\n",
       "<style scoped>\n",
       "    .dataframe tbody tr th:only-of-type {\n",
       "        vertical-align: middle;\n",
       "    }\n",
       "\n",
       "    .dataframe tbody tr th {\n",
       "        vertical-align: top;\n",
       "    }\n",
       "\n",
       "    .dataframe thead th {\n",
       "        text-align: right;\n",
       "    }\n",
       "</style>\n",
       "<table border=\"1\" class=\"dataframe\">\n",
       "  <thead>\n",
       "    <tr style=\"text-align: right;\">\n",
       "      <th></th>\n",
       "      <th>번호</th>\n",
       "      <th>지역</th>\n",
       "      <th>상호</th>\n",
       "      <th>주소</th>\n",
       "      <th>기간</th>\n",
       "      <th>상표</th>\n",
       "      <th>셀프여부</th>\n",
       "      <th>고급휘발유</th>\n",
       "      <th>휘발유</th>\n",
       "      <th>경유</th>\n",
       "      <th>실내등유</th>\n",
       "    </tr>\n",
       "  </thead>\n",
       "  <tbody>\n",
       "    <tr>\n",
       "      <th>0</th>\n",
       "      <td>A0006039</td>\n",
       "      <td>서울 강남구</td>\n",
       "      <td>(주)동하힐탑셀프주유소</td>\n",
       "      <td>서울 강남구 논현로 640</td>\n",
       "      <td>20190101</td>\n",
       "      <td>SK에너지</td>\n",
       "      <td>셀프</td>\n",
       "      <td>1673</td>\n",
       "      <td>1465</td>\n",
       "      <td>1365</td>\n",
       "      <td>0</td>\n",
       "    </tr>\n",
       "  </tbody>\n",
       "</table>\n",
       "</div>"
      ],
      "text/plain": [
       "         번호      지역            상호              주소        기간     상표 셀프여부  \\\n",
       "0  A0006039  서울 강남구  (주)동하힐탑셀프주유소  서울 강남구 논현로 640  20190101  SK에너지   셀프   \n",
       "\n",
       "   고급휘발유   휘발유    경유  실내등유  \n",
       "0   1673  1465  1365     0  "
      ]
     },
     "execution_count": 25,
     "metadata": {},
     "output_type": "execute_result"
    }
   ],
   "source": [
    "df.head(1)"
   ]
  },
  {
   "cell_type": "code",
   "execution_count": 14,
   "id": "214d355c",
   "metadata": {},
   "outputs": [
    {
     "data": {
      "text/plain": [
       "Index(['번호', '지역', '상호', '주소', '기간', '상표', '셀프여부', '고급휘발유', '휘발유', '경유',\n",
       "       '실내등유'],\n",
       "      dtype='object')"
      ]
     },
     "execution_count": 14,
     "metadata": {},
     "output_type": "execute_result"
    }
   ],
   "source": [
    "df.columns"
   ]
  },
  {
   "cell_type": "code",
   "execution_count": 93,
   "id": "859aa2fb",
   "metadata": {},
   "outputs": [
    {
     "data": {
      "text/html": [
       "<div>\n",
       "<style scoped>\n",
       "    .dataframe tbody tr th:only-of-type {\n",
       "        vertical-align: middle;\n",
       "    }\n",
       "\n",
       "    .dataframe tbody tr th {\n",
       "        vertical-align: top;\n",
       "    }\n",
       "\n",
       "    .dataframe thead th {\n",
       "        text-align: right;\n",
       "    }\n",
       "</style>\n",
       "<table border=\"1\" class=\"dataframe\">\n",
       "  <thead>\n",
       "    <tr style=\"text-align: right;\">\n",
       "      <th></th>\n",
       "      <th></th>\n",
       "      <th>번호</th>\n",
       "    </tr>\n",
       "    <tr>\n",
       "      <th>지역</th>\n",
       "      <th>상표</th>\n",
       "      <th></th>\n",
       "    </tr>\n",
       "  </thead>\n",
       "  <tbody>\n",
       "    <tr>\n",
       "      <th rowspan=\"5\" valign=\"top\">서울 중랑구</th>\n",
       "      <th>S-OIL</th>\n",
       "      <td>1842</td>\n",
       "    </tr>\n",
       "    <tr>\n",
       "      <th>GS칼텍스</th>\n",
       "      <td>1705</td>\n",
       "    </tr>\n",
       "    <tr>\n",
       "      <th>SK에너지</th>\n",
       "      <td>1672</td>\n",
       "    </tr>\n",
       "    <tr>\n",
       "      <th>현대오일뱅크</th>\n",
       "      <td>365</td>\n",
       "    </tr>\n",
       "    <tr>\n",
       "      <th>알뜰주유소</th>\n",
       "      <td>135</td>\n",
       "    </tr>\n",
       "    <tr>\n",
       "      <th>...</th>\n",
       "      <th>...</th>\n",
       "      <td>...</td>\n",
       "    </tr>\n",
       "    <tr>\n",
       "      <th>서울 강동구</th>\n",
       "      <th>S-OIL</th>\n",
       "      <td>730</td>\n",
       "    </tr>\n",
       "    <tr>\n",
       "      <th rowspan=\"4\" valign=\"top\">서울 강남구</th>\n",
       "      <th>SK에너지</th>\n",
       "      <td>6540</td>\n",
       "    </tr>\n",
       "    <tr>\n",
       "      <th>GS칼텍스</th>\n",
       "      <td>4042</td>\n",
       "    </tr>\n",
       "    <tr>\n",
       "      <th>S-OIL</th>\n",
       "      <td>2190</td>\n",
       "    </tr>\n",
       "    <tr>\n",
       "      <th>현대오일뱅크</th>\n",
       "      <td>1825</td>\n",
       "    </tr>\n",
       "  </tbody>\n",
       "</table>\n",
       "<p>114 rows × 1 columns</p>\n",
       "</div>"
      ],
      "text/plain": [
       "                 번호\n",
       "지역     상표          \n",
       "서울 중랑구 S-OIL   1842\n",
       "       GS칼텍스   1705\n",
       "       SK에너지   1672\n",
       "       현대오일뱅크   365\n",
       "       알뜰주유소    135\n",
       "...             ...\n",
       "서울 강동구 S-OIL    730\n",
       "서울 강남구 SK에너지   6540\n",
       "       GS칼텍스   4042\n",
       "       S-OIL   2190\n",
       "       현대오일뱅크  1825\n",
       "\n",
       "[114 rows x 1 columns]"
      ]
     },
     "execution_count": 93,
     "metadata": {},
     "output_type": "execute_result"
    }
   ],
   "source": [
    "rank = df.groupby(['지역', '상표']).count()[['번호']].sort_values(by=['지역', '번호'], ascending=False)\n",
    "rank"
   ]
  },
  {
   "cell_type": "code",
   "execution_count": 39,
   "id": "66b915da",
   "metadata": {},
   "outputs": [],
   "source": [
    "gs = df[df['지역'].str.find('금천구') > -1]['상호'].unique()"
   ]
  },
  {
   "cell_type": "code",
   "execution_count": null,
   "id": "8ac76c08",
   "metadata": {},
   "outputs": [
    {
     "data": {
      "text/html": [
       "<div>\n",
       "<style scoped>\n",
       "    .dataframe tbody tr th:only-of-type {\n",
       "        vertical-align: middle;\n",
       "    }\n",
       "\n",
       "    .dataframe tbody tr th {\n",
       "        vertical-align: top;\n",
       "    }\n",
       "\n",
       "    .dataframe thead th {\n",
       "        text-align: right;\n",
       "    }\n",
       "</style>\n",
       "<table border=\"1\" class=\"dataframe\">\n",
       "  <thead>\n",
       "    <tr style=\"text-align: right;\">\n",
       "      <th></th>\n",
       "      <th>상호</th>\n",
       "      <th>기간</th>\n",
       "    </tr>\n",
       "  </thead>\n",
       "  <tbody>\n",
       "    <tr>\n",
       "      <th>29155</th>\n",
       "      <td>(주)진우에너지 백운주유소</td>\n",
       "      <td>20190101</td>\n",
       "    </tr>\n",
       "    <tr>\n",
       "      <th>29156</th>\n",
       "      <td>(주)진우에너지 백운주유소</td>\n",
       "      <td>20190102</td>\n",
       "    </tr>\n",
       "    <tr>\n",
       "      <th>29157</th>\n",
       "      <td>(주)진우에너지 백운주유소</td>\n",
       "      <td>20190103</td>\n",
       "    </tr>\n",
       "    <tr>\n",
       "      <th>29158</th>\n",
       "      <td>(주)진우에너지 백운주유소</td>\n",
       "      <td>20190104</td>\n",
       "    </tr>\n",
       "    <tr>\n",
       "      <th>29159</th>\n",
       "      <td>(주)진우에너지 백운주유소</td>\n",
       "      <td>20190105</td>\n",
       "    </tr>\n",
       "    <tr>\n",
       "      <th>...</th>\n",
       "      <td>...</td>\n",
       "      <td>...</td>\n",
       "    </tr>\n",
       "    <tr>\n",
       "      <th>29190</th>\n",
       "      <td>(주)진우에너지 백운주유소</td>\n",
       "      <td>20191227</td>\n",
       "    </tr>\n",
       "    <tr>\n",
       "      <th>29191</th>\n",
       "      <td>(주)진우에너지 백운주유소</td>\n",
       "      <td>20191228</td>\n",
       "    </tr>\n",
       "    <tr>\n",
       "      <th>29192</th>\n",
       "      <td>(주)진우에너지 백운주유소</td>\n",
       "      <td>20191229</td>\n",
       "    </tr>\n",
       "    <tr>\n",
       "      <th>29193</th>\n",
       "      <td>(주)진우에너지 백운주유소</td>\n",
       "      <td>20191230</td>\n",
       "    </tr>\n",
       "    <tr>\n",
       "      <th>29194</th>\n",
       "      <td>(주)진우에너지 백운주유소</td>\n",
       "      <td>20191231</td>\n",
       "    </tr>\n",
       "  </tbody>\n",
       "</table>\n",
       "<p>365 rows × 2 columns</p>\n",
       "</div>"
      ],
      "text/plain": [
       "                   상호        기간\n",
       "29155  (주)진우에너지 백운주유소  20190101\n",
       "29156  (주)진우에너지 백운주유소  20190102\n",
       "29157  (주)진우에너지 백운주유소  20190103\n",
       "29158  (주)진우에너지 백운주유소  20190104\n",
       "29159  (주)진우에너지 백운주유소  20190105\n",
       "...               ...       ...\n",
       "29190  (주)진우에너지 백운주유소  20191227\n",
       "29191  (주)진우에너지 백운주유소  20191228\n",
       "29192  (주)진우에너지 백운주유소  20191229\n",
       "29193  (주)진우에너지 백운주유소  20191230\n",
       "29194  (주)진우에너지 백운주유소  20191231\n",
       "\n",
       "[365 rows x 2 columns]"
      ]
     },
     "execution_count": 41,
     "metadata": {},
     "output_type": "execute_result"
    }
   ],
   "source": []
  },
  {
   "cell_type": "code",
   "execution_count": 33,
   "id": "198f8b0a",
   "metadata": {},
   "outputs": [],
   "source": [
    "from bs4 import BeautifulSoup as bs\n",
    "import requests\n",
    "import numpy as np\n",
    "\n",
    "np_date = np.array([])\n",
    "np_p  = np.array([])\n",
    "\n",
    "url_wti = 'https://finance.naver.com/marketindex/worldDailyQuote.naver?fdtc=2&marketindexCd=OIL_CL&page={}'\n",
    "n = 1\n",
    "while True:\n",
    "    soup = bs(requests.get(url_wti.format(n)).content).find('tbody').find_all('tr')\n",
    "    for tr in soup:\n",
    "        date = tr.find('td', class_='date').text.replace(\"\\t\", \"\").replace(\"\\n\", \"\").replace(\".\", \"\")\n",
    "        p = tr.find('td', class_='num').text.replace(\"\\t\", \"\").replace(\"\\n\", \"\")\n",
    "\n",
    "        np_date = np.append(np_date, date)   \n",
    "        np_p = np.append(np_p, p)\n",
    "    n +=1\n",
    "    if int(date) < 20180101:\n",
    "        break"
   ]
  },
  {
   "cell_type": "code",
   "execution_count": null,
   "id": "87636ddd",
   "metadata": {},
   "outputs": [],
   "source": []
  },
  {
   "cell_type": "code",
   "execution_count": 36,
   "id": "d82b30c7",
   "metadata": {},
   "outputs": [],
   "source": [
    "np_wti = np.vstack([np_date, np_p])"
   ]
  },
  {
   "cell_type": "code",
   "execution_count": 37,
   "id": "4b1d50ce",
   "metadata": {},
   "outputs": [
    {
     "data": {
      "text/plain": [
       "array([['20250617', '20250616', '20250613', ..., '20171227', '20171226',\n",
       "        '20171222'],\n",
       "       ['73.27', '70.25', '72.98', ..., '59.64', '59.97', '58.47']],\n",
       "      shape=(2, 1883), dtype='<U32')"
      ]
     },
     "execution_count": 37,
     "metadata": {},
     "output_type": "execute_result"
    }
   ],
   "source": [
    "np_wti"
   ]
  },
  {
   "cell_type": "code",
   "execution_count": 64,
   "id": "c22f8c13",
   "metadata": {},
   "outputs": [],
   "source": [
    "df2 = pd.DataFrame(np_wti.transpose(), columns=['기간', 'wti가격'])\n",
    "df2['기간'] = df2['기간'].astype('int64')\n",
    "corrs_wti = []\n",
    "for gs_name in gs:\n",
    "    tmp = pd.merge(df[df['상호'] == gs_name][['상호', '기간','고급휘발유','휘발유']],  df2, on='기간', how='left')\n",
    "    corrs_wti.append(tmp[['휘발유', 'wti가격']].dropna().corr().iloc[0, 1])"
   ]
  },
  {
   "cell_type": "code",
   "execution_count": 66,
   "id": "38fe87a7",
   "metadata": {},
   "outputs": [
    {
     "data": {
      "text/html": [
       "<div>\n",
       "<style scoped>\n",
       "    .dataframe tbody tr th:only-of-type {\n",
       "        vertical-align: middle;\n",
       "    }\n",
       "\n",
       "    .dataframe tbody tr th {\n",
       "        vertical-align: top;\n",
       "    }\n",
       "\n",
       "    .dataframe thead th {\n",
       "        text-align: right;\n",
       "    }\n",
       "</style>\n",
       "<table border=\"1\" class=\"dataframe\">\n",
       "  <thead>\n",
       "    <tr style=\"text-align: right;\">\n",
       "      <th></th>\n",
       "      <th>상호</th>\n",
       "      <th>기간</th>\n",
       "      <th>고급휘발유</th>\n",
       "      <th>휘발유</th>\n",
       "      <th>wti가격</th>\n",
       "    </tr>\n",
       "  </thead>\n",
       "  <tbody>\n",
       "    <tr>\n",
       "      <th>0</th>\n",
       "      <td>지에스칼텍스(주)일신주유소</td>\n",
       "      <td>20190101</td>\n",
       "      <td>1566</td>\n",
       "      <td>1346</td>\n",
       "      <td>NaN</td>\n",
       "    </tr>\n",
       "    <tr>\n",
       "      <th>1</th>\n",
       "      <td>지에스칼텍스(주)일신주유소</td>\n",
       "      <td>20190102</td>\n",
       "      <td>1566</td>\n",
       "      <td>1346</td>\n",
       "      <td>46.54</td>\n",
       "    </tr>\n",
       "    <tr>\n",
       "      <th>2</th>\n",
       "      <td>지에스칼텍스(주)일신주유소</td>\n",
       "      <td>20190103</td>\n",
       "      <td>1566</td>\n",
       "      <td>1346</td>\n",
       "      <td>47.09</td>\n",
       "    </tr>\n",
       "    <tr>\n",
       "      <th>3</th>\n",
       "      <td>지에스칼텍스(주)일신주유소</td>\n",
       "      <td>20190104</td>\n",
       "      <td>1566</td>\n",
       "      <td>1346</td>\n",
       "      <td>47.96</td>\n",
       "    </tr>\n",
       "    <tr>\n",
       "      <th>4</th>\n",
       "      <td>지에스칼텍스(주)일신주유소</td>\n",
       "      <td>20190105</td>\n",
       "      <td>1566</td>\n",
       "      <td>1346</td>\n",
       "      <td>NaN</td>\n",
       "    </tr>\n",
       "    <tr>\n",
       "      <th>...</th>\n",
       "      <td>...</td>\n",
       "      <td>...</td>\n",
       "      <td>...</td>\n",
       "      <td>...</td>\n",
       "      <td>...</td>\n",
       "    </tr>\n",
       "    <tr>\n",
       "      <th>359</th>\n",
       "      <td>지에스칼텍스(주)일신주유소</td>\n",
       "      <td>20191227</td>\n",
       "      <td>1708</td>\n",
       "      <td>1558</td>\n",
       "      <td>61.72</td>\n",
       "    </tr>\n",
       "    <tr>\n",
       "      <th>360</th>\n",
       "      <td>지에스칼텍스(주)일신주유소</td>\n",
       "      <td>20191228</td>\n",
       "      <td>1708</td>\n",
       "      <td>1558</td>\n",
       "      <td>NaN</td>\n",
       "    </tr>\n",
       "    <tr>\n",
       "      <th>361</th>\n",
       "      <td>지에스칼텍스(주)일신주유소</td>\n",
       "      <td>20191229</td>\n",
       "      <td>1708</td>\n",
       "      <td>1558</td>\n",
       "      <td>NaN</td>\n",
       "    </tr>\n",
       "    <tr>\n",
       "      <th>362</th>\n",
       "      <td>지에스칼텍스(주)일신주유소</td>\n",
       "      <td>20191230</td>\n",
       "      <td>1708</td>\n",
       "      <td>1558</td>\n",
       "      <td>61.68</td>\n",
       "    </tr>\n",
       "    <tr>\n",
       "      <th>363</th>\n",
       "      <td>지에스칼텍스(주)일신주유소</td>\n",
       "      <td>20191231</td>\n",
       "      <td>1708</td>\n",
       "      <td>1558</td>\n",
       "      <td>61.06</td>\n",
       "    </tr>\n",
       "  </tbody>\n",
       "</table>\n",
       "<p>364 rows × 5 columns</p>\n",
       "</div>"
      ],
      "text/plain": [
       "                 상호        기간  고급휘발유   휘발유  wti가격\n",
       "0    지에스칼텍스(주)일신주유소  20190101   1566  1346    NaN\n",
       "1    지에스칼텍스(주)일신주유소  20190102   1566  1346  46.54\n",
       "2    지에스칼텍스(주)일신주유소  20190103   1566  1346  47.09\n",
       "3    지에스칼텍스(주)일신주유소  20190104   1566  1346  47.96\n",
       "4    지에스칼텍스(주)일신주유소  20190105   1566  1346    NaN\n",
       "..              ...       ...    ...   ...    ...\n",
       "359  지에스칼텍스(주)일신주유소  20191227   1708  1558  61.72\n",
       "360  지에스칼텍스(주)일신주유소  20191228   1708  1558    NaN\n",
       "361  지에스칼텍스(주)일신주유소  20191229   1708  1558    NaN\n",
       "362  지에스칼텍스(주)일신주유소  20191230   1708  1558  61.68\n",
       "363  지에스칼텍스(주)일신주유소  20191231   1708  1558  61.06\n",
       "\n",
       "[364 rows x 5 columns]"
      ]
     },
     "execution_count": 66,
     "metadata": {},
     "output_type": "execute_result"
    }
   ],
   "source": [
    "tmp"
   ]
  },
  {
   "cell_type": "code",
   "execution_count": 67,
   "id": "66bacac4",
   "metadata": {},
   "outputs": [
    {
     "data": {
      "text/html": [
       "<div>\n",
       "<style scoped>\n",
       "    .dataframe tbody tr th:only-of-type {\n",
       "        vertical-align: middle;\n",
       "    }\n",
       "\n",
       "    .dataframe tbody tr th {\n",
       "        vertical-align: top;\n",
       "    }\n",
       "\n",
       "    .dataframe thead th {\n",
       "        text-align: right;\n",
       "    }\n",
       "</style>\n",
       "<table border=\"1\" class=\"dataframe\">\n",
       "  <thead>\n",
       "    <tr style=\"text-align: right;\">\n",
       "      <th></th>\n",
       "      <th>휘발유</th>\n",
       "      <th>wti가격</th>\n",
       "    </tr>\n",
       "  </thead>\n",
       "  <tbody>\n",
       "    <tr>\n",
       "      <th>휘발유</th>\n",
       "      <td>1.00000</td>\n",
       "      <td>0.19394</td>\n",
       "    </tr>\n",
       "    <tr>\n",
       "      <th>wti가격</th>\n",
       "      <td>0.19394</td>\n",
       "      <td>1.00000</td>\n",
       "    </tr>\n",
       "  </tbody>\n",
       "</table>\n",
       "</div>"
      ],
      "text/plain": [
       "           휘발유    wti가격\n",
       "휘발유    1.00000  0.19394\n",
       "wti가격  0.19394  1.00000"
      ]
     },
     "execution_count": 67,
     "metadata": {},
     "output_type": "execute_result"
    }
   ],
   "source": [
    "tmp[['휘발유', 'wti가격']].dropna().corr()"
   ]
  },
  {
   "cell_type": "code",
   "execution_count": 65,
   "id": "1922d83c",
   "metadata": {},
   "outputs": [
    {
     "data": {
      "text/plain": [
       "[np.float64(0.22172367083403166),\n",
       " np.float64(0.20220910131303768),\n",
       " np.float64(0.20050878076105558),\n",
       " np.float64(-0.04085420299626117),\n",
       " np.float64(-0.032853094436273766),\n",
       " np.float64(0.21056388955382285),\n",
       " np.float64(0.20213619361521643),\n",
       " np.float64(0.2092479467050484),\n",
       " np.float64(0.21047482948671323),\n",
       " np.float64(0.20054178461885255),\n",
       " np.float64(0.23632040802811183),\n",
       " np.float64(0.17570509400946582),\n",
       " np.float64(0.19394021271984446)]"
      ]
     },
     "execution_count": 65,
     "metadata": {},
     "output_type": "execute_result"
    }
   ],
   "source": [
    "corrs_wti"
   ]
  },
  {
   "cell_type": "code",
   "execution_count": 60,
   "id": "05dbd188",
   "metadata": {},
   "outputs": [
    {
     "data": {
      "text/html": [
       "<div>\n",
       "<style scoped>\n",
       "    .dataframe tbody tr th:only-of-type {\n",
       "        vertical-align: middle;\n",
       "    }\n",
       "\n",
       "    .dataframe tbody tr th {\n",
       "        vertical-align: top;\n",
       "    }\n",
       "\n",
       "    .dataframe thead th {\n",
       "        text-align: right;\n",
       "    }\n",
       "</style>\n",
       "<table border=\"1\" class=\"dataframe\">\n",
       "  <thead>\n",
       "    <tr style=\"text-align: right;\">\n",
       "      <th></th>\n",
       "      <th>상호</th>\n",
       "      <th>기간</th>\n",
       "      <th>고급휘발유</th>\n",
       "      <th>휘발유</th>\n",
       "      <th>wti가격</th>\n",
       "    </tr>\n",
       "  </thead>\n",
       "  <tbody>\n",
       "    <tr>\n",
       "      <th>0</th>\n",
       "      <td>(주)진우에너지 백운주유소</td>\n",
       "      <td>20190101</td>\n",
       "      <td>0</td>\n",
       "      <td>1365</td>\n",
       "      <td>NaN</td>\n",
       "    </tr>\n",
       "    <tr>\n",
       "      <th>1</th>\n",
       "      <td>(주)진우에너지 백운주유소</td>\n",
       "      <td>20190102</td>\n",
       "      <td>0</td>\n",
       "      <td>1345</td>\n",
       "      <td>46.54</td>\n",
       "    </tr>\n",
       "    <tr>\n",
       "      <th>2</th>\n",
       "      <td>(주)진우에너지 백운주유소</td>\n",
       "      <td>20190103</td>\n",
       "      <td>0</td>\n",
       "      <td>1345</td>\n",
       "      <td>47.09</td>\n",
       "    </tr>\n",
       "    <tr>\n",
       "      <th>3</th>\n",
       "      <td>(주)진우에너지 백운주유소</td>\n",
       "      <td>20190104</td>\n",
       "      <td>0</td>\n",
       "      <td>1345</td>\n",
       "      <td>47.96</td>\n",
       "    </tr>\n",
       "    <tr>\n",
       "      <th>4</th>\n",
       "      <td>(주)진우에너지 백운주유소</td>\n",
       "      <td>20190105</td>\n",
       "      <td>0</td>\n",
       "      <td>1345</td>\n",
       "      <td>NaN</td>\n",
       "    </tr>\n",
       "    <tr>\n",
       "      <th>...</th>\n",
       "      <td>...</td>\n",
       "      <td>...</td>\n",
       "      <td>...</td>\n",
       "      <td>...</td>\n",
       "      <td>...</td>\n",
       "    </tr>\n",
       "    <tr>\n",
       "      <th>360</th>\n",
       "      <td>(주)진우에너지 백운주유소</td>\n",
       "      <td>20191227</td>\n",
       "      <td>0</td>\n",
       "      <td>1545</td>\n",
       "      <td>61.72</td>\n",
       "    </tr>\n",
       "    <tr>\n",
       "      <th>361</th>\n",
       "      <td>(주)진우에너지 백운주유소</td>\n",
       "      <td>20191228</td>\n",
       "      <td>0</td>\n",
       "      <td>1545</td>\n",
       "      <td>NaN</td>\n",
       "    </tr>\n",
       "    <tr>\n",
       "      <th>362</th>\n",
       "      <td>(주)진우에너지 백운주유소</td>\n",
       "      <td>20191229</td>\n",
       "      <td>0</td>\n",
       "      <td>1545</td>\n",
       "      <td>NaN</td>\n",
       "    </tr>\n",
       "    <tr>\n",
       "      <th>363</th>\n",
       "      <td>(주)진우에너지 백운주유소</td>\n",
       "      <td>20191230</td>\n",
       "      <td>0</td>\n",
       "      <td>1545</td>\n",
       "      <td>61.68</td>\n",
       "    </tr>\n",
       "    <tr>\n",
       "      <th>364</th>\n",
       "      <td>(주)진우에너지 백운주유소</td>\n",
       "      <td>20191231</td>\n",
       "      <td>0</td>\n",
       "      <td>1545</td>\n",
       "      <td>61.06</td>\n",
       "    </tr>\n",
       "  </tbody>\n",
       "</table>\n",
       "<p>365 rows × 5 columns</p>\n",
       "</div>"
      ],
      "text/plain": [
       "                 상호        기간  고급휘발유   휘발유  wti가격\n",
       "0    (주)진우에너지 백운주유소  20190101      0  1365    NaN\n",
       "1    (주)진우에너지 백운주유소  20190102      0  1345  46.54\n",
       "2    (주)진우에너지 백운주유소  20190103      0  1345  47.09\n",
       "3    (주)진우에너지 백운주유소  20190104      0  1345  47.96\n",
       "4    (주)진우에너지 백운주유소  20190105      0  1345    NaN\n",
       "..              ...       ...    ...   ...    ...\n",
       "360  (주)진우에너지 백운주유소  20191227      0  1545  61.72\n",
       "361  (주)진우에너지 백운주유소  20191228      0  1545    NaN\n",
       "362  (주)진우에너지 백운주유소  20191229      0  1545    NaN\n",
       "363  (주)진우에너지 백운주유소  20191230      0  1545  61.68\n",
       "364  (주)진우에너지 백운주유소  20191231      0  1545  61.06\n",
       "\n",
       "[365 rows x 5 columns]"
      ]
     },
     "execution_count": 60,
     "metadata": {},
     "output_type": "execute_result"
    }
   ],
   "source": [
    "df2 = pd.DataFrame(np_wti.transpose(), columns=['기간', 'wti가격'])\n",
    "df2['기간'] = df2['기간'].astype('int64')\n",
    "pd.merge(df[df['상호'] == gs[0]][['상호', '기간','고급휘발유','휘발유']],  df2, on='기간', how='left')"
   ]
  },
  {
   "cell_type": "code",
   "execution_count": null,
   "id": "385eb5f8",
   "metadata": {},
   "outputs": [
    {
     "data": {
      "text/plain": [
       "0       20250617\n",
       "1       20250616\n",
       "2       20250613\n",
       "3       20250612\n",
       "4       20250611\n",
       "          ...   \n",
       "1878    20171229\n",
       "1879    20171228\n",
       "1880    20171227\n",
       "1881    20171226\n",
       "1882    20171222\n",
       "Name: 기간, Length: 1883, dtype: int64"
      ]
     },
     "execution_count": 58,
     "metadata": {},
     "output_type": "execute_result"
    }
   ],
   "source": []
  },
  {
   "cell_type": "code",
   "execution_count": 47,
   "id": "93aac42b",
   "metadata": {},
   "outputs": [
    {
     "data": {
      "text/plain": [
       "(1883, 2)"
      ]
     },
     "execution_count": 47,
     "metadata": {},
     "output_type": "execute_result"
    }
   ],
   "source": [
    "pd.DataFrame(np_wti.transpose()).shape"
   ]
  },
  {
   "cell_type": "code",
   "execution_count": 48,
   "id": "3aef4111",
   "metadata": {},
   "outputs": [
    {
     "data": {
      "text/plain": [
       "(365, 2)"
      ]
     },
     "execution_count": 48,
     "metadata": {},
     "output_type": "execute_result"
    }
   ],
   "source": [
    "df[df['상호'] == gs[0]][['상호', '기간']].shape"
   ]
  },
  {
   "cell_type": "code",
   "execution_count": 56,
   "id": "be7254f6",
   "metadata": {},
   "outputs": [
    {
     "data": {
      "text/plain": [
       "(1883,)"
      ]
     },
     "execution_count": 56,
     "metadata": {},
     "output_type": "execute_result"
    }
   ],
   "source": [
    "pd.DataFrame(np_wti.transpose()).iloc[:,0].unique().shape"
   ]
  },
  {
   "cell_type": "code",
   "execution_count": null,
   "id": "b80d880d",
   "metadata": {},
   "outputs": [],
   "source": []
  }
 ],
 "metadata": {
  "kernelspec": {
   "display_name": "pandas",
   "language": "python",
   "name": "python3"
  },
  "language_info": {
   "codemirror_mode": {
    "name": "ipython",
    "version": 3
   },
   "file_extension": ".py",
   "mimetype": "text/x-python",
   "name": "python",
   "nbconvert_exporter": "python",
   "pygments_lexer": "ipython3",
   "version": "3.12.11"
  }
 },
 "nbformat": 4,
 "nbformat_minor": 5
}
