{
 "cells": [
  {
   "cell_type": "code",
   "execution_count": null,
   "id": "0dcbe943",
   "metadata": {},
   "outputs": [],
   "source": [
    "from langchain_core.runnables import RunnableLambda, RunnablePassthrough, RunnableMap\n",
    "uppercase = RunnableLambda(lambda x : x.upper(), name='to_upper')\n",
    "from langchain_openai import ChatOpenAI\n",
    "model = ChatOpenAI(model='gpt-4.1-2025-04-14')\n",
    "chain  = uppercase | model\n",
    "chain.invoke(\"Hi\")\n",
    "\n",
    "format_prompt = RunnableLambda(lambda x : f\"한국어로 번역할 것 : {x}\")\n",
    "pipeline = RunnableMap(\n",
    "    {\n",
    "    'original' : RunnablePassthrough(),\n",
    "    'translated' : format_prompt | model\n",
    "    }\n",
    ")\n",
    "pipeline.invoke(\"Nice to meet you\")"
   ]
  }
 ],
 "metadata": {
  "language_info": {
   "name": "python"
  }
 },
 "nbformat": 4,
 "nbformat_minor": 5
}
