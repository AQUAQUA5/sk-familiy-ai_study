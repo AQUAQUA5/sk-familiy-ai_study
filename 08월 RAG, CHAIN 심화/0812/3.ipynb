{
 "cells": [
  {
   "cell_type": "code",
   "execution_count": null,
   "id": "8faea721",
   "metadata": {},
   "outputs": [],
   "source": [
    "uv venv \n",
    "\n",
    "cd .venv/Scripts\n",
    "activate \n",
    "\n",
    "pip install uv \n",
    "\n",
    "\n",
    "uv pip install mcp openai arxiv \n"
   ]
  },
  {
   "cell_type": "code",
   "execution_count": null,
   "id": "cb836318",
   "metadata": {},
   "outputs": [],
   "source": []
  }
 ],
 "metadata": {
  "language_info": {
   "name": "python"
  }
 },
 "nbformat": 4,
 "nbformat_minor": 5
}
