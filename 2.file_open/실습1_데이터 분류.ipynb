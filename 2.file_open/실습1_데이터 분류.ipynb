{
 "cells": [
  {
   "metadata": {},
   "cell_type": "code",
   "outputs": [],
   "execution_count": null,
   "source": [
    "'''\n",
    "남성폴더, 여성폴더로 이동, 각각 평균\n",
    "'''"
   ],
   "id": "79e5a389d4008929"
  },
  {
   "metadata": {
    "ExecuteTime": {
     "end_time": "2025-05-23T06:46:11.770536Z",
     "start_time": "2025-05-23T06:46:09.177437Z"
    }
   },
   "cell_type": "code",
   "source": [
    "import zipfile\n",
    "import os\n",
    "import shutil\n",
    "with zipfile.ZipFile(\"./이름_생년_성별_10000.zip\", 'r') as f:\n",
    "    f.extractall(\"./data/mydata/\")"
   ],
   "id": "5e9bfdb9c999a3e9",
   "outputs": [],
   "execution_count": 34
  },
  {
   "metadata": {
    "ExecuteTime": {
     "end_time": "2025-05-23T06:51:29.279311Z",
     "start_time": "2025-05-23T06:51:28.225991Z"
    }
   },
   "cell_type": "code",
   "source": [
    "'''폴더 삭제'''\n",
    "import shutil\n",
    "shutil.rmtree('./data/female')\n",
    "shutil.rmtree('./data/male')"
   ],
   "id": "a81143b2a395a40d",
   "outputs": [],
   "execution_count": 35
  },
  {
   "metadata": {
    "ExecuteTime": {
     "end_time": "2025-05-23T06:51:39.156035Z",
     "start_time": "2025-05-23T06:51:39.153026Z"
    }
   },
   "cell_type": "code",
   "source": [
    "'''\n",
    "폴더 만들기\n",
    "'''\n",
    "\n",
    "import os\n",
    "os.makedirs('data/female', exist_ok=True)\n",
    "os.makedirs('data/male', exist_ok=True)"
   ],
   "id": "dc34b907403b49d8",
   "outputs": [],
   "execution_count": 36
  },
  {
   "metadata": {
    "ExecuteTime": {
     "end_time": "2025-05-23T06:51:47.627743Z",
     "start_time": "2025-05-23T06:51:43.539471Z"
    }
   },
   "cell_type": "code",
   "source": [
    "import shutil\n",
    "import os\n",
    "\n",
    "cnt_male = 0\n",
    "sum_male = 0\n",
    "cnt_female = 0\n",
    "sum_female = 0\n",
    "\n",
    "def tmp(x):\n",
    "    return int(x.replace(\",\", \"\"))\n",
    "\n",
    "for file in os.listdir(\"./data/mydata\"):\n",
    "    if file[13] == '1' or file[13] == '3' :\n",
    "        cnt_male += 1\n",
    "        with open(\"./data/mydata/\" + file , 'r') as f:\n",
    "            sum_male += tmp(f.read())\n",
    "        shutil.move(\"./data/mydata/\"+file, \"./data/male\")\n",
    "    if file[13] == '2' or file[13] == '4' :\n",
    "        cnt_female += 1\n",
    "        with open(\"./data/mydata/\" + file , 'r') as f:\n",
    "            sum_female += tmp(f.read())\n",
    "        shutil.move(\"./data/mydata/\"+file, \"./data/female\")\n",
    "\n",
    "print('남성 평균 : ', sum_male/cnt_male)\n",
    "print('여성 평균 : ', sum_female/cnt_female)"
   ],
   "id": "27efcad782ded95b",
   "outputs": [
    {
     "name": "stdout",
     "output_type": "stream",
     "text": [
      "남성 평균 :  11900177.712397356\n",
      "여성 평균 :  12802368.483323347\n"
     ]
    }
   ],
   "execution_count": 37
  },
  {
   "metadata": {},
   "cell_type": "code",
   "outputs": [],
   "execution_count": null,
   "source": "",
   "id": "28144e046006cbde"
  }
 ],
 "metadata": {
  "kernelspec": {
   "display_name": "Python [conda env:base] *",
   "language": "python",
   "name": "conda-base-py"
  },
  "language_info": {
   "codemirror_mode": {
    "name": "ipython",
    "version": 2
   },
   "file_extension": ".py",
   "mimetype": "text/x-python",
   "name": "python",
   "nbconvert_exporter": "python",
   "pygments_lexer": "ipython2",
   "version": "2.7.6"
  }
 },
 "nbformat": 4,
 "nbformat_minor": 5
}
