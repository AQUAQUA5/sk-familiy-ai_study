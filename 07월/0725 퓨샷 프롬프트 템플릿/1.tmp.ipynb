{
 "cells": [
  {
   "cell_type": "code",
   "execution_count": 1,
   "id": "9305f918",
   "metadata": {},
   "outputs": [],
   "source": [
    "from langchain_core.output_parsers import CommaSeparatedListOutputParser\n",
    "from langchain_core.prompts import PromptTemplate\n",
    "from langchain_openai import ChatOpenAI"
   ]
  },
  {
   "cell_type": "code",
   "execution_count": 2,
   "id": "d3a000ed",
   "metadata": {},
   "outputs": [],
   "source": [
    "import os\n",
    "from dotenv import load_dotenv\n",
    "\n",
    "load_dotenv(dotenv_path=\"../../.env\")\n",
    "api_key = os.getenv(\"API_KEY\")\n",
    "\n",
    "model = ChatOpenAI(\n",
    "    model='gpt-4.1',\n",
    "    temperature=0,\n",
    "    api_key=api_key\n",
    ")"
   ]
  },
  {
   "cell_type": "code",
   "execution_count": 6,
   "id": "b497adaa",
   "metadata": {},
   "outputs": [
    {
     "data": {
      "text/plain": [
       "['진미통닭', '독산동칼국수', '삼거리포차', '명동칼국수', '황소곱창']"
      ]
     },
     "execution_count": 6,
     "metadata": {},
     "output_type": "execute_result"
    }
   ],
   "source": [
    "output_parser = CommaSeparatedListOutputParser()\n",
    "format_instructions = output_parser.get_format_instructions()\n",
    "\n",
    "prompt = PromptTemplate(\n",
    "    template=\"List five {subject}.\\n{format_instructions}\",\n",
    "    input_variables=['subject'],\n",
    "    partial_variables={'format_instructions' : format_instructions}\n",
    ")\n",
    "chain = prompt  |  model  | output_parser\n",
    "chain.invoke({\"subject\" : \"독산동 맛집\"})"
   ]
  },
  {
   "cell_type": "code",
   "execution_count": 5,
   "id": "49a69d93",
   "metadata": {},
   "outputs": [],
   "source": [
    "from langchain.output_parsers import ResponseSchema, StructuredOutputParser"
   ]
  },
  {
   "cell_type": "code",
   "execution_count": 7,
   "id": "2b3626c8",
   "metadata": {},
   "outputs": [
    {
     "data": {
      "text/plain": [
       "{'answer': \"독산동에서 인기 있는 맛집으로는 '독산동칼국수', '독산동쭈꾸미', '진미식당', '독산동곱창', '명동칼국수' 등이 있습니다. 특히 독산동칼국수는 오랜 전통과 진한 국물로 유명하며, 쭈꾸미 요리 전문점도 매운맛을 좋아하는 분들에게 인기가 많습니다.\",\n",
       " 'source': 'https://www.mangoplate.com/search/%EB%8F%85%EC%82%B0%EB%8F%99'}"
      ]
     },
     "execution_count": 7,
     "metadata": {},
     "output_type": "execute_result"
    }
   ],
   "source": [
    "response_list = [\n",
    "    ResponseSchema(name='answer', description=\"사용자 질문에 대한 답변\"),\n",
    "    ResponseSchema(\n",
    "        name='source',\n",
    "        description='사용자의 질문에 답하기 위해 사용된 `출처`, `웹사이트주소` 이어야 한다'\n",
    "    )\n",
    "]\n",
    "output_parser = StructuredOutputParser.from_response_schemas(response_list)\n",
    "\n",
    "format_instructions = output_parser.get_format_instructions()\n",
    "prompt = PromptTemplate(\n",
    "    template=\"answer the users question as best as possible.\\n{format_instructions}\\n{question}\",\n",
    "    input_variables=['question'],\n",
    "    partial_variables={'format_instructions' :format_instructions }\n",
    ")\n",
    "\n",
    "chain = prompt  |  model  | output_parser\n",
    "chain.invoke({\"question\" : \"독산동 맛집은 어디인가요?\"})"
   ]
  },
  {
   "cell_type": "code",
   "execution_count": 8,
   "id": "e10fddbe",
   "metadata": {},
   "outputs": [
    {
     "name": "stderr",
     "output_type": "stream",
     "text": [
      "/home/user1/miniconda3/envs/openai/lib/python3.11/site-packages/pydantic/json_schema.py:2324: PydanticJsonSchemaWarning: Default value (FieldInfo(annotation=NoneType, required=True, description='주제에 대한 간결한 설명'),) is not JSON serializable; excluding default from JSON schema [non-serializable-default]\n",
      "  warnings.warn(message, PydanticJsonSchemaWarning)\n"
     ]
    },
    {
     "data": {
      "text/plain": [
       "{'answer': '물론입니다! 사용자 질문을 남겨주시면 최선을 다해 답변드리겠습니다.',\n",
       " 'source': 'https://openai.com/blog/chatgpt'}"
      ]
     },
     "execution_count": 8,
     "metadata": {},
     "output_type": "execute_result"
    }
   ],
   "source": [
    "from langchain_core.output_parsers import JsonOutputParser\n",
    "from pydantic import BaseModel, Field\n",
    "from langchain_core.prompts import ChatPromptTemplate\n",
    "\n",
    "class Topic(BaseModel):\n",
    "    description : str = Field(description='주제에 대한 간결한 설명'),\n",
    "    hashtags : str = Field(description=\"해시태그 형식의 키워드(2개 이상)\")\n",
    "\n",
    "parser = JsonOutputParser(pydantic_object=Topic)\n",
    "prompt = ChatPromptTemplate(\n",
    "    [\n",
    "        (\"system\", \"딩신은 친절한 AI 어시스턴트 입니다. 질문에 간결하게 답변하세요\"),\n",
    "        (\"user\", \"#FORMAT: {format_instructions}\\n\\n#Question: {question}\")\n",
    "    ]\n",
    ")\n",
    "prompt = prompt.partial(format_instructions=parser.get_format_instructions())\n",
    "\n",
    "text = input(\"질의 :\")\n",
    "chain.invoke({\"question\" : text})"
   ]
  },
  {
   "cell_type": "code",
   "execution_count": 13,
   "id": "37b7b5e0",
   "metadata": {},
   "outputs": [],
   "source": [
    "from llama_index.core.readers import SimpleDirectoryReader\n",
    "documents = SimpleDirectoryReader(\"llama_data\").load_data()"
   ]
  },
  {
   "cell_type": "code",
   "execution_count": 14,
   "id": "26e6e362",
   "metadata": {},
   "outputs": [],
   "source": [
    "from llama_index.core import VectorStoreIndex, ServiceContext\n",
    "from llama_index.llms.openai import OpenAI"
   ]
  },
  {
   "cell_type": "code",
   "execution_count": null,
   "id": "7f06fded",
   "metadata": {},
   "outputs": [],
   "source": []
  }
 ],
 "metadata": {
  "kernelspec": {
   "display_name": "openai",
   "language": "python",
   "name": "python3"
  },
  "language_info": {
   "codemirror_mode": {
    "name": "ipython",
    "version": 3
   },
   "file_extension": ".py",
   "mimetype": "text/x-python",
   "name": "python",
   "nbconvert_exporter": "python",
   "pygments_lexer": "ipython3",
   "version": "3.11.13"
  }
 },
 "nbformat": 4,
 "nbformat_minor": 5
}
