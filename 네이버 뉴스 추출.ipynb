{
 "cells": [
  {
   "cell_type": "code",
   "id": "initial_id",
   "metadata": {
    "collapsed": true,
    "ExecuteTime": {
     "end_time": "2025-05-25T04:30:26.997389Z",
     "start_time": "2025-05-25T04:30:26.698425Z"
    }
   },
   "source": [
    "from urllib.parse import urlparse, urlencode, quote\n",
    "import requests\n",
    "from bs4 import BeautifulSoup\n",
    "import re\n",
    "import os\n",
    "import pathlib"
   ],
   "outputs": [],
   "execution_count": 1
  },
  {
   "metadata": {
    "ExecuteTime": {
     "end_time": "2025-05-25T04:30:27.051630Z",
     "start_time": "2025-05-25T04:30:27.047982Z"
    }
   },
   "cell_type": "code",
   "source": [
    "def save_news(url, path=\"\"):\n",
    "    head = {'user-agent' : 'Mozilla/5.0 (Windows NT 10.0; Win64; x64) AppleWebKit/537.36 (KHTML, like Gecko) Chrome/136.0.0.0 Safari/537.36 Edg/136.0.0.0'}\n",
    "    r = requests.get(url, headers=head)\n",
    "\n",
    "    title = BeautifulSoup(r.text).find('div',class_='media_end_head_title')\n",
    "    #print(title.text)\n",
    "\n",
    "    text = BeautifulSoup(r.text).find('article',id = 'dic_area', class_='go_trans _article_content')\n",
    "    #print(text)\n",
    "    for tag in text.find_all(['em', 'span', 'span', 'span'], class_=['img_desc', 'end_photo_org','nbd_im_w _LAZY_LOADING_WRAP' ,'nbd_a _LAZY_LOADING_ERROR_HIDE']):\n",
    "        tag.decompose()\n",
    "\n",
    "    for br in text.find_all(\"br\"):\n",
    "        br.replace_with(\"\\n\")\n",
    "    title = title.text.strip()\n",
    "\n",
    "    pathlib.Path(f\"./news/{path}\").mkdir(parents=True, exist_ok=True)\n",
    "    f= open(f\"./news/{path}/{title}.txt\",\"w\", encoding=\"utf-8\")\n",
    "    f.write(text.text.strip())\n",
    "    f.close()\n",
    "    #print(type(text.text))\n",
    "\n",
    "\n"
   ],
   "id": "e8fefba1269e12da",
   "outputs": [],
   "execution_count": 2
  },
  {
   "metadata": {
    "ExecuteTime": {
     "end_time": "2025-05-25T04:30:27.191754Z",
     "start_time": "2025-05-25T04:30:27.059863Z"
    }
   },
   "cell_type": "code",
   "source": [
    "link = \"https://n.news.naver.com/article/366/0001079444?cds=news_media_pc\"\n",
    "save_news(link)"
   ],
   "id": "2c4bd66ff750c8ea",
   "outputs": [],
   "execution_count": 3
  },
  {
   "metadata": {},
   "cell_type": "code",
   "outputs": [],
   "execution_count": null,
   "source": "",
   "id": "873585f321cba716"
  }
 ],
 "metadata": {
  "kernelspec": {
   "display_name": "Python [conda env:base] *",
   "language": "python",
   "name": "conda-base-py"
  },
  "language_info": {
   "codemirror_mode": {
    "name": "ipython",
    "version": 2
   },
   "file_extension": ".py",
   "mimetype": "text/x-python",
   "name": "python",
   "nbconvert_exporter": "python",
   "pygments_lexer": "ipython2",
   "version": "2.7.6"
  }
 },
 "nbformat": 4,
 "nbformat_minor": 5
}
