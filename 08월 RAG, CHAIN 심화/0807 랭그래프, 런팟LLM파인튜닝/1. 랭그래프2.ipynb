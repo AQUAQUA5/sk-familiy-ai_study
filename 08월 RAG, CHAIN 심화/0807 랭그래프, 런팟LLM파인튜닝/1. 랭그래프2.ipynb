{
 "cells": [
  {
   "cell_type": "code",
   "execution_count": 1,
   "id": "d30d2a90",
   "metadata": {},
   "outputs": [],
   "source": [
    "# pip install langgraph"
   ]
  },
  {
   "cell_type": "code",
   "execution_count": 2,
   "id": "8f67b854",
   "metadata": {},
   "outputs": [],
   "source": [
    "from typing import Annotated, Literal, TypedDict\n",
    "from langchain_core.messages import HumanMessage\n",
    "from langchain_openai import ChatOpenAI\n",
    "from langchain_core.tools import tool\n",
    "from langgraph.checkpoint.memory import MemorySaver\n",
    "from langgraph.graph import END, StateGraph, MessagesState\n",
    "from langgraph.prebuilt import ToolNode"
   ]
  },
  {
   "cell_type": "code",
   "execution_count": 3,
   "id": "4495f47c",
   "metadata": {},
   "outputs": [],
   "source": [
    "@tool\n",
    "def recommend_recipe(dish):\n",
    "    \"\"\"주어진 요리에 대한 간단한 레시피를 제공합니다.\"\"\"\n",
    "    recipes = {\n",
    "        \"파스타\" : \"재료: 스파게티 면, 토마토 소스, 올리브 오일, 마늘, 면을 삶고 소스를 부어주세요\",\n",
    "        \"불고기\": \"재료: 소고기, 간장, 설탕, 마늘. 고기를 양념에 재워 볶아주세요.\",\n",
    "        \"샐러드\": \"재료: 양상추, 토마토, 오이, 드레싱. 채소를 썰어 드레싱과 버무려주세요.\"\n",
    "    }\n",
    "    return recipes.get(dish, '죄송하지만 해당 요리의 레시피를 찾을 수 없습니다.')"
   ]
  },
  {
   "cell_type": "code",
   "execution_count": 4,
   "id": "41091d08",
   "metadata": {},
   "outputs": [],
   "source": [
    "tools = [recommend_recipe]\n",
    "tool_node = ToolNode(tools)\n",
    "model = ChatOpenAI(model = 'gpt-4o-mini', temperature=0).bind_tools(tools)"
   ]
  },
  {
   "cell_type": "code",
   "execution_count": 5,
   "id": "fe8fa4cf",
   "metadata": {},
   "outputs": [],
   "source": [
    "def should_continue(state: MessagesState):\n",
    "    messages = state['messages']\n",
    "    last_message = messages[-1]\n",
    "    if last_message.tool_calls:\n",
    "        return 'tools'\n",
    "    return END\n",
    "\n",
    "def call_model(state: MessagesState):\n",
    "    message = state['messages']\n",
    "    response = model.invoke(message)\n",
    "    return {'messages' : [response]}"
   ]
  },
  {
   "cell_type": "code",
   "execution_count": 6,
   "id": "bb3d3837",
   "metadata": {},
   "outputs": [],
   "source": [
    "workflow = StateGraph(MessagesState)\n",
    "workflow.add_node('agent', call_model)\n",
    "workflow.add_node('tools', tool_node)\n",
    "\n",
    "workflow.set_entry_point('agent')\n",
    "workflow.add_conditional_edges('agent', should_continue)\n",
    "workflow.add_edge('tools', 'agent')\n",
    "\n",
    "checkpointer = MemorySaver()\n",
    "app = workflow.compile(checkpointer=checkpointer)\n",
    "\n",
    "final_state = app.invoke(\n",
    "    {'messages' : [HumanMessage(content=\"불고기 레시피 알려줘\")]},\n",
    "    config={'configurable' : {'thread_id' : 100}}\n",
    ")"
   ]
  },
  {
   "cell_type": "code",
   "execution_count": 7,
   "id": "46a5a0b8",
   "metadata": {},
   "outputs": [
    {
     "data": {
      "text/plain": [
       "'불고기 레시피는 다음과 같습니다:\\n\\n### 재료\\n- 소고기\\n- 간장\\n- 설탕\\n- 마늘\\n\\n### 조리 방법\\n1. 소고기를 얇게 썰어주세요.\\n2. 간장, 설탕, 다진 마늘을 섞어 양념장을 만듭니다.\\n3. 썰어놓은 소고기를 양념장에 재워 30분 정도 둡니다.\\n4. 팬에 기름을 두르고 재운 소고기를 볶아주세요.\\n5. 고기가 익으면 접시에 담아 맛있게 즐기세요!\\n\\n맛있게 드세요!'"
      ]
     },
     "execution_count": 7,
     "metadata": {},
     "output_type": "execute_result"
    }
   ],
   "source": [
    "final_state['messages'][-1].content"
   ]
  },
  {
   "cell_type": "code",
   "execution_count": 8,
   "id": "c848afbc",
   "metadata": {},
   "outputs": [
    {
     "data": {
      "image/png": "[encoded data removed]",
      "text/plain": [
       "<IPython.core.display.Image object>"
      ]
     },
     "metadata": {},
     "output_type": "display_data"
    }
   ],
   "source": [
    "from IPython.display import Image, display\n",
    "display(Image(app.get_graph().draw_mermaid_png()))"
   ]
  }
 ],
 "metadata": {
  "kernelspec": {
   "display_name": "openai",
   "language": "python",
   "name": "python3"
  },
  "language_info": {
   "codemirror_mode": {
    "name": "ipython",
    "version": 3
   },
   "file_extension": ".py",
   "mimetype": "text/x-python",
   "name": "python",
   "nbconvert_exporter": "python",
   "pygments_lexer": "ipython3",
   "version": "3.11.13"
  }
 },
 "nbformat": 4,
 "nbformat_minor": 5
}
