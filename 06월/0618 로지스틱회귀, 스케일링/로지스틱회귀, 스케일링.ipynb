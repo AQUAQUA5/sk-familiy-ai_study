{
 "cells": [
  {
   "cell_type": "code",
   "execution_count": 1,
   "id": "75fd3afd",
   "metadata": {},
   "outputs": [],
   "source": [
    "import pandas as pd\n",
    "import numpy as np\n",
    "from sklearn.datasets import load_breast_cancer\n",
    "from sklearn.preprocessing import MinMaxScaler, StandardScaler\n",
    "from sklearn.model_selection import train_test_split\n",
    "from sklearn.linear_model import LogisticRegression\n",
    "from sklearn.metrics import accuracy_score\n",
    "\n",
    "import warnings\n",
    "warnings.filterwarnings(\"ignore\", category=UserWarning)"
   ]
  },
  {
   "cell_type": "code",
   "execution_count": 2,
   "id": "55af70ca",
   "metadata": {},
   "outputs": [
    {
     "name": "stdout",
     "output_type": "stream",
     "text": [
      "dict_keys(['data', 'target', 'frame', 'target_names', 'DESCR', 'feature_names', 'filename', 'data_module'])\n"
     ]
    },
    {
     "data": {
      "text/html": [
       "<div>\n",
       "<style scoped>\n",
       "    .dataframe tbody tr th:only-of-type {\n",
       "        vertical-align: middle;\n",
       "    }\n",
       "\n",
       "    .dataframe tbody tr th {\n",
       "        vertical-align: top;\n",
       "    }\n",
       "\n",
       "    .dataframe thead th {\n",
       "        text-align: right;\n",
       "    }\n",
       "</style>\n",
       "<table border=\"1\" class=\"dataframe\">\n",
       "  <thead>\n",
       "    <tr style=\"text-align: right;\">\n",
       "      <th></th>\n",
       "      <th>mean radius</th>\n",
       "      <th>mean texture</th>\n",
       "      <th>mean perimeter</th>\n",
       "      <th>mean area</th>\n",
       "      <th>mean smoothness</th>\n",
       "      <th>mean compactness</th>\n",
       "      <th>mean concavity</th>\n",
       "      <th>mean concave points</th>\n",
       "      <th>mean symmetry</th>\n",
       "      <th>mean fractal dimension</th>\n",
       "      <th>...</th>\n",
       "      <th>worst radius</th>\n",
       "      <th>worst texture</th>\n",
       "      <th>worst perimeter</th>\n",
       "      <th>worst area</th>\n",
       "      <th>worst smoothness</th>\n",
       "      <th>worst compactness</th>\n",
       "      <th>worst concavity</th>\n",
       "      <th>worst concave points</th>\n",
       "      <th>worst symmetry</th>\n",
       "      <th>worst fractal dimension</th>\n",
       "    </tr>\n",
       "  </thead>\n",
       "  <tbody>\n",
       "    <tr>\n",
       "      <th>0</th>\n",
       "      <td>17.99</td>\n",
       "      <td>10.38</td>\n",
       "      <td>122.8</td>\n",
       "      <td>1001.0</td>\n",
       "      <td>0.11840</td>\n",
       "      <td>0.27760</td>\n",
       "      <td>0.3001</td>\n",
       "      <td>0.14710</td>\n",
       "      <td>0.2419</td>\n",
       "      <td>0.07871</td>\n",
       "      <td>...</td>\n",
       "      <td>25.38</td>\n",
       "      <td>17.33</td>\n",
       "      <td>184.6</td>\n",
       "      <td>2019.0</td>\n",
       "      <td>0.1622</td>\n",
       "      <td>0.6656</td>\n",
       "      <td>0.7119</td>\n",
       "      <td>0.2654</td>\n",
       "      <td>0.4601</td>\n",
       "      <td>0.11890</td>\n",
       "    </tr>\n",
       "    <tr>\n",
       "      <th>1</th>\n",
       "      <td>20.57</td>\n",
       "      <td>17.77</td>\n",
       "      <td>132.9</td>\n",
       "      <td>1326.0</td>\n",
       "      <td>0.08474</td>\n",
       "      <td>0.07864</td>\n",
       "      <td>0.0869</td>\n",
       "      <td>0.07017</td>\n",
       "      <td>0.1812</td>\n",
       "      <td>0.05667</td>\n",
       "      <td>...</td>\n",
       "      <td>24.99</td>\n",
       "      <td>23.41</td>\n",
       "      <td>158.8</td>\n",
       "      <td>1956.0</td>\n",
       "      <td>0.1238</td>\n",
       "      <td>0.1866</td>\n",
       "      <td>0.2416</td>\n",
       "      <td>0.1860</td>\n",
       "      <td>0.2750</td>\n",
       "      <td>0.08902</td>\n",
       "    </tr>\n",
       "    <tr>\n",
       "      <th>2</th>\n",
       "      <td>19.69</td>\n",
       "      <td>21.25</td>\n",
       "      <td>130.0</td>\n",
       "      <td>1203.0</td>\n",
       "      <td>0.10960</td>\n",
       "      <td>0.15990</td>\n",
       "      <td>0.1974</td>\n",
       "      <td>0.12790</td>\n",
       "      <td>0.2069</td>\n",
       "      <td>0.05999</td>\n",
       "      <td>...</td>\n",
       "      <td>23.57</td>\n",
       "      <td>25.53</td>\n",
       "      <td>152.5</td>\n",
       "      <td>1709.0</td>\n",
       "      <td>0.1444</td>\n",
       "      <td>0.4245</td>\n",
       "      <td>0.4504</td>\n",
       "      <td>0.2430</td>\n",
       "      <td>0.3613</td>\n",
       "      <td>0.08758</td>\n",
       "    </tr>\n",
       "  </tbody>\n",
       "</table>\n",
       "<p>3 rows × 30 columns</p>\n",
       "</div>"
      ],
      "text/plain": [
       "   mean radius  mean texture  mean perimeter  mean area  mean smoothness  \\\n",
       "0        17.99         10.38           122.8     1001.0          0.11840   \n",
       "1        20.57         17.77           132.9     1326.0          0.08474   \n",
       "2        19.69         21.25           130.0     1203.0          0.10960   \n",
       "\n",
       "   mean compactness  mean concavity  mean concave points  mean symmetry  \\\n",
       "0           0.27760          0.3001              0.14710         0.2419   \n",
       "1           0.07864          0.0869              0.07017         0.1812   \n",
       "2           0.15990          0.1974              0.12790         0.2069   \n",
       "\n",
       "   mean fractal dimension  ...  worst radius  worst texture  worst perimeter  \\\n",
       "0                 0.07871  ...         25.38          17.33            184.6   \n",
       "1                 0.05667  ...         24.99          23.41            158.8   \n",
       "2                 0.05999  ...         23.57          25.53            152.5   \n",
       "\n",
       "   worst area  worst smoothness  worst compactness  worst concavity  \\\n",
       "0      2019.0            0.1622             0.6656           0.7119   \n",
       "1      1956.0            0.1238             0.1866           0.2416   \n",
       "2      1709.0            0.1444             0.4245           0.4504   \n",
       "\n",
       "   worst concave points  worst symmetry  worst fractal dimension  \n",
       "0                0.2654          0.4601                  0.11890  \n",
       "1                0.1860          0.2750                  0.08902  \n",
       "2                0.2430          0.3613                  0.08758  \n",
       "\n",
       "[3 rows x 30 columns]"
      ]
     },
     "execution_count": 2,
     "metadata": {},
     "output_type": "execute_result"
    }
   ],
   "source": [
    "raw_data = load_breast_cancer()\n",
    "print(raw_data.keys())\n",
    "df_x = pd.DataFrame(columns=raw_data['feature_names'], data=raw_data['data'])\n",
    "df_x.head(3)"
   ]
  },
  {
   "cell_type": "code",
   "execution_count": 3,
   "id": "e42b4b70",
   "metadata": {},
   "outputs": [
    {
     "data": {
      "text/plain": [
       "array(['malignant', 'benign'], dtype='<U9')"
      ]
     },
     "execution_count": 3,
     "metadata": {},
     "output_type": "execute_result"
    }
   ],
   "source": [
    "target = raw_data['target']\n",
    "raw_data['target_names']"
   ]
  },
  {
   "cell_type": "code",
   "execution_count": 4,
   "id": "edeabb1e",
   "metadata": {},
   "outputs": [],
   "source": [
    "train_input, test_input, train_target, test_target = train_test_split(\n",
    "    df_x, target, random_state=41, test_size=0.2)"
   ]
  },
  {
   "cell_type": "code",
   "execution_count": 5,
   "id": "5babed1e",
   "metadata": {},
   "outputs": [
    {
     "name": "stdout",
     "output_type": "stream",
     "text": [
      "case0 정규화x\n",
      "case0 trainData_accuracy :  0.9384615384615385\n",
      "case0 testData_accuracy :  0.9649122807017544\n",
      "\n",
      "case1 MinMax정규화\n",
      "case1 trainData_accuracy :  0.967032967032967\n",
      "case1 testData_accuracy :  0.9824561403508771\n",
      "\n",
      "case2 Standard정규화\n",
      "case2 trainData_accuracy :  0.9846153846153847\n",
      "case2 testData_accuracy :  1.0\n",
      "\n"
     ]
    }
   ],
   "source": [
    "scaler_mm = MinMaxScaler()\n",
    "mm_train_input = scaler_mm.fit_transform(train_input)\n",
    "mm_test_input = scaler_mm.transform(test_input)\n",
    "\n",
    "scaler_std = StandardScaler()\n",
    "std_train_input = scaler_std.fit_transform(train_input)\n",
    "std_test_input = scaler_std.transform(test_input)\n",
    "\n",
    "#스케일러x\n",
    "case0 = LogisticRegression()\n",
    "case0.fit(train_input, train_target)\n",
    "print('case0 정규화x')\n",
    "print('case0 trainData_accuracy : ', accuracy_score(case0.predict(train_input), train_target))\n",
    "print('case0 testData_accuracy : ', accuracy_score(case0.predict(test_input), test_target))\n",
    "print()\n",
    "\n",
    "#MinMax\n",
    "case1 = LogisticRegression()\n",
    "case1.fit(mm_train_input, train_target)\n",
    "print('case1 MinMax정규화')\n",
    "print('case1 trainData_accuracy : ', accuracy_score(case1.predict(mm_train_input), train_target))\n",
    "print('case1 testData_accuracy : ', accuracy_score(case1.predict(mm_test_input), test_target))\n",
    "print()\n",
    "#Standard\n",
    "case2 = LogisticRegression()\n",
    "case2.fit(std_train_input, train_target)\n",
    "print('case2 Standard정규화')\n",
    "print('case2 trainData_accuracy : ', accuracy_score(case2.predict(std_train_input), train_target))\n",
    "print('case2 testData_accuracy : ', accuracy_score(case2.predict(std_test_input), test_target))\n",
    "print()"
   ]
  },
  {
   "cell_type": "code",
   "execution_count": 12,
   "id": "db716d7f",
   "metadata": {},
   "outputs": [],
   "source": [
    "axl =[]\n",
    "amml = []\n",
    "astdl = []\n",
    "\n",
    "for i in range(1000):\n",
    "    train_input, test_input, train_target, test_target = train_test_split(\n",
    "    df_x, target, test_size=0.2)\n",
    "\n",
    "    scaler_mm = MinMaxScaler()\n",
    "    mm_train_input = scaler_mm.fit_transform(train_input)\n",
    "    mm_test_input = scaler_mm.transform(test_input)\n",
    "\n",
    "    scaler_std = StandardScaler()\n",
    "    std_train_input = scaler_std.fit_transform(train_input)\n",
    "    std_test_input = scaler_std.transform(test_input)\n",
    "\n",
    "    #스케일러x\n",
    "    case0 = LogisticRegression()\n",
    "    case0.fit(train_input, train_target)\n",
    "    ax = accuracy_score(case0.predict(test_input), test_target)\n",
    "\n",
    "    #MinMax\n",
    "    case1 = LogisticRegression()\n",
    "    case1.fit(mm_train_input, train_target)\n",
    "    amm = accuracy_score(case1.predict(mm_test_input), test_target)\n",
    "    \n",
    "    #Standard\n",
    "    case2 = LogisticRegression()\n",
    "    case2.fit(std_train_input, train_target)\n",
    "    astd = accuracy_score(case2.predict(std_test_input), test_target)\n",
    "\n",
    "    axl.append(ax)\n",
    "    amml.append(amm)\n",
    "    astdl.append(astd)"
   ]
  },
  {
   "cell_type": "code",
   "execution_count": null,
   "id": "893fe0b8",
   "metadata": {},
   "outputs": [
    {
     "data": {
      "image/png": "[encoded data removed]",
      "text/plain": [
       "<Figure size 800x600 with 1 Axes>"
      ]
     },
     "metadata": {},
     "output_type": "display_data"
    }
   ],
   "source": [
    "import matplotlib.pyplot as plt\n",
    "import matplotlib.font_manager as fm\n",
    "\n",
    "path = '/usr/share/fonts/truetype/nanum/NanumGothicEcoBold.ttf'\n",
    "fontprop = fm.FontProperties(fname=path)\n",
    "\n",
    "plt.rcParams['font.family'] = 'NanumGothic'\n",
    "plt.figure(figsize=(8, 6))\n",
    "plt.violinplot([axl, amml, astdl])\n",
    "plt.xticks([1, 2, 3], ['스케일링x', 'MinMax', 'Standard'])\n",
    "plt.ylabel('값 분포')\n",
    "plt.title('스케일링별 분포 (Boxplot)')\n",
    "plt.grid(True)\n",
    "plt.show()\n"
   ]
  },
  {
   "cell_type": "code",
   "execution_count": null,
   "id": "86061f3d",
   "metadata": {},
   "outputs": [],
   "source": []
  }
 ],
 "metadata": {
  "kernelspec": {
   "display_name": "pandas",
   "language": "python",
   "name": "python3"
  },
  "language_info": {
   "codemirror_mode": {
    "name": "ipython",
    "version": 3
   },
   "file_extension": ".py",
   "mimetype": "text/x-python",
   "name": "python",
   "nbconvert_exporter": "python",
   "pygments_lexer": "ipython3",
   "version": "3.12.11"
  }
 },
 "nbformat": 4,
 "nbformat_minor": 5
}
