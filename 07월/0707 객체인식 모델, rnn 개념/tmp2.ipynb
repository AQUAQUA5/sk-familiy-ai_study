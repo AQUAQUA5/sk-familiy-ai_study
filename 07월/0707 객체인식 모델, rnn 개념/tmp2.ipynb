{
 "cells": [
  {
   "cell_type": "code",
   "execution_count": 1,
   "id": "eb764a49",
   "metadata": {},
   "outputs": [],
   "source": [
    "from IPython.display import Image"
   ]
  },
  {
   "cell_type": "code",
   "execution_count": 2,
   "id": "690c1a29",
   "metadata": {},
   "outputs": [],
   "source": [
    "%matplotlib inline"
   ]
  },
  {
   "cell_type": "code",
   "execution_count": 3,
   "id": "289f5032",
   "metadata": {},
   "outputs": [
    {
     "data": {
      "text/html": [
       "<img src=\"https://raw.githubusercontent.com/rickiepark/ml-with-pytorch/main/ch15/figures/15_01.png\" width=\"500\"/>"
      ],
      "text/plain": [
       "<IPython.core.display.Image object>"
      ]
     },
     "execution_count": 3,
     "metadata": {},
     "output_type": "execute_result"
    }
   ],
   "source": [
    "Image(url='https://raw.githubusercontent.com/rickiepark/ml-with-pytorch/main/ch15/figures/15_01.png', width=500)"
   ]
  },
  {
   "cell_type": "code",
   "execution_count": 4,
   "id": "82ee9cb3",
   "metadata": {},
   "outputs": [
    {
     "data": {
      "text/html": [
       "<img src=\"https://raw.githubusercontent.com/rickiepark/ml-with-pytorch/main/ch15/figures/15_02.png\" width=\"500\"/>"
      ],
      "text/plain": [
       "<IPython.core.display.Image object>"
      ]
     },
     "execution_count": 4,
     "metadata": {},
     "output_type": "execute_result"
    }
   ],
   "source": [
    "Image(url='https://raw.githubusercontent.com/rickiepark/ml-with-pytorch/main/ch15/figures/15_02.png', width=500)"
   ]
  },
  {
   "cell_type": "code",
   "execution_count": 5,
   "id": "215ea3e4",
   "metadata": {},
   "outputs": [
    {
     "data": {
      "text/html": [
       "<img src=\"https://raw.githubusercontent.com/rickiepark/ml-with-pytorch/main/ch15/figures/15_03.png\" width=\"500\"/>"
      ],
      "text/plain": [
       "<IPython.core.display.Image object>"
      ]
     },
     "execution_count": 5,
     "metadata": {},
     "output_type": "execute_result"
    }
   ],
   "source": [
    "Image(url='https://raw.githubusercontent.com/rickiepark/ml-with-pytorch/main/ch15/figures/15_03.png', width=500)"
   ]
  },
  {
   "cell_type": "code",
   "execution_count": 6,
   "id": "956fabb4",
   "metadata": {},
   "outputs": [
    {
     "data": {
      "text/html": [
       "<img src=\"https://raw.githubusercontent.com/rickiepark/ml-with-pytorch/main/ch15/figures/15_04.png\" width=\"500\"/>"
      ],
      "text/plain": [
       "<IPython.core.display.Image object>"
      ]
     },
     "execution_count": 6,
     "metadata": {},
     "output_type": "execute_result"
    }
   ],
   "source": [
    "Image(url='https://raw.githubusercontent.com/rickiepark/ml-with-pytorch/main/ch15/figures/15_04.png', width=500)\n"
   ]
  },
  {
   "cell_type": "code",
   "execution_count": 9,
   "id": "1eec49ee",
   "metadata": {},
   "outputs": [],
   "source": [
    "import torch \n",
    "import torch.nn as nn"
   ]
  },
  {
   "cell_type": "code",
   "execution_count": 11,
   "id": "6ccad7b6",
   "metadata": {},
   "outputs": [],
   "source": [
    "torch.manual_seed(1)\n",
    "rnn_layer = nn.RNN(input_size=5, hidden_size=2, num_layers=1, batch_first=True)"
   ]
  },
  {
   "cell_type": "code",
   "execution_count": 14,
   "id": "d1bd8c27",
   "metadata": {},
   "outputs": [],
   "source": [
    "w_xh = rnn_layer.weight_ih_l0\n",
    "w_hh = rnn_layer.weight_hh_l0\n",
    "b_xh = rnn_layer.bias_ih_l0\n",
    "b_hh = rnn_layer.bias_hh_l0"
   ]
  },
  {
   "cell_type": "code",
   "execution_count": 15,
   "id": "b7e0bf91",
   "metadata": {},
   "outputs": [
    {
     "data": {
      "text/plain": [
       "Parameter containing:\n",
       "tensor([[ 0.3643, -0.3121, -0.1371,  0.3319, -0.6657],\n",
       "        [ 0.4241, -0.1455,  0.3597,  0.0983, -0.0866]], requires_grad=True)"
      ]
     },
     "execution_count": 15,
     "metadata": {},
     "output_type": "execute_result"
    }
   ],
   "source": [
    "w_xh"
   ]
  },
  {
   "cell_type": "code",
   "execution_count": 18,
   "id": "b87b9104",
   "metadata": {},
   "outputs": [
    {
     "name": "stdout",
     "output_type": "stream",
     "text": [
      "w_xh 크기 torch.Size([2, 5])\n",
      "w_hh 크기 torch.Size([2, 2])\n",
      "b_xh 크기 torch.Size([2])\n",
      "b_hh 크기 torch.Size([2])\n"
     ]
    }
   ],
   "source": [
    "print(\"w_xh 크기\" , w_xh.shape)\n",
    "print(\"w_hh 크기\" , w_hh.shape)\n",
    "print(\"b_xh 크기\" , b_xh.shape)\n",
    "print(\"b_hh 크기\" , b_hh.shape)"
   ]
  },
  {
   "cell_type": "code",
   "execution_count": 24,
   "id": "747649bb",
   "metadata": {},
   "outputs": [
    {
     "data": {
      "text/plain": [
       "torch.Size([3, 5])"
      ]
     },
     "execution_count": 24,
     "metadata": {},
     "output_type": "execute_result"
    }
   ],
   "source": [
    "x_seq = torch.tensor([[1.0]*5, [2.0]*5, [3.0]*5] ).float()\n",
    "x_seq.shape"
   ]
  },
  {
   "cell_type": "code",
   "execution_count": 25,
   "id": "7f259f56",
   "metadata": {},
   "outputs": [
    {
     "data": {
      "text/plain": [
       "torch.Size([1, 3, 5])"
      ]
     },
     "execution_count": 25,
     "metadata": {},
     "output_type": "execute_result"
    }
   ],
   "source": [
    "x_seq.reshape(-1,3,5).shape"
   ]
  },
  {
   "cell_type": "code",
   "execution_count": 27,
   "id": "add9a1e0",
   "metadata": {},
   "outputs": [],
   "source": [
    "output, hn = rnn_layer(x_seq.reshape(-1,3,5))"
   ]
  },
  {
   "cell_type": "code",
   "execution_count": null,
   "id": "21798670",
   "metadata": {},
   "outputs": [
    {
     "name": "stdout",
     "output_type": "stream",
     "text": [
      "타임 스텝 0 --> \n",
      "입력    :  [[1. 1. 1. 1. 1.]]\n",
      " 은닉  :  [[-0.4701929  0.5863904]]\n",
      "  출력(수동)   :  tensor([[-0.3520,  0.5253]], grad_fn=<TanhBackward0>)\n",
      "  RNN 모듈에서 계산된 값 :  [[-0.3519801   0.52525216]]\n",
      "타임 스텝 1 --> \n",
      "입력    :  [[2. 2. 2. 2. 2.]]\n",
      " 은닉  :  [[-0.88883156  1.2364397 ]]\n",
      "  출력(수동)   :  tensor([[-0.6842,  0.7607]], grad_fn=<TanhBackward0>)\n",
      "  RNN 모듈에서 계산된 값 :  [[-0.68424344  0.76074266]]\n",
      "타임 스텝 2 --> \n",
      "입력    :  [[3. 3. 3. 3. 3.]]\n",
      " 은닉  :  [[-1.3074702  1.8864892]]\n",
      "  출력(수동)   :  tensor([[-0.8649,  0.9047]], grad_fn=<TanhBackward0>)\n",
      "  RNN 모듈에서 계산된 값 :  [[-0.8649416  0.9046636]]\n"
     ]
    }
   ],
   "source": [
    "out_manual = []\n",
    "for t in range(3):\n",
    "    xt = torch.reshape(x_seq[t], (1,5))\n",
    "    print(f\"타임 스텝 {t} --> \")\n",
    "    print(\"입력    : \", xt.numpy())\n",
    "   \n",
    "    ht = torch.matmul(xt, torch.transpose(w_xh, 0, 1)) + b_xh\n",
    "    print(\" 은닉  : \", ht.detach().numpy())\n",
    "\n",
    "    if t>0:\n",
    "        prev_h = out_manual[t-1]\n",
    "    else:\n",
    "        prev_h = torch.zeros((ht.shape))\n",
    "\n",
    "    ot = ht + torch.matmul(prev_h, torch.transpose(w_hh, 0, 1)) + b_hh\n",
    "    ot = torch.tanh(ot)\n",
    "    out_manual.append(ot)\n",
    "    print (\"  출력(수동)   : \", ot)\n",
    "    print (\"  RNN 모듈에서 계산된 값 : \", output[:, t].detach().numpy())"
   ]
  },
  {
   "cell_type": "code",
   "execution_count": 32,
   "id": "7d1826ce",
   "metadata": {},
   "outputs": [
    {
     "data": {
      "text/plain": [
       "tensor([[-0.3520,  0.5253]], grad_fn=<TanhBackward0>)"
      ]
     },
     "execution_count": 32,
     "metadata": {},
     "output_type": "execute_result"
    }
   ],
   "source": [
    "ot"
   ]
  },
  {
   "cell_type": "code",
   "execution_count": 33,
   "id": "c5550186",
   "metadata": {},
   "outputs": [
    {
     "data": {
      "text/plain": [
       "tensor([[[-0.3520,  0.5253],\n",
       "         [-0.6842,  0.7607],\n",
       "         [-0.8649,  0.9047]]], grad_fn=<TransposeBackward1>)"
      ]
     },
     "execution_count": 33,
     "metadata": {},
     "output_type": "execute_result"
    }
   ],
   "source": [
    "output"
   ]
  },
  {
   "cell_type": "code",
   "execution_count": 37,
   "id": "630bf0f4",
   "metadata": {},
   "outputs": [],
   "source": [
    "import konlpy"
   ]
  },
  {
   "cell_type": "code",
   "execution_count": null,
   "id": "dd04a86d",
   "metadata": {},
   "outputs": [],
   "source": [
    "import jdk\n",
    "import konlpy"
   ]
  },
  {
   "cell_type": "code",
   "execution_count": 44,
   "id": "bb9d46ab",
   "metadata": {},
   "outputs": [
    {
     "data": {
      "text/plain": [
       "'/home/user1/.jdk/jdk-17.0.15+6'"
      ]
     },
     "execution_count": 44,
     "metadata": {},
     "output_type": "execute_result"
    }
   ],
   "source": [
    "jdk.install(version=17)"
   ]
  },
  {
   "cell_type": "code",
   "execution_count": null,
   "id": "cb601d56",
   "metadata": {},
   "outputs": [],
   "source": []
  }
 ],
 "metadata": {
  "kernelspec": {
   "display_name": "dnn3",
   "language": "python",
   "name": "python3"
  },
  "language_info": {
   "codemirror_mode": {
    "name": "ipython",
    "version": 3
   },
   "file_extension": ".py",
   "mimetype": "text/x-python",
   "name": "python",
   "nbconvert_exporter": "python",
   "pygments_lexer": "ipython3",
   "version": "3.11.13"
  }
 },
 "nbformat": 4,
 "nbformat_minor": 5
}
