{
 "cells": [
  {
   "cell_type": "code",
   "execution_count": 18,
   "id": "82d24c73",
   "metadata": {},
   "outputs": [],
   "source": [
    "import pandas as pd\n",
    "from torch.utils.data import DataLoader, Dataset\n",
    "from PIL import Image\n",
    "import os\n",
    "from torchvision import transforms"
   ]
  },
  {
   "cell_type": "code",
   "execution_count": 19,
   "id": "8e819e6b",
   "metadata": {},
   "outputs": [],
   "source": [
    "class dc_dataset(Dataset):\n",
    "    def __init__(self, path ,transform=None):\n",
    "        self.path = path\n",
    "        self.img_list = os.listdir(path)\n",
    "        self.transform = transform\n",
    "\n",
    "    def __getitem__(self, idx):\n",
    "        if self.img_list[idx][0] =='d':\n",
    "            label = 0\n",
    "        else:\n",
    "            label = 1\n",
    "        image = Image.open( os.path.join(self.path, self.img_list[idx]) ).convert(\"RGB\")\n",
    "        if self.transform:\n",
    "            image = self.transform(image)\n",
    "        return image, label\n",
    "    \n",
    "    def __len__(self):\n",
    "        return len(self.img_list)"
   ]
  },
  {
   "cell_type": "code",
   "execution_count": 20,
   "id": "8f994bf3",
   "metadata": {},
   "outputs": [],
   "source": [
    "import torch\n",
    "import torch.nn as nn\n",
    "import torch.nn.functional as F\n",
    "\n",
    "class ResidualBlock(nn.Module):\n",
    "    def __init__(self, in_channels, out_channels, stride=1, downsample=None):\n",
    "        super(ResidualBlock, self).__init__()\n",
    "        self.conv1 = nn.Conv2d(in_channels, out_channels, kernel_size=3, stride=stride, padding=1, bias=False)\n",
    "        self.bn1 = nn.BatchNorm2d(out_channels)\n",
    "        self.relu = nn.ReLU(inplace=True)\n",
    "        self.conv2 = nn.Conv2d(out_channels, out_channels, kernel_size=3, stride=1, padding=1, bias=False)\n",
    "        self.bn2 = nn.BatchNorm2d(out_channels)\n",
    "        self.downsample = downsample\n",
    "\n",
    "    def forward(self, x):\n",
    "        identity = x\n",
    "        out = self.relu(self.bn1(self.conv1(x)))\n",
    "        out = self.bn2(self.conv2(out))\n",
    "        if self.downsample is not None:\n",
    "            identity = self.downsample(x)\n",
    "        out += identity\n",
    "        out = self.relu(out)\n",
    "        return out\n",
    "\n",
    "def make_layer(block, in_channels, out_channels, num_blocks, stride):\n",
    "    downsample = None\n",
    "    if stride != 1 or in_channels != out_channels:\n",
    "        downsample = nn.Sequential(\n",
    "            nn.Conv2d(in_channels, out_channels, kernel_size=1, stride=stride, bias=False),\n",
    "            nn.BatchNorm2d(out_channels)\n",
    "        )\n",
    "    layers = []\n",
    "    layers.append(block(in_channels, out_channels, stride, downsample))\n",
    "    for _ in range(1, num_blocks):\n",
    "        layers.append(block(out_channels, out_channels))\n",
    "    return nn.Sequential(*layers)\n",
    "\n",
    "class ResNet20(nn.Module):\n",
    "    def __init__(self, num_classes=2):\n",
    "        super(ResNet20, self).__init__()\n",
    "        self.in_channels = 16\n",
    "        self.conv = nn.Conv2d(3, 16, kernel_size=3, stride=1, padding=1, bias=False)\n",
    "        self.bn = nn.BatchNorm2d(16)\n",
    "        self.relu = nn.ReLU(inplace=True)\n",
    "        # 각 스테이지마다 3개 블록\n",
    "        self.layer1 = make_layer(ResidualBlock, 16, 16, 3, stride=1)\n",
    "        self.layer2 = make_layer(ResidualBlock, 16, 32, 3, stride=2)\n",
    "        self.layer3 = make_layer(ResidualBlock, 32, 64, 3, stride=2)\n",
    "        self.avg_pool = nn.AvgPool2d(8)\n",
    "        self.fc = nn.Linear(64, num_classes)\n",
    "\n",
    "    def forward(self, x):\n",
    "        out = self.relu(self.bn(self.conv(x)))\n",
    "        out = self.layer1(out)\n",
    "        out = self.layer2(out)\n",
    "        out = self.layer3(out)\n",
    "        out = self.avg_pool(out)\n",
    "        out = out.view(out.size(0), -1)\n",
    "        out = self.fc(out)\n",
    "        return out\n",
    "\n",
    "# 사용 예시\n",
    "# model = ResNet20(num_classes=2)\n"
   ]
  },
  {
   "cell_type": "code",
   "execution_count": 21,
   "id": "68a51d20",
   "metadata": {},
   "outputs": [],
   "source": [
    "model = ResNet20(num_classes=2)"
   ]
  },
  {
   "cell_type": "code",
   "execution_count": 22,
   "id": "73507bc9",
   "metadata": {},
   "outputs": [],
   "source": [
    "transform = transforms.Compose([\n",
    "    transforms.Resize((32,32)),\n",
    "    transforms.RandomCrop(32, padding=4),      # 패딩 후 랜덤 크롭\n",
    "    transforms.RandomHorizontalFlip(),         # 랜덤 좌우반전\n",
    "    transforms.ToTensor(),                     # 텐서 변환\n",
    "])\n",
    "\n",
    "\n",
    "# 1.2 커스텀 데이터셋 클래스에 트랜스폼 적용\n",
    "train_dataset = dc_dataset('./train', transform=transform)\n",
    "test_dataset = dc_dataset('./test', transform=transform)\n",
    "\n",
    "# 1.3 DataLoader로 배치 단위 데이터 준비\n",
    "train_loader = DataLoader(train_dataset, batch_size=64, shuffle=True, num_workers=2)\n",
    "test_loader = DataLoader(test_dataset, batch_size=64, shuffle=False, num_workers=2)"
   ]
  },
  {
   "cell_type": "code",
   "execution_count": 23,
   "id": "fc1df152",
   "metadata": {},
   "outputs": [],
   "source": [
    "device = torch.device('cuda' if torch.cuda.is_available() else 'cpu')\n",
    "model = ResNet20(num_classes=2).to(device)  # 클래스 수 맞게 수정"
   ]
  },
  {
   "cell_type": "code",
   "execution_count": 24,
   "id": "4a2b2bad",
   "metadata": {},
   "outputs": [],
   "source": [
    "import torch\n",
    "import torch.nn as nn\n",
    "import torch.optim as optim\n",
    "\n",
    "criterion = nn.CrossEntropyLoss()\n",
    "optimizer = optim.SGD(model.parameters(), lr=0.01, momentum=0.9, weight_decay=1e-4)  # 학습률 0.01로 낮춤\n",
    "scheduler = optim.lr_scheduler.MultiStepLR(optimizer, milestones=[15, 30], gamma=0.1)  # milestone도 더 이르게"
   ]
  },
  {
   "cell_type": "code",
   "execution_count": 25,
   "id": "f6e5b350",
   "metadata": {},
   "outputs": [],
   "source": [
    "def train_one_epoch(model, loader, criterion, optimizer, device):\n",
    "    model.train()\n",
    "    running_loss = 0.0\n",
    "    for images, labels in loader:\n",
    "        images, labels = images.to(device), labels.to(device)\n",
    "        optimizer.zero_grad()\n",
    "        outputs = model(images)\n",
    "        loss = criterion(outputs, labels)\n",
    "        loss.backward()\n",
    "        optimizer.step()\n",
    "        running_loss += loss.item() * images.size(0)\n",
    "    return running_loss / len(loader.dataset)"
   ]
  },
  {
   "cell_type": "code",
   "execution_count": 26,
   "id": "d5e9abe5",
   "metadata": {},
   "outputs": [],
   "source": [
    "def evaluate(model, loader, criterion, device):\n",
    "    model.eval()\n",
    "    correct = 0\n",
    "    total = 0\n",
    "    test_loss = 0.0\n",
    "    with torch.no_grad():\n",
    "        for images, labels in loader:\n",
    "            images, labels = images.to(device), labels.to(device)\n",
    "            outputs = model(images)\n",
    "            test_loss += criterion(outputs, labels).item() * images.size(0)\n",
    "            _, predicted = torch.max(outputs, 1)\n",
    "            total += labels.size(0)\n",
    "            correct += (predicted == labels).sum().item()\n",
    "    accuracy = 100 * correct / total\n",
    "    avg_loss = test_loss / total\n",
    "    return avg_loss, accuracy"
   ]
  },
  {
   "cell_type": "code",
   "execution_count": 27,
   "id": "8f3ab237",
   "metadata": {},
   "outputs": [
    {
     "name": "stdout",
     "output_type": "stream",
     "text": [
      "Epoch   1 | Train Loss: 0.6258 | Test Loss: 0.7973 | Test Acc: 56.45%\n",
      "Epoch   2 | Train Loss: 0.5370 | Test Loss: 0.5596 | Test Acc: 73.85%\n",
      "Epoch   3 | Train Loss: 0.4808 | Test Loss: 0.5049 | Test Acc: 75.28%\n",
      "Epoch   4 | Train Loss: 0.4388 | Test Loss: 0.4070 | Test Acc: 81.91%\n",
      "Epoch   5 | Train Loss: 0.4074 | Test Loss: 0.3634 | Test Acc: 84.58%\n",
      "Epoch   6 | Train Loss: 0.3728 | Test Loss: 0.3670 | Test Acc: 83.93%\n",
      "Epoch   7 | Train Loss: 0.3413 | Test Loss: 0.3555 | Test Acc: 84.18%\n",
      "Epoch   8 | Train Loss: 0.3282 | Test Loss: 0.3325 | Test Acc: 86.16%\n",
      "Epoch   9 | Train Loss: 0.3105 | Test Loss: 0.2876 | Test Acc: 87.89%\n",
      "Epoch  10 | Train Loss: 0.2974 | Test Loss: 0.2830 | Test Acc: 88.38%\n",
      "Epoch  11 | Train Loss: 0.2840 | Test Loss: 0.7242 | Test Acc: 71.82%\n",
      "Epoch  12 | Train Loss: 0.2715 | Test Loss: 0.2452 | Test Acc: 89.87%\n",
      "Epoch  13 | Train Loss: 0.2602 | Test Loss: 0.2450 | Test Acc: 89.32%\n",
      "Epoch  14 | Train Loss: 0.2549 | Test Loss: 0.2474 | Test Acc: 89.72%\n",
      "Epoch  15 | Train Loss: 0.2498 | Test Loss: 0.2360 | Test Acc: 89.32%\n",
      "Epoch  16 | Train Loss: 0.2088 | Test Loss: 0.1885 | Test Acc: 91.40%\n",
      "Epoch  17 | Train Loss: 0.1970 | Test Loss: 0.1810 | Test Acc: 92.49%\n",
      "Epoch  18 | Train Loss: 0.1929 | Test Loss: 0.1803 | Test Acc: 92.78%\n",
      "Epoch  19 | Train Loss: 0.1858 | Test Loss: 0.1699 | Test Acc: 93.18%\n",
      "Epoch  20 | Train Loss: 0.1882 | Test Loss: 0.1736 | Test Acc: 92.54%\n",
      "Epoch  21 | Train Loss: 0.1829 | Test Loss: 0.1675 | Test Acc: 93.38%\n",
      "Epoch  22 | Train Loss: 0.1786 | Test Loss: 0.1641 | Test Acc: 92.63%\n",
      "Epoch  23 | Train Loss: 0.1801 | Test Loss: 0.1695 | Test Acc: 92.98%\n",
      "Epoch  24 | Train Loss: 0.1791 | Test Loss: 0.1614 | Test Acc: 93.03%\n",
      "Epoch  25 | Train Loss: 0.1739 | Test Loss: 0.1640 | Test Acc: 92.98%\n",
      "Epoch  26 | Train Loss: 0.1725 | Test Loss: 0.1579 | Test Acc: 92.63%\n",
      "Epoch  27 | Train Loss: 0.1710 | Test Loss: 0.1475 | Test Acc: 93.57%\n",
      "Epoch  28 | Train Loss: 0.1655 | Test Loss: 0.1482 | Test Acc: 93.82%\n",
      "Epoch  29 | Train Loss: 0.1686 | Test Loss: 0.1539 | Test Acc: 93.82%\n",
      "Epoch  30 | Train Loss: 0.1653 | Test Loss: 0.1460 | Test Acc: 94.17%\n",
      "Epoch  31 | Train Loss: 0.1601 | Test Loss: 0.1498 | Test Acc: 93.87%\n",
      "Epoch  32 | Train Loss: 0.1567 | Test Loss: 0.1384 | Test Acc: 93.97%\n",
      "Epoch  33 | Train Loss: 0.1547 | Test Loss: 0.1410 | Test Acc: 94.07%\n",
      "Epoch  34 | Train Loss: 0.1566 | Test Loss: 0.1390 | Test Acc: 94.36%\n",
      "Epoch  35 | Train Loss: 0.1595 | Test Loss: 0.1426 | Test Acc: 94.17%\n",
      "Epoch  36 | Train Loss: 0.1546 | Test Loss: 0.1297 | Test Acc: 94.71%\n",
      "Epoch  37 | Train Loss: 0.1537 | Test Loss: 0.1402 | Test Acc: 94.07%\n",
      "Epoch  38 | Train Loss: 0.1553 | Test Loss: 0.1334 | Test Acc: 94.76%\n",
      "Epoch  39 | Train Loss: 0.1512 | Test Loss: 0.1343 | Test Acc: 93.92%\n",
      "Epoch  40 | Train Loss: 0.1511 | Test Loss: 0.1384 | Test Acc: 94.17%\n"
     ]
    }
   ],
   "source": [
    "num_epochs = 40  # 논문 기준\n",
    "for epoch in range(1, num_epochs + 1):\n",
    "    train_loss = train_one_epoch(model, train_loader, criterion, optimizer, device)\n",
    "    test_loss, test_acc = evaluate(model, test_loader, criterion, device)\n",
    "    scheduler.step()\n",
    "    print(f\"Epoch {epoch:3d} | Train Loss: {train_loss:.4f} | Test Loss: {test_loss:.4f} | Test Acc: {test_acc:.2f}%\")"
   ]
  },
  {
   "cell_type": "code",
   "execution_count": 29,
   "id": "d0ca0298",
   "metadata": {},
   "outputs": [],
   "source": [
    "torch.save(model.state_dict(), 'resnet20.pth')"
   ]
  },
  {
   "cell_type": "code",
   "execution_count": null,
   "id": "999e790e",
   "metadata": {},
   "outputs": [],
   "source": []
  }
 ],
 "metadata": {
  "kernelspec": {
   "display_name": "dnn3",
   "language": "python",
   "name": "python3"
  },
  "language_info": {
   "codemirror_mode": {
    "name": "ipython",
    "version": 3
   },
   "file_extension": ".py",
   "mimetype": "text/x-python",
   "name": "python",
   "nbconvert_exporter": "python",
   "pygments_lexer": "ipython3",
   "version": "3.11.13"
  }
 },
 "nbformat": 4,
 "nbformat_minor": 5
}
