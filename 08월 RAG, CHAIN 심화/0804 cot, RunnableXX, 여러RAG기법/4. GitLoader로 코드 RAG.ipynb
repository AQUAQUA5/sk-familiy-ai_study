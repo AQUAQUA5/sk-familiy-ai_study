{
 "cells": [
  {
   "cell_type": "code",
   "execution_count": null,
   "id": "73b11964",
   "metadata": {},
   "outputs": [],
   "source": [
    "from langchain_community.document_loaders import GitLoader\n",
    "\n",
    "loader = GitLoader(\n",
    "    clone_url = \"https://github.com/langchain-ai/langchain\",\n",
    "    repo_path='./langcahin',\n",
    "    branch='master'\n",
    ")"
   ]
  },
  {
   "cell_type": "code",
   "execution_count": null,
   "id": "e842fed4",
   "metadata": {},
   "outputs": [],
   "source": [
    "documents = loader.load()\n",
    "print(len(documents))"
   ]
  }
 ],
 "metadata": {
  "language_info": {
   "name": "python"
  }
 },
 "nbformat": 4,
 "nbformat_minor": 5
}
