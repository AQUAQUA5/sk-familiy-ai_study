{
 "cells": [
  {
   "cell_type": "code",
   "id": "1a169c7c",
   "metadata": {
    "ExecuteTime": {
     "end_time": "2025-06-05T01:47:39.775664Z",
     "start_time": "2025-06-05T01:47:39.771663Z"
    }
   },
   "source": [
    "import requests"
   ],
   "outputs": [],
   "execution_count": 2
  },
  {
   "cell_type": "code",
   "id": "b2dac877",
   "metadata": {
    "ExecuteTime": {
     "end_time": "2025-06-05T01:47:39.928820Z",
     "start_time": "2025-06-05T01:47:39.924592Z"
    }
   },
   "source": [
    "url = \"https://gs25.gsretail.com/gscvs/ko/store-services/locationList?CSRFToken=5816286d-ac9c-408c-991f-966b09b1e6db\""
   ],
   "outputs": [],
   "execution_count": 3
  },
  {
   "cell_type": "code",
   "id": "a9b0601e",
   "metadata": {
    "ExecuteTime": {
     "end_time": "2025-06-05T01:47:40.071297Z",
     "start_time": "2025-06-05T01:47:40.064663Z"
    }
   },
   "source": [
    "payload= {\"pageNum\" : \"1\",\n",
    "\"pageSize\" : \"50000\",\n",
    "\"searchShopName\" : \"\",\n",
    "\"searchSido\" : \"11\",\n",
    "\"searchGugun\" : \"1168\",\n",
    "\"searchDong\" : \"\",\n",
    "\"searchType\" : \"\",\n",
    "\"searchTypeService\" : \"0\",\n",
    "\"searchTypeToto\" : \"0\",\n",
    "\"searchTypeCafe25\" : \"0\",\n",
    "\"searchTypeInstant\" : \"0\",\n",
    "\"searchTypeDrug\" : \"0\",\n",
    "\"searchTypeSelf25\" : \"0\",\n",
    "\"searchTypePost\" : \"0\",\n",
    "\"searchTypeATM\" : \"0\",\n",
    "\"searchTypeWithdrawal\" : \"0\",\n",
    "\"searchTypeTaxrefund\" : \"0\",\n",
    "\"searchTypeSmartAtm\" : \"0\",\n",
    "\"searchTypeSelfCookingUtensils\" : \"0\",\n",
    "\"searchTypeDeliveryService\" : \"0\",\n",
    "\"searchTypeParcelService\" : \"0\",\n",
    "\"searchTypePotatoes\" : \"0\",\n",
    "\"searchTypeCardiacDefi\" : \"0\",\n",
    "\"searchTypeFishShapedBun\" : \"0\",\n",
    "\"searchTypeWine25\" : \"0\",\n",
    "\"searchTypeGoPizza\" : \"0\",\n",
    "\"searchTypeSpiritWine\" : \"0\",\n",
    "\"searchTypeFreshGanghw\" : \"0\",\n",
    "\"searchTypeMusinsa\" : \"0\",\n",
    "\"searchTypePosa\" : \"0\",}"
   ],
   "outputs": [],
   "execution_count": 4
  },
  {
   "cell_type": "code",
   "id": "f39952b7",
   "metadata": {
    "ExecuteTime": {
     "end_time": "2025-06-05T01:47:40.294972Z",
     "start_time": "2025-06-05T01:47:40.211187Z"
    }
   },
   "source": [
    "requests.post(url, data=payload)"
   ],
   "outputs": [
    {
     "data": {
      "text/plain": [
       "<Response [403]>"
      ]
     },
     "execution_count": 5,
     "metadata": {},
     "output_type": "execute_result"
    }
   ],
   "execution_count": 5
  },
  {
   "cell_type": "code",
   "id": "94c8c542",
   "metadata": {
    "ExecuteTime": {
     "end_time": "2025-06-05T01:47:40.369302Z",
     "start_time": "2025-06-05T01:47:40.366093Z"
    }
   },
   "source": [
    "gs25_url = \"https://gs25.gsretail.com/gscvs/ko/store-services/locations#;\""
   ],
   "outputs": [],
   "execution_count": 6
  },
  {
   "cell_type": "code",
   "id": "b1992ea0",
   "metadata": {
    "ExecuteTime": {
     "end_time": "2025-06-05T01:47:40.742371Z",
     "start_time": "2025-06-05T01:47:40.632696Z"
    }
   },
   "source": [
    "r = requests.get(gs25_url)"
   ],
   "outputs": [],
   "execution_count": 7
  },
  {
   "cell_type": "code",
   "id": "fafad709",
   "metadata": {
    "ExecuteTime": {
     "end_time": "2025-06-05T01:47:40.974885Z",
     "start_time": "2025-06-05T01:47:40.895552Z"
    }
   },
   "source": [
    "from bs4 import BeautifulSoup\n",
    "bs = BeautifulSoup(r.text)"
   ],
   "outputs": [],
   "execution_count": 8
  },
  {
   "cell_type": "code",
   "id": "dd832dc3",
   "metadata": {
    "ExecuteTime": {
     "end_time": "2025-06-05T01:47:41.116304Z",
     "start_time": "2025-06-05T01:47:41.112915Z"
    }
   },
   "source": [
    "header = {\n",
    "    'host' : 'gs25.gsretail.com',\n",
    "    'origin' : 'https://gs25.gsretail.com',\n",
    "    'referer' : 'https://gs25.gsretail.com/gscvs/ko/store-services/locations'\n",
    "}"
   ],
   "outputs": [],
   "execution_count": 9
  },
  {
   "cell_type": "code",
   "id": "2e931e2d",
   "metadata": {
    "ExecuteTime": {
     "end_time": "2025-06-05T01:47:41.548024Z",
     "start_time": "2025-06-05T01:47:41.313651Z"
    }
   },
   "source": [
    "url = \"https://gs25.gsretail.com/gscvs/ko/store-services/locationList?CSRFToken={}\"\n",
    "with requests.Session() as s:\n",
    "    r = s.get(gs25_url)\n",
    "    bs = BeautifulSoup(r.text)\n",
    "    csrf = bs.find(\"form\", id='CSRFForm').find(\"input\")['value']\n",
    "    r2 = s.post(url.format(csrf), data=payload, headers=header)"
   ],
   "outputs": [],
   "execution_count": 10
  },
  {
   "cell_type": "code",
   "id": "c9214d9c",
   "metadata": {
    "ExecuteTime": {
     "end_time": "2025-06-05T01:47:41.674884Z",
     "start_time": "2025-06-05T01:47:41.672159Z"
    }
   },
   "source": [
    "import json"
   ],
   "outputs": [],
   "execution_count": 11
  },
  {
   "cell_type": "code",
   "id": "0375b7c8",
   "metadata": {
    "ExecuteTime": {
     "end_time": "2025-06-05T01:47:41.990019Z",
     "start_time": "2025-06-05T01:47:41.985020Z"
    }
   },
   "source": [
    "json.loads(r2.json())['results'][2]"
   ],
   "outputs": [
    {
     "data": {
      "text/plain": [
       "{'offeringService': ['cafe25'],\n",
       " 'shopCode': 'VQ868',\n",
       " 'longs': '37.51427067',\n",
       " 'address': '서울 강남구 봉은사로지하 601, , 9호선봉은사역 내 (삼성동 111-8)',\n",
       " 'shopName': 'GS25S9봉은사역점',\n",
       " 'lat': '127.06020558'}"
      ]
     },
     "execution_count": 12,
     "metadata": {},
     "output_type": "execute_result"
    }
   ],
   "execution_count": 12
  },
  {
   "metadata": {},
   "cell_type": "code",
   "outputs": [],
   "execution_count": null,
   "source": "",
   "id": "f1cf90033978545d"
  }
 ],
 "metadata": {
  "kernelspec": {
   "display_name": "Python [conda env:base] *",
   "language": "python",
   "name": "conda-base-py"
  },
  "language_info": {
   "codemirror_mode": {
    "name": "ipython",
    "version": 3
   },
   "file_extension": ".py",
   "mimetype": "text/x-python",
   "name": "python",
   "nbconvert_exporter": "python",
   "pygments_lexer": "ipython3",
   "version": "3.10.16"
  }
 },
 "nbformat": 4,
 "nbformat_minor": 5
}
