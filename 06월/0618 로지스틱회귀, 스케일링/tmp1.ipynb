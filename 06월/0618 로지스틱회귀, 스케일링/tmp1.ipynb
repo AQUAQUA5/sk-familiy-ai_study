{
 "cells": [
  {
   "cell_type": "code",
   "execution_count": null,
   "id": "c2c2f92a",
   "metadata": {},
   "outputs": [],
   "source": [
    "from sklearn.datasets import load_breast_cancer"
   ]
  },
  {
   "cell_type": "code",
   "execution_count": null,
   "id": "ea65c759",
   "metadata": {},
   "outputs": [],
   "source": [
    "raw_data = load_breast_cancer()"
   ]
  },
  {
   "cell_type": "code",
   "execution_count": null,
   "id": "c0c0eed3",
   "metadata": {},
   "outputs": [],
   "source": [
    "raw_data.keys()"
   ]
  },
  {
   "cell_type": "code",
   "execution_count": null,
   "id": "1e2c968c",
   "metadata": {},
   "outputs": [],
   "source": [
    "import pandas as pd"
   ]
  },
  {
   "cell_type": "code",
   "execution_count": null,
   "id": "dcb226d7",
   "metadata": {},
   "outputs": [],
   "source": [
    "df_x = pd.DataFrame(columns=raw_data['feature_names'], data=raw_data['data'])"
   ]
  },
  {
   "cell_type": "code",
   "execution_count": null,
   "id": "56aa1111",
   "metadata": {},
   "outputs": [],
   "source": [
    "df_x"
   ]
  },
  {
   "cell_type": "code",
   "execution_count": null,
   "id": "19d087eb",
   "metadata": {},
   "outputs": [],
   "source": [
    "target = raw_data['target']"
   ]
  },
  {
   "cell_type": "code",
   "execution_count": null,
   "id": "e042af16",
   "metadata": {},
   "outputs": [],
   "source": [
    "raw_data['target_names']"
   ]
  },
  {
   "cell_type": "code",
   "execution_count": null,
   "id": "8be499e2",
   "metadata": {},
   "outputs": [],
   "source": [
    "from sklearn.preprocessing import MinMaxScaler, StandardScaler\n",
    "from sklearn.model_selection import train_test_split"
   ]
  },
  {
   "cell_type": "code",
   "execution_count": null,
   "id": "76429390",
   "metadata": {},
   "outputs": [],
   "source": [
    "df_x.shape"
   ]
  },
  {
   "cell_type": "code",
   "execution_count": null,
   "id": "ccb0f263",
   "metadata": {},
   "outputs": [],
   "source": [
    "print(target.shape)\n",
    "target = target.reshape(-1,1)\n",
    "print(target.shape)"
   ]
  },
  {
   "cell_type": "code",
   "execution_count": null,
   "id": "8a107ba1",
   "metadata": {},
   "outputs": [],
   "source": [
    "train_input, test_input, train_target, test_target = train_test_split(\n",
    "    df_x, target, random_state=42, )"
   ]
  },
  {
   "cell_type": "code",
   "execution_count": null,
   "id": "17a4e844",
   "metadata": {},
   "outputs": [],
   "source": [
    "train_target"
   ]
  },
  {
   "cell_type": "code",
   "execution_count": null,
   "id": "149b1ab2",
   "metadata": {},
   "outputs": [],
   "source": [
    "from sklearn.linear_model import LogisticRegression\n",
    "from sklearn.metrics import accuracy_score\n",
    "import numpy as np\n",
    "from sklearn.model_selection import train_test_split\n",
    "import matplotlib.pyplot as plt\n",
    "import warnings\n",
    "warnings.filterwarnings(\"ignore\", category=UserWarning)"
   ]
  },
  {
   "cell_type": "code",
   "execution_count": null,
   "id": "1c3be2c4",
   "metadata": {},
   "outputs": [],
   "source": [
    "scaler_mm = MinMaxScaler()\n",
    "mm_train_input = scaler_mm.fit_transform(train_input)\n",
    "mm_test_input = scaler_mm.fit_transform(test_input)\n",
    "\n",
    "scaler_std = StandardScaler()\n",
    "std_train_input = scaler_std.fit_transform(train_input)\n",
    "std_test_input = scaler_std.fit_transform(test_input)"
   ]
  },
  {
   "cell_type": "code",
   "execution_count": null,
   "id": "5596fde4",
   "metadata": {},
   "outputs": [],
   "source": [
    "test_input.shape"
   ]
  },
  {
   "cell_type": "code",
   "execution_count": null,
   "id": "65733aed",
   "metadata": {},
   "outputs": [],
   "source": [
    "scaler_mm = MinMaxScaler()\n",
    "mm_train_input = scaler_mm.fit_transform(train_input)\n",
    "mm_test_input = scaler_mm.fit_transform(test_input)\n",
    "\n",
    "scaler_std = StandardScaler()\n",
    "std_train_input = scaler_std.fit_transform(train_input)\n",
    "std_test_input = scaler_std.fit_transform(test_input)\n",
    "\n",
    "#정규화x\n",
    "case0 = LogisticRegression()\n",
    "case0.fit(train_input, train_target)\n",
    "print('case0 정규화x')\n",
    "print('case0 trainData_accuracy : ', accuracy_score(case0.predict(train_input), train_target))\n",
    "print('case0 testData_accuracy : ', accuracy_score(case0.predict(test_input), test_target))\n",
    "print()\n",
    "\n",
    "#MinMax정규화\n",
    "case1 = LogisticRegression()\n",
    "case1.fit(mm_train_input, train_target)\n",
    "print('case1 MinMax정규화')\n",
    "print('case1 trainData_accuracy : ', accuracy_score(case1.predict(mm_train_input), train_target))\n",
    "print('case1 testData_accuracy : ', accuracy_score(case1.predict(mm_test_input), test_target))\n",
    "print()\n",
    "#Standard정규화\n",
    "case2 = LogisticRegression()\n",
    "case2.fit(std_train_input, train_target)\n",
    "print('case2 Standard정규화')\n",
    "print('case2 trainData_accuracy : ', accuracy_score(case2.predict(std_train_input), train_target))\n",
    "print('case2 testData_accuracy : ', accuracy_score(case2.predict(std_test_input), test_target))\n",
    "print()"
   ]
  },
  {
   "cell_type": "code",
   "execution_count": null,
   "id": "4e07e292",
   "metadata": {},
   "outputs": [],
   "source": [
    "scaler_mm = MinMaxScaler()\n",
    "mm_train_input = scaler_mm.fit_transform(train_input)\n",
    "mm_test_input = scaler_mm.transform(test_input)\n",
    "\n",
    "scaler_std = StandardScaler()\n",
    "std_train_input = scaler_std.fit_transform(train_input)\n",
    "std_test_input = scaler_std.transform(test_input)\n",
    "\n",
    "#정규화x\n",
    "case0 = LogisticRegression()\n",
    "case0.fit(train_input, train_target)\n",
    "print('case0 정규화x')\n",
    "print('case0 trainData_accuracy : ', accuracy_score(case0.predict(train_input), train_target))\n",
    "print('case0 testData_accuracy : ', accuracy_score(case0.predict(test_input), test_target))\n",
    "print()\n",
    "\n",
    "#MinMax정규화\n",
    "case1 = LogisticRegression()\n",
    "case1.fit(mm_train_input, train_target)\n",
    "print('case1 MinMax정규화')\n",
    "print('case1 trainData_accuracy : ', accuracy_score(case1.predict(mm_train_input), train_target))\n",
    "print('case1 testData_accuracy : ', accuracy_score(case1.predict(mm_test_input), test_target))\n",
    "print()\n",
    "#Standard정규화\n",
    "case2 = LogisticRegression()\n",
    "case2.fit(std_train_input, train_target)\n",
    "print('case2 Standard정규화')\n",
    "print('case2 trainData_accuracy : ', accuracy_score(case2.predict(std_train_input), train_target))\n",
    "print('case2 testData_accuracy : ', accuracy_score(case2.predict(std_test_input), test_target))\n",
    "print()"
   ]
  },
  {
   "cell_type": "code",
   "execution_count": null,
   "id": "89f2e406",
   "metadata": {},
   "outputs": [],
   "source": [
    "pd.DataFrame(mm_test_input).describe()"
   ]
  },
  {
   "cell_type": "code",
   "execution_count": null,
   "id": "f2117939",
   "metadata": {},
   "outputs": [],
   "source": [
    "pd.DataFrame(std_test_input).describe()"
   ]
  },
  {
   "cell_type": "code",
   "execution_count": null,
   "id": "9a707123",
   "metadata": {},
   "outputs": [],
   "source": []
  },
  {
   "cell_type": "code",
   "execution_count": null,
   "id": "d441ab05",
   "metadata": {},
   "outputs": [],
   "source": []
  }
 ],
 "metadata": {
  "kernelspec": {
   "display_name": "pandas",
   "language": "python",
   "name": "python3"
  },
  "language_info": {
   "codemirror_mode": {
    "name": "ipython",
    "version": 3
   },
   "file_extension": ".py",
   "mimetype": "text/x-python",
   "name": "python",
   "nbconvert_exporter": "python",
   "pygments_lexer": "ipython3",
   "version": "3.12.11"
  }
 },
 "nbformat": 4,
 "nbformat_minor": 5
}
