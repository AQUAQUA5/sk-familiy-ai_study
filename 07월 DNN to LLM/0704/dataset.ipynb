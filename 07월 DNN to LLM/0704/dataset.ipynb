{
 "cells": [
  {
   "cell_type": "code",
   "execution_count": 1,
   "id": "9893c088",
   "metadata": {},
   "outputs": [],
   "source": [
    "import zipfile\n",
    "\n",
    "with zipfile.ZipFile('./cat_dog_test_set.zip', 'r') as f:\n",
    "    f.extractall('./testset')"
   ]
  },
  {
   "cell_type": "code",
   "execution_count": 3,
   "id": "ba09a7b0",
   "metadata": {},
   "outputs": [],
   "source": [
    "import shutil\n",
    "import os"
   ]
  },
  {
   "cell_type": "code",
   "execution_count": 8,
   "id": "19be0f06",
   "metadata": {},
   "outputs": [],
   "source": [
    "for p in os.listdir('./testset/dogs'):\n",
    "    shutil.move('./testset/dogs/'+p , './testset/')"
   ]
  },
  {
   "cell_type": "code",
   "execution_count": 4,
   "id": "6d90b58d",
   "metadata": {},
   "outputs": [
    {
     "data": {
      "text/plain": [
       "'cat.4769.jpg'"
      ]
     },
     "execution_count": 4,
     "metadata": {},
     "output_type": "execute_result"
    }
   ],
   "source": [
    "os.listdir('./testset/cats')[0]"
   ]
  },
  {
   "cell_type": "code",
   "execution_count": null,
   "id": "ad686ce8",
   "metadata": {},
   "outputs": [],
   "source": [
    "shutil.move('./testset/cats/'+p , )"
   ]
  }
 ],
 "metadata": {
  "kernelspec": {
   "display_name": "dnn3",
   "language": "python",
   "name": "python3"
  },
  "language_info": {
   "codemirror_mode": {
    "name": "ipython",
    "version": 3
   },
   "file_extension": ".py",
   "mimetype": "text/x-python",
   "name": "python",
   "nbconvert_exporter": "python",
   "pygments_lexer": "ipython3",
   "version": "3.11.13"
  }
 },
 "nbformat": 4,
 "nbformat_minor": 5
}
