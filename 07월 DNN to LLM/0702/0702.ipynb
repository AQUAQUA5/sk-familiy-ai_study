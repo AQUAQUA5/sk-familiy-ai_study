{
 "cells": [
  {
   "cell_type": "code",
   "execution_count": null,
   "id": "8b557546",
   "metadata": {},
   "outputs": [],
   "source": [
    "from PIL import Image\n",
    "from torchvision import transforms\n",
    "from matplotlib import pyplot as plt\n",
    "from torchvision import transforms\n",
    "import os"
   ]
  },
  {
   "cell_type": "code",
   "execution_count": null,
   "id": "5b2e22a9",
   "metadata": {},
   "outputs": [],
   "source": [
    "path1 = \"dog.jpg\"\n",
    "path2 = \"dog2.jpg\""
   ]
  },
  {
   "cell_type": "code",
   "execution_count": null,
   "id": "3947b30c",
   "metadata": {},
   "outputs": [],
   "source": [
    "image = Image.open(\"dog.jpg\")"
   ]
  },
  {
   "cell_type": "code",
   "execution_count": null,
   "id": "04cf973f",
   "metadata": {},
   "outputs": [],
   "source": [
    "print(image.height)\n",
    "print(image.width)\n",
    "print(image.size)\n",
    "plt.imshow(image)"
   ]
  },
  {
   "cell_type": "code",
   "execution_count": null,
   "id": "5633e430",
   "metadata": {},
   "outputs": [],
   "source": [
    "#리사이즈\n",
    "\n",
    "transform = transforms.Compose(\n",
    "    [\n",
    "        transforms.Resize(size=(32,32)),\n",
    "        transforms.ToTensor()\n",
    "    ]\n",
    ")\n",
    "\n",
    "transformed_image = transform(image)\n",
    "plt.imshow(transformed_image.permute(1, 2, 0))"
   ]
  },
  {
   "cell_type": "code",
   "execution_count": null,
   "id": "84d9f5b0",
   "metadata": {},
   "outputs": [],
   "source": [
    "#회전, 뒤집기\n",
    "\n",
    "transform = transforms.Compose(\n",
    "    [\n",
    "        transforms.RandomRotation(degrees=30, expand=False, center=None),\n",
    "        transforms.RandomHorizontalFlip(p=0.5),\n",
    "        transforms.RandomVerticalFlip(p=0.5)\n",
    "    ]\n",
    ")\n",
    "\n",
    "transformed_image = transform(image)\n",
    "plt.imshow(transformed_image)"
   ]
  },
  {
   "cell_type": "code",
   "execution_count": null,
   "id": "ffa97285",
   "metadata": {},
   "outputs": [],
   "source": [
    "# 원본 이미지 크기 얻기\n",
    "width, height = image.size\n",
    "\n",
    "# 절반 크기로 자르기\n",
    "crop_size = (height // 2, width // 2)\n",
    "\n",
    "transform = transforms.Compose(\n",
    "    [\n",
    "        transforms.CenterCrop(size=crop_size),\n",
    "        transforms.Pad(padding=50, fill=(127, 127, 255), padding_mode=\"constant\")\n",
    "    ]\n",
    ")\n",
    "transformed_image = transform(image)\n",
    "plt.imshow(transformed_image)"
   ]
  },
  {
   "cell_type": "code",
   "execution_count": null,
   "id": "4ecd54fa",
   "metadata": {},
   "outputs": [],
   "source": [
    "transform = transforms.Compose(\n",
    "    [\n",
    "        # 각도(degrees), \n",
    "        # 이동(translate)\n",
    "        # 척도(scale)\n",
    "        # 전단(shear)\n",
    "        transforms.RandomAffine(\n",
    "            degrees=30, translate=(0.2, 0.2),\n",
    "            scale=(0.8, 1.2), shear=15\n",
    "        )\n",
    "    ]\n",
    ")\n",
    "transformed_image = transform(image)\n",
    "plt.imshow(transformed_image)"
   ]
  },
  {
   "cell_type": "code",
   "execution_count": null,
   "id": "6984d87a",
   "metadata": {},
   "outputs": [],
   "source": [
    "transform = transforms.Compose(\n",
    "    [\n",
    "        transforms.ColorJitter(\n",
    "            brightness=0.3, contrast=0.3,\n",
    "            saturation=0.3, hue=0.3\n",
    "        ),\n",
    "        transforms.ToTensor(),\n",
    "        transforms.Normalize(\n",
    "            mean = [0.485, 0.456, 0.406],\n",
    "            std = [0.229, 0.224, 0.225]\n",
    "        ),\n",
    "        transforms.ToPILImage()\n",
    "    ]\n",
    ")\n",
    "transformed_image = transform(image)\n",
    "plt.imshow(transformed_image)"
   ]
  },
  {
   "cell_type": "code",
   "execution_count": null,
   "id": "d8d1f2bc",
   "metadata": {},
   "outputs": [],
   "source": [
    "transform = transforms.Compose([\n",
    "    transforms.ToTensor(),\n",
    "    transforms.RandomErasing(p=1.0, value=0),\n",
    "    transforms.RandomErasing(p=1.0, value='random'),\n",
    "    transforms.ToPILImage()\n",
    "])\n",
    "\n",
    "transformed_image = transform(image)\n",
    "plt.imshow(transformed_image)"
   ]
  },
  {
   "cell_type": "code",
   "execution_count": null,
   "id": "999f2c49",
   "metadata": {},
   "outputs": [],
   "source": [
    "import numpy as np\n",
    "path = \"dog2.jpg\"\n",
    "class Mixup:\n",
    "    def __init__(self, target, scale, alpha=0.5, beta=0.5):\n",
    "        self.target = target\n",
    "        self.scale = scale\n",
    "        self.alpha = alpha\n",
    "        self.beta = beta\n",
    "\n",
    "    def __call__(self, image):\n",
    "        image = np.array(image)\n",
    "        target = self.target.resize(self.scale)\n",
    "        target = np.array(target)\n",
    "        mix_image = image * self.alpha + target * self.beta\n",
    "        return Image.fromarray(mix_image.astype(np.uint8))\n",
    "\n",
    "\n",
    "transform = transforms.Compose(\n",
    "    [\n",
    "        transforms.Resize((512, 512)),\n",
    "        Mixup(\n",
    "            target=Image.open(path),\n",
    "            scale=(512, 512),\n",
    "            alpha=0.5,\n",
    "            beta=0.5\n",
    "        )\n",
    "    ]\n",
    ")\n",
    "transformed_image = transform(image)\n",
    "plt.imshow(transformed_image)"
   ]
  },
  {
   "cell_type": "code",
   "execution_count": null,
   "id": "fd6583cc",
   "metadata": {},
   "outputs": [],
   "source": [
    "import torch\n",
    "\n",
    "def mixup(img1, img2, alpha=0.5):\n",
    "    \"\"\"\n",
    "    두 이미지를 alpha, 1-alpha 비율로 Mixup하는 함수다.\n",
    "    img1, img2는 torch.Tensor 형태(C, H, W)여야 한다.\n",
    "    alpha는 0~1 사이의 float 값이다.\n",
    "    \"\"\"\n",
    "    return img1 * alpha + img2 * (1 - alpha)\n"
   ]
  },
  {
   "cell_type": "code",
   "execution_count": null,
   "id": "cf7e4813",
   "metadata": {},
   "outputs": [],
   "source": [
    "import torch\n",
    "from torchvision import transforms\n",
    "from torchvision.transforms.v2 import MixUp\n",
    "from PIL import Image\n",
    "import matplotlib.pyplot as plt\n",
    "import numpy as np\n",
    "\n",
    "image1 = Image.open(path1)\n",
    "image2 = Image.open(path2)\n",
    "\n",
    "# 리사이즈 및 텐서 변환 transform 정의\n",
    "transform = transforms.Compose([\n",
    "    transforms.Resize((32, 32)),\n",
    "    transforms.ToTensor()\n",
    "])\n",
    "\n",
    "# 이미지 변환\n",
    "img1 = transform(image1)\n",
    "img2 = transform(image2)\n",
    "\n",
    "# 배치 형태로 묶기 (B, C, H, W)\n",
    "images = torch.stack([img1, img2], dim=0)\n",
    "\n",
    "# 더미 레이블 생성 (MixUp은 레이블도 필요)\n",
    "labels = torch.tensor([0, 1])\n",
    "\n",
    "# MixUp transform 정의 (alpha=0.5 예시, num_classes=2)\n",
    "mixup = MixUp(alpha=0.5, num_classes=2)\n",
    "\n",
    "# MixUp 적용\n",
    "mixed_images, mixed_labels = mixup(images, labels)\n",
    "\n",
    "# 첫 번째 MixUp 결과 이미지만 시각화 (배치에서 하나 선택)\n",
    "mixup_img_np = mixed_images[0].permute(1, 2, 0).numpy()\n",
    "mixup_img_np = np.clip(mixup_img_np, 0, 1)\n",
    "\n",
    "plt.imshow(mixup_img_np)\n",
    "plt.axis('off')\n",
    "plt.show()"
   ]
  },
  {
   "cell_type": "code",
   "execution_count": null,
   "id": "d7578166",
   "metadata": {},
   "outputs": [],
   "source": []
  }
 ],
 "metadata": {
  "kernelspec": {
   "display_name": "d2",
   "language": "python",
   "name": "python3"
  },
  "language_info": {
   "codemirror_mode": {
    "name": "ipython",
    "version": 3
   },
   "file_extension": ".py",
   "mimetype": "text/x-python",
   "name": "python",
   "nbconvert_exporter": "python",
   "pygments_lexer": "ipython3",
   "version": "3.10.18"
  }
 },
 "nbformat": 4,
 "nbformat_minor": 5
}
