{
 "cells": [
  {
   "cell_type": "code",
   "id": "initial_id",
   "metadata": {
    "collapsed": true
   },
   "source": [
    "from selenium import webdriver\n",
    "from selenium.webdriver.chrome.service import Service as ChromeService\n",
    "from webdriver_manager.chrome import ChromeDriverManager\n",
    "from selenium.webdriver.common.keys import Keys\n",
    "\n",
    "from selenium.webdriver.common.by import By\n",
    "from selenium.webdriver.support.ui import WebDriverWait\n",
    "from selenium.webdriver.support import expected_conditions as EC"
   ],
   "outputs": [],
   "execution_count": null
  },
  {
   "metadata": {},
   "cell_type": "code",
   "source": "driver = webdriver.Chrome(service=ChromeService(ChromeDriverManager().install()))",
   "id": "b1be712fd610eaaf",
   "outputs": [],
   "execution_count": null
  },
  {
   "metadata": {},
   "cell_type": "code",
   "source": [
    "#메인페이지 접속\n",
    "driver.get(\"https://www.koreabaseball.com/Default.aspx?vote=true\")\n",
    "\n",
    "#선수 조회 창 접속\n",
    "WebDriverWait(driver, 10).until(\n",
    "    EC.element_to_be_clickable((By.CSS_SELECTOR, \"#lnb > li:nth-child(3) > a\"))\n",
    ").click()"
   ],
   "id": "7eecd77099e63316",
   "outputs": [],
   "execution_count": null
  },
  {
   "metadata": {},
   "cell_type": "code",
   "source": [
    "#팀 선택\n",
    "teamNumb = 4\n",
    "\n",
    "WebDriverWait(driver, 10).until(\n",
    "    EC.element_to_be_clickable((By.CSS_SELECTOR, f\"#cphContents_cphContents_cphContents_ddlTeam > option:nth-child({teamNumb})\"))\n",
    ").click()"
   ],
   "id": "b1f2f73f32b4a3d0",
   "outputs": [],
   "execution_count": null
  },
  {
   "metadata": {},
   "cell_type": "code",
   "source": [
    "#페이지 선택\n",
    "page = 3\n",
    "WebDriverWait(driver, 10).until(\n",
    "    EC.element_to_be_clickable((By.CSS_SELECTOR, f\"#cphContents_cphContents_cphContents_ucPager_btnNo{page}\"))\n",
    ").click()"
   ],
   "id": "81c32c5d415b1b27",
   "outputs": [],
   "execution_count": null
  },
  {
   "metadata": {},
   "cell_type": "code",
   "source": [
    "element = WebDriverWait(driver, 10).until(\n",
    "        EC.presence_of_element_located((By.CSS_SELECTOR, \"#cphContents_cphContents_cphContents_udpRecord > div.inquiry > div\"))\n",
    "    )"
   ],
   "id": "3c5bdfb1b14291b",
   "outputs": [],
   "execution_count": null
  },
  {
   "metadata": {},
   "cell_type": "code",
   "source": "print(element.text)",
   "id": "25826792c7f3d664",
   "outputs": [],
   "execution_count": null
  },
  {
   "metadata": {},
   "cell_type": "code",
   "source": [
    "element = WebDriverWait(driver, 10).until(\n",
    "    EC.presence_of_element_located((By.CSS_SELECTOR, \"#cphContents_cphContents_cphContents_udpRecord > div.inquiry > div\"))\n",
    ")\n",
    "\n",
    "html_str = element.get_attribute('innerHTML')"
   ],
   "id": "7aeec364420da5a1",
   "outputs": [],
   "execution_count": null
  },
  {
   "metadata": {},
   "cell_type": "code",
   "source": "",
   "id": "5390499077a63f2e",
   "outputs": [],
   "execution_count": null
  },
  {
   "metadata": {
    "ExecuteTime": {
     "end_time": "2025-06-04T07:51:10.695229Z",
     "start_time": "2025-06-04T07:51:10.684142Z"
    }
   },
   "cell_type": "code",
   "source": [
    "#크롤링\n",
    "#cphContents_cphContents_cphContents_udpRecord > div.inquiry > table > tbody\n",
    "table = driver.find_element(By.CSS_SELECTOR,\"#cphContents_cphContents_cphContents_udpRecord > div.inquiry > table > tbody\")"
   ],
   "id": "e7571fe804d00bb5",
   "outputs": [],
   "execution_count": 148
  },
  {
   "metadata": {},
   "cell_type": "code",
   "source": "print(table.text)",
   "id": "7132bfcd5bac0ba5",
   "outputs": [],
   "execution_count": null
  },
  {
   "metadata": {
    "ExecuteTime": {
     "end_time": "2025-06-04T07:51:14.347231Z",
     "start_time": "2025-06-04T07:51:14.335622Z"
    }
   },
   "cell_type": "code",
   "source": "table_html = table.get_attribute('innerHTML')",
   "id": "31802968787b8867",
   "outputs": [],
   "execution_count": 149
  },
  {
   "metadata": {},
   "cell_type": "code",
   "source": [
    "from bs4 import BeautifulSoup as bs\n",
    "\n",
    "soup = bs(table_html, 'html.parser')\n",
    "for row in soup.find_all('tr'):\n",
    "    tds = row.find_all('td')\n",
    "    texts = [td.get_text(strip=True) for td in tds]\n",
    "    print(texts)\n",
    "    break;\n"
   ],
   "id": "9655e1380fed955a",
   "outputs": [],
   "execution_count": null
  },
  {
   "metadata": {},
   "cell_type": "code",
   "source": [
    "from bs4 import BeautifulSoup as bs\n",
    "col = ['등번호', '선수명', 'kbo_id', '팀', '포지션', '생년월일', '키', '몸무게', '출신']\n",
    "soup = bs(table_html, 'html.parser')\n",
    "data = []\n",
    "for row in soup.find_all('tr'):\n",
    "    row_list = []\n",
    "    for i in row.find_all('td'):\n",
    "        row_list.append(i.text)\n",
    "    row_list.insert(2, row.find('a')['href'].split(\"=\")[-1])\n",
    "    h, w = row_list[6].split(', ')\n",
    "    row_list[6] = h\n",
    "    row_list.insert(7, w)\n",
    "    data.append(row_list)\n"
   ],
   "id": "5b62675e78c11781",
   "outputs": [],
   "execution_count": null
  },
  {
   "metadata": {},
   "cell_type": "code",
   "source": [
    "def html_2_df(html):\n",
    "    col = ['등번호', '선수명', 'kbo_id', '팀', '포지션', '생년월일', '키', '몸무게', '출신']\n",
    "    soup = bs(table_html, 'html.parser')\n",
    "    data = []\n",
    "    for row in soup.find_all('tr'):\n",
    "        row_list = []\n",
    "        for i in row.find_all('td'):\n",
    "            row_list.append(i.text)\n",
    "        row_list.insert(2, row.find('a')['href'].split(\"=\")[-1])\n",
    "        h, w = row_list[6].split(', ')\n",
    "        row_list[6] = h\n",
    "        row_list.insert(7, w)\n",
    "        data.append(row_list)\n",
    "    df = pd.DataFrame(data, columns=col)\n",
    "    return df"
   ],
   "id": "1ed39076e23b8832",
   "outputs": [],
   "execution_count": null
  },
  {
   "metadata": {
    "ExecuteTime": {
     "end_time": "2025-06-04T07:51:51.207114Z",
     "start_time": "2025-06-04T07:51:51.199358Z"
    }
   },
   "cell_type": "code",
   "source": "df = html_2_df(table_html)",
   "id": "fcd50061619a96d5",
   "outputs": [],
   "execution_count": 151
  },
  {
   "metadata": {
    "ExecuteTime": {
     "end_time": "2025-06-04T07:51:56.876769Z",
     "start_time": "2025-06-04T07:51:56.870362Z"
    }
   },
   "cell_type": "code",
   "source": "print(df)",
   "id": "5133db74233690ff",
   "outputs": [
    {
     "name": "stdout",
     "output_type": "stream",
     "text": [
      "    등번호  선수명 kbo_id   팀  포지션        생년월일      키    몸무게  \\\n",
      "0         반즈  52528  롯데   투수  1995-10-01  189cm   91kg   \n",
      "1   122  배세종  54504  롯데   투수  2001-12-01  190cm  108kg   \n",
      "2   127  배인혁  53598  롯데  내야수  2004-01-29  170cm   70kg   \n",
      "3    62  백두산  54507  롯데   포수  2001-05-20  180cm   95kg   \n",
      "4    35  서동욱  53569  롯데   포수  2000-03-24  175cm   88kg   \n",
      "5     6  손성빈  51528  롯데   포수  2002-01-14  186cm   92kg   \n",
      "6    33  손호영  50150  롯데  내야수  1994-08-23  182cm   88kg   \n",
      "7    59  송재영  51594  롯데   투수  2002-06-20  181cm   84kg   \n",
      "8    12  신병률  68067  롯데   투수  1996-01-30  175cm   82kg   \n",
      "9     3  신윤후  69508  롯데  내야수  1996-01-05  177cm   77kg   \n",
      "10   23  심재민  64017  롯데   투수  1994-02-18  182cm   92kg   \n",
      "11  123  엄장윤  52565  롯데   포수  2003-10-07  179cm   78kg   \n",
      "12  114  오창현  55514  롯데  외야수  2002-05-21  165cm   65kg   \n",
      "13   27  유강남  61102  롯데   포수  1992-07-15  182cm   88kg   \n",
      "14  112  유태웅  55512  롯데  내야수  2002-03-13  175cm   77kg   \n",
      "15   91  윤동희  52591  롯데  외야수  2003-09-18  187cm   85kg   \n",
      "16   55  윤성빈  67588  롯데   투수  1999-02-26  197cm   90kg   \n",
      "17  126  윤수녕  53505  롯데  외야수  2000-03-01  173cm   73kg   \n",
      "18   37  이민석  52530  롯데   투수  2003-12-10  189cm   95kg   \n",
      "19   45  이병준  51592  롯데   투수  2002-05-28  185cm   95kg   \n",
      "\n",
      "                                 출신  \n",
      "0                  미국 Clemson(대)-롯데  \n",
      "1            부림초(안양시리틀)-충암중-충암고-동아대  \n",
      "2             새빛초(용인수지구리틀)-동인천중-인천고  \n",
      "3                 부산수영초-대천중-개성고-동의대  \n",
      "4           순천남산초-순천이수중-순천효천고BC-홍익대  \n",
      "5              희망대초-경기신흥중-장안고-롯데-상무  \n",
      "6                  의왕부곡초-평촌중-충훈고-LG  \n",
      "7      수원잠원초(수원영통구리틀)-매향중-라온고-롯데-상무  \n",
      "8                둔촌초-잠신중-휘문고-단국대-KT  \n",
      "9                   무학초-마산중-마산고-동의대  \n",
      "10  장유초(김해엔젤스리틀)-개성중-개성고-(전남과학대)-KT  \n",
      "11             사직초(부산동래구리틀)-사직중-부경고  \n",
      "12         서울자운초(노원구리틀)-자양중-신일고-중앙대  \n",
      "13             청원초-휘문중-서울고-LG-상무-LG  \n",
      "14                  효제초-홍은중-성남고-동의대  \n",
      "15                      현산초-대원중-야탑고  \n",
      "16                    동일중앙초-경남중-부산고  \n",
      "17                대전신흥초-한밭중-대전고-연세대  \n",
      "18                    부산수영초-대천중-개성고  \n",
      "19           부산청동초(부산영도구리틀)-경남중-개성고  \n"
     ]
    }
   ],
   "execution_count": 152
  },
  {
   "metadata": {},
   "cell_type": "code",
   "source": [
    "import pandas as pd\n",
    "from io import StringIO\n",
    "\n",
    "def txt_2_pd(text):\n",
    "    lines = text.strip().split('\\n')\n",
    "    col = ['등번호', '선수명', '팀', '포지션', '생년월일', '키', '몸무게', '출신']\n",
    "    data = []\n",
    "    for line in lines:\n",
    "        tmp = line.split(' ')\n",
    "        tmp[5] = tmp[5].replace(',', '')\n",
    "        if not tmp[0].isdigit():\n",
    "            tmp.insert(0, 'none')\n",
    "        while len(tmp) != len(col):\n",
    "            tmp[-2] = ' '.join(tmp[-2:])\n",
    "            tmp.pop()\n",
    "        data.append(tmp)\n",
    "    df = pd.DataFrame(data, columns=col)\n",
    "    return df\n",
    "\n",
    "df = txt_2_pd(table)\n",
    "# for i in aa:\n",
    "#     print(i)"
   ],
   "id": "7d46356589926fbd",
   "outputs": [],
   "execution_count": null
  },
  {
   "metadata": {},
   "cell_type": "code",
   "source": "",
   "id": "bcc4eb714fffe480",
   "outputs": [],
   "execution_count": null
  },
  {
   "metadata": {},
   "cell_type": "code",
   "source": "print(df)",
   "id": "736bf22a243f5312",
   "outputs": [],
   "execution_count": null
  },
  {
   "metadata": {},
   "cell_type": "code",
   "source": [
    "import pandas as pd\n",
    "import pymysql\n",
    "\n",
    "conn = pymysql.connect(host='127.0.0.1', user='play', passwd='123', database='sk17', port=3306)\n",
    "cur = conn.cursor()"
   ],
   "id": "41992f0e5225d542",
   "outputs": [],
   "execution_count": null
  },
  {
   "metadata": {},
   "cell_type": "code",
   "source": [
    "def get_sql(sql):\n",
    "    cur.execute(sql)\n",
    "    return cur.fetchall()"
   ],
   "id": "8ebb1d94f7dbff67",
   "outputs": [],
   "execution_count": null
  },
  {
   "metadata": {},
   "cell_type": "code",
   "source": "get_sql(\"show tables\")",
   "id": "472587b3adb5f8d2",
   "outputs": [],
   "execution_count": null
  },
  {
   "metadata": {},
   "cell_type": "code",
   "source": "df.columns",
   "id": "28c671688bfdf73c",
   "outputs": [],
   "execution_count": null
  },
  {
   "metadata": {},
   "cell_type": "code",
   "source": "col = list(df.columns)",
   "id": "da85953adde1617f",
   "outputs": [],
   "execution_count": null
  },
  {
   "metadata": {},
   "cell_type": "code",
   "source": "print(col)",
   "id": "8ff730cf6ee207bf",
   "outputs": [],
   "execution_count": null
  },
  {
   "metadata": {},
   "cell_type": "code",
   "source": [
    "cr_table_quary = '''CREATE TABLE kbo_players (\n",
    "    id INT NOT NULL AUTO_INCREMENT PRIMARY KEY,\n",
    "    등번호 VARCHAR(3),\n",
    "    선수명 VARCHAR(10),\n",
    "    팀 VARCHAR(4),\n",
    "    포지션 VARCHAR(5),\n",
    "    생년월일 VARCHAR(15),\n",
    "    키 VARCHAR(6),\n",
    "    몸무게 VARCHAR(5),\n",
    "    출신 VARCHAR(30)\n",
    ")'''\n",
    "get_sql(cr_table_quary)"
   ],
   "id": "8fabf0ebab6c468c",
   "outputs": [],
   "execution_count": null
  },
  {
   "metadata": {},
   "cell_type": "code",
   "source": "",
   "id": "e6f216b2b3693a1a",
   "outputs": [],
   "execution_count": null
  },
  {
   "metadata": {},
   "cell_type": "code",
   "source": [
    "sql = \"INSERT IGNORE INTO kbo_players VALUE (NULL, %s, %s, %s, %s, %s, %s, %s, %s)\"\n",
    "for row in df.itertuples(index=False):\n",
    "            cur.execute(sql, tuple(row))"
   ],
   "id": "773d41f7992a6289",
   "outputs": [],
   "execution_count": null
  },
  {
   "metadata": {},
   "cell_type": "code",
   "source": "get_sql(\"show tables\")",
   "id": "e9ea0d1bc9c0390a",
   "outputs": [],
   "execution_count": null
  },
  {
   "metadata": {},
   "cell_type": "code",
   "source": "get_sql(\"select * from kbo_players\")",
   "id": "29d3f3949695b41f",
   "outputs": [],
   "execution_count": null
  },
  {
   "metadata": {},
   "cell_type": "code",
   "source": "conn.commit()",
   "id": "49ef94f4822eb272",
   "outputs": [],
   "execution_count": null
  },
  {
   "metadata": {},
   "cell_type": "code",
   "source": "tmp = driver.find_element(By.CSS_SELECTOR,\"#cphContents_cphContents_cphContents_udpRecord > div.inquiry > div\").text.split()[-1]",
   "id": "54253d585c86c09b",
   "outputs": [],
   "execution_count": null
  },
  {
   "metadata": {},
   "cell_type": "code",
   "source": "#cphContents_cphContents_cphContents_udpRecord > div.inquiry > div",
   "id": "292f680af851e860",
   "outputs": [],
   "execution_count": null
  },
  {
   "metadata": {},
   "cell_type": "code",
   "source": "print(tmp)",
   "id": "56c82000694def6",
   "outputs": [],
   "execution_count": null
  },
  {
   "metadata": {},
   "cell_type": "code",
   "source": "tmp",
   "id": "3abacc73a17955a9",
   "outputs": [],
   "execution_count": null
  },
  {
   "metadata": {},
   "cell_type": "code",
   "source": "type(tmp)",
   "id": "207a0a6bb9f7b59",
   "outputs": [],
   "execution_count": null
  },
  {
   "metadata": {
    "ExecuteTime": {
     "end_time": "2025-06-04T07:56:22.766017Z",
     "start_time": "2025-06-04T07:56:22.751725Z"
    }
   },
   "cell_type": "code",
   "source": [
    "import pandas as pd\n",
    "import pymysql\n",
    "conn = pymysql.connect(host='127.0.0.1', user='play', passwd='123', database='sk17', port=3306)\n",
    "cur = conn.cursor()\n",
    "\n",
    "cur.execute(\"show tables\")\n",
    "cur.fetchall()"
   ],
   "id": "9cf5ae85bbb1af66",
   "outputs": [
    {
     "data": {
      "text/plain": [
       "(('kbo_player',),\n",
       " ('naver_day_stock',),\n",
       " ('st_master',),\n",
       " ('st_master2',),\n",
       " ('stock_day',))"
      ]
     },
     "execution_count": 157,
     "metadata": {},
     "output_type": "execute_result"
    }
   ],
   "execution_count": 157
  },
  {
   "metadata": {
    "ExecuteTime": {
     "end_time": "2025-06-04T08:48:00.962612Z",
     "start_time": "2025-06-04T08:48:00.957606Z"
    }
   },
   "cell_type": "code",
   "source": [
    "w = '88kg'\n",
    "w = int(w[0:-2])\n",
    "print(w)"
   ],
   "id": "18a29dbdbed68719",
   "outputs": [
    {
     "name": "stdout",
     "output_type": "stream",
     "text": [
      "88\n"
     ]
    }
   ],
   "execution_count": 158
  },
  {
   "metadata": {
    "ExecuteTime": {
     "end_time": "2025-06-04T08:59:28.178235Z",
     "start_time": "2025-06-04T08:59:28.170247Z"
    }
   },
   "cell_type": "code",
   "source": [
    "cur.execute('show tables')\n",
    "cur.fetchall()"
   ],
   "id": "d94d47f5d3b07725",
   "outputs": [
    {
     "data": {
      "text/plain": [
       "(('kbo_player',),\n",
       " ('naver_day_stock',),\n",
       " ('st_master',),\n",
       " ('st_master2',),\n",
       " ('stock_day',))"
      ]
     },
     "execution_count": 170,
     "metadata": {},
     "output_type": "execute_result"
    }
   ],
   "execution_count": 170
  },
  {
   "metadata": {
    "ExecuteTime": {
     "end_time": "2025-06-04T09:00:38.825148Z",
     "start_time": "2025-06-04T09:00:38.818940Z"
    }
   },
   "cell_type": "code",
   "source": [
    "cur.execute('show tables')\n",
    "tables = [row[0] for row in cur.fetchall()]\n",
    "if 'kbo_player' in tables:\n",
    "    print('t')"
   ],
   "id": "5fd1e2c8841dec8",
   "outputs": [
    {
     "name": "stdout",
     "output_type": "stream",
     "text": [
      "t\n"
     ]
    }
   ],
   "execution_count": 172
  },
  {
   "metadata": {
    "ExecuteTime": {
     "end_time": "2025-06-04T08:58:31.574558Z",
     "start_time": "2025-06-04T08:58:31.568305Z"
    }
   },
   "cell_type": "code",
   "source": [
    "cur.execute(\"show tables\")\n",
    "if 'st_master' in cur.fetchall():\n",
    "    print('t')"
   ],
   "id": "9a86b17823769b1",
   "outputs": [],
   "execution_count": 167
  },
  {
   "metadata": {},
   "cell_type": "code",
   "outputs": [],
   "execution_count": null,
   "source": "",
   "id": "197a7bf4ccde2026"
  }
 ],
 "metadata": {
  "kernelspec": {
   "display_name": "Python [conda env:base] *",
   "language": "python",
   "name": "conda-base-py"
  },
  "language_info": {
   "codemirror_mode": {
    "name": "ipython",
    "version": 2
   },
   "file_extension": ".py",
   "mimetype": "text/x-python",
   "name": "python",
   "nbconvert_exporter": "python",
   "pygments_lexer": "ipython2",
   "version": "2.7.6"
  }
 },
 "nbformat": 4,
 "nbformat_minor": 5
}
