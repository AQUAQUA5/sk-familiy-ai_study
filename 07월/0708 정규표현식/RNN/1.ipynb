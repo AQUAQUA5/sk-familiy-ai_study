{
 "cells": [
  {
   "cell_type": "code",
   "execution_count": 2,
   "id": "a14dcc89",
   "metadata": {},
   "outputs": [
    {
     "name": "stdout",
     "output_type": "stream",
     "text": [
      "Collecting torchtext\n",
      "  Downloading torchtext-0.18.0-cp311-cp311-manylinux1_x86_64.whl.metadata (7.9 kB)\n",
      "Requirement already satisfied: tqdm in /home/user1/miniconda3/envs/dnn3/lib/python3.11/site-packages (from torchtext) (4.67.1)\n",
      "Requirement already satisfied: requests in /home/user1/miniconda3/envs/dnn3/lib/python3.11/site-packages (from torchtext) (2.32.4)\n",
      "Requirement already satisfied: torch>=2.3.0 in /home/user1/miniconda3/envs/dnn3/lib/python3.11/site-packages (from torchtext) (2.7.1+cu128)\n",
      "Requirement already satisfied: numpy in /home/user1/miniconda3/envs/dnn3/lib/python3.11/site-packages (from torchtext) (2.1.2)\n",
      "Requirement already satisfied: filelock in /home/user1/miniconda3/envs/dnn3/lib/python3.11/site-packages (from torch>=2.3.0->torchtext) (3.13.1)\n",
      "Requirement already satisfied: typing-extensions>=4.10.0 in /home/user1/miniconda3/envs/dnn3/lib/python3.11/site-packages (from torch>=2.3.0->torchtext) (4.14.0)\n",
      "Requirement already satisfied: sympy>=1.13.3 in /home/user1/miniconda3/envs/dnn3/lib/python3.11/site-packages (from torch>=2.3.0->torchtext) (1.13.3)\n",
      "Requirement already satisfied: networkx in /home/user1/miniconda3/envs/dnn3/lib/python3.11/site-packages (from torch>=2.3.0->torchtext) (3.3)\n",
      "Requirement already satisfied: jinja2 in /home/user1/miniconda3/envs/dnn3/lib/python3.11/site-packages (from torch>=2.3.0->torchtext) (3.1.4)\n",
      "Requirement already satisfied: fsspec in /home/user1/miniconda3/envs/dnn3/lib/python3.11/site-packages (from torch>=2.3.0->torchtext) (2024.6.1)\n",
      "Requirement already satisfied: nvidia-cuda-nvrtc-cu12==12.8.61 in /home/user1/miniconda3/envs/dnn3/lib/python3.11/site-packages (from torch>=2.3.0->torchtext) (12.8.61)\n",
      "Requirement already satisfied: nvidia-cuda-runtime-cu12==12.8.57 in /home/user1/miniconda3/envs/dnn3/lib/python3.11/site-packages (from torch>=2.3.0->torchtext) (12.8.57)\n",
      "Requirement already satisfied: nvidia-cuda-cupti-cu12==12.8.57 in /home/user1/miniconda3/envs/dnn3/lib/python3.11/site-packages (from torch>=2.3.0->torchtext) (12.8.57)\n",
      "Requirement already satisfied: nvidia-cudnn-cu12==9.7.1.26 in /home/user1/miniconda3/envs/dnn3/lib/python3.11/site-packages (from torch>=2.3.0->torchtext) (9.7.1.26)\n",
      "Requirement already satisfied: nvidia-cublas-cu12==12.8.3.14 in /home/user1/miniconda3/envs/dnn3/lib/python3.11/site-packages (from torch>=2.3.0->torchtext) (12.8.3.14)\n",
      "Requirement already satisfied: nvidia-cufft-cu12==11.3.3.41 in /home/user1/miniconda3/envs/dnn3/lib/python3.11/site-packages (from torch>=2.3.0->torchtext) (11.3.3.41)\n",
      "Requirement already satisfied: nvidia-curand-cu12==10.3.9.55 in /home/user1/miniconda3/envs/dnn3/lib/python3.11/site-packages (from torch>=2.3.0->torchtext) (10.3.9.55)\n",
      "Requirement already satisfied: nvidia-cusolver-cu12==11.7.2.55 in /home/user1/miniconda3/envs/dnn3/lib/python3.11/site-packages (from torch>=2.3.0->torchtext) (11.7.2.55)\n",
      "Requirement already satisfied: nvidia-cusparse-cu12==12.5.7.53 in /home/user1/miniconda3/envs/dnn3/lib/python3.11/site-packages (from torch>=2.3.0->torchtext) (12.5.7.53)\n",
      "Requirement already satisfied: nvidia-cusparselt-cu12==0.6.3 in /home/user1/miniconda3/envs/dnn3/lib/python3.11/site-packages (from torch>=2.3.0->torchtext) (0.6.3)\n",
      "Requirement already satisfied: nvidia-nccl-cu12==2.26.2 in /home/user1/miniconda3/envs/dnn3/lib/python3.11/site-packages (from torch>=2.3.0->torchtext) (2.26.2)\n",
      "Requirement already satisfied: nvidia-nvtx-cu12==12.8.55 in /home/user1/miniconda3/envs/dnn3/lib/python3.11/site-packages (from torch>=2.3.0->torchtext) (12.8.55)\n",
      "Requirement already satisfied: nvidia-nvjitlink-cu12==12.8.61 in /home/user1/miniconda3/envs/dnn3/lib/python3.11/site-packages (from torch>=2.3.0->torchtext) (12.8.61)\n",
      "Requirement already satisfied: nvidia-cufile-cu12==1.13.0.11 in /home/user1/miniconda3/envs/dnn3/lib/python3.11/site-packages (from torch>=2.3.0->torchtext) (1.13.0.11)\n",
      "Requirement already satisfied: triton==3.3.1 in /home/user1/miniconda3/envs/dnn3/lib/python3.11/site-packages (from torch>=2.3.0->torchtext) (3.3.1)\n",
      "Requirement already satisfied: setuptools>=40.8.0 in /home/user1/miniconda3/envs/dnn3/lib/python3.11/site-packages (from triton==3.3.1->torch>=2.3.0->torchtext) (78.1.1)\n",
      "Requirement already satisfied: mpmath<1.4,>=1.1.0 in /home/user1/miniconda3/envs/dnn3/lib/python3.11/site-packages (from sympy>=1.13.3->torch>=2.3.0->torchtext) (1.3.0)\n",
      "Requirement already satisfied: MarkupSafe>=2.0 in /home/user1/miniconda3/envs/dnn3/lib/python3.11/site-packages (from jinja2->torch>=2.3.0->torchtext) (2.1.5)\n",
      "Requirement already satisfied: charset_normalizer<4,>=2 in /home/user1/miniconda3/envs/dnn3/lib/python3.11/site-packages (from requests->torchtext) (3.3.2)\n",
      "Requirement already satisfied: idna<4,>=2.5 in /home/user1/miniconda3/envs/dnn3/lib/python3.11/site-packages (from requests->torchtext) (3.7)\n",
      "Requirement already satisfied: urllib3<3,>=1.21.1 in /home/user1/miniconda3/envs/dnn3/lib/python3.11/site-packages (from requests->torchtext) (2.5.0)\n",
      "Requirement already satisfied: certifi>=2017.4.17 in /home/user1/miniconda3/envs/dnn3/lib/python3.11/site-packages (from requests->torchtext) (2025.6.15)\n",
      "Downloading torchtext-0.18.0-cp311-cp311-manylinux1_x86_64.whl (2.0 MB)\n",
      "\u001b[2K   \u001b[90m━━━━━━━━━━━━━━━━━━━━━━━━━━━━━━━━━━━━━━━━\u001b[0m \u001b[32m2.0/2.0 MB\u001b[0m \u001b[31m48.1 MB/s\u001b[0m eta \u001b[36m0:00:00\u001b[0m\n",
      "\u001b[?25hInstalling collected packages: torchtext\n",
      "Successfully installed torchtext-0.18.0\n",
      "Note: you may need to restart the kernel to use updated packages.\n"
     ]
    }
   ],
   "source": [
    "pip install torchtext"
   ]
  },
  {
   "cell_type": "code",
   "execution_count": null,
   "id": "1a58af81",
   "metadata": {},
   "outputs": [],
   "source": []
  }
 ],
 "metadata": {
  "kernelspec": {
   "display_name": "dnn3",
   "language": "python",
   "name": "python3"
  },
  "language_info": {
   "codemirror_mode": {
    "name": "ipython",
    "version": 3
   },
   "file_extension": ".py",
   "mimetype": "text/x-python",
   "name": "python",
   "nbconvert_exporter": "python",
   "pygments_lexer": "ipython3",
   "version": "3.11.13"
  }
 },
 "nbformat": 4,
 "nbformat_minor": 5
}
