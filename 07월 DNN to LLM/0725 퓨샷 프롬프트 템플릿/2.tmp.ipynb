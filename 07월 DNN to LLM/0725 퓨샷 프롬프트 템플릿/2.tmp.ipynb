{
 "cells": [
  {
   "cell_type": "code",
   "execution_count": 19,
   "id": "b27516f6",
   "metadata": {},
   "outputs": [],
   "source": [
    "from llama_index.core.readers import SimpleDirectoryReader\n",
    "documents = SimpleDirectoryReader(\"llama_data\").load_data()"
   ]
  },
  {
   "cell_type": "code",
   "execution_count": 20,
   "id": "56fda4cf",
   "metadata": {},
   "outputs": [],
   "source": [
    "from llama_index.core import VectorStoreIndex, ServiceContext\n",
    "from llama_index.llms.openai import OpenAI\n",
    "from llama_index.core import Settings"
   ]
  },
  {
   "cell_type": "code",
   "execution_count": 21,
   "id": "b221d4f9",
   "metadata": {},
   "outputs": [],
   "source": [
    "import os\n",
    "from dotenv import load_dotenv\n",
    "from langchain_openai import ChatOpenAI\n",
    "\n",
    "load_dotenv(dotenv_path=\"../../.env\")\n",
    "api_key = os.getenv(\"API_KEY\")\n",
    "\n",
    "llm = ChatOpenAI(\n",
    "    model_name='gpt-4.1',\n",
    "    api_key=api_key\n",
    "    )"
   ]
  },
  {
   "cell_type": "code",
   "execution_count": 22,
   "id": "94ff98a4",
   "metadata": {},
   "outputs": [],
   "source": [
    "import openai\n",
    "openai.api_key = api_key"
   ]
  },
  {
   "cell_type": "code",
   "execution_count": 29,
   "id": "3f273fa4",
   "metadata": {},
   "outputs": [],
   "source": [
    "index = VectorStoreIndex.from_documents(\n",
    "    documents\n",
    ")"
   ]
  },
  {
   "cell_type": "code",
   "execution_count": 30,
   "id": "39dde36d",
   "metadata": {},
   "outputs": [
    {
     "data": {
      "text/plain": [
       "Response(response='일광이 등장하는 시점은 삽 자루를 든 종구가 부대 자루를 마당에 내려놓는 장면에서부터입니다.', source_nodes=[NodeWithScore(node=TextNode(id_='2ae889b7-d922-4714-8ed8-3d2afba46d8c', embedding=None, metadata={'file_name': '곡성.docx', 'file_path': '/home/user1/workspace/sk-familiy-ai_study/07월/0725/llama_data/곡성.docx', 'file_type': 'application/vnd.openxmlformats-officedocument.wordprocessingml.document', 'file_size': 261592, 'creation_date': '2025-07-25', 'last_modified_date': '2025-07-25'}, excluded_embed_metadata_keys=['file_name', 'file_type', 'file_size', 'creation_date', 'last_modified_date', 'last_accessed_date'], excluded_llm_metadata_keys=['file_name', 'file_type', 'file_size', 'creation_date', 'last_modified_date', 'last_accessed_date'], relationships={<NodeRelationship.SOURCE: '1'>: RelatedNodeInfo(node_id='29c1a6e5-e26e-44d4-8f18-49b81c9b265f', node_type='4', metadata={'file_name': '곡성.docx', 'file_path': '/home/user1/workspace/sk-familiy-ai_study/07월/0725/llama_data/곡성.docx', 'file_type': 'application/vnd.openxmlformats-officedocument.wordprocessingml.document', 'file_size': 261592, 'creation_date': '2025-07-25', 'last_modified_date': '2025-07-25'}, hash='4db1d61e19a263f6044b4b8a3c80e7b7bbc92e033a27abb58da8b61da92fd2bd'), <NodeRelationship.PREVIOUS: '2'>: RelatedNodeInfo(node_id='1339740e-b797-407d-9459-ce1948c7d984', node_type='1', metadata={'file_name': '곡성.docx', 'file_path': '/home/user1/workspace/sk-familiy-ai_study/07월/0725/llama_data/곡성.docx', 'file_type': 'application/vnd.openxmlformats-officedocument.wordprocessingml.document', 'file_size': 261592, 'creation_date': '2025-07-25', 'last_modified_date': '2025-07-25'}, hash='b29890e331629d0ce136de1d13c2cc2f01cef1ebb09ede295b6c887b69976029'), <NodeRelationship.NEXT: '3'>: RelatedNodeInfo(node_id='18c3efd4-f59f-4c3a-916a-b887edef8f4e', node_type='1', metadata={}, hash='788281fade3f66cc9a79deab7679fb120ce62b07855530e234112cb48be8cb5a')}, metadata_template='{key}: {value}', metadata_separator='\\n', text='(시간 경과)\\n\\n\\n\\n삽 자루를 든 종구가 부대 자루를 마당에 내려놓는다.\\n\\n\\n\\n\\t일광\\t붓어.\\n\\n\\n\\n종구가 부으면,\\n\\n흙더미와 함께 2마리의 사체가 쏟아진다.\\n\\n그것을 들여다보는 일광.\\n\\n주변을 훑어보더니,\\n\\n\\n\\n\\t일광\\t씨벌... 겁나 징상시런 놈이구마.\\n\\n\\t\\t(일행들에게) 인자 판 깝시다.\\n\\n\\n\\n(시간 경과)\\n\\n\\n\\n마당에 차려진 굿판.\\n\\n악사들의 북과 징, 꽹과리 소리로 요란하다.\\n\\n일광이 그 박자를 타며 접신接神 중이다.\\n\\n그 앞으로 효진이 앉아 있고,\\n\\n그 뒤로는 가족들이 앉아 있다.\\n\\n접신이 됐는지 일광이 중얼거리며 소나무 가지를 쌓아놓은 곳으로 향한다.\\n\\n그곳에 불을 붙이는 일광.\\n\\n이를 본 일행들이 까마귀와 짐승들을 건네면,\\n\\n일광이 그것들을 삼지창에 꽂아 모닥불 위에 내동댕이친다.\\n\\n그리고는 일행이 전해준 부적들을 던져 넣어 태운다.\\n\\n그렇게 짐승들을 처치하자 일광은 효진을 향해 선다.\\n\\n무구를 들고 펄쩍펄쩍 뛰더니\\n\\n하얀 종이가 달린 대나무 가지로 효진을 때리며 소금을 뿌린다.\\n\\n그러자 불안한 얼굴의 효진이 몸을 떨기 시작한다.\\n\\n이를 본 일광이 더욱 크게 주문을 외우고 행위를 한다.\\n\\n옆에 앉은 장모가 보니, \\n\\n효진의 두 눈이 뒤집어지며 거품을 물고 있다.\\n\\n\\n\\n\\t장모\\t아... 아가...\\n\\n\\n\\n순간 자지러지는 효진.\\n\\n간질 환자마냥 경련을 일으키며 발작을 시작한다.\\n\\n\\n\\n\\t종구\\t효진아. 효진아!\\n\\n\\n\\n종구와 부인이 달려들자,\\n\\n막아서는 일광남1, 2.\\n\\n종구와 부인이 불안한 얼굴로 멈추자 일광남1은 그들을 지키고,\\n\\n일광남2가 효진의 몸을 누른다.\\n\\n그러자 일광녀가 효진의 몸 위로 오방기를 덮고 소금을 뿌린다.\\n\\n일광의 굿은 더욱 격렬해지고,\\n\\n효진의 발작 역시 심해져 간다.\\n\\n이를 보던 종구가 못 참겠는지 일행들을 물리치더니\\n\\n아이를 안아 들고 달린다.\\n\\n그제야 짜증이 난다는 듯 굿을 멈추는 일광.', mimetype='text/plain', start_char_idx=39740, end_char_idx=40658, metadata_seperator='\\n', text_template='{metadata_str}\\n\\n{content}'), score=0.8055689244684425), NodeWithScore(node=TextNode(id_='1339740e-b797-407d-9459-ce1948c7d984', embedding=None, metadata={'file_name': '곡성.docx', 'file_path': '/home/user1/workspace/sk-familiy-ai_study/07월/0725/llama_data/곡성.docx', 'file_type': 'application/vnd.openxmlformats-officedocument.wordprocessingml.document', 'file_size': 261592, 'creation_date': '2025-07-25', 'last_modified_date': '2025-07-25'}, excluded_embed_metadata_keys=['file_name', 'file_type', 'file_size', 'creation_date', 'last_modified_date', 'last_accessed_date'], excluded_llm_metadata_keys=['file_name', 'file_type', 'file_size', 'creation_date', 'last_modified_date', 'last_accessed_date'], relationships={<NodeRelationship.SOURCE: '1'>: RelatedNodeInfo(node_id='29c1a6e5-e26e-44d4-8f18-49b81c9b265f', node_type='4', metadata={'file_name': '곡성.docx', 'file_path': '/home/user1/workspace/sk-familiy-ai_study/07월/0725/llama_data/곡성.docx', 'file_type': 'application/vnd.openxmlformats-officedocument.wordprocessingml.document', 'file_size': 261592, 'creation_date': '2025-07-25', 'last_modified_date': '2025-07-25'}, hash='4db1d61e19a263f6044b4b8a3c80e7b7bbc92e033a27abb58da8b61da92fd2bd'), <NodeRelationship.PREVIOUS: '2'>: RelatedNodeInfo(node_id='1c032a79-7f73-4e02-b620-b7a31e09af33', node_type='1', metadata={'file_name': '곡성.docx', 'file_path': '/home/user1/workspace/sk-familiy-ai_study/07월/0725/llama_data/곡성.docx', 'file_type': 'application/vnd.openxmlformats-officedocument.wordprocessingml.document', 'file_size': 261592, 'creation_date': '2025-07-25', 'last_modified_date': '2025-07-25'}, hash='111f407de9f79fc95b5ae2882db361d0c37d3c9bf8fa4ca621577c89d4cef8d6'), <NodeRelationship.NEXT: '3'>: RelatedNodeInfo(node_id='2ae889b7-d922-4714-8ed8-3d2afba46d8c', node_type='1', metadata={}, hash='bd16b1d18a27e7bd21212f3b22c049a7b5ab182fb4bb57781caf8eca6c4a570d')}, metadata_template='{key}: {value}', metadata_separator='\\n', text='휘파람을 불며 집 안 구석구석을 바라보는 것이 예사롭지 않다.\\n\\n종구와 장모가 그의 뒤를 쫓고,\\n\\n일광의 일행들은 대문에 서서 일광을 바라보고 있다.\\n\\n\\n\\n\\t일광\\t(장독을 턱으로 가리키며) 쩌 독아지는 뭣이여.\\n\\n\\t장모\\t머... 으떤 거...\\n\\n\\t일광\\t아, 다라이 밑에 쩌거.\\n\\n\\t장모\\t기양... 장 담가논...\\n\\n\\t일광\\t일로 가꼬 와 봐.\\n\\n\\t종구\\t.......\\n\\n\\t일광\\t뭣혀? 귀 처먹었어?\\n\\n\\n\\n종구가 절룩이며 달려가 장독을 들고 오면,\\n\\n\\n\\n\\t일광\\t비껴.\\n\\n\\n\\n종구가 물러나자 돌덩이를 집어 든 일광이 장독을 깬다.\\n\\n간장과 함께 커다란 까마귀 3마리가 쏟아져 나온다.\\n\\n종구와 장모가 놀란 얼굴로 “오메”, “뭣이여” 저마다 한마디씩을 내뱉는다.\\n\\n\\n\\n\\t일광\\t허...\\n\\n\\n\\n일광이 일그러진 종구의 얼굴을 한참 바라보더니,\\n\\n\\n\\n\\t일광\\t그 다리가 여럿 딸렸다는 짐승은 어따 묻었어?\\n\\n\\t종구\\t(담 너머를 가리키며) 쩌 뒤에따가...\\n\\n\\t일광\\t맴생이도?\\n\\n\\t종구\\t예.\\n\\n\\t일광\\t파 갖고 와.\\n\\n\\n\\n(시간 경과)\\n\\n\\n\\n삽 자루를 든 종구가 부대 자루를 마당에 내려놓는다.\\n\\n\\n\\n\\t일광\\t붓어.\\n\\n\\n\\n종구가 부으면,\\n\\n흙더미와 함께 2마리의 사체가 쏟아진다.\\n\\n그것을 들여다보는 일광.\\n\\n주변을 훑어보더니,\\n\\n\\n\\n\\t일광\\t씨벌... 겁나 징상시런 놈이구마.\\n\\n\\t\\t(일행들에게) 인자 판 깝시다.\\n\\n\\n\\n(시간 경과)', mimetype='text/plain', start_char_idx=39235, end_char_idx=39913, metadata_seperator='\\n', text_template='{metadata_str}\\n\\n{content}'), score=0.7927202437240719)], metadata={'2ae889b7-d922-4714-8ed8-3d2afba46d8c': {'file_name': '곡성.docx', 'file_path': '/home/user1/workspace/sk-familiy-ai_study/07월/0725/llama_data/곡성.docx', 'file_type': 'application/vnd.openxmlformats-officedocument.wordprocessingml.document', 'file_size': 261592, 'creation_date': '2025-07-25', 'last_modified_date': '2025-07-25'}, '1339740e-b797-407d-9459-ce1948c7d984': {'file_name': '곡성.docx', 'file_path': '/home/user1/workspace/sk-familiy-ai_study/07월/0725/llama_data/곡성.docx', 'file_type': 'application/vnd.openxmlformats-officedocument.wordprocessingml.document', 'file_size': 261592, 'creation_date': '2025-07-25', 'last_modified_date': '2025-07-25'}})"
      ]
     },
     "execution_count": 30,
     "metadata": {},
     "output_type": "execute_result"
    }
   ],
   "source": [
    "engine = index.as_query_engine()\n",
    "engine.query(\"일광이 언제 등장하나?\")"
   ]
  },
  {
   "cell_type": "code",
   "execution_count": null,
   "id": "77a40744",
   "metadata": {},
   "outputs": [
    {
     "data": {
      "text/plain": [
       "Response(response='The movie can be evaluated as depicting a scene set in a rural area along the Seomjin River, where a group of individuals engage in traditional rituals and ceremonies. The portrayal includes elements of superstition, family dynamics, and the intensity of the rituals performed.', source_nodes=[NodeWithScore(node=TextNode(id_='b2d66248-c69f-4345-93d9-fadb8ed66a9b', embedding=None, metadata={'file_name': '곡성.docx', 'file_path': '/home/user1/workspace/sk-familiy-ai_study/07월/0725/llama_data/곡성.docx', 'file_type': 'application/vnd.openxmlformats-officedocument.wordprocessingml.document', 'file_size': 261592, 'creation_date': '2025-07-25', 'last_modified_date': '2025-07-25'}, excluded_embed_metadata_keys=['file_name', 'file_type', 'file_size', 'creation_date', 'last_modified_date', 'last_accessed_date'], excluded_llm_metadata_keys=['file_name', 'file_type', 'file_size', 'creation_date', 'last_modified_date', 'last_accessed_date'], relationships={<NodeRelationship.SOURCE: '1'>: RelatedNodeInfo(node_id='4de957ed-4578-427f-92bd-62ecb1478222', node_type='4', metadata={'file_name': '곡성.docx', 'file_path': '/home/user1/workspace/sk-familiy-ai_study/07월/0725/llama_data/곡성.docx', 'file_type': 'application/vnd.openxmlformats-officedocument.wordprocessingml.document', 'file_size': 261592, 'creation_date': '2025-07-25', 'last_modified_date': '2025-07-25'}, hash='4db1d61e19a263f6044b4b8a3c80e7b7bbc92e033a27abb58da8b61da92fd2bd'), <NodeRelationship.NEXT: '3'>: RelatedNodeInfo(node_id='a1d0847f-059d-4e92-8712-0a609dedca6e', node_type='1', metadata={}, hash='c4101b15e6a451e1e3f421354ee70c362735a82eaf6c4eca3f607a37fff18744')}, metadata_template='{key}: {value}', metadata_separator='\\n', text='오프닝 자막\\n\\n\\n\\n\\t자막\\t그들은 놀라고 무서움에 사로잡혀서,\\n\\n\\t\\t유령을 보고 있는 줄로 생각하였다.\\n\\n\\t\\t예수께서는 그들에게 말씀하셨다.\\n\\n\\n\\n\\t\\t“어찌하여 너희는 당황하느냐?\\n\\n\\t\\t어찌하여 마음에 의심을 품느냐?\\n\\n\\t\\t내 손과 내 발을 보아라.\\n\\n\\t\\t바로 나다.\\n\\n\\t\\t나를 만져 보아라.\\n\\n\\t\\t유령은 살과 뼈가 없지만,\\n\\n\\t\\t너희가 보다시피,\\n\\n\\t\\t나는 살과 뼈가 있다.”\\n\\n\\n\\n\\t\\t누가 복음 24장 37-39절\\n\\n\\n\\n\\n\\n1. 섬진강 변 / 낮\\n\\n\\n\\n섬진강 변 중 가장 풍경이 좋은 곳. \\n\\n띄엄띄엄 앉은 몇 명의 남자들이 낚시 중이다. \\n\\n그들 중 한 노인이 지렁이를 꿰며 저편을 응시하고 있다.\\n\\n심기가 좋아 보이질 않는다. 중얼대고 있다. 고약해 보인다.\\n\\n\\n\\n소리 \\t취기 가득한 남자들의 커다란 목소리와 아낙네들의 웃음 소리.\\n\\n\\n\\n인상을 찌푸린 노인의 시선을 따라가 보면,\\n\\n짝을 맞춰 놀러 온 중년의 남녀들이 커다란 양은솥에 뭔가를 끓여 먹고 있다. \\n\\n말하고 행동하는 것이 잔뜩 술에 취한 것으로 보인다.\\n\\n그들 중 한 여자가 노인을 바라본다.\\n\\n\\n\\n(시간 경과)\\n\\n\\n\\n(여자)\\t어르신 많이 잡았어라?\\n\\n\\n\\n노인에게 다가온 여자.\\n\\n술이 올라 얼굴이 빨개진 중년의 여자인데, \\n\\n그녀의 두 손엔 스테인리스 그릇이 들려있다.\\n\\n보니 고깃덩어리가 가득한 빨간 국물이 담겨있다. \\n\\n\\n\\n여자\\t시끄라갖고 괴기 다 도망가붓겄네. \\n\\n지송혀라. 오늘 즈이 남편 생일이라갖고.\\n\\n\\t닭도리탕인디 들어보시요. 쐬주도 한 잔 받으시고.\\n\\n\\n\\n그릇을 노인의 앞에 내려놓은 여자가 겨드랑이에 끼고 온 소주를 종이컵에 따른다.\\n\\n여자를 보니 참하게 생겼는데, 술에 취해서인지 옷 매무새가 흐트러졌다. \\n\\n가슴 골이 보인다.\\n\\n\\n\\n\\t여자\\t(술잔을 건네며) 자.\\n\\n\\n\\n술을 받아 든 노인이 묘한 눈길로 여자를 보더니 음식을 빤히 쳐다본다.', mimetype='text/plain', start_char_idx=0, end_char_idx=911, metadata_seperator='\\n', text_template='{metadata_str}\\n\\n{content}'), score=0.7836621385983475), NodeWithScore(node=TextNode(id_='be544cd3-cfb2-4957-9379-0e4abab816f7', embedding=None, metadata={'file_name': '곡성.docx', 'file_path': '/home/user1/workspace/sk-familiy-ai_study/07월/0725/llama_data/곡성.docx', 'file_type': 'application/vnd.openxmlformats-officedocument.wordprocessingml.document', 'file_size': 261592, 'creation_date': '2025-07-25', 'last_modified_date': '2025-07-25'}, excluded_embed_metadata_keys=['file_name', 'file_type', 'file_size', 'creation_date', 'last_modified_date', 'last_accessed_date'], excluded_llm_metadata_keys=['file_name', 'file_type', 'file_size', 'creation_date', 'last_modified_date', 'last_accessed_date'], relationships={<NodeRelationship.SOURCE: '1'>: RelatedNodeInfo(node_id='4de957ed-4578-427f-92bd-62ecb1478222', node_type='4', metadata={'file_name': '곡성.docx', 'file_path': '/home/user1/workspace/sk-familiy-ai_study/07월/0725/llama_data/곡성.docx', 'file_type': 'application/vnd.openxmlformats-officedocument.wordprocessingml.document', 'file_size': 261592, 'creation_date': '2025-07-25', 'last_modified_date': '2025-07-25'}, hash='4db1d61e19a263f6044b4b8a3c80e7b7bbc92e033a27abb58da8b61da92fd2bd'), <NodeRelationship.PREVIOUS: '2'>: RelatedNodeInfo(node_id='bec839de-0dbd-4caf-b20d-44c6da273cfb', node_type='1', metadata={'file_name': '곡성.docx', 'file_path': '/home/user1/workspace/sk-familiy-ai_study/07월/0725/llama_data/곡성.docx', 'file_type': 'application/vnd.openxmlformats-officedocument.wordprocessingml.document', 'file_size': 261592, 'creation_date': '2025-07-25', 'last_modified_date': '2025-07-25'}, hash='b29890e331629d0ce136de1d13c2cc2f01cef1ebb09ede295b6c887b69976029'), <NodeRelationship.NEXT: '3'>: RelatedNodeInfo(node_id='71595bab-b0cd-4068-b88f-427f9381cc62', node_type='1', metadata={}, hash='788281fade3f66cc9a79deab7679fb120ce62b07855530e234112cb48be8cb5a')}, metadata_template='{key}: {value}', metadata_separator='\\n', text='(시간 경과)\\n\\n\\n\\n삽 자루를 든 종구가 부대 자루를 마당에 내려놓는다.\\n\\n\\n\\n\\t일광\\t붓어.\\n\\n\\n\\n종구가 부으면,\\n\\n흙더미와 함께 2마리의 사체가 쏟아진다.\\n\\n그것을 들여다보는 일광.\\n\\n주변을 훑어보더니,\\n\\n\\n\\n\\t일광\\t씨벌... 겁나 징상시런 놈이구마.\\n\\n\\t\\t(일행들에게) 인자 판 깝시다.\\n\\n\\n\\n(시간 경과)\\n\\n\\n\\n마당에 차려진 굿판.\\n\\n악사들의 북과 징, 꽹과리 소리로 요란하다.\\n\\n일광이 그 박자를 타며 접신接神 중이다.\\n\\n그 앞으로 효진이 앉아 있고,\\n\\n그 뒤로는 가족들이 앉아 있다.\\n\\n접신이 됐는지 일광이 중얼거리며 소나무 가지를 쌓아놓은 곳으로 향한다.\\n\\n그곳에 불을 붙이는 일광.\\n\\n이를 본 일행들이 까마귀와 짐승들을 건네면,\\n\\n일광이 그것들을 삼지창에 꽂아 모닥불 위에 내동댕이친다.\\n\\n그리고는 일행이 전해준 부적들을 던져 넣어 태운다.\\n\\n그렇게 짐승들을 처치하자 일광은 효진을 향해 선다.\\n\\n무구를 들고 펄쩍펄쩍 뛰더니\\n\\n하얀 종이가 달린 대나무 가지로 효진을 때리며 소금을 뿌린다.\\n\\n그러자 불안한 얼굴의 효진이 몸을 떨기 시작한다.\\n\\n이를 본 일광이 더욱 크게 주문을 외우고 행위를 한다.\\n\\n옆에 앉은 장모가 보니, \\n\\n효진의 두 눈이 뒤집어지며 거품을 물고 있다.\\n\\n\\n\\n\\t장모\\t아... 아가...\\n\\n\\n\\n순간 자지러지는 효진.\\n\\n간질 환자마냥 경련을 일으키며 발작을 시작한다.\\n\\n\\n\\n\\t종구\\t효진아. 효진아!\\n\\n\\n\\n종구와 부인이 달려들자,\\n\\n막아서는 일광남1, 2.\\n\\n종구와 부인이 불안한 얼굴로 멈추자 일광남1은 그들을 지키고,\\n\\n일광남2가 효진의 몸을 누른다.\\n\\n그러자 일광녀가 효진의 몸 위로 오방기를 덮고 소금을 뿌린다.\\n\\n일광의 굿은 더욱 격렬해지고,\\n\\n효진의 발작 역시 심해져 간다.\\n\\n이를 보던 종구가 못 참겠는지 일행들을 물리치더니\\n\\n아이를 안아 들고 달린다.\\n\\n그제야 짜증이 난다는 듯 굿을 멈추는 일광.', mimetype='text/plain', start_char_idx=39740, end_char_idx=40658, metadata_seperator='\\n', text_template='{metadata_str}\\n\\n{content}'), score=0.7748192255821559)], metadata={'b2d66248-c69f-4345-93d9-fadb8ed66a9b': {'file_name': '곡성.docx', 'file_path': '/home/user1/workspace/sk-familiy-ai_study/07월/0725/llama_data/곡성.docx', 'file_type': 'application/vnd.openxmlformats-officedocument.wordprocessingml.document', 'file_size': 261592, 'creation_date': '2025-07-25', 'last_modified_date': '2025-07-25'}, 'be544cd3-cfb2-4957-9379-0e4abab816f7': {'file_name': '곡성.docx', 'file_path': '/home/user1/workspace/sk-familiy-ai_study/07월/0725/llama_data/곡성.docx', 'file_type': 'application/vnd.openxmlformats-officedocument.wordprocessingml.document', 'file_size': 261592, 'creation_date': '2025-07-25', 'last_modified_date': '2025-07-25'}})"
      ]
     },
     "execution_count": 17,
     "metadata": {},
     "output_type": "execute_result"
    }
   ],
   "source": [
    "from llama_index.core.prompts import PromptTemplate\n",
    "# !pip install llama-index\n",
    "# !pip install docx2txt\n",
    "\n",
    "system_prompt = \"\"\"당신은 영화 평론가입니다. 질문에 깊이 생각하고 정확하게 답해주세요.\n",
    "{context_str}\n",
    "질문:{query_str}\n",
    "평론가 답변:\"\"\"\n",
    "\n",
    "custom = PromptTemplate(system_prompt)\n",
    "\n",
    "query = index.as_query_engine(text_qa_tmplate=custom)\n",
    "query.query(\"이 영화에 시대적 평가를 내려줘.\")"
   ]
  },
  {
   "cell_type": "code",
   "execution_count": 18,
   "id": "9144f2e2",
   "metadata": {},
   "outputs": [
    {
     "data": {
      "text/plain": [
       "Response(response='이 영화는 한국의 특정 지역과 문화를 배경으로 한 작품으로, 특정 시대의 사회적 현실과 가치관을 반영하고 있습니다. 이를 통해 해당 시대의 상황과 인식을 이해하는 데 도움을 줄 수 있습니다.', source_nodes=[NodeWithScore(node=TextNode(id_='b2d66248-c69f-4345-93d9-fadb8ed66a9b', embedding=None, metadata={'file_name': '곡성.docx', 'file_path': '/home/user1/workspace/sk-familiy-ai_study/07월/0725/llama_data/곡성.docx', 'file_type': 'application/vnd.openxmlformats-officedocument.wordprocessingml.document', 'file_size': 261592, 'creation_date': '2025-07-25', 'last_modified_date': '2025-07-25'}, excluded_embed_metadata_keys=['file_name', 'file_type', 'file_size', 'creation_date', 'last_modified_date', 'last_accessed_date'], excluded_llm_metadata_keys=['file_name', 'file_type', 'file_size', 'creation_date', 'last_modified_date', 'last_accessed_date'], relationships={<NodeRelationship.SOURCE: '1'>: RelatedNodeInfo(node_id='4de957ed-4578-427f-92bd-62ecb1478222', node_type='4', metadata={'file_name': '곡성.docx', 'file_path': '/home/user1/workspace/sk-familiy-ai_study/07월/0725/llama_data/곡성.docx', 'file_type': 'application/vnd.openxmlformats-officedocument.wordprocessingml.document', 'file_size': 261592, 'creation_date': '2025-07-25', 'last_modified_date': '2025-07-25'}, hash='4db1d61e19a263f6044b4b8a3c80e7b7bbc92e033a27abb58da8b61da92fd2bd'), <NodeRelationship.NEXT: '3'>: RelatedNodeInfo(node_id='a1d0847f-059d-4e92-8712-0a609dedca6e', node_type='1', metadata={}, hash='c4101b15e6a451e1e3f421354ee70c362735a82eaf6c4eca3f607a37fff18744')}, metadata_template='{key}: {value}', metadata_separator='\\n', text='오프닝 자막\\n\\n\\n\\n\\t자막\\t그들은 놀라고 무서움에 사로잡혀서,\\n\\n\\t\\t유령을 보고 있는 줄로 생각하였다.\\n\\n\\t\\t예수께서는 그들에게 말씀하셨다.\\n\\n\\n\\n\\t\\t“어찌하여 너희는 당황하느냐?\\n\\n\\t\\t어찌하여 마음에 의심을 품느냐?\\n\\n\\t\\t내 손과 내 발을 보아라.\\n\\n\\t\\t바로 나다.\\n\\n\\t\\t나를 만져 보아라.\\n\\n\\t\\t유령은 살과 뼈가 없지만,\\n\\n\\t\\t너희가 보다시피,\\n\\n\\t\\t나는 살과 뼈가 있다.”\\n\\n\\n\\n\\t\\t누가 복음 24장 37-39절\\n\\n\\n\\n\\n\\n1. 섬진강 변 / 낮\\n\\n\\n\\n섬진강 변 중 가장 풍경이 좋은 곳. \\n\\n띄엄띄엄 앉은 몇 명의 남자들이 낚시 중이다. \\n\\n그들 중 한 노인이 지렁이를 꿰며 저편을 응시하고 있다.\\n\\n심기가 좋아 보이질 않는다. 중얼대고 있다. 고약해 보인다.\\n\\n\\n\\n소리 \\t취기 가득한 남자들의 커다란 목소리와 아낙네들의 웃음 소리.\\n\\n\\n\\n인상을 찌푸린 노인의 시선을 따라가 보면,\\n\\n짝을 맞춰 놀러 온 중년의 남녀들이 커다란 양은솥에 뭔가를 끓여 먹고 있다. \\n\\n말하고 행동하는 것이 잔뜩 술에 취한 것으로 보인다.\\n\\n그들 중 한 여자가 노인을 바라본다.\\n\\n\\n\\n(시간 경과)\\n\\n\\n\\n(여자)\\t어르신 많이 잡았어라?\\n\\n\\n\\n노인에게 다가온 여자.\\n\\n술이 올라 얼굴이 빨개진 중년의 여자인데, \\n\\n그녀의 두 손엔 스테인리스 그릇이 들려있다.\\n\\n보니 고깃덩어리가 가득한 빨간 국물이 담겨있다. \\n\\n\\n\\n여자\\t시끄라갖고 괴기 다 도망가붓겄네. \\n\\n지송혀라. 오늘 즈이 남편 생일이라갖고.\\n\\n\\t닭도리탕인디 들어보시요. 쐬주도 한 잔 받으시고.\\n\\n\\n\\n그릇을 노인의 앞에 내려놓은 여자가 겨드랑이에 끼고 온 소주를 종이컵에 따른다.\\n\\n여자를 보니 참하게 생겼는데, 술에 취해서인지 옷 매무새가 흐트러졌다. \\n\\n가슴 골이 보인다.\\n\\n\\n\\n\\t여자\\t(술잔을 건네며) 자.\\n\\n\\n\\n술을 받아 든 노인이 묘한 눈길로 여자를 보더니 음식을 빤히 쳐다본다.', mimetype='text/plain', start_char_idx=0, end_char_idx=911, metadata_seperator='\\n', text_template='{metadata_str}\\n\\n{content}'), score=0.802771057409235), NodeWithScore(node=TextNode(id_='be544cd3-cfb2-4957-9379-0e4abab816f7', embedding=None, metadata={'file_name': '곡성.docx', 'file_path': '/home/user1/workspace/sk-familiy-ai_study/07월/0725/llama_data/곡성.docx', 'file_type': 'application/vnd.openxmlformats-officedocument.wordprocessingml.document', 'file_size': 261592, 'creation_date': '2025-07-25', 'last_modified_date': '2025-07-25'}, excluded_embed_metadata_keys=['file_name', 'file_type', 'file_size', 'creation_date', 'last_modified_date', 'last_accessed_date'], excluded_llm_metadata_keys=['file_name', 'file_type', 'file_size', 'creation_date', 'last_modified_date', 'last_accessed_date'], relationships={<NodeRelationship.SOURCE: '1'>: RelatedNodeInfo(node_id='4de957ed-4578-427f-92bd-62ecb1478222', node_type='4', metadata={'file_name': '곡성.docx', 'file_path': '/home/user1/workspace/sk-familiy-ai_study/07월/0725/llama_data/곡성.docx', 'file_type': 'application/vnd.openxmlformats-officedocument.wordprocessingml.document', 'file_size': 261592, 'creation_date': '2025-07-25', 'last_modified_date': '2025-07-25'}, hash='4db1d61e19a263f6044b4b8a3c80e7b7bbc92e033a27abb58da8b61da92fd2bd'), <NodeRelationship.PREVIOUS: '2'>: RelatedNodeInfo(node_id='bec839de-0dbd-4caf-b20d-44c6da273cfb', node_type='1', metadata={'file_name': '곡성.docx', 'file_path': '/home/user1/workspace/sk-familiy-ai_study/07월/0725/llama_data/곡성.docx', 'file_type': 'application/vnd.openxmlformats-officedocument.wordprocessingml.document', 'file_size': 261592, 'creation_date': '2025-07-25', 'last_modified_date': '2025-07-25'}, hash='b29890e331629d0ce136de1d13c2cc2f01cef1ebb09ede295b6c887b69976029'), <NodeRelationship.NEXT: '3'>: RelatedNodeInfo(node_id='71595bab-b0cd-4068-b88f-427f9381cc62', node_type='1', metadata={}, hash='788281fade3f66cc9a79deab7679fb120ce62b07855530e234112cb48be8cb5a')}, metadata_template='{key}: {value}', metadata_separator='\\n', text='(시간 경과)\\n\\n\\n\\n삽 자루를 든 종구가 부대 자루를 마당에 내려놓는다.\\n\\n\\n\\n\\t일광\\t붓어.\\n\\n\\n\\n종구가 부으면,\\n\\n흙더미와 함께 2마리의 사체가 쏟아진다.\\n\\n그것을 들여다보는 일광.\\n\\n주변을 훑어보더니,\\n\\n\\n\\n\\t일광\\t씨벌... 겁나 징상시런 놈이구마.\\n\\n\\t\\t(일행들에게) 인자 판 깝시다.\\n\\n\\n\\n(시간 경과)\\n\\n\\n\\n마당에 차려진 굿판.\\n\\n악사들의 북과 징, 꽹과리 소리로 요란하다.\\n\\n일광이 그 박자를 타며 접신接神 중이다.\\n\\n그 앞으로 효진이 앉아 있고,\\n\\n그 뒤로는 가족들이 앉아 있다.\\n\\n접신이 됐는지 일광이 중얼거리며 소나무 가지를 쌓아놓은 곳으로 향한다.\\n\\n그곳에 불을 붙이는 일광.\\n\\n이를 본 일행들이 까마귀와 짐승들을 건네면,\\n\\n일광이 그것들을 삼지창에 꽂아 모닥불 위에 내동댕이친다.\\n\\n그리고는 일행이 전해준 부적들을 던져 넣어 태운다.\\n\\n그렇게 짐승들을 처치하자 일광은 효진을 향해 선다.\\n\\n무구를 들고 펄쩍펄쩍 뛰더니\\n\\n하얀 종이가 달린 대나무 가지로 효진을 때리며 소금을 뿌린다.\\n\\n그러자 불안한 얼굴의 효진이 몸을 떨기 시작한다.\\n\\n이를 본 일광이 더욱 크게 주문을 외우고 행위를 한다.\\n\\n옆에 앉은 장모가 보니, \\n\\n효진의 두 눈이 뒤집어지며 거품을 물고 있다.\\n\\n\\n\\n\\t장모\\t아... 아가...\\n\\n\\n\\n순간 자지러지는 효진.\\n\\n간질 환자마냥 경련을 일으키며 발작을 시작한다.\\n\\n\\n\\n\\t종구\\t효진아. 효진아!\\n\\n\\n\\n종구와 부인이 달려들자,\\n\\n막아서는 일광남1, 2.\\n\\n종구와 부인이 불안한 얼굴로 멈추자 일광남1은 그들을 지키고,\\n\\n일광남2가 효진의 몸을 누른다.\\n\\n그러자 일광녀가 효진의 몸 위로 오방기를 덮고 소금을 뿌린다.\\n\\n일광의 굿은 더욱 격렬해지고,\\n\\n효진의 발작 역시 심해져 간다.\\n\\n이를 보던 종구가 못 참겠는지 일행들을 물리치더니\\n\\n아이를 안아 들고 달린다.\\n\\n그제야 짜증이 난다는 듯 굿을 멈추는 일광.', mimetype='text/plain', start_char_idx=39740, end_char_idx=40658, metadata_seperator='\\n', text_template='{metadata_str}\\n\\n{content}'), score=0.7946413358343869)], metadata={'b2d66248-c69f-4345-93d9-fadb8ed66a9b': {'file_name': '곡성.docx', 'file_path': '/home/user1/workspace/sk-familiy-ai_study/07월/0725/llama_data/곡성.docx', 'file_type': 'application/vnd.openxmlformats-officedocument.wordprocessingml.document', 'file_size': 261592, 'creation_date': '2025-07-25', 'last_modified_date': '2025-07-25'}, 'be544cd3-cfb2-4957-9379-0e4abab816f7': {'file_name': '곡성.docx', 'file_path': '/home/user1/workspace/sk-familiy-ai_study/07월/0725/llama_data/곡성.docx', 'file_type': 'application/vnd.openxmlformats-officedocument.wordprocessingml.document', 'file_size': 261592, 'creation_date': '2025-07-25', 'last_modified_date': '2025-07-25'}})"
      ]
     },
     "execution_count": 18,
     "metadata": {},
     "output_type": "execute_result"
    }
   ],
   "source": [
    "query.query(\"이 영화에 시대적 평가를 내려줘. 한글로\")"
   ]
  },
  {
   "cell_type": "code",
   "execution_count": null,
   "id": "469e5ca0",
   "metadata": {},
   "outputs": [
    {
     "data": {
      "text/plain": [
       "Response(response='이 자소서는 지원자가 전자공학 분야에서의 경험과 역량을 강조하며, 백엔드 개발자로서의 목표를 밝히고 있습니다. 또한, 지원자가 가비아라는 기업에 대한 긍정적인 인상과 함께 회사의 분위기와 가치관에 대한 이해를 보여주고 있습니다. 이 자소서는 자신의 경험과 역량을 바탕으로 회사와의 적합성을 강조하고 있습니다.', source_nodes=[NodeWithScore(node=TextNode(id_='75718f30-f616-4d5e-8eab-68ecc3775dcf', embedding=None, metadata={'file_path': '/home/user1/workspace/sk-familiy-ai_study/07월/0725/llama_data/자소서.txt', 'file_name': '자소서.txt', 'file_type': 'text/plain', 'file_size': 2419, 'creation_date': '2025-07-25', 'last_modified_date': '2025-07-25'}, excluded_embed_metadata_keys=['file_name', 'file_type', 'file_size', 'creation_date', 'last_modified_date', 'last_accessed_date'], excluded_llm_metadata_keys=['file_name', 'file_type', 'file_size', 'creation_date', 'last_modified_date', 'last_accessed_date'], relationships={<NodeRelationship.SOURCE: '1'>: RelatedNodeInfo(node_id='ad35397b-be65-472e-9f54-4579cbf24ebc', node_type='4', metadata={'file_path': '/home/user1/workspace/sk-familiy-ai_study/07월/0725/llama_data/자소서.txt', 'file_name': '자소서.txt', 'file_type': 'text/plain', 'file_size': 2419, 'creation_date': '2025-07-25', 'last_modified_date': '2025-07-25'}, hash='8a5ee1b7e62169b861c0208c66ad754d0446b5c6d10d4c189a8b773b1d46b4bf')}, metadata_template='{key}: {value}', metadata_separator='\\n', text='\"최고가 되기 위해서\"\\r\\n\\r\\n현재 IT 산업은 이전에 비해 눈부시게 발전하고 있습니다.\\r\\n또, 하드웨어와 소프트웨어 기술을 융합하여 기존보다 발전된 생활을 누릴 수 있게 해 주고 있습니다.\\r\\n\\r\\n저는 전자공학도로서 이전에 스마트폰과 도어락을 연결하여 기존보다 편의성과 보안성을 향상시킨 기술을 고안하여 여러 학생들, 그리고 멘토와 함께 프로젝트를 진행했던 적이 있었습니다.\\r\\n그때에 새로운 기술들을 적용하고 원래 있던 기술들을 더하여 이전보다 발전되고 편리한 방법을 찾아 나간다는 것이 얼마나 재미있고 보람 있는 일인지 느꼈습니다.\\r\\n\\r\\n그리고 이 활동을 통해 저는 앞으로의 커리어에 대한 목표를 세울 수 있게 되었습니다.\\r\\n\\r\\n백엔드를 사용하며 구현한 API는 ICT와 APP 모든 곳에서 활용될 수 있는 것이었고, 때문에 가장 기초적이고 중요한 분야라고 생각하였습니다.\\r\\n그렇기에 저는 최고의 백엔드 개발자가 되어 효율적이고 효과적인 프로그램을 만들고 싶어졌습니다.\\r\\n\\r\\n가비아는 Iaas와 SaaS를 넘어 다양한 솔루션을 자체 개발하고 있고, 여러 기술 스텍을 사용하고 있는 회사입니다.\\r\\n또, 신규 직원의 책상 위에 새싹을 두어 다른 직원분들의 도움을 받을 수 있도록 해 주거나 고심하여 영어 이름을 만들고 이를 불러주며 수평적인 분위기를 가지고 있는 등 회사 자체가 밝은 분위기를 갖고 직원들 간에 좋은 관계를 갖고 있는 것을 보았습니다.\\r\\n이를 보며 가비아에 함께한다면 저 또한 많은 분들에게 배우고 함께 어울려서 발전할 수 있을 것이라 생각하였습니다.\\r\\n\\r\\n그리고 운이 좋게도 그동안 제가 공부하였고 앞으로의 진로로 결정하게 된 java spring을 통해 회사의 플랫폼과 솔루션을 담당하는 직원을 채용한다는 소식을 들었고, 최고의 기업에서 가장 좋아하는 공부를 할 수 있을 것이라는 기대감을 품고 지원하게 되었습니다.\\r\\n\\r\\n이전까지 좁은 식견을 갖고 있던 저에게 다양한 개발 / 협업 방법을 알려 주었던 멘토님처럼, 가비아에서 많은 것들을 배우고 이를 다른 사람에게 배풀 수 있는 사람이 되고 싶습니다.', mimetype='text/plain', start_char_idx=0, end_char_idx=1017, metadata_seperator='\\n', text_template='{metadata_str}\\n\\n{content}'), score=0.807396162461696)], metadata={'75718f30-f616-4d5e-8eab-68ecc3775dcf': {'file_path': '/home/user1/workspace/sk-familiy-ai_study/07월/0725/llama_data/자소서.txt', 'file_name': '자소서.txt', 'file_type': 'text/plain', 'file_size': 2419, 'creation_date': '2025-07-25', 'last_modified_date': '2025-07-25'}})"
      ]
     },
     "execution_count": 34,
     "metadata": {},
     "output_type": "execute_result"
    }
   ],
   "source": [
    "documents = SimpleDirectoryReader(\"llama_data\").load_data()\n",
    "index = VectorStoreIndex.from_documents(\n",
    "    [documents[2]]\n",
    ")\n",
    "\n",
    "system_prompt = \"\"\"오마에노 직업와 LG인사 담당자. 오마에노 성격와 꼼꼼데스.\n",
    "{context_str}\n",
    "질문:{query_str}\n",
    "평론가 답변:\"\"\"\n",
    "\n",
    "custom = PromptTemplate(system_prompt)\n",
    "\n",
    "query = index.as_query_engine(text_qa_tmplate=custom)\n",
    "query.query(\"이 자소서를 평가해줘. 한글로\")"
   ]
  },
  {
   "cell_type": "code",
   "execution_count": null,
   "id": "ee3531b5",
   "metadata": {},
   "outputs": [],
   "source": [
    "from llama_index.readers.web import BeautifulSoupWebReader"
   ]
  },
  {
   "cell_type": "code",
   "execution_count": null,
   "id": "203d376d",
   "metadata": {},
   "outputs": [
    {
     "data": {
      "text/plain": [
       "Response(response='손흥민은 향후 거취에 대해 토트넘 감독과 직접 대화를 나눈 후 결정할 예정이며, 현재 협상은 손흥민에게 달려 있다. 토트넘은 손흥민이 다음 단계를 정할 수 있도록 할 방침이다.', source_nodes=[NodeWithScore(node=TextNode(id_='9a1160e1-b61a-4797-a34b-b7e7895feeed', embedding=None, metadata={'URL': 'https://m.sports.naver.com/wfootball/article/311/0001895943'}, excluded_embed_metadata_keys=[], excluded_llm_metadata_keys=[], relationships={<NodeRelationship.SOURCE: '1'>: RelatedNodeInfo(node_id='3d1513ff-679b-40ea-aabf-89f3ef7caba9', node_type='4', metadata={'URL': 'https://m.sports.naver.com/wfootball/article/311/0001895943'}, hash='4b707e2ec8f3f312e23a1cb992d2f3023ad2382833df81fac31903ad7e6f9465'), <NodeRelationship.PREVIOUS: '2'>: RelatedNodeInfo(node_id='df7078ed-cec5-4a49-8c35-f44919fe3b31', node_type='1', metadata={'URL': 'https://m.sports.naver.com/wfootball/article/311/0001895943'}, hash='2f95aaa0dc24d578f03dfcd1ba0c603d2d63606ed32c95c452bb187a31426029'), <NodeRelationship.NEXT: '3'>: RelatedNodeInfo(node_id='f68b9fde-6902-4f27-94b7-14adb4f5557e', node_type='1', metadata={}, hash='068f6c9993c7da66cf5f9e449044f063c9b9992bdb16a45fff6635897a21b1fc')}, metadata_template='{key}: {value}', metadata_separator='\\n', text='손흥민은 향후 거취에 대해 조만간 토마스 프랑크 감독과 직접 대화를 나눈 후 결정할 예정\"이라면서 \"현재 협상은 손흥민에게 달려 있다. 토트넘은 이제 손흥민이 다음 단계를 정할 수 있도록 할 방침이다\"고 주장했다.로마노를 지난 24일엔 \"LA FC가 새로운 슈퍼스타를 영입하기 위해 손흥민에게 접근했다\"고 했다.토트넘은 손흥민이 추후 행선지를 고를 경우, 지난 10년간 구단에 헌신한 점과 지난 2년간 주장으로 리더십 발휘한 점을 높이 평가해 이적료 규모가 자신들이 생각하는 것과 크게 어긋나지 않는다면 앞길을 흔쾌히 열어주겠다는 상황이다.\\xa0로마노 이전에 영국을 중심으로 외신들이 손흥민의 LA FC 이적 가능성을 일제히 보도하고 나서 시선을 끈다.영국 유력지 \\'데일리 텔레그래프\\'는 24일 \"손흥민은 다음 달 서울에서 열리는 프리시즌 친선경기에 출전해야 하는 계약상 의무가 있지만, 10년 만에 팀을 떠날 수도 있다\"라고 보도했다.토트넘은 7월31일 홍콩에서 아스널과 역사상 첫 친선경기 북런던 더비를 치른 뒤 8월3일 서울월드컵경기장에서 프리미어리그 강팀 뉴캐슬 유나이티드와 한국 투어를 벌인다.이 경기에 손흥민이 빠질 경우 토트넘이 위약금을 크게 물어야 하기 때문에 8월 초중순까지는 손흥민이 토트넘에 잔류하지만 이후 행방을 알 수 없고, LA FC로 갈 수 있다는 게 영국 언론과 로마노의 주장이다.매체에 따르면 토트넘은 미국 메이저리그사커(MLS) 클럽 LA FC로부터 손흥민 영입 제안을 받았다.', mimetype='text/plain', start_char_idx=770, end_char_idx=1501, metadata_seperator='\\n', text_template='{metadata_str}\\n\\n{content}'), score=0.835610601567024), NodeWithScore(node=TextNode(id_='df7078ed-cec5-4a49-8c35-f44919fe3b31', embedding=None, metadata={'URL': 'https://m.sports.naver.com/wfootball/article/311/0001895943'}, excluded_embed_metadata_keys=[], excluded_llm_metadata_keys=[], relationships={<NodeRelationship.SOURCE: '1'>: RelatedNodeInfo(node_id='3d1513ff-679b-40ea-aabf-89f3ef7caba9', node_type='4', metadata={'URL': 'https://m.sports.naver.com/wfootball/article/311/0001895943'}, hash='4b707e2ec8f3f312e23a1cb992d2f3023ad2382833df81fac31903ad7e6f9465'), <NodeRelationship.NEXT: '3'>: RelatedNodeInfo(node_id='9a1160e1-b61a-4797-a34b-b7e7895feeed', node_type='1', metadata={}, hash='10fd643f8984fa6aa991dbae30062a4fd50ee33b489aa61ad7070d8fb9fc990c')}, metadata_template='{key}: {value}', metadata_separator='\\n', text='르브론→오타니→손흥민…SON, 美 LA 입단 급물살! 279억 초대박→\"새로운 슈퍼스타 온다\"NAVER스포츠메뉴홈야구해외야구축구해외축구농구배구N골프일반e스포츠아웃도어NEW뉴스영상일정순위포토홈 바로가기NAVER스포츠마이팀팀 추가응원하는 팀을 구독해보세요!스포츠야구해외야구축구해외축구농구배구N골프일반e스포츠아웃도어콘텐츠오늘의 경기승부예측연재이슈톡대학스포츠랭킹기타고객센터공식 블로그메뉴 닫기본문 바로가기르브론→오타니→손흥민…SON, 美 LA 입단 급물살! 279억 초대박→\"새로운 슈퍼스타 온다\"입력2025.07.25. 오전 11:20수정2025.07.25. 오전 11:37기사원문공감좋아요0슬퍼요0화나요0팬이에요0후속기사 원해요0텍스트 음성 변환 서비스본문 듣기를 종료하였습니다.글자 크기 변경공유하기\\u200b(엑스포츠뉴스 김현기 기자) 손흥민 차기 행선지가 미국 로스앤젤레스(LA)로 굳어지는 분위기다.손흥민의 결단만 남은 것으로 보인다. 토트넘은 그의 이적료를 합리적인 수준으로 책정해 새출발을 돕기로 했다.지난달 국제축구연맹(FIFA) 2025 클럽월드컵미국 LA FC가 손흥민에게 강하게 달려들고 있다.영국 공영방송 BBC와 유력지 \\'데일리 텔레그래프\\', 대중지 \\'더선\\', 뉴욕타임스 산하 글로벌 스포츠 매체 \\'디 애슬레틱\\' 등이 연달아 손흥민의 LA 이적 가능성이 크다고 알린 가운데, 이번엔 이적시장 전문가인 파브리치오 로마노까지 가세했다.로마노 기자는 25일(이하 한국시간) 자신의 SNS를 통해 \"LA FC는 이미 손흥민에게 프로젝트의 새로운 스타로서 첫 제안을 보냈다. 손흥민은 향후 거취에 대해 조만간 토마스 프랑크 감독과 직접 대화를 나눈 후 결정할 예정\"이라면서 \"현재 협상은 손흥민에게 달려 있다.', mimetype='text/plain', start_char_idx=0, end_char_idx=845, metadata_seperator='\\n', text_template='{metadata_str}\\n\\n{content}'), score=0.8236802608763969)], metadata={'9a1160e1-b61a-4797-a34b-b7e7895feeed': {'URL': 'https://m.sports.naver.com/wfootball/article/311/0001895943'}, 'df7078ed-cec5-4a49-8c35-f44919fe3b31': {'URL': 'https://m.sports.naver.com/wfootball/article/311/0001895943'}})"
      ]
     },
     "execution_count": 40,
     "metadata": {},
     "output_type": "execute_result"
    }
   ],
   "source": [
    "loader = BeautifulSoupWebReader()\n",
    "docu = loader.load_data(urls=['https://m.sports.naver.com/wfootball/article/311/0001895943'])\n",
    "\n",
    "url_index = VectorStoreIndex.from_documents(\n",
    "    docu\n",
    ")\n",
    "url_query = url_index.as_query_engine()\n",
    "url_query.query(\"손흥민이 어떻게 한대?\")"
   ]
  },
  {
   "cell_type": "code",
   "execution_count": null,
   "id": "8ddea60d",
   "metadata": {},
   "outputs": [],
   "source": [
    "# !pip install llama-hub-youtube-transcript\n",
    "# !pip install llama-index-readers-youtube-transcript"
   ]
  }
 ],
 "metadata": {
  "kernelspec": {
   "display_name": "openai",
   "language": "python",
   "name": "python3"
  },
  "language_info": {
   "codemirror_mode": {
    "name": "ipython",
    "version": 3
   },
   "file_extension": ".py",
   "mimetype": "text/x-python",
   "name": "python",
   "nbconvert_exporter": "python",
   "pygments_lexer": "ipython3",
   "version": "3.11.13"
  }
 },
 "nbformat": 4,
 "nbformat_minor": 5
}
