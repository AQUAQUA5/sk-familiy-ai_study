{
 "cells": [
  {
   "cell_type": "code",
   "execution_count": null,
   "id": "eb04242e",
   "metadata": {},
   "outputs": [],
   "source": [
    "import requests\n",
    "from bs4 import BeautifulSoup\n",
    "import pandas as pd"
   ]
  },
  {
   "cell_type": "code",
   "execution_count": null,
   "id": "f17f6732",
   "metadata": {},
   "outputs": [],
   "source": [
    "def getTextFromUrl(url):\n",
    "    res = requests.get(url)\n",
    "    soup = BeautifulSoup(res.content, \"html.parser\")\n",
    "    content_div = soup.find(\"div\", class_=\"_article_content\")\n",
    "    if content_div:\n",
    "        text = content_div.get_text(strip=True)\n",
    "        return text\n",
    "    return"
   ]
  },
  {
   "cell_type": "code",
   "execution_count": null,
   "id": "72a55fda",
   "metadata": {},
   "outputs": [],
   "source": [
    "texts = []\n",
    "n = 1\n",
    "while 1:\n",
    "    try:\n",
    "        payload = { \"date\" : \"20250713\",\n",
    "               \"page\" : n,\n",
    "               \"pageSize\" : \"50\",\n",
    "               }\n",
    "        res = requests.get(f\"https://api-gw.entertain.naver.com/news/articles?date=20250713&page={n}&pageSize=50\", data=payload)\n",
    "        newslist = res.json()[\"result\"][\"newsList\"]\n",
    "    except:\n",
    "        break\n",
    "    m = 0\n",
    "    while 1:\n",
    "        try:\n",
    "            url = res.json()[\"result\"][\"newsList\"][m][\"url\"]\n",
    "            texts.append(getTextFromUrl(url))\n",
    "            m += 1\n",
    "            print(n, m)\n",
    "        except:\n",
    "            break\n",
    "    n +=1"
   ]
  },
  {
   "cell_type": "code",
   "execution_count": null,
   "id": "19354fe1",
   "metadata": {},
   "outputs": [
    {
     "name": "stdout",
     "output_type": "stream",
     "text": [
      "(1838, 1)\n"
     ]
    },
    {
     "data": {
      "text/html": [
       "<div>\n",
       "<style scoped>\n",
       "    .dataframe tbody tr th:only-of-type {\n",
       "        vertical-align: middle;\n",
       "    }\n",
       "\n",
       "    .dataframe tbody tr th {\n",
       "        vertical-align: top;\n",
       "    }\n",
       "\n",
       "    .dataframe thead th {\n",
       "        text-align: right;\n",
       "    }\n",
       "</style>\n",
       "<table border=\"1\" class=\"dataframe\">\n",
       "  <thead>\n",
       "    <tr style=\"text-align: right;\">\n",
       "      <th></th>\n",
       "      <th>0</th>\n",
       "    </tr>\n",
       "  </thead>\n",
       "  <tbody>\n",
       "    <tr>\n",
       "      <th>0</th>\n",
       "      <td>[서울=뉴시스] 지난 13일 방송된 SBS TV 예능물 '미운 우리 새끼'에서 이상...</td>\n",
       "    </tr>\n",
       "    <tr>\n",
       "      <th>1</th>\n",
       "      <td>[스타뉴스 | 정은채 기자]/사진=출처 이종석SNS/사진=출처 이종석SNS배우 이종...</td>\n",
       "    </tr>\n",
       "    <tr>\n",
       "      <th>2</th>\n",
       "      <td>[OSEN=박하영 기자] 개그우먼 박소영, 김민경, 오나미, 홍윤화, 김승혜, 허민...</td>\n",
       "    </tr>\n",
       "    <tr>\n",
       "      <th>3</th>\n",
       "      <td>‘굿보이’ 박보검이 다 잡은 오정세를 놓쳤다.13일 JTBC ‘굿보이’에선 주영(오...</td>\n",
       "    </tr>\n",
       "    <tr>\n",
       "      <th>4</th>\n",
       "      <td>[텐아시아=조나연 기자]사진 =  ENA '내 아이의 사생활''내 아이의 사생활'에...</td>\n",
       "    </tr>\n",
       "  </tbody>\n",
       "</table>\n",
       "</div>"
      ],
      "text/plain": [
       "                                                   0\n",
       "0  [서울=뉴시스] 지난 13일 방송된 SBS TV 예능물 '미운 우리 새끼'에서 이상...\n",
       "1  [스타뉴스 | 정은채 기자]/사진=출처 이종석SNS/사진=출처 이종석SNS배우 이종...\n",
       "2  [OSEN=박하영 기자] 개그우먼 박소영, 김민경, 오나미, 홍윤화, 김승혜, 허민...\n",
       "3  ‘굿보이’ 박보검이 다 잡은 오정세를 놓쳤다.13일 JTBC ‘굿보이’에선 주영(오...\n",
       "4  [텐아시아=조나연 기자]사진 =  ENA '내 아이의 사생활''내 아이의 사생활'에..."
      ]
     },
     "execution_count": 13,
     "metadata": {},
     "output_type": "execute_result"
    }
   ],
   "source": [
    "df = pd.DataFrame(data = texts)\n",
    "df.to_csv(\"코퍼스.csv\", encoding=\"utf-8\")\n",
    "print(df.shape)\n",
    "df.head()"
   ]
  },
  {
   "cell_type": "code",
   "execution_count": null,
   "id": "878d0aaa",
   "metadata": {},
   "outputs": [],
   "source": []
  },
  {
   "cell_type": "code",
   "execution_count": null,
   "id": "6dec7de3",
   "metadata": {},
   "outputs": [],
   "source": []
  },
  {
   "cell_type": "code",
   "execution_count": null,
   "id": "2dfbb362",
   "metadata": {},
   "outputs": [],
   "source": []
  },
  {
   "cell_type": "code",
   "execution_count": null,
   "id": "1f3c3fb6",
   "metadata": {},
   "outputs": [],
   "source": []
  }
 ],
 "metadata": {
  "kernelspec": {
   "display_name": "dnn3",
   "language": "python",
   "name": "python3"
  },
  "language_info": {
   "codemirror_mode": {
    "name": "ipython",
    "version": 3
   },
   "file_extension": ".py",
   "mimetype": "text/x-python",
   "name": "python",
   "nbconvert_exporter": "python",
   "pygments_lexer": "ipython3",
   "version": "3.11.13"
  }
 },
 "nbformat": 4,
 "nbformat_minor": 5
}
