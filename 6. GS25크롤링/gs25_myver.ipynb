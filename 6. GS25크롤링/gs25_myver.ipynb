{
 "cells": [
  {
   "cell_type": "code",
   "id": "initial_id",
   "metadata": {
    "collapsed": true,
    "ExecuteTime": {
     "end_time": "2025-06-05T02:39:20.413514Z",
     "start_time": "2025-06-05T02:39:19.992465Z"
    }
   },
   "source": [
    "import requests\n",
    "from bs4 import BeautifulSoup\n",
    "import json\n",
    "gs25_url = \"https://gs25.gsretail.com/gscvs/ko/store-services/locations#;\""
   ],
   "outputs": [],
   "execution_count": 1
  },
  {
   "metadata": {
    "ExecuteTime": {
     "end_time": "2025-06-05T03:11:04.340779Z",
     "start_time": "2025-06-05T03:11:04.332900Z"
    }
   },
   "cell_type": "code",
   "source": [
    "payload= {\"pageNum\" : \"1\",\n",
    "\"pageSize\" : \"100000\",\n",
    "\"searchShopName\" : \"\",\n",
    "\"searchSido\" : \"\",\n",
    "\"searchGugun\" : \"\",\n",
    "\"searchDong\" : \"\",\n",
    "\"searchType\" : \"\",\n",
    "\"searchTypeService\" : \"0\",\n",
    "\"searchTypeToto\" : \"0\",\n",
    "\"searchTypeCafe25\" : \"0\",\n",
    "\"searchTypeInstant\" : \"0\",\n",
    "\"searchTypeDrug\" : \"0\",\n",
    "\"searchTypeSelf25\" : \"0\",\n",
    "\"searchTypePost\" : \"0\",\n",
    "\"searchTypeATM\" : \"0\",\n",
    "\"searchTypeWithdrawal\" : \"0\",\n",
    "\"searchTypeTaxrefund\" : \"0\",\n",
    "\"searchTypeSmartAtm\" : \"0\",\n",
    "\"searchTypeSelfCookingUtensils\" : \"0\",\n",
    "\"searchTypeDeliveryService\" : \"0\",\n",
    "\"searchTypeParcelService\" : \"0\",\n",
    "\"searchTypePotatoes\" : \"0\",\n",
    "\"searchTypeCardiacDefi\" : \"0\",\n",
    "\"searchTypeFishShapedBun\" : \"0\",\n",
    "\"searchTypeWine25\" : \"0\",\n",
    "\"searchTypeGoPizza\" : \"0\",\n",
    "\"searchTypeSpiritWine\" : \"0\",\n",
    "\"searchTypeFreshGanghw\" : \"0\",\n",
    "\"searchTypeMusinsa\" : \"0\",\n",
    "\"searchTypePosa\" : \"0\",}\n",
    "header = {\n",
    "    'host' : 'gs25.gsretail.com',\n",
    "    'origin' : 'https://gs25.gsretail.com',\n",
    "    'referer' : 'https://gs25.gsretail.com/gscvs/ko/store-services/locations'\n",
    "}"
   ],
   "id": "32f817dc6d580545",
   "outputs": [],
   "execution_count": 18
  },
  {
   "metadata": {
    "ExecuteTime": {
     "end_time": "2025-06-05T03:11:08.360503Z",
     "start_time": "2025-06-05T03:11:05.825391Z"
    }
   },
   "cell_type": "code",
   "source": [
    "url = \"https://gs25.gsretail.com/gscvs/ko/store-services/locationList?CSRFToken={}\"\n",
    "with requests.Session() as s:\n",
    "    r = s.get(gs25_url)\n",
    "    bs = BeautifulSoup(r.text)\n",
    "    csrf = bs.find(\"form\", id='CSRFForm').find(\"input\")['value']\n",
    "    r2 = s.post(url.format(csrf), data=payload, headers=header)"
   ],
   "id": "83567533a678e3f2",
   "outputs": [],
   "execution_count": 19
  },
  {
   "metadata": {
    "ExecuteTime": {
     "end_time": "2025-06-05T06:14:27.823529Z",
     "start_time": "2025-06-05T06:14:27.755328Z"
    }
   },
   "cell_type": "code",
   "source": [
    "ress = json.loads(r2.json())['results']\n",
    "len(ress)"
   ],
   "id": "cd630ecf32f32487",
   "outputs": [
    {
     "data": {
      "text/plain": [
       "17784"
      ]
     },
     "execution_count": 24,
     "metadata": {},
     "output_type": "execute_result"
    }
   ],
   "execution_count": 24
  },
  {
   "metadata": {
    "ExecuteTime": {
     "end_time": "2025-06-05T06:14:22.349245Z",
     "start_time": "2025-06-05T06:14:21.171567Z"
    }
   },
   "cell_type": "code",
   "source": [
    "import pandas as pd\n",
    "df = pd.DataFrame(ress)\n",
    "df.iloc[:, 1:].duplicated().sum()"
   ],
   "id": "ec27c10a48ccd163",
   "outputs": [
    {
     "data": {
      "text/plain": [
       "0"
      ]
     },
     "execution_count": 23,
     "metadata": {},
     "output_type": "execute_result"
    }
   ],
   "execution_count": 23
  },
  {
   "metadata": {
    "ExecuteTime": {
     "end_time": "2025-06-05T02:40:24.524734Z",
     "start_time": "2025-06-05T02:40:24.508163Z"
    }
   },
   "cell_type": "code",
   "source": [
    "import pymysql\n",
    "conn = pymysql.connect(host='127.0.0.1', user='play', passwd='123', database='sk17', port=3306)\n",
    "cur = conn.cursor()\n",
    "\n",
    "table_name = 'gs_stores_test'\n",
    "\n",
    "insert_q = f\"INSERT IGNORE INTO {table_name} VALUES (%s, %s, %s, %s, %s, %s)\"\n",
    "create_q = f\"\"\"CREATE TABLE {table_name} (\n",
    "    shopCode varchar(10) not null,\n",
    "    shopName varchar(20) default null,\n",
    "    address varchar(100)  default null default null,\n",
    "    offeringService varchar(60)  not null,\n",
    "    longs varchar(20) default null,\n",
    "    lat varchar(20) default null\n",
    ")\"\"\""
   ],
   "id": "f17dde210a8c4d90",
   "outputs": [],
   "execution_count": 10
  },
  {
   "metadata": {
    "ExecuteTime": {
     "end_time": "2025-06-05T02:40:25.515233Z",
     "start_time": "2025-06-05T02:40:25.456374Z"
    }
   },
   "cell_type": "code",
   "source": [
    "#초기화\n",
    "cur.execute('show tables')\n",
    "tables = [row[0] for row in cur.fetchall()]\n",
    "if table_name in tables:\n",
    "    cur.execute(f'drop table {table_name}')\n",
    "cur.execute(create_q)"
   ],
   "id": "d0814730f8113766",
   "outputs": [
    {
     "data": {
      "text/plain": [
       "0"
      ]
     },
     "execution_count": 11,
     "metadata": {},
     "output_type": "execute_result"
    }
   ],
   "execution_count": 11
  },
  {
   "metadata": {
    "ExecuteTime": {
     "end_time": "2025-06-05T02:40:30.115459Z",
     "start_time": "2025-06-05T02:40:30.109901Z"
    }
   },
   "cell_type": "code",
   "source": [
    "service_code = {\n",
    "    'toto' : '1',\n",
    "    'cafe25' : '2',\n",
    "    'post' : '3',\n",
    "    'withdrawal' : '4',\n",
    "    'parcel_service' : '5',\n",
    "    'drug' : '6',\n",
    "    'atm' : '7',\n",
    "    'smart_atm' : '8',\n",
    "    'musinsa' : '9',\n",
    "    'potatoes' : '10',\n",
    "    'fish_shaped_bun' : '11',\n",
    "    'posa' : '12',\n",
    "    'instant' : '13',\n",
    "    'cardiac_defi' : '14',\n",
    "    'spirit_wine' : '15',\n",
    "    'delivery_service' : '16',\n",
    "    'self_cook' : '17',\n",
    "    'fresh_ganghw' : '18',\n",
    "    'gopizza' : '19',\n",
    "    'tax' : '20'\n",
    "}"
   ],
   "id": "15ef5225bc841c9e",
   "outputs": [],
   "execution_count": 12
  },
  {
   "metadata": {
    "ExecuteTime": {
     "end_time": "2025-06-05T02:40:37.462187Z",
     "start_time": "2025-06-05T02:40:30.701845Z"
    }
   },
   "cell_type": "code",
   "source": [
    "for res in ress:\n",
    "    row = ['']*6\n",
    "    if 'shopCode' in res:\n",
    "        row[0] = res['shopCode']\n",
    "    if 'shopName' in res:\n",
    "        row[1] = res['shopName']\n",
    "    if 'address' in res:\n",
    "        row[2] = res['address']\n",
    "    if 'offeringService' in res:\n",
    "        row[3] = service_code[res['offeringService'][0]]\n",
    "        for i in range(1, len(res['offeringService'])):\n",
    "            row[3] = ', '.join((row[3], service_code[res['offeringService'][i]]))\n",
    "    if 'longs' in res:\n",
    "        row[4] = res['longs']\n",
    "    if 'lat' in res:\n",
    "        row[5] = res['lat']\n",
    "    cur.execute(insert_q, row)"
   ],
   "id": "e7b852f380703914",
   "outputs": [],
   "execution_count": 13
  },
  {
   "metadata": {
    "ExecuteTime": {
     "end_time": "2025-06-05T02:40:50.909744Z",
     "start_time": "2025-06-05T02:40:50.781753Z"
    }
   },
   "cell_type": "code",
   "source": "cur.execute(f'select * from {table_name}')",
   "id": "ed9a530b120936c1",
   "outputs": [
    {
     "data": {
      "text/plain": [
       "17784"
      ]
     },
     "execution_count": 14,
     "metadata": {},
     "output_type": "execute_result"
    }
   ],
   "execution_count": 14
  },
  {
   "metadata": {
    "ExecuteTime": {
     "end_time": "2025-06-05T02:41:07.522692Z",
     "start_time": "2025-06-05T02:41:07.478289Z"
    }
   },
   "cell_type": "code",
   "source": "conn.commit()",
   "id": "8e60c2b9ea574d82",
   "outputs": [],
   "execution_count": 16
  },
  {
   "metadata": {},
   "cell_type": "code",
   "outputs": [],
   "execution_count": null,
   "source": "",
   "id": "22d2c3862e11e27d"
  }
 ],
 "metadata": {
  "kernelspec": {
   "display_name": "Python [conda env:base] *",
   "language": "python",
   "name": "conda-base-py"
  },
  "language_info": {
   "codemirror_mode": {
    "name": "ipython",
    "version": 2
   },
   "file_extension": ".py",
   "mimetype": "text/x-python",
   "name": "python",
   "nbconvert_exporter": "python",
   "pygments_lexer": "ipython2",
   "version": "2.7.6"
  }
 },
 "nbformat": 4,
 "nbformat_minor": 5
}
