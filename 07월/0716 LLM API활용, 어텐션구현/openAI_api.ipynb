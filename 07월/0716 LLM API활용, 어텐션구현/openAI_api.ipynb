{
 "cells": [
  {
   "cell_type": "code",
   "execution_count": null,
   "id": "15df477a",
   "metadata": {},
   "outputs": [],
   "source": [
    "from langchain_openai import ChatOpenAI\n",
    "from langchain_core.prompts import PromptTemplate"
   ]
  },
  {
   "cell_type": "code",
   "execution_count": null,
   "id": "ee97f19c",
   "metadata": {},
   "outputs": [],
   "source": [
    "my_key = \"키 입력\""
   ]
  },
  {
   "cell_type": "code",
   "execution_count": null,
   "id": "7cde545c",
   "metadata": {},
   "outputs": [],
   "source": [
    "llm = ChatOpenAI(\n",
    "    temperature=0.1,    # 창의성, 0~2\n",
    "    #max_tokens=32, #최대 토큰값 \n",
    "    model_name='gpt-4.1-nano',\n",
    "    api_key=my_key\n",
    "    )"
   ]
  },
  {
   "cell_type": "code",
   "execution_count": null,
   "id": "8368fc19",
   "metadata": {},
   "outputs": [],
   "source": [
    "a = llm.invoke(\"점메추가 뭐야?\")"
   ]
  },
  {
   "cell_type": "code",
   "execution_count": 23,
   "id": "045df4ea",
   "metadata": {},
   "outputs": [
    {
     "data": {
      "text/plain": [
       "'\"점메추\"는 \"점심 메뉴 추천\"의 줄임말로, 점심 식사 때 먹을 메뉴를 추천해주는 것을 의미합니다. 주로 온라인 커뮤니티나 SNS에서 사람들이 오늘 점심으로 무엇을 먹을지 고민할 때 서로 추천하거나 정보를 공유하는 용도로 사용됩니다. 즉, \"점메추\"는 점심 메뉴 추천을 간단하게 표현한 말입니다.'"
      ]
     },
     "execution_count": 23,
     "metadata": {},
     "output_type": "execute_result"
    }
   ],
   "source": [
    "a.content"
   ]
  },
  {
   "cell_type": "code",
   "execution_count": 14,
   "id": "0ec6153e",
   "metadata": {},
   "outputs": [],
   "source": [
    "from langchain_core.prompts import PromptTemplate\n",
    "from langchain_openai import ChatOpenAI"
   ]
  },
  {
   "cell_type": "code",
   "execution_count": 18,
   "id": "4d83925e",
   "metadata": {},
   "outputs": [],
   "source": [
    "llm = ChatOpenAI(\n",
    "    temperature=0,\n",
    "    #model_name='o4-mini-2025-04-16',\n",
    "    model_name='gpt-4.1-nano',\n",
    "    api_key=my_key\n",
    ")"
   ]
  },
  {
   "cell_type": "code",
   "execution_count": 19,
   "id": "3134b518",
   "metadata": {},
   "outputs": [],
   "source": [
    "template = \"{country}의 수도는 어디\"\n",
    "prompt = PromptTemplate.from_template(template)\n",
    "chain = prompt | llm"
   ]
  },
  {
   "cell_type": "code",
   "execution_count": 20,
   "id": "19301dde",
   "metadata": {},
   "outputs": [
    {
     "name": "stdout",
     "output_type": "stream",
     "text": [
      "미국의 수도는 워싱턴 D.C.입니다.\n"
     ]
    }
   ],
   "source": [
    "print(chain.invoke(\"미국\").content)"
   ]
  },
  {
   "cell_type": "code",
   "execution_count": 21,
   "id": "d7903565",
   "metadata": {},
   "outputs": [],
   "source": [
    "import pandas as pd\n",
    "company_list = ['레고', '볼보', '메르세데스 벤츠', '기린', '화웨이', '삼성전자', '보쉬']\n",
    "df = pd.DataFrame(data=company_list, columns=['기업명'])\n",
    "df['나라'] = df['기업명'].apply(lambda x : chain.invoke(x).content )"
   ]
  },
  {
   "cell_type": "code",
   "execution_count": 22,
   "id": "292c5330",
   "metadata": {},
   "outputs": [
    {
     "data": {
      "text/html": [
       "<div>\n",
       "<style scoped>\n",
       "    .dataframe tbody tr th:only-of-type {\n",
       "        vertical-align: middle;\n",
       "    }\n",
       "\n",
       "    .dataframe tbody tr th {\n",
       "        vertical-align: top;\n",
       "    }\n",
       "\n",
       "    .dataframe thead th {\n",
       "        text-align: right;\n",
       "    }\n",
       "</style>\n",
       "<table border=\"1\" class=\"dataframe\">\n",
       "  <thead>\n",
       "    <tr style=\"text-align: right;\">\n",
       "      <th></th>\n",
       "      <th>기업명</th>\n",
       "      <th>나라</th>\n",
       "    </tr>\n",
       "  </thead>\n",
       "  <tbody>\n",
       "    <tr>\n",
       "      <th>0</th>\n",
       "      <td>레고</td>\n",
       "      <td>레고의 본사는 덴마크에 위치해 있으며, 레고 그룹의 본사 도시인 빌룬드(Billun...</td>\n",
       "    </tr>\n",
       "    <tr>\n",
       "      <th>1</th>\n",
       "      <td>볼보</td>\n",
       "      <td>볼보는 스웨덴의 자동차 및 방위 산업 회사로, 본사는 스웨덴의 예테보리(Götebo...</td>\n",
       "    </tr>\n",
       "    <tr>\n",
       "      <th>2</th>\n",
       "      <td>메르세데스 벤츠</td>\n",
       "      <td>메르세데스 벤츠는 독일의 자동차 브랜드로, 특정한 \"수도\"가 있는 것은 아니지만, ...</td>\n",
       "    </tr>\n",
       "    <tr>\n",
       "      <th>3</th>\n",
       "      <td>기린</td>\n",
       "      <td>기린은 동물이고, \"수도\"라는 개념이 사람의 도시나 국가를 의미하는 것과는 다릅니다...</td>\n",
       "    </tr>\n",
       "    <tr>\n",
       "      <th>4</th>\n",
       "      <td>화웨이</td>\n",
       "      <td>화웨이(Huawei)는 중국의 기업으로, 특정한 수도가 없습니다. 그러나 화웨이의 ...</td>\n",
       "    </tr>\n",
       "    <tr>\n",
       "      <th>5</th>\n",
       "      <td>삼성전자</td>\n",
       "      <td>삼성전자는 대한민국에 위치한 기업으로, 본사는 대한민국 수원시에 있습니다.</td>\n",
       "    </tr>\n",
       "    <tr>\n",
       "      <th>6</th>\n",
       "      <td>보쉬</td>\n",
       "      <td>보쉬(Bosch)는 독일에 본사를 둔 회사입니다. 따라서 보쉬의 수도는 독일의 수도...</td>\n",
       "    </tr>\n",
       "  </tbody>\n",
       "</table>\n",
       "</div>"
      ],
      "text/plain": [
       "        기업명                                                 나라\n",
       "0        레고  레고의 본사는 덴마크에 위치해 있으며, 레고 그룹의 본사 도시인 빌룬드(Billun...\n",
       "1        볼보  볼보는 스웨덴의 자동차 및 방위 산업 회사로, 본사는 스웨덴의 예테보리(Götebo...\n",
       "2  메르세데스 벤츠  메르세데스 벤츠는 독일의 자동차 브랜드로, 특정한 \"수도\"가 있는 것은 아니지만, ...\n",
       "3        기린  기린은 동물이고, \"수도\"라는 개념이 사람의 도시나 국가를 의미하는 것과는 다릅니다...\n",
       "4       화웨이  화웨이(Huawei)는 중국의 기업으로, 특정한 수도가 없습니다. 그러나 화웨이의 ...\n",
       "5      삼성전자          삼성전자는 대한민국에 위치한 기업으로, 본사는 대한민국 수원시에 있습니다.\n",
       "6        보쉬  보쉬(Bosch)는 독일에 본사를 둔 회사입니다. 따라서 보쉬의 수도는 독일의 수도..."
      ]
     },
     "execution_count": 22,
     "metadata": {},
     "output_type": "execute_result"
    }
   ],
   "source": [
    "df"
   ]
  },
  {
   "cell_type": "code",
   "execution_count": null,
   "id": "114dcd89",
   "metadata": {},
   "outputs": [],
   "source": []
  }
 ],
 "metadata": {
  "kernelspec": {
   "display_name": "openai",
   "language": "python",
   "name": "python3"
  },
  "language_info": {
   "codemirror_mode": {
    "name": "ipython",
    "version": 3
   },
   "file_extension": ".py",
   "mimetype": "text/x-python",
   "name": "python",
   "nbconvert_exporter": "python",
   "pygments_lexer": "ipython3",
   "version": "3.11.13"
  }
 },
 "nbformat": 4,
 "nbformat_minor": 5
}
