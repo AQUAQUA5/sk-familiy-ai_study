{
 "cells": [
  {
   "cell_type": "code",
   "execution_count": 1,
   "id": "de7c0d62",
   "metadata": {},
   "outputs": [
    {
     "name": "stderr",
     "output_type": "stream",
     "text": [
      "USER_AGENT environment variable not set, consider setting it to identify your requests.\n"
     ]
    }
   ],
   "source": [
    "from langchain_community.document_loaders import WebBaseLoader\n",
    "from langchain_community.vectorstores import Chroma\n",
    "from langchain_openai import OpenAIEmbeddings\n",
    "from langchain_text_splitters import RecursiveCharacterTextSplitter"
   ]
  },
  {
   "cell_type": "code",
   "execution_count": 2,
   "id": "859b6306",
   "metadata": {},
   "outputs": [],
   "source": [
    "urls = [\n",
    "    \"https://finance.naver.com/\",\n",
    "    \"https://finance.yahoo.com/\",\n",
    "    \"https://finance.daum.net/\",\n",
    "]\n",
    "docs = [WebBaseLoader(url).load() for url in urls]"
   ]
  },
  {
   "cell_type": "code",
   "execution_count": 3,
   "id": "65b0b094",
   "metadata": {},
   "outputs": [],
   "source": [
    "docs_list = [item for sublist in docs for item in sublist]"
   ]
  },
  {
   "cell_type": "code",
   "execution_count": 4,
   "id": "d2980595",
   "metadata": {},
   "outputs": [],
   "source": [
    "docs_list2 = []\n",
    "for sublist in docs:\n",
    "    for item in sublist:\n",
    "        docs_list2.append(item)\n",
    "text_splitter = RecursiveCharacterTextSplitter.from_tiktoken_encoder(\n",
    "    chunk_size=100, chunk_overlap=50\n",
    ")\n",
    "\n",
    "doc_splits = text_splitter.split_documents(docs_list)\n",
    "\n",
    "\n",
    "vectorstore = Chroma.from_documents(\n",
    "    documents=doc_splits,\n",
    "    collection_name=\"rag-chroma\",\n",
    "    embedding=OpenAIEmbeddings(),\n",
    ")\n",
    "\n",
    "retriever = vectorstore.as_retriever()"
   ]
  },
  {
   "cell_type": "code",
   "execution_count": 5,
   "id": "7952a063",
   "metadata": {},
   "outputs": [
    {
     "data": {
      "text/plain": [
       "VectorStoreRetriever(tags=['Chroma', 'OpenAIEmbeddings'], vectorstore=<langchain_community.vectorstores.chroma.Chroma object at 0x7f0dfadd0a90>, search_kwargs={})"
      ]
     },
     "execution_count": 5,
     "metadata": {},
     "output_type": "execute_result"
    }
   ],
   "source": [
    "retriever"
   ]
  },
  {
   "cell_type": "code",
   "execution_count": 6,
   "id": "2751f0c6",
   "metadata": {},
   "outputs": [],
   "source": [
    "from typing import Annotated, Sequence, TypedDict\n",
    "from langchain_core.messages import BaseMessage\n",
    "from langgraph.graph.message import add_messages"
   ]
  },
  {
   "cell_type": "code",
   "execution_count": 7,
   "id": "27ae605c",
   "metadata": {},
   "outputs": [],
   "source": [
    "# 에이전트 상태 정의\n",
    "class AgentState(TypedDict):\n",
    "    messages:Annotated[Sequence[BaseMessage], add_messages]"
   ]
  },
  {
   "cell_type": "code",
   "execution_count": 8,
   "id": "c1671a06",
   "metadata": {},
   "outputs": [],
   "source": [
    "#검색도구 생성 \n",
    "from langchain.tools.retriever import create_retriever_tool\n",
    "\n",
    "retriever_tool = create_retriever_tool(\n",
    "    retriever,\n",
    "    'retrieve_blog_posts',\n",
    "    '네이버, 야후, 다음의 금융 관련 정보를 검색하고 반환합니다.'\n",
    ")"
   ]
  },
  {
   "cell_type": "code",
   "execution_count": 9,
   "id": "0640c0b3",
   "metadata": {},
   "outputs": [],
   "source": [
    "#그래프 작성 \n",
    "from langchain import hub\n",
    "from langchain_core.messages import BaseMessage, HumanMessage\n",
    "from langchain_core.output_parsers import StrOutputParser\n",
    "from langchain_core.prompts import PromptTemplate\n",
    "#from langchain_core.pydantic_v1 import BaseModel, Field\n",
    "from pydantic import BaseModel, Field\n",
    "from langchain_openai import ChatOpenAI\n",
    "from langgraph.prebuilt import tools_condition\n",
    "\n",
    "def grade_documents(state):\n",
    "    \"\"\"\n",
    "    검색된 문서가 질문과 관련이 있는지 평가합니다.\n",
    "    Args:\n",
    "        state : 현재 상태\n",
    "    Returns :\n",
    "        str: 문서의 관련성에 따라 다음 노드 결정 (\"generate\" or \"rewrite\")\n",
    "    \"\"\"\n",
    "    print(\"----문서 관련성 평가----\")\n",
    "    class grade(BaseModel):\n",
    "        \"\"\"관련성 평가를 위한 이진 점수\"\"\"\n",
    "        binary_score: str = Field(description=\"관련성 점수 'yes' 또는 'no\")\n",
    "    model = ChatOpenAI(model='gpt-4o-mini', temperature=0, streaming=True)\n",
    "    llm_with_tool = model.with_structured_output(grade)\n",
    "    prompt = PromptTemplate(\n",
    "        template=\"\"\"당신은 사용자 질문에 대해서 검색된 문서의 관련성을 평가하는 평가자입니다.\n",
    "        여기 검색된 문서가 있습니다:\n",
    "        {context}\n",
    "        여기 사용자 질문이 있습니다:\n",
    "        {question}\n",
    "        문서가 사용자 질문과 관련된 키워드 또는 의미를 포함하면 관련성이 있다고 평가하세요.\n",
    "        문서가 질문과 관련이 있는지 여부를 나타내기 위해 'yes' 또는 'no'로 이진 점수를 주세요\n",
    "        \"\"\"\n",
    "    )\n",
    "    chain = prompt | llm_with_tool\n",
    "    messages = state['messages']\n",
    "    last_message = messages[-1]\n",
    "\n",
    "    question = messages[0].content\n",
    "    docs = last_message.content\n",
    "\n",
    "    scored_result = chain.invoke({'question': question, 'context' : docs})\n",
    "    score = scored_result.binary_score\n",
    "\n",
    "    if score == \"yes\":\n",
    "        print(\"--결정: 문서 관련성 있음--\")\n",
    "        return \"generate\"\n",
    "    else:\n",
    "        print(\"--결정: 문서 관련성 없음\")\n",
    "        return 'rewrite'"
   ]
  },
  {
   "cell_type": "code",
   "execution_count": 10,
   "id": "c6e637d2",
   "metadata": {},
   "outputs": [],
   "source": [
    "tools = [retriever_tool]\n",
    "def agent(state):\n",
    "    \"\"\"\n",
    "    현재 상태를 기반으로 에이전트 모델을 호출하여 응답을 생성합니다.\n",
    "    주어진 질문에 따라 검색 도구를 사용하여 검색을 수행하거나 단순히 종료하기로 결정합니다.\n",
    "    Arggs:\n",
    "        state: 현재 상태\n",
    "    Returns:\n",
    "        dict: 메시지에 에이전트 응답이 추가된 업데이트된 상태\n",
    "    \"\"\"\n",
    "    messages = state['messages']\n",
    "    print(\"에이전트로 전달된 메시지들: \", messages)\n",
    "    model = ChatOpenAI(model='gpt-4o-mini', temperature=0, streaming=True)\n",
    "   \n",
    "    model = model.bind_tools(tools)\n",
    "    response = model.invoke(messages)\n",
    "    state['messages'].append(response)\n",
    "    return state"
   ]
  },
  {
   "cell_type": "code",
   "execution_count": 11,
   "id": "dc24e6c3",
   "metadata": {},
   "outputs": [],
   "source": [
    "def rewrite(state):\n",
    "    \"\"\"\n",
    "    질문을 재작성(변형)하여 더 나은 질문을 생성합니다.\n",
    "    Args:\n",
    "        state (messages): 현재 상태\n",
    "    Returns:\n",
    "        dict: 재구성된 질문으로 업데이트된 상태\n",
    "    \"\"\"\n",
    "    print(\"---질문 변형---\")\n",
    "    messages = state[\"messages\"]\n",
    "    question = messages[0].content\n",
    "    msg = [\n",
    "        HumanMessage(\n",
    "            content=f\"\"\"다음 입력을 보고 근본적인 의도나 의미를 파악해보세요.\\n\n",
    "            초기 질문은 다음과 같습니다:\n",
    "            \\n-------\\n\n",
    "            {question}\n",
    "            \\n-------\\n\n",
    "            개선된 질문을 만들어주세요:\"\"\",\n",
    "        )\n",
    "    ]\n",
    "    # 평가자\n",
    "    model = ChatOpenAI(temperature=0, model=\"gpt-4o-mini\", streaming=True)\n",
    "    response = model.invoke(msg)\n",
    "    # 반환되는 메세지가 올바른지 확인\n",
    "    print(\"Rewrite 단계에서의 응답:\", response)\n",
    "    # 상태 업데이트 - 기존 메시지에 새 메시지를 추가하여 상태를 업데이트\n",
    "    state[\"messages\"].append(response)\n",
    "    return state"
   ]
  },
  {
   "cell_type": "code",
   "execution_count": 12,
   "id": "174d685e",
   "metadata": {},
   "outputs": [],
   "source": [
    "def generate(state):\n",
    "    \"\"\"\n",
    "    답변 생성\n",
    "    Args:\n",
    "        state (messages): 현재 상태\n",
    "    Returns:\n",
    "         dict: 재구성된 질문으로 업데이트된 상태\n",
    "    \"\"\"\n",
    "    print(\"---생성---\")\n",
    "    messages = state[\"messages\"]\n",
    "    question = messages[0].content\n",
    "    last_message = messages[-1]\n",
    "\n",
    "    question = messages[0].content\n",
    "    docs = last_message.content\n",
    "    # 프롬프트\n",
    "    # prompt = hub.pull(\"rlm/rag-prompt\")\n",
    "    # 프롬프트 정의\n",
    "    prompt = PromptTemplate(\n",
    "    template=\"\"\"당신은 질문-답변 작업을 위한 어시스턴트입니다.\n",
    "    아래 제공된 문맥을 사용하여 질문에 답변해주세요.\n",
    "    답을 모를 경우 '모르겠습니다'라고 말해주세요. 답변은 최대 3문장으로 간결하게 작성하세요.\n",
    "\n",
    "    질문: {question}\n",
    "    문맥: {context}\n",
    "    답변: \"\"\",\n",
    "    input_variables=[\"context\", \"question\"],\n",
    "    )\n",
    "\n",
    "    # LLM\n",
    "    llm = ChatOpenAI(model_name=\"gpt-3.5-turbo\", temperature=0, streaming=True)\n",
    "    # 체인\n",
    "    rag_chain = prompt | llm | StrOutputParser()\n",
    "    # 실행\n",
    "    response = rag_chain.invoke({\"context\": docs, \"question\": question})\n",
    "    return {\"messages\": [response]}"
   ]
  },
  {
   "cell_type": "code",
   "execution_count": 13,
   "id": "63f5836a",
   "metadata": {},
   "outputs": [],
   "source": [
    "from langgraph.graph import END, StateGraph, START\n",
    "from langgraph.prebuilt import ToolNode"
   ]
  },
  {
   "cell_type": "code",
   "execution_count": null,
   "id": "7fa197e4",
   "metadata": {},
   "outputs": [],
   "source": [
    "from langgraph.graph import END, StateGraph, MessagesState"
   ]
  },
  {
   "cell_type": "code",
   "execution_count": null,
   "id": "dba5fdd2",
   "metadata": {},
   "outputs": [],
   "source": [
    "#그래프 정의 \n",
    "workflow = StateGraph(MessagesState)\n",
    "workflow.add_node(\"agent\", agent)  # 에이전트 노드\n",
    "retrieve = ToolNode([retriever_tool])\n",
    "workflow.add_node(\"retrieve\", retrieve)  # 검색 도구 노드\n",
    "workflow.add_node(\"rewrite\", rewrite)  # 질문 재작성 노드\n",
    "workflow.add_node(\n",
    "    \"generate\", generate\n",
    ")  # 문서가 관련성이 있다고 판단된 후 응답 생성 노드"
   ]
  },
  {
   "cell_type": "code",
   "execution_count": null,
   "id": "9cc4fdf4",
   "metadata": {},
   "outputs": [],
   "source": [
    "# 에이전트 노드를 호출하여 검색을 결정합니다.\n",
    "workflow.add_edge(START, \"agent\")\n",
    "workflow.add_conditional_edges(\n",
    "    \"agent\",\n",
    "    # 에이전트 결정 평가\n",
    "    tools_condition,\n",
    "    {\n",
    "        # 조건 출력을 그래프 내 노드로 변환, 반환 값: 실행 노드\n",
    "        \"tools\": \"retrieve\",\n",
    "        END: \"generate\",\n",
    "    },\n",
    ")"
   ]
  },
  {
   "cell_type": "code",
   "execution_count": null,
   "id": "b521fb96",
   "metadata": {},
   "outputs": [],
   "source": [
    "# 검색 후 문서 관련성 평가\n",
    "workflow.add_conditional_edges(\n",
    "    \"retrieve\",\n",
    "    # 에이전트 결정 평가\n",
    "    grade_documents,\n",
    "    {\n",
    "        # 조건 출력을 그래프 내 노드로 변환, 반환 값: 실행 노드\n",
    "        \"generate\" : \"generate\",\n",
    "        \"rewrite\" : \"rewrite\"\n",
    "    }\n",
    ")\n",
    "workflow.add_edge(\"generate\", END)\n",
    "workflow.add_edge(\"rewrite\", \"agent\")\n",
    "graph = workflow.compile()"
   ]
  },
  {
   "cell_type": "code",
   "execution_count": null,
   "id": "84daeb00",
   "metadata": {},
   "outputs": [
    {
     "data": {
      "image/png": "[encoded data removed]",
      "text/plain": [
       "<IPython.core.display.Image object>"
      ]
     },
     "metadata": {},
     "output_type": "display_data"
    },
    {
     "name": "stdout",
     "output_type": "stream",
     "text": [
      "에이전트로 전달된 메시지들:  [HumanMessage(content='삼성전자 주가는?', additional_kwargs={}, response_metadata={}, id='26a9e7a2-3c43-4538-b341-8fd65e71b9c4')]\n",
      "\"노드 'agent'의 출력 결과:\"\n",
      "'---'\n",
      "{ 'messages': [ HumanMessage(content='삼성전자 주가는?', additional_kwargs={}, response_metadata={}, id='26a9e7a2-3c43-4538-b341-8fd65e71b9c4'),\n",
      "                AIMessage(content='', additional_kwargs={'tool_calls': [{'index': 0, 'id': 'call_yH44eJOVCUhpMcp2oiGaxUeX', 'function': {'arguments': '{\"query\":\"삼성전자 주가\"}', 'name': 'retrieve_blog_posts'}, 'type': 'function'}]}, response_metadata={'finish_reason': 'tool_calls', 'model_name': 'gpt-4o-mini-2024-07-18', 'system_fingerprint': 'fp_62a23a81ef', 'service_tier': 'default'}, id='run--a2eaf547-8816-4b69-89e6-9260d0cb5a42-0', tool_calls=[{'name': 'retrieve_blog_posts', 'args': {'query': '삼성전자 주가'}, 'id': 'call_yH44eJOVCUhpMcp2oiGaxUeX', 'type': 'tool_call'}])]}\n",
      "'\\n---\\n'\n",
      "----문서 관련성 평가----\n",
      "--결정: 문서 관련성 있음--\n",
      "\"노드 'retrieve'의 출력 결과:\"\n",
      "'---'\n",
      "{ 'messages': [ ToolMessage(content='-0.43%\\n\\t\\t\\t\\t\\n\\n\\n\\n삼성전자우\\n57,600\\n상승 900\\n\\n\\n\\t\\t\\t\\t+1.59%\\n\\t\\t\\t\\t\\n\\n\\n\\nKB금융\\n115,000\\n하락 600\\n\\n\\n\\t\\t\\t\\t-0.52%\\n\\n삼성전자\\n70,300\\n상승 1,500\\n\\n\\n\\t\\t\\t\\t+2.18%\\n\\t\\t\\t\\t\\n\\n\\n\\nSK하이닉스\\n261,500\\n상승 3,000\\n\\n\\n\\t\\t\\t\\t+1.16%\\n\\n삼성전자\\n70,500\\n상승 1,700\\n\\n\\n\\t\\t\\t\\t+2.47%\\n\\t\\t\\t\\t\\n\\n\\n\\nSK하이닉스\\n262,000\\n상승 3,500\\n\\n\\n\\t\\t\\t\\t+1.35%\\n\\n+11.44%\\n\\t\\t\\t\\t\\n\\n\\n\\n삼성전자\\n70,300\\n상승 1,500\\n\\n\\n\\t\\t\\t\\t+2.18%\\n\\t\\t\\t\\t\\n\\n\\n\\n두산에너빌리티\\n65,600\\n하락 700', name='retrieve_blog_posts', id='63bd98df-a7aa-4a47-9bf8-a7932fe623c3', tool_call_id='call_yH44eJOVCUhpMcp2oiGaxUeX')]}\n",
      "'\\n---\\n'\n",
      "---생성---\n",
      "\"노드 'generate'의 출력 결과:\"\n",
      "'---'\n",
      "{'messages': ['삼성전자 주가는 70,500원이며 상승폭은 1,700원으로 +2.47% 상승했습니다.']}\n",
      "'\\n---\\n'\n"
     ]
    }
   ],
   "source": [
    "from IPython.display import Image, display\n",
    "display(Image(graph.get_graph(xray=True).draw_mermaid_png()))\n",
    "import pprint\n",
    "inputs = {\n",
    "    'messages': [('user', '삼성전자 주가는?') ]}\n",
    "\n",
    "for output in graph.stream(inputs):\n",
    "    for key, value in output.items():\n",
    "        pprint.pprint(f\"노드 '{key}'의 출력 결과:\")\n",
    "        pprint.pprint(\"---\")\n",
    "        pprint.pprint(value, indent=2, width=80, depth=None)\n",
    "    pprint.pprint(\"\\n---\\n\")"
   ]
  },
  {
   "cell_type": "code",
   "execution_count": null,
   "id": "b8096ffa",
   "metadata": {},
   "outputs": [],
   "source": []
  }
 ],
 "metadata": {
  "kernelspec": {
   "display_name": "openai",
   "language": "python",
   "name": "python3"
  },
  "language_info": {
   "codemirror_mode": {
    "name": "ipython",
    "version": 3
   },
   "file_extension": ".py",
   "mimetype": "text/x-python",
   "name": "python",
   "nbconvert_exporter": "python",
   "pygments_lexer": "ipython3",
   "version": "3.11.13"
  }
 },
 "nbformat": 4,
 "nbformat_minor": 5
}
