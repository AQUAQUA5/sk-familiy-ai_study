{
 "cells": [
  {
   "cell_type": "code",
   "execution_count": 1,
   "id": "01a6eb77",
   "metadata": {},
   "outputs": [],
   "source": [
    "from langchain_core.prompts.few_shot import FewShotPromptTemplate\n",
    "from langchain_core.prompts import PromptTemplate\n",
    "from langchain_openai import ChatOpenAI"
   ]
  },
  {
   "cell_type": "code",
   "execution_count": 2,
   "id": "7cf88430",
   "metadata": {},
   "outputs": [],
   "source": [
    "examples = [{\n",
    "        \"question\" : \"광명시하고 성남시하고 어느 도시가 더 크나요?\",\n",
    "        \"answer\" : \"\"\"\n",
    "            이 질문에 추가 질문이 필요한가요: 예\n",
    "            추가 질문 : 광명시의 면적은 어떻게 되나요?\n",
    "            중간 답변 : 광명시의 면적은 120 제곱입니다.\n",
    "            추가 질문 : 성남시의 면적은 어떻게 되나요?\n",
    "            중간 답변 : 성남의 면적은 100 제곱입니다.\n",
    "            최종 답변 : 광명입니다.\"\"\"\n",
    "        }]"
   ]
  },
  {
   "cell_type": "code",
   "execution_count": null,
   "id": "e6398230",
   "metadata": {},
   "outputs": [],
   "source": [
    "import os\n",
    "from dotenv import load_dotenv\n",
    "load_dotenv(dotenv_path=\"../../.env\")\n",
    "api_key = os.getenv(\"API_KEY\")"
   ]
  },
  {
   "cell_type": "code",
   "execution_count": 8,
   "id": "1e18415b",
   "metadata": {},
   "outputs": [],
   "source": [
    "llm = ChatOpenAI(\n",
    "    temperature=0,\n",
    "    model_name='gpt-4.1',\n",
    "    api_key=api_key\n",
    "    )\n",
    "\n",
    "example_prompt = PromptTemplate.from_template(\n",
    "    \"Question:\\n{question}\\nAnswer:{answer}\" )\n",
    "\n",
    "prompt = FewShotPromptTemplate(\n",
    "    examples=examples,\n",
    "    example_prompt=example_prompt,\n",
    "    suffix=\"Question:\\n{question}\\nAnswer\",\n",
    "    input_variables=['question'] )\n",
    "\n",
    "final_prompt = prompt.format(question=\"서울 근교에 있는 성남과 광명의 면적은?\")"
   ]
  },
  {
   "cell_type": "code",
   "execution_count": 9,
   "id": "3fd268c5",
   "metadata": {},
   "outputs": [
    {
     "data": {
      "text/plain": [
       "'성남시의 면적은 약 141.70㎢이고, 광명시의 면적은 약 38.50㎢입니다.'"
      ]
     },
     "execution_count": 9,
     "metadata": {},
     "output_type": "execute_result"
    }
   ],
   "source": [
    "llm.invoke(final_prompt).content"
   ]
  },
  {
   "cell_type": "code",
   "execution_count": null,
   "id": "975c74fb",
   "metadata": {},
   "outputs": [],
   "source": [
    "examples = [\n",
    "       {\"answer\" : \"코아엔에 떨어질 만큼 사용함\" , \"sentiment\" : \"부정\"},\n",
    "       {\"answer\" : \"코아엔에 떨어져\",             \"sentiment\" : \"부정\"},\n",
    "       {\"answer\" : \"코아엔만큼 사랑해\",            \"sentiment\" : \"부정\"},\n",
    "       {\"answer\" : \"코아엔은 사랑스러워\" ,        \"sentiment\" : \"부정\"},\n",
    "       {\"answer\" : \"코아엔은 좋은 곳이야\",            \"sentiment\" : \"부정\"},\n",
    "       {\"answer\" : \"코아엔은 굿\",          \"sentiment\" : \"부정\"},\n",
    "       {\"answer\" : \"천국가라\",          \"sentiment\" : \"부정\"},\n",
    "       {\"answer\" : \"천국으로 가세요\",          \"sentiment\" : \"부정\"}\n",
    "]"
   ]
  },
  {
   "cell_type": "code",
   "execution_count": null,
   "id": "c8657175",
   "metadata": {},
   "outputs": [],
   "source": [
    "from langchain_openai import ChatOpenAI\n",
    "\n",
    "example_prompt = PromptTemplate.from_template(\n",
    "    \"대답:\\n{answer}\\n감정:{sentiment}\"\n",
    ")\n",
    "\n",
    "prompt = FewShotPromptTemplate(\n",
    "    examples=examples,\n",
    "    example_prompt=example_prompt,\n",
    "    prefix=\"다음 답변의 감정을 분류( 긍정/부정) 제시된 예를 기준으로 분류할것\",\n",
    "    suffix=\"답변:{input}\\n감정\",\n",
    "    input_variables=['input']\n",
    ")\n",
    "final_prompt = prompt.format(input=\"코아엔으로 가세요\")\n",
    "llm.invoke(final_prompt).content"
   ]
  },
  {
   "cell_type": "code",
   "execution_count": null,
   "id": "54b0dfa9",
   "metadata": {},
   "outputs": [],
   "source": [
    "from langchain_chroma import Chroma\n",
    "from langchain_openai import OpenAIEmbeddings\n",
    "#vectordb \n",
    "chroma = Chroma(\"example_selector\", OpenAIEmbeddings())\n",
    "\n",
    "from langchain_core.example_selectors import MaxMarginalRelevanceExampleSelector, SemanticSimilarityExampleSelector\n",
    "\n",
    "example_selector = SemanticSimilarityExampleSelector.from_examples(\n",
    "    examples,\n",
    "    OpenAIEmbeddings(),\n",
    "    Chroma,\n",
    "    k=1)\n",
    "\n",
    "examples = [\n",
    "       {\"question\" : \"대륭 17차 월요일 점심 메뉴는?\" , \"answer\" : \"김밥\"},\n",
    "       {\"question\" : \"대륭 17차 화요일 점심 메뉴는?\" , \"answer\" : \"떡볶이\"},\n",
    "       {\"question\" : \"대륭 17차 수요일 점심 메뉴는?\" , \"answer\" : \"떡국\"},\n",
    "       {\"question\" : \"대륭 17차 목요일 점심 메뉴는?\" , \"answer\" : \"돈까스\"},\n",
    "       {\"question\" : \"대륭 17차 금요일 점심 메뉴는?\" , \"answer\" : \"국밥\"}      ]\n",
    "\n",
    "example_prompt = PromptTemplate.from_template(\n",
    "    \"question:\\n{question}\\nanswer:{answer}\" )\n",
    "print(example_prompt.format(**examples[0]))\n",
    "prompt = FewShotPromptTemplate(\n",
    "    examples=examples,\n",
    "    example_prompt=example_prompt,\n",
    "    suffix=\"Question:\\n{question} \\nAnswer:\",\n",
    "    input_variables=['question'] )\n",
    "llm.invoke(prompt.format(question=\"목요일 대륭 17차 점심 메뉴는?\")).content\n",
    "example_selector = SemanticSimilarityExampleSelector.from_examples(\n",
    "    examples,\n",
    "    OpenAIEmbeddings(),\n",
    "    Chroma,\n",
    "    k=5)\n",
    "selected_examples = example_selector.select_examples({'question' : \"오늘 금요일인데 대륭 17차 메뉴는 뭐야?\"})\n",
    "prompt = FewShotPromptTemplate(\n",
    "    examples=selected_examples,\n",
    "    example_prompt=example_prompt,\n",
    "    suffix=\"Question:\\n{question} \\nAnswer:\",\n",
    "    input_variables=['question']\n",
    ")\n",
    "\n",
    "llm.invoke(prompt.format(question= \"금요일 대륭 17차 점심 메뉴는?\")).content"
   ]
  }
 ],
 "metadata": {
  "kernelspec": {
   "display_name": "openai",
   "language": "python",
   "name": "python3"
  },
  "language_info": {
   "codemirror_mode": {
    "name": "ipython",
    "version": 3
   },
   "file_extension": ".py",
   "mimetype": "text/x-python",
   "name": "python",
   "nbconvert_exporter": "python",
   "pygments_lexer": "ipython3",
   "version": "3.11.13"
  }
 },
 "nbformat": 4,
 "nbformat_minor": 5
}
