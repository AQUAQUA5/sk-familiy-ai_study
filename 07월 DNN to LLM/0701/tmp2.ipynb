{
 "cells": [
  {
   "cell_type": "code",
   "execution_count": null,
   "id": "7d110b43",
   "metadata": {},
   "outputs": [],
   "source": [
    "''' 1. Module Import '''\n",
    "import numpy as np\n",
    "import matplotlib.pyplot as plt\n",
    "\n",
    "import torch\n",
    "import torch.nn as nn\n",
    "import torch.nn.functional as F\n",
    "from torchvision import transforms, datasets"
   ]
  },
  {
   "cell_type": "code",
   "execution_count": null,
   "id": "244ba018",
   "metadata": {},
   "outputs": [
    {
     "name": "stdout",
     "output_type": "stream",
     "text": [
      "Using PyTorch version: 2.5.1  Device: cuda\n"
     ]
    }
   ],
   "source": [
    "''' 2. 딥러닝 모델을 설계할 때 활용하는 장비 확인 '''\n",
    "if torch.cuda.is_available():\n",
    "    DEVICE = torch.device('cuda')\n",
    "else:\n",
    "    DEVICE = torch.device('cpu')\n",
    "print('Using PyTorch version:', torch.__version__, ' Device:', DEVICE)"
   ]
  },
  {
   "cell_type": "code",
   "execution_count": null,
   "id": "1e368a0a",
   "metadata": {},
   "outputs": [
    {
     "name": "stderr",
     "output_type": "stream",
     "text": [
      "/home/user1/miniconda3/envs/d2/lib/python3.10/site-packages/torchvision/models/_utils.py:223: UserWarning: Arguments other than a weight enum or `None` for 'weights' are deprecated since 0.13 and may be removed in the future. The current behavior is equivalent to passing `weights=None`.\n",
      "  warnings.warn(msg)\n"
     ]
    }
   ],
   "source": [
    "import torchvision.models as models\n",
    "model = models.resnet34(pretrained = False)\n",
    "num_ftrs = model.fc.in_features\n",
    "model.fc = nn.Linear(num_ftrs, 10)\n",
    "model = model.cuda()"
   ]
  },
  {
   "cell_type": "code",
   "execution_count": 29,
   "id": "46eb6858",
   "metadata": {},
   "outputs": [],
   "source": [
    "BATCH_SIZE = 32\n",
    "EPOCHS = 10"
   ]
  },
  {
   "cell_type": "code",
   "execution_count": null,
   "id": "e17b576c",
   "metadata": {},
   "outputs": [
    {
     "name": "stdout",
     "output_type": "stream",
     "text": [
      "Files already downloaded and verified\n"
     ]
    }
   ],
   "source": [
    "\n",
    "''' 3. Data Augmentation이 적용된 CIFAR10 데이터 다운로드 (Train set, Test set 분리하기) '''\n",
    "train_dataset = datasets.CIFAR10(root = \"../data/CIFAR_10\",\n",
    "                                  train = True,\n",
    "                                  download = True,\n",
    "                                  transform = transforms.Compose([\n",
    "                                    transforms.RandomHorizontalFlip(),\n",
    "                                    transforms.ToTensor(),\n",
    "                                    transforms.Normalize((0.5, 0.5, 0.5), (0.5, 0.5, 0.5))]))\n",
    "\n",
    "test_dataset = datasets.CIFAR10(root = \"../data/CIFAR_10\",\n",
    "                                train = False,\n",
    "                                transform = transforms.Compose([\n",
    "                                    transforms.RandomHorizontalFlip(),\n",
    "                                    transforms.ToTensor(),\n",
    "                                    transforms.Normalize((0.5, 0.5, 0.5), (0.5, 0.5, 0.5))]))\n",
    "\n",
    "train_loader = torch.utils.data.DataLoader(dataset = train_dataset,\n",
    "                                            batch_size = BATCH_SIZE,\n",
    "                                            shuffle = True)\n",
    "\n",
    "test_loader = torch.utils.data.DataLoader(dataset = test_dataset,\n",
    "                                          batch_size = BATCH_SIZE,\n",
    "                                          shuffle = False)"
   ]
  },
  {
   "cell_type": "code",
   "execution_count": null,
   "id": "48c4773e",
   "metadata": {},
   "outputs": [],
   "source": [
    "optimizer = torch.optim.Adam(model.parameters(), lr = 0.001)\n",
    "criterion = nn.CrossEntropyLoss()"
   ]
  },
  {
   "cell_type": "code",
   "execution_count": null,
   "id": "48968e64",
   "metadata": {},
   "outputs": [],
   "source": [
    "def evaluate(model, test_loader):\n",
    "    model.eval()\n",
    "    test_loss = 0\n",
    "    correct = 0\n",
    "\n",
    "    with torch.no_grad():\n",
    "        for image, label in test_loader:\n",
    "            image = image.to(DEVICE)\n",
    "            label = label.to(DEVICE)\n",
    "            output = model(image)\n",
    "            test_loss += criterion(output, label).item()\n",
    "            prediction = output.max(1, keepdim = True)[1]\n",
    "            correct += prediction.eq(label.view_as(prediction)).sum().item()\n",
    "    \n",
    "    test_loss /= (len(test_loader.dataset) / BATCH_SIZE)\n",
    "    test_accuracy = 100. * correct / len(test_loader.dataset)\n",
    "    return test_loss, test_accuracy"
   ]
  },
  {
   "cell_type": "code",
   "execution_count": null,
   "id": "40d60953",
   "metadata": {},
   "outputs": [
    {
     "name": "stdout",
     "output_type": "stream",
     "text": [
      "\n",
      "[EPOCH: 1], \tTest Loss: 2.4450, \tTest Accuracy: 10.58 % \n",
      "\n",
      "\n",
      "[EPOCH: 2], \tTest Loss: 2.4437, \tTest Accuracy: 10.69 % \n",
      "\n",
      "\n",
      "[EPOCH: 3], \tTest Loss: 2.4446, \tTest Accuracy: 10.47 % \n",
      "\n",
      "\n",
      "[EPOCH: 4], \tTest Loss: 2.4449, \tTest Accuracy: 10.55 % \n",
      "\n",
      "\n",
      "[EPOCH: 5], \tTest Loss: 2.4444, \tTest Accuracy: 10.60 % \n",
      "\n",
      "\n",
      "[EPOCH: 6], \tTest Loss: 2.4435, \tTest Accuracy: 11.12 % \n",
      "\n",
      "\n",
      "[EPOCH: 7], \tTest Loss: 2.4441, \tTest Accuracy: 10.65 % \n",
      "\n",
      "\n",
      "[EPOCH: 8], \tTest Loss: 2.4449, \tTest Accuracy: 10.77 % \n",
      "\n",
      "\n",
      "[EPOCH: 9], \tTest Loss: 2.4439, \tTest Accuracy: 10.75 % \n",
      "\n",
      "\n",
      "[EPOCH: 10], \tTest Loss: 2.4448, \tTest Accuracy: 10.36 % \n",
      "\n"
     ]
    }
   ],
   "source": [
    "for epoch in range(1, EPOCHS + 1):\n",
    "    # train(model, train_loader, optimizer, log_interval = 200)\n",
    "    test_loss, test_accuracy = evaluate(model, test_loader)\n",
    "    print(\"\\n[EPOCH: {}], \\tTest Loss: {:.4f}, \\tTest Accuracy: {:.2f} %\".format(epoch, test_loss, test_accuracy))"
   ]
  },
  {
   "cell_type": "code",
   "execution_count": 34,
   "id": "9044fc27",
   "metadata": {},
   "outputs": [],
   "source": [
    "''' 8. 불러온 Resnet34 모델 학습을 진행하며 학습 데이터에 대한 모델 성능을 확인하는 함수 정의 '''\n",
    "def train(model, train_loader, optimizer, log_interval):\n",
    "    model.train()\n",
    "    for batch_idx, (image, label) in enumerate(train_loader):\n",
    "        image = image.to(DEVICE)\n",
    "        label = label.to(DEVICE)\n",
    "        optimizer.zero_grad()\n",
    "        output = model(image)\n",
    "        loss = criterion(output, label)\n",
    "        loss.backward()\n",
    "        optimizer.step()\n",
    "\n",
    "        if batch_idx % log_interval == 0:\n",
    "            print(\"Train Epoch: {} [{}/{} ({:.0f}%)]\\tTrain Loss: {:.6f}\".format(\n",
    "                epoch, batch_idx * len(image), \n",
    "                len(train_loader.dataset), 100. * batch_idx / len(train_loader), \n",
    "                loss.item()))\n"
   ]
  },
  {
   "cell_type": "code",
   "execution_count": 35,
   "id": "12caa5ae",
   "metadata": {},
   "outputs": [
    {
     "name": "stdout",
     "output_type": "stream",
     "text": [
      "Train Epoch: 1 [0/50000 (0%)]\tTrain Loss: 2.666944\n",
      "Train Epoch: 1 [6400/50000 (13%)]\tTrain Loss: 1.584967\n",
      "Train Epoch: 1 [12800/50000 (26%)]\tTrain Loss: 1.649621\n",
      "Train Epoch: 1 [19200/50000 (38%)]\tTrain Loss: 1.393158\n",
      "Train Epoch: 1 [25600/50000 (51%)]\tTrain Loss: 1.799635\n",
      "Train Epoch: 1 [32000/50000 (64%)]\tTrain Loss: 1.554136\n",
      "Train Epoch: 1 [38400/50000 (77%)]\tTrain Loss: 1.392786\n",
      "Train Epoch: 1 [44800/50000 (90%)]\tTrain Loss: 1.111435\n",
      "\n",
      "[EPOCH: 1], \tTest Loss: 1.2170, \tTest Accuracy: 57.86 %\n",
      "Train Epoch: 2 [0/50000 (0%)]\tTrain Loss: 1.279277\n",
      "Train Epoch: 2 [6400/50000 (13%)]\tTrain Loss: 0.887981\n",
      "Train Epoch: 2 [12800/50000 (26%)]\tTrain Loss: 1.220961\n",
      "Train Epoch: 2 [19200/50000 (38%)]\tTrain Loss: 1.295018\n",
      "Train Epoch: 2 [25600/50000 (51%)]\tTrain Loss: 1.472755\n",
      "Train Epoch: 2 [32000/50000 (64%)]\tTrain Loss: 0.710842\n",
      "Train Epoch: 2 [38400/50000 (77%)]\tTrain Loss: 0.923910\n",
      "Train Epoch: 2 [44800/50000 (90%)]\tTrain Loss: 0.941077\n",
      "\n",
      "[EPOCH: 2], \tTest Loss: 0.9454, \tTest Accuracy: 66.47 %\n",
      "Train Epoch: 3 [0/50000 (0%)]\tTrain Loss: 0.964914\n",
      "Train Epoch: 3 [6400/50000 (13%)]\tTrain Loss: 0.980035\n",
      "Train Epoch: 3 [12800/50000 (26%)]\tTrain Loss: 0.830010\n",
      "Train Epoch: 3 [19200/50000 (38%)]\tTrain Loss: 1.158425\n",
      "Train Epoch: 3 [25600/50000 (51%)]\tTrain Loss: 0.854425\n",
      "Train Epoch: 3 [32000/50000 (64%)]\tTrain Loss: 0.889389\n",
      "Train Epoch: 3 [38400/50000 (77%)]\tTrain Loss: 0.712334\n",
      "Train Epoch: 3 [44800/50000 (90%)]\tTrain Loss: 1.439931\n",
      "\n",
      "[EPOCH: 3], \tTest Loss: 0.8604, \tTest Accuracy: 70.49 %\n",
      "Train Epoch: 4 [0/50000 (0%)]\tTrain Loss: 0.411989\n",
      "Train Epoch: 4 [6400/50000 (13%)]\tTrain Loss: 1.251538\n",
      "Train Epoch: 4 [12800/50000 (26%)]\tTrain Loss: 0.636450\n",
      "Train Epoch: 4 [19200/50000 (38%)]\tTrain Loss: 0.971584\n",
      "Train Epoch: 4 [25600/50000 (51%)]\tTrain Loss: 1.087885\n",
      "Train Epoch: 4 [32000/50000 (64%)]\tTrain Loss: 0.903862\n",
      "Train Epoch: 4 [38400/50000 (77%)]\tTrain Loss: 0.525845\n",
      "Train Epoch: 4 [44800/50000 (90%)]\tTrain Loss: 0.838128\n",
      "\n",
      "[EPOCH: 4], \tTest Loss: 0.7884, \tTest Accuracy: 73.15 %\n",
      "Train Epoch: 5 [0/50000 (0%)]\tTrain Loss: 0.810205\n",
      "Train Epoch: 5 [6400/50000 (13%)]\tTrain Loss: 0.665931\n",
      "Train Epoch: 5 [12800/50000 (26%)]\tTrain Loss: 0.669125\n",
      "Train Epoch: 5 [19200/50000 (38%)]\tTrain Loss: 0.757009\n",
      "Train Epoch: 5 [25600/50000 (51%)]\tTrain Loss: 0.652135\n",
      "Train Epoch: 5 [32000/50000 (64%)]\tTrain Loss: 0.934285\n",
      "Train Epoch: 5 [38400/50000 (77%)]\tTrain Loss: 0.607922\n",
      "Train Epoch: 5 [44800/50000 (90%)]\tTrain Loss: 0.722094\n",
      "\n",
      "[EPOCH: 5], \tTest Loss: 0.8650, \tTest Accuracy: 71.43 %\n",
      "Train Epoch: 6 [0/50000 (0%)]\tTrain Loss: 0.471332\n",
      "Train Epoch: 6 [6400/50000 (13%)]\tTrain Loss: 0.496645\n",
      "Train Epoch: 6 [12800/50000 (26%)]\tTrain Loss: 0.389236\n",
      "Train Epoch: 6 [19200/50000 (38%)]\tTrain Loss: 0.864616\n",
      "Train Epoch: 6 [25600/50000 (51%)]\tTrain Loss: 0.557852\n",
      "Train Epoch: 6 [32000/50000 (64%)]\tTrain Loss: 0.765206\n",
      "Train Epoch: 6 [38400/50000 (77%)]\tTrain Loss: 1.141713\n",
      "Train Epoch: 6 [44800/50000 (90%)]\tTrain Loss: 0.406098\n",
      "\n",
      "[EPOCH: 6], \tTest Loss: 0.7093, \tTest Accuracy: 76.08 %\n",
      "Train Epoch: 7 [0/50000 (0%)]\tTrain Loss: 0.334099\n",
      "Train Epoch: 7 [6400/50000 (13%)]\tTrain Loss: 0.666897\n",
      "Train Epoch: 7 [12800/50000 (26%)]\tTrain Loss: 0.610195\n",
      "Train Epoch: 7 [19200/50000 (38%)]\tTrain Loss: 0.440017\n",
      "Train Epoch: 7 [25600/50000 (51%)]\tTrain Loss: 0.616089\n",
      "Train Epoch: 7 [32000/50000 (64%)]\tTrain Loss: 0.408304\n",
      "Train Epoch: 7 [38400/50000 (77%)]\tTrain Loss: 0.326070\n",
      "Train Epoch: 7 [44800/50000 (90%)]\tTrain Loss: 0.888010\n",
      "\n",
      "[EPOCH: 7], \tTest Loss: 0.6635, \tTest Accuracy: 77.57 %\n",
      "Train Epoch: 8 [0/50000 (0%)]\tTrain Loss: 0.645989\n",
      "Train Epoch: 8 [6400/50000 (13%)]\tTrain Loss: 0.479330\n",
      "Train Epoch: 8 [12800/50000 (26%)]\tTrain Loss: 0.417935\n",
      "Train Epoch: 8 [19200/50000 (38%)]\tTrain Loss: 0.353892\n",
      "Train Epoch: 8 [25600/50000 (51%)]\tTrain Loss: 0.479548\n",
      "Train Epoch: 8 [32000/50000 (64%)]\tTrain Loss: 0.455400\n",
      "Train Epoch: 8 [38400/50000 (77%)]\tTrain Loss: 0.368681\n",
      "Train Epoch: 8 [44800/50000 (90%)]\tTrain Loss: 0.701977\n",
      "\n",
      "[EPOCH: 8], \tTest Loss: 0.6131, \tTest Accuracy: 79.21 %\n",
      "Train Epoch: 9 [0/50000 (0%)]\tTrain Loss: 0.450274\n",
      "Train Epoch: 9 [6400/50000 (13%)]\tTrain Loss: 0.614969\n",
      "Train Epoch: 9 [12800/50000 (26%)]\tTrain Loss: 0.501398\n",
      "Train Epoch: 9 [19200/50000 (38%)]\tTrain Loss: 0.723427\n",
      "Train Epoch: 9 [25600/50000 (51%)]\tTrain Loss: 0.907855\n",
      "Train Epoch: 9 [32000/50000 (64%)]\tTrain Loss: 0.223840\n",
      "Train Epoch: 9 [38400/50000 (77%)]\tTrain Loss: 0.432031\n",
      "Train Epoch: 9 [44800/50000 (90%)]\tTrain Loss: 0.436584\n",
      "\n",
      "[EPOCH: 9], \tTest Loss: 0.6264, \tTest Accuracy: 78.88 %\n",
      "Train Epoch: 10 [0/50000 (0%)]\tTrain Loss: 0.624133\n",
      "Train Epoch: 10 [6400/50000 (13%)]\tTrain Loss: 0.517098\n",
      "Train Epoch: 10 [12800/50000 (26%)]\tTrain Loss: 0.432577\n",
      "Train Epoch: 10 [19200/50000 (38%)]\tTrain Loss: 0.670314\n",
      "Train Epoch: 10 [25600/50000 (51%)]\tTrain Loss: 0.170776\n",
      "Train Epoch: 10 [32000/50000 (64%)]\tTrain Loss: 0.405484\n",
      "Train Epoch: 10 [38400/50000 (77%)]\tTrain Loss: 0.500232\n",
      "Train Epoch: 10 [44800/50000 (90%)]\tTrain Loss: 0.766717\n",
      "\n",
      "[EPOCH: 10], \tTest Loss: 0.6203, \tTest Accuracy: 79.08 %\n"
     ]
    }
   ],
   "source": [
    "for epoch in range(1, EPOCHS + 1):\n",
    "    train(model, train_loader, optimizer, log_interval = 200)\n",
    "    test_loss, test_accuracy = evaluate(model, test_loader)\n",
    "    print(\"\\n[EPOCH: {}], \\tTest Loss: {:.4f}, \\tTest Accuracy: {:.2f} %\".format(epoch, test_loss, test_accuracy))"
   ]
  },
  {
   "cell_type": "code",
   "execution_count": null,
   "id": "dd973ee5",
   "metadata": {},
   "outputs": [],
   "source": []
  }
 ],
 "metadata": {
  "kernelspec": {
   "display_name": "d2",
   "language": "python",
   "name": "python3"
  },
  "language_info": {
   "codemirror_mode": {
    "name": "ipython",
    "version": 3
   },
   "file_extension": ".py",
   "mimetype": "text/x-python",
   "name": "python",
   "nbconvert_exporter": "python",
   "pygments_lexer": "ipython3",
   "version": "3.10.18"
  }
 },
 "nbformat": 4,
 "nbformat_minor": 5
}
