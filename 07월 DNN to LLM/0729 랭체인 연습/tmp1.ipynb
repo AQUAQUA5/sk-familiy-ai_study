{
 "cells": [
  {
   "cell_type": "code",
   "execution_count": 9,
   "id": "78fca796",
   "metadata": {},
   "outputs": [],
   "source": [
    "import base64\n",
    "from io import BytesIO\n",
    "\n",
    "from IPython.display import HTML, display\n",
    "from PIL import Image\n",
    "from langchain_core.messages import HumanMessage"
   ]
  },
  {
   "cell_type": "code",
   "execution_count": 10,
   "id": "081bcca6",
   "metadata": {},
   "outputs": [],
   "source": [
    "def convert_to_base64(pil_image):\n",
    "    \"\"\"\n",
    "    PIL 이미지를 Base64로 인코딩된 문자열로 변환합니다.\n",
    "\n",
    "    :param pil_image: PIL 이미지\n",
    "    :return: 크기 조정된 Base64 문자열\n",
    "    \"\"\"\n",
    "    buffered = BytesIO()\n",
    "    pil_image.save(buffered, format=\"JPEG\")  # 필요한 경우 형식을 변경할 수 있습니다.\n",
    "    img_str = base64.b64encode(buffered.getvalue()).decode(\"utf-8\")\n",
    "    return img_str\n",
    "\n",
    "def plt_img_base64(img_base64):\n",
    "    \"\"\"\n",
    "    Base64로 인코딩된 문자열을 이미지로 표시합니다.\n",
    "    :param img_base64:  Base64 문자열\n",
    "    \"\"\"\n",
    "    # Base64 문자열을 소스로 사용하여 HTML img 태그 생성\n",
    "    image_html = f'<img src=\"data:image/jpeg;base64,{img_base64}\" />'\n",
    "    # HTML을 렌더링하여 이미지 표시\n",
    "    display(HTML(image_html))\n",
    "\n",
    "def prompt_func(data):  # 프롬프트 함수를 정의합니다.\n",
    "    text = data[\"text\"]  # 데이터에서 텍스트를 가져옵니다.\n",
    "    image = data[\"image\"]  # 데이터에서 이미지를 가져옵니다.\n",
    "    image_part = {  # 이미지 부분을 정의합니다.\n",
    "        \"type\": \"image_url\",  # 이미지 URL 타입을 지정합니다.\n",
    "        \"image_url\": f\"data:image/jpeg;base64,{image}\",  # 이미지 URL을 생성합니다.\n",
    "    }\n",
    "    content_parts = []  # 콘텐츠 부분을 저장할 리스트를 초기화합니다.\n",
    "    text_part = {\"type\": \"text\", \"text\": text}  # 텍스트 부분을 정의합니다.\n",
    "    content_parts.append(image_part)  # 이미지 부분을 콘텐츠 부분에 추가합니다.\n",
    "    content_parts.append(text_part)  # 텍스트 부분을 콘텐츠 부분에 추가합니다.\n",
    "    return [HumanMessage(content=content_parts)]  # HumanMessage 객체를 반환합니다."
   ]
  },
  {
   "cell_type": "code",
   "execution_count": 14,
   "id": "0d1469c3",
   "metadata": {},
   "outputs": [
    {
     "data": {
      "text/html": [
       "<img src=\"data:image/jpeg;base64,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\" />"
      ],
      "text/plain": [
       "<IPython.core.display.HTML object>"
      ]
     },
     "metadata": {},
     "output_type": "display_data"
    }
   ],
   "source": [
    "file_path =  \"./data/dog_low.jpg\"\n",
    "pil_image = Image.open(file_path)\n",
    "\n",
    "image_b64 = convert_to_base64(pil_image)\n",
    "plt_img_base64(image_b64)"
   ]
  },
  {
   "cell_type": "code",
   "execution_count": 12,
   "id": "5ea1852a",
   "metadata": {},
   "outputs": [],
   "source": [
    "from langchain_core.output_parsers import StrOutputParser\n",
    "from langchain_ollama import ChatOllama\n",
    "from langchain_core.messages import HumanMessage"
   ]
  },
  {
   "cell_type": "code",
   "execution_count": 15,
   "id": "acc59e30",
   "metadata": {},
   "outputs": [
    {
     "name": "stdout",
     "output_type": "stream",
     "text": [
      " - The image is a collage of two photos.\n",
      "- Both photos feature the same dog, which appears to be a Border Collie based on its coat and facial features.\n",
      "- In the left photo, the dog is looking directly at the camera with a focused expression.\n",
      "- In the right photo, the dog's gaze is slightly off-camera, and it seems less attentive than in the first image.\n",
      "- The dog has a black and white coat with distinctive markings on its face and body.\n",
      "- The background of both photos is indistinct but suggests an indoor setting.\n",
      "- There are no visible texts or distinguishing marks that provide additional context about the location or event. \n"
     ]
    }
   ],
   "source": [
    "# ChatOllama 멀티모달 언어 모델을 불러옵니다.\n",
    "llm = ChatOllama(model=\"llava:7b\", temperature=0)\n",
    "\n",
    "# 프롬프트 함수, 언어 모델, 출력 파서를 연결하여 체인을 생성합니다.\n",
    "chain = prompt_func | llm | StrOutputParser()\n",
    "\n",
    "query_chain = chain.invoke(  # 체인을 호출하여 쿼리를 실행합니다.\n",
    "    # 텍스트와 이미지를 전달합니다.\n",
    "    {\"text\": \"Describe a picture in bullet points\", \"image\": image_b64}\n",
    ")\n",
    "\n",
    "print(query_chain)  # 쿼리 결과를 출력합니다."
   ]
  },
  {
   "cell_type": "code",
   "execution_count": null,
   "id": "ba781527",
   "metadata": {},
   "outputs": [],
   "source": []
  }
 ],
 "metadata": {
  "kernelspec": {
   "display_name": "openai",
   "language": "python",
   "name": "python3"
  },
  "language_info": {
   "codemirror_mode": {
    "name": "ipython",
    "version": 3
   },
   "file_extension": ".py",
   "mimetype": "text/x-python",
   "name": "python",
   "nbconvert_exporter": "python",
   "pygments_lexer": "ipython3",
   "version": "3.11.13"
  }
 },
 "nbformat": 4,
 "nbformat_minor": 5
}
