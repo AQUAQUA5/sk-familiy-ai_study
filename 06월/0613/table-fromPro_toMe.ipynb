{
 "cells": [
  {
   "cell_type": "code",
   "execution_count": null,
   "id": "11ed01ac",
   "metadata": {},
   "outputs": [],
   "source": [
    "from sqlalchemy import create_engine, MetaData, Table\n",
    "\n",
    "user= 'play'\n",
    "password = '123'\n",
    "host='222.112.208.67'\n",
    "port = 3306\n",
    "database='sk17'\n",
    "engine = sqlalchemy.create_engine(f\"mysql://{user}:{password}@{host}:{port}/{database}\")"
   ]
  },
  {
   "cell_type": "code",
   "execution_count": null,
   "id": "1719b537",
   "metadata": {},
   "outputs": [],
   "source": [
    "metadata = MetaData()\n",
    "kbo_detail2 = Table('kbo_detail2', metadata, autoload_with=engine)\n",
    "\n",
    "user= 'play'\n",
    "password = '123'\n",
    "host='127.0.0.1'\n",
    "port = 3306\n",
    "database='sk17'\n",
    "engine2 = sqlalchemy.create_engine(f\"mysql://{user}:{password}@{host}:{port}/{database}\")\n",
    "\n",
    "# 1. 테이블 구조 생성\n",
    "metadata.create_all(engine2)\n",
    "\n",
    "# 2. 데이터 복사 (pandas 활용)\n",
    "import pandas as pd\n",
    "\n",
    "# 원본 테이블 데이터 읽기\n",
    "df = pd.read_sql_table('kbo_detail2', engine)\n",
    "\n",
    "# 대상 테이블에 저장\n",
    "df.to_sql(  \n",
    "    name='kbo_detail2',\n",
    "    con=engine2,\n",
    "    if_exists='replace',  # 'append' 또는 'replace' 선택\n",
    "    index=False\n",
    ")"
   ]
  },
  {
   "cell_type": "code",
   "execution_count": null,
   "id": "201f30f1",
   "metadata": {},
   "outputs": [],
   "source": []
  }
 ],
 "metadata": {
  "language_info": {
   "name": "python"
  }
 },
 "nbformat": 4,
 "nbformat_minor": 5
}
