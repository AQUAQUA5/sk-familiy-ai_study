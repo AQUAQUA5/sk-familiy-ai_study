{
 "cells": [
  {
   "cell_type": "code",
   "id": "initial_id",
   "metadata": {
    "collapsed": true,
    "ExecuteTime": {
     "end_time": "2025-05-27T00:51:00.586480Z",
     "start_time": "2025-05-27T00:51:00.581957Z"
    }
   },
   "source": [
    "\"\"\"\n",
    "파일 경로를 Path객체로 만들어 조작이 쉽게 해준다.\n",
    "./ 는 현재 작업 디렉토리를 지시한다.\n",
    "다른 경로를 지정하고 싶다면 \"C:/program\" 등으로 지정 가능\n",
    "\"\"\"\n",
    "\n",
    "# 1. 경로 객체 생성\n",
    "from pathlib import Path\n",
    "\n",
    "p = Path('./')"
   ],
   "outputs": [],
   "execution_count": 18
  },
  {
   "metadata": {
    "ExecuteTime": {
     "end_time": "2025-05-27T00:51:00.794184Z",
     "start_time": "2025-05-27T00:51:00.790546Z"
    }
   },
   "cell_type": "code",
   "source": [
    "# 2. 하위 경로 결합\n",
    "new_path = p / 'script.py'\n",
    "print(new_path)  #"
   ],
   "id": "ff03b02a291f4c99",
   "outputs": [
    {
     "name": "stdout",
     "output_type": "stream",
     "text": [
      "script.py\n"
     ]
    }
   ],
   "execution_count": 19
  },
  {
   "metadata": {
    "ExecuteTime": {
     "end_time": "2025-05-27T00:53:42.854738Z",
     "start_time": "2025-05-27T00:53:42.850900Z"
    }
   },
   "cell_type": "code",
   "source": [
    "# 3. 파일 및 디렉토리 존재 여부 확인\n",
    "if new_path.exists():\n",
    "    print(\"File exists\")\n",
    "else:\n",
    "    print(\"File does not exist\")"
   ],
   "id": "c84b8bfd357933d5",
   "outputs": [
    {
     "name": "stdout",
     "output_type": "stream",
     "text": [
      "File does not exist\n"
     ]
    }
   ],
   "execution_count": 20
  },
  {
   "metadata": {
    "ExecuteTime": {
     "end_time": "2025-05-27T00:47:09.681621Z",
     "start_time": "2025-05-27T00:47:09.677831Z"
    }
   },
   "cell_type": "code",
   "source": [
    "# 4. 디렉토리 내 파일 목록 출력\n",
    "for file in p.glob('*.py'):\n",
    "    print(file)"
   ],
   "id": "90596a0931586248",
   "outputs": [],
   "execution_count": 8
  },
  {
   "metadata": {
    "ExecuteTime": {
     "end_time": "2025-05-27T00:47:21.632736Z",
     "start_time": "2025-05-27T00:47:21.628470Z"
    }
   },
   "cell_type": "code",
   "source": [
    "# 5. 파일 읽기 및 쓰기\n",
    "path_to_file = Path('example.txt')\n",
    "path_to_file.write_text('Hello, pathlib!')\n",
    "print(path_to_file.read_text())\n"
   ],
   "id": "29883d99c27c0b25",
   "outputs": [
    {
     "name": "stdout",
     "output_type": "stream",
     "text": [
      "Hello, pathlib!\n"
     ]
    }
   ],
   "execution_count": 10
  },
  {
   "metadata": {
    "ExecuteTime": {
     "end_time": "2025-05-27T00:47:22.501357Z",
     "start_time": "2025-05-27T00:47:22.497307Z"
    }
   },
   "cell_type": "code",
   "source": [
    "# 6. 경로 정보 추출\n",
    "print(\"File name:\", path_to_file.name)         # example.txt\n",
    "print(\"File extension:\", path_to_file.suffix)  # .txt\n",
    "print(\"Parent directory:\", path_to_file.parent)"
   ],
   "id": "e3e34333aee81c74",
   "outputs": [
    {
     "name": "stdout",
     "output_type": "stream",
     "text": [
      "File name: example.txt\n",
      "File extension: .txt\n",
      "Parent directory: .\n"
     ]
    }
   ],
   "execution_count": 11
  },
  {
   "metadata": {},
   "cell_type": "code",
   "outputs": [],
   "execution_count": null,
   "source": "",
   "id": "2cfcc8dd9d851218"
  }
 ],
 "metadata": {
  "kernelspec": {
   "display_name": "Python [conda env:base] *",
   "language": "python",
   "name": "conda-base-py"
  },
  "language_info": {
   "codemirror_mode": {
    "name": "ipython",
    "version": 2
   },
   "file_extension": ".py",
   "mimetype": "text/x-python",
   "name": "python",
   "nbconvert_exporter": "python",
   "pygments_lexer": "ipython2",
   "version": "2.7.6"
  }
 },
 "nbformat": 4,
 "nbformat_minor": 5
}
