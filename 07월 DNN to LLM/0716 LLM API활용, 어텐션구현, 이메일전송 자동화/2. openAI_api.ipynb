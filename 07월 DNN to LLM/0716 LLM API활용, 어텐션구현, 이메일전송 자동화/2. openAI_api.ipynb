{
 "cells": [
  {
   "cell_type": "code",
   "execution_count": 1,
   "id": "15df477a",
   "metadata": {},
   "outputs": [],
   "source": [
    "from langchain_openai import ChatOpenAI\n",
    "from langchain_core.prompts import PromptTemplate"
   ]
  },
  {
   "cell_type": "code",
   "execution_count": null,
   "id": "18f51592",
   "metadata": {},
   "outputs": [],
   "source": [
    "my_key = \"openAI API Key\""
   ]
  },
  {
   "cell_type": "code",
   "execution_count": 7,
   "id": "7cde545c",
   "metadata": {},
   "outputs": [],
   "source": [
    "llm = ChatOpenAI(\n",
    "    temperature=0.1,    # 창의성, 0~2\n",
    "    #max_tokens=32, #최대 토큰값 \n",
    "    model_name='gpt-4.1-nano',\n",
    "    api_key=my_key\n",
    "    )"
   ]
  },
  {
   "cell_type": "code",
   "execution_count": null,
   "id": "8368fc19",
   "metadata": {},
   "outputs": [],
   "source": [
    "a = llm.invoke(\"점메추가 뭐야?\")"
   ]
  },
  {
   "cell_type": "code",
   "execution_count": 23,
   "id": "045df4ea",
   "metadata": {},
   "outputs": [
    {
     "data": {
      "text/plain": [
       "'\"점메추\"는 \"점심 메뉴 추천\"의 줄임말로, 점심 식사 때 먹을 메뉴를 추천해주는 것을 의미합니다. 주로 온라인 커뮤니티나 SNS에서 사람들이 오늘 점심으로 무엇을 먹을지 고민할 때 서로 추천하거나 정보를 공유하는 용도로 사용됩니다. 즉, \"점메추\"는 점심 메뉴 추천을 간단하게 표현한 말입니다.'"
      ]
     },
     "execution_count": 23,
     "metadata": {},
     "output_type": "execute_result"
    }
   ],
   "source": [
    "a.content"
   ]
  },
  {
   "cell_type": "code",
   "execution_count": 8,
   "id": "0ec6153e",
   "metadata": {},
   "outputs": [],
   "source": [
    "from langchain_core.prompts import PromptTemplate\n",
    "from langchain_openai import ChatOpenAI"
   ]
  },
  {
   "cell_type": "code",
   "execution_count": 18,
   "id": "4d83925e",
   "metadata": {},
   "outputs": [],
   "source": [
    "llm = ChatOpenAI(\n",
    "    temperature=0,\n",
    "    #model_name='o4-mini-2025-04-16',\n",
    "    model_name='gpt-4.1-nano',\n",
    "    api_key=my_key\n",
    ")"
   ]
  },
  {
   "cell_type": "code",
   "execution_count": 19,
   "id": "3134b518",
   "metadata": {},
   "outputs": [],
   "source": [
    "template = \"{country}의 수도는 어디\"\n",
    "prompt = PromptTemplate.from_template(template)\n",
    "chain = prompt | llm"
   ]
  },
  {
   "cell_type": "code",
   "execution_count": 20,
   "id": "19301dde",
   "metadata": {},
   "outputs": [
    {
     "name": "stdout",
     "output_type": "stream",
     "text": [
      "미국의 수도는 워싱턴 D.C.입니다.\n"
     ]
    }
   ],
   "source": [
    "print(chain.invoke(\"미국\").content)"
   ]
  },
  {
   "cell_type": "code",
   "execution_count": 21,
   "id": "d7903565",
   "metadata": {},
   "outputs": [],
   "source": [
    "import pandas as pd\n",
    "company_list = ['레고', '볼보', '메르세데스 벤츠', '기린', '화웨이', '삼성전자', '보쉬']\n",
    "df = pd.DataFrame(data=company_list, columns=['기업명'])\n",
    "df['나라'] = df['기업명'].apply(lambda x : chain.invoke(x).content )"
   ]
  },
  {
   "cell_type": "code",
   "execution_count": 22,
   "id": "292c5330",
   "metadata": {},
   "outputs": [
    {
     "data": {
      "text/html": [
       "<div>\n",
       "<style scoped>\n",
       "    .dataframe tbody tr th:only-of-type {\n",
       "        vertical-align: middle;\n",
       "    }\n",
       "\n",
       "    .dataframe tbody tr th {\n",
       "        vertical-align: top;\n",
       "    }\n",
       "\n",
       "    .dataframe thead th {\n",
       "        text-align: right;\n",
       "    }\n",
       "</style>\n",
       "<table border=\"1\" class=\"dataframe\">\n",
       "  <thead>\n",
       "    <tr style=\"text-align: right;\">\n",
       "      <th></th>\n",
       "      <th>기업명</th>\n",
       "      <th>나라</th>\n",
       "    </tr>\n",
       "  </thead>\n",
       "  <tbody>\n",
       "    <tr>\n",
       "      <th>0</th>\n",
       "      <td>레고</td>\n",
       "      <td>레고의 본사는 덴마크에 위치해 있으며, 레고 그룹의 본사 도시인 빌룬드(Billun...</td>\n",
       "    </tr>\n",
       "    <tr>\n",
       "      <th>1</th>\n",
       "      <td>볼보</td>\n",
       "      <td>볼보는 스웨덴의 자동차 및 방위 산업 회사로, 본사는 스웨덴의 예테보리(Götebo...</td>\n",
       "    </tr>\n",
       "    <tr>\n",
       "      <th>2</th>\n",
       "      <td>메르세데스 벤츠</td>\n",
       "      <td>메르세데스 벤츠는 독일의 자동차 브랜드로, 특정한 \"수도\"가 있는 것은 아니지만, ...</td>\n",
       "    </tr>\n",
       "    <tr>\n",
       "      <th>3</th>\n",
       "      <td>기린</td>\n",
       "      <td>기린은 동물이고, \"수도\"라는 개념이 사람의 도시나 국가를 의미하는 것과는 다릅니다...</td>\n",
       "    </tr>\n",
       "    <tr>\n",
       "      <th>4</th>\n",
       "      <td>화웨이</td>\n",
       "      <td>화웨이(Huawei)는 중국의 기업으로, 특정한 수도가 없습니다. 그러나 화웨이의 ...</td>\n",
       "    </tr>\n",
       "    <tr>\n",
       "      <th>5</th>\n",
       "      <td>삼성전자</td>\n",
       "      <td>삼성전자는 대한민국에 위치한 기업으로, 본사는 대한민국 수원시에 있습니다.</td>\n",
       "    </tr>\n",
       "    <tr>\n",
       "      <th>6</th>\n",
       "      <td>보쉬</td>\n",
       "      <td>보쉬(Bosch)는 독일에 본사를 둔 회사입니다. 따라서 보쉬의 수도는 독일의 수도...</td>\n",
       "    </tr>\n",
       "  </tbody>\n",
       "</table>\n",
       "</div>"
      ],
      "text/plain": [
       "        기업명                                                 나라\n",
       "0        레고  레고의 본사는 덴마크에 위치해 있으며, 레고 그룹의 본사 도시인 빌룬드(Billun...\n",
       "1        볼보  볼보는 스웨덴의 자동차 및 방위 산업 회사로, 본사는 스웨덴의 예테보리(Götebo...\n",
       "2  메르세데스 벤츠  메르세데스 벤츠는 독일의 자동차 브랜드로, 특정한 \"수도\"가 있는 것은 아니지만, ...\n",
       "3        기린  기린은 동물이고, \"수도\"라는 개념이 사람의 도시나 국가를 의미하는 것과는 다릅니다...\n",
       "4       화웨이  화웨이(Huawei)는 중국의 기업으로, 특정한 수도가 없습니다. 그러나 화웨이의 ...\n",
       "5      삼성전자          삼성전자는 대한민국에 위치한 기업으로, 본사는 대한민국 수원시에 있습니다.\n",
       "6        보쉬  보쉬(Bosch)는 독일에 본사를 둔 회사입니다. 따라서 보쉬의 수도는 독일의 수도..."
      ]
     },
     "execution_count": 22,
     "metadata": {},
     "output_type": "execute_result"
    }
   ],
   "source": [
    "df"
   ]
  },
  {
   "cell_type": "code",
   "execution_count": 7,
   "id": "114dcd89",
   "metadata": {},
   "outputs": [],
   "source": [
    "from datetime import datetime\n",
    "def get_today():\n",
    "    return datetime.now().strftime(\"%m-%d\")"
   ]
  },
  {
   "cell_type": "code",
   "execution_count": 8,
   "id": "70e41ca8",
   "metadata": {},
   "outputs": [],
   "source": [
    "prompt = PromptTemplate(\n",
    "    template=\"오늘의 날짜는 {today}야. 오늘 날짜에 일어난 역사적으로 큰 사건 {n}개를 나열해줘.\",\n",
    "    input_variables=[\"n\"],\n",
    "    partial_variables={\n",
    "        \"today\" : get_today\n",
    "    }\n",
    ")\n",
    "\n",
    "llm = ChatOpenAI(\n",
    "    temperature=0,\n",
    "    #model_name='o4-mini-2025-04-16',\n",
    "    model_name='gpt-4.1-nano',\n",
    "    api_key=my_key\n",
    ")"
   ]
  },
  {
   "cell_type": "code",
   "execution_count": 9,
   "id": "2e325e68",
   "metadata": {},
   "outputs": [
    {
     "data": {
      "text/plain": [
       "'오늘의 날짜는 07-16야. 오늘 날짜에 일어난 역사적으로 큰 사건 5개를 나열해줘.'"
      ]
     },
     "execution_count": 9,
     "metadata": {},
     "output_type": "execute_result"
    }
   ],
   "source": [
    "prompt.format(n=5)"
   ]
  },
  {
   "cell_type": "code",
   "execution_count": null,
   "id": "15452f6f",
   "metadata": {},
   "outputs": [
    {
     "name": "stdout",
     "output_type": "stream",
     "text": [
      "물론입니다! 7월 16일에 일어난 역사적으로 중요한 사건 5가지를 소개하겠습니다.\n",
      "\n",
      "1. 1945년 – 트리니티 핵실험: 세계 최초의 원자폭탄 실험이 뉴멕시코 사막에서 성공적으로 수행됨. 이 실험은 핵 시대의 시작을 알렸습니다.\n",
      "\n",
      "2. 1969년 – 아폴로 11호 달 착륙: 미국 우주선 아폴로 11호가 달에 착륙하며, 닐 암스트롱과 버즈 올드린이 인류 최초로 달에 발을 디딤. 암스트롱은 \"한 사람에게는 작은 한 걸음이지만 인류에게는 위대한 도약\"이라고 말했습니다.\n",
      "\n",
      "3. 1979년 – 이란 혁명 이후의 정치 변화: 이란에서 팔레비 왕조가 무너지고, 이슬람 혁명이 본격화되기 시작함.\n",
      "\n",
      "4. 1999년 – 코소보 전쟁: 세르비아군이 코소보에서 무력 충돌을 계속하며, 국제사회의 개입이 촉발됨.\n",
      "\n",
      "5. 1951년 – 미국과 소련 간의 냉전 긴장 고조: 미국이 소련의 핵실험에 대응하여 핵무기 개발을 가속화하는 계기가 됨.\n",
      "\n",
      "이 외에도 많은 중요한 사건들이 있지만, 오늘 날짜와 관련된 대표적인 사건들입니다.\n"
     ]
    }
   ],
   "source": [
    "\n",
    "print(chain.invoke(5).content)"
   ]
  },
  {
   "cell_type": "code",
   "execution_count": 10,
   "id": "e1b66cf7",
   "metadata": {},
   "outputs": [],
   "source": [
    "import imaplib\n",
    "import email\n",
    "from email.header import decode_header, make_header"
   ]
  },
  {
   "cell_type": "code",
   "execution_count": 11,
   "id": "9b080c20",
   "metadata": {},
   "outputs": [],
   "source": [
    "import smtplib\n",
    "from email.mime.multipart import MIMEMultipart\n",
    "from email.mime.text import MIMEText\n",
    "from email.utils import formatdate\n",
    "from email.mime.application import MIMEApplication\n",
    "from email.mime.base import MIMEBase\n",
    "from email.encoders import encode_base64\n",
    "from email.header import Header"
   ]
  },
  {
   "cell_type": "code",
   "execution_count": null,
   "id": "3d0e23d0",
   "metadata": {},
   "outputs": [],
   "source": [
    "def send_mail(id_, pass_, email_to , email_subject, email_message_html, filename=None):\n",
    "    smtp = smtplib.SMTP_SSL(\"smtp.gmail.com\", 465)\n",
    "    smtp.login(id_, pass_)\n",
    "   \n",
    "    msg = MIMEMultipart('mixed')\n",
    "    # 보내는 사람\n",
    "    # msg['From'] = email_to\n",
    "    # 받는 사람\n",
    "    msg['To'] = email_to\n",
    "    # 날짜\n",
    "    # msg['Date'] = formatdate(localtime=True)\n",
    "    # 제목\n",
    "    msg['Subject'] = email_subject\n",
    "    # 본문 추가 (html형식으로 인코딩 방식은 utf-8)\n",
    "    msg.attach(MIMEText(email_message_html, \"html\", _charset=\"utf-8\"))\n",
    "    smtp.sendmail(email_to,email_to, msg.as_string())"
   ]
  },
  {
   "cell_type": "code",
   "execution_count": 14,
   "id": "47b6516a",
   "metadata": {},
   "outputs": [],
   "source": [
    "chain = prompt | llm\n",
    "email_date = formatdate(localtime=True)\n",
    "email_subject = \"2025-07-16 역사적인.....\"\n",
    "email_message_html = chain.invoke(5).content\n",
    "id_ = \"seowoong362@gmail.com\"\n",
    "pass_ = 'qiul jsce dper kncd'\n",
    "send_mail(id_, pass_, '51chief@naver.com', \"안녕\", email_message_html)"
   ]
  },
  {
   "cell_type": "code",
   "execution_count": null,
   "id": "c8edd358",
   "metadata": {},
   "outputs": [],
   "source": []
  }
 ],
 "metadata": {
  "kernelspec": {
   "display_name": "openai",
   "language": "python",
   "name": "python3"
  },
  "language_info": {
   "codemirror_mode": {
    "name": "ipython",
    "version": 3
   },
   "file_extension": ".py",
   "mimetype": "text/x-python",
   "name": "python",
   "nbconvert_exporter": "python",
   "pygments_lexer": "ipython3",
   "version": "3.11.13"
  }
 },
 "nbformat": 4,
 "nbformat_minor": 5
}
