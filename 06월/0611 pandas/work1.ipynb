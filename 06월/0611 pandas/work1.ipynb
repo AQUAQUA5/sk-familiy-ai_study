{
 "cells": [
  {
   "cell_type": "code",
   "execution_count": null,
   "id": "5ddcf88e",
   "metadata": {},
   "outputs": [],
   "source": [
    "hana = \"https://www.kebhana.com/cms/rate/wpfxd651_01i_01.do\"\n",
    "payload ={\"ajax\" : \"true\",\n",
    "\"curCd\" : \"\",\n",
    "\"tmpInqStrDt\" : \"2025-06-02\",\n",
    "\"pbldDvCd\" : \"0\",\n",
    "\"pbldSqn\" : \"\",\n",
    "\"hid_key_data\" : \"\",\n",
    "\"inqStrDt\" : \"20250602\",\n",
    "\"inqKindCd\" : \"1\",\n",
    "\"hid_enc_data\" : \"\",\n",
    "\"requestTarget\" : \"searchContentDiv\",}\n",
    "\n",
    "import io\n",
    "exchange = pd.read_html(io.StringIO(requests.post(hana, data=payload).text))[0]\n",
    "\n",
    "\n",
    "# get_exchage(exchange='PHp', date_='2025-05-06', type_='buy')\n",
    "# get_exchage(exchange='PHp', date_='2025-05-06', type_='buy')\n"
   ]
  },
  {
   "cell_type": "code",
   "execution_count": null,
   "id": "0813c1f3",
   "metadata": {},
   "outputs": [],
   "source": [
    "exchange"
   ]
  },
  {
   "cell_type": "code",
   "execution_count": 28,
   "id": "fc12e766",
   "metadata": {},
   "outputs": [
    {
     "data": {
      "text/plain": [
       "27.24"
      ]
     },
     "execution_count": 28,
     "metadata": {},
     "output_type": "execute_result"
    }
   ],
   "source": [
    "# get_exchage(exchange='PHp', date_='2025-05-06', type_='buy')\n",
    "import io\n",
    "import pandas as pd\n",
    "import requests\n",
    "\n",
    "def get_exchange(exchange='PHp', date_='2025-05-06', type_='buy'):\n",
    "    hana = \"https://www.kebhana.com/cms/rate/wpfxd651_01i_01.do\"\n",
    "    payload ={\"ajax\" : \"true\",\n",
    "    \"curCd\" : \"\",\n",
    "    \"tmpInqStrDt\" : \"2025-06-02\",\n",
    "    \"pbldDvCd\" : \"0\",\n",
    "    \"pbldSqn\" : \"\",\n",
    "    \"hid_key_data\" : \"\",\n",
    "    \"inqStrDt\" : \"20250602\",\n",
    "    \"inqKindCd\" : \"1\",\n",
    "    \"hid_enc_data\" : \"\",\n",
    "    \"requestTarget\" : \"searchContentDiv\",}\n",
    "    payload['tmpInqStrDt'] = date_\n",
    "\n",
    "    exchange_table = pd.read_html(io.StringIO(requests.post(hana, data=payload).text))[0]\n",
    "    a = exchange_table[exchange_table.iloc[:,0].str.find(exchange.upper()) > -1]\n",
    "    if type_ == 'buy':\n",
    "        return float(a.iloc[0,1])\n",
    "    if type_ == 'sell':\n",
    "        return float(a.iloc[0,3])\n",
    "    return '입력을 확인해주세요'\n",
    "get_exchange('PHp', '2025-05-06', 'buy')"
   ]
  },
  {
   "cell_type": "code",
   "execution_count": null,
   "id": "deb5e7e7",
   "metadata": {},
   "outputs": [],
   "source": []
  }
 ],
 "metadata": {
  "kernelspec": {
   "display_name": "pandas",
   "language": "python",
   "name": "python3"
  },
  "language_info": {
   "codemirror_mode": {
    "name": "ipython",
    "version": 3
   },
   "file_extension": ".py",
   "mimetype": "text/x-python",
   "name": "python",
   "nbconvert_exporter": "python",
   "pygments_lexer": "ipython3",
   "version": "3.12.11"
  }
 },
 "nbformat": 4,
 "nbformat_minor": 5
}
