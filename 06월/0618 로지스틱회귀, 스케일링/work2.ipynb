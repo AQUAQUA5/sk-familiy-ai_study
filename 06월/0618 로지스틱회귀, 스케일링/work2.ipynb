{
 "cells": [
  {
   "cell_type": "code",
   "execution_count": null,
   "id": "e36bcf47",
   "metadata": {},
   "outputs": [],
   "source": [
    "import os\n",
    "import zipfile\n",
    "import pandas as pd\n",
    "import numpy as np\n",
    "\n",
    "path = './data/'\n",
    "os.listdir(path)\n",
    "\n",
    "for file in os.listdir(path):\n",
    "    if file.split('.')[-1]=='zip':\n",
    "        with zipfile.ZipFile(path + file) as f:\n",
    "            f.extractall(path)"
   ]
  },
  {
   "cell_type": "code",
   "execution_count": 2,
   "id": "ba81533f",
   "metadata": {},
   "outputs": [],
   "source": [
    "path2 = './data/주유소/'\n",
    "df = pd.concat( [ pd.read_csv(path2+file, encoding='euc-kr') for file in os.listdir(path2) if file.split('.')[-1] =='csv'] )"
   ]
  },
  {
   "cell_type": "code",
   "execution_count": 3,
   "id": "5e69adfa",
   "metadata": {},
   "outputs": [
    {
     "data": {
      "text/html": [
       "<div>\n",
       "<style scoped>\n",
       "    .dataframe tbody tr th:only-of-type {\n",
       "        vertical-align: middle;\n",
       "    }\n",
       "\n",
       "    .dataframe tbody tr th {\n",
       "        vertical-align: top;\n",
       "    }\n",
       "\n",
       "    .dataframe thead th {\n",
       "        text-align: right;\n",
       "    }\n",
       "</style>\n",
       "<table border=\"1\" class=\"dataframe\">\n",
       "  <thead>\n",
       "    <tr style=\"text-align: right;\">\n",
       "      <th></th>\n",
       "      <th>번호</th>\n",
       "      <th>지역</th>\n",
       "      <th>상호</th>\n",
       "      <th>주소</th>\n",
       "      <th>기간</th>\n",
       "      <th>상표</th>\n",
       "      <th>셀프여부</th>\n",
       "      <th>고급휘발유</th>\n",
       "      <th>휘발유</th>\n",
       "      <th>경유</th>\n",
       "      <th>실내등유</th>\n",
       "    </tr>\n",
       "  </thead>\n",
       "  <tbody>\n",
       "    <tr>\n",
       "      <th>0</th>\n",
       "      <td>A0006039</td>\n",
       "      <td>서울 강남구</td>\n",
       "      <td>(주)동하힐탑셀프주유소</td>\n",
       "      <td>서울 강남구 논현로 640</td>\n",
       "      <td>20190101</td>\n",
       "      <td>SK에너지</td>\n",
       "      <td>셀프</td>\n",
       "      <td>1673</td>\n",
       "      <td>1465</td>\n",
       "      <td>1365</td>\n",
       "      <td>0</td>\n",
       "    </tr>\n",
       "  </tbody>\n",
       "</table>\n",
       "</div>"
      ],
      "text/plain": [
       "         번호      지역            상호              주소        기간     상표 셀프여부  \\\n",
       "0  A0006039  서울 강남구  (주)동하힐탑셀프주유소  서울 강남구 논현로 640  20190101  SK에너지   셀프   \n",
       "\n",
       "   고급휘발유   휘발유    경유  실내등유  \n",
       "0   1673  1465  1365     0  "
      ]
     },
     "execution_count": 3,
     "metadata": {},
     "output_type": "execute_result"
    }
   ],
   "source": [
    "df.head(1)"
   ]
  },
  {
   "cell_type": "code",
   "execution_count": null,
   "id": "0eb32640",
   "metadata": {},
   "outputs": [],
   "source": [
    "집계 = df.groupby(['지역', '상표'], as_index=False)[['번호']].count().sort_values(by=['지역', '번호'], ascending=[True, False])\n",
    "집계.sort_values(by=['번호'], ascending=False).groupby(\"지역\").first()"
   ]
  },
  {
   "cell_type": "code",
   "execution_count": null,
   "id": "728a85d7",
   "metadata": {},
   "outputs": [],
   "source": [
    "import requests\n",
    "url_d = \"https://finance.naver.com/marketindex/worldDailyQuote.naver?marketindexCd=OIL_DU&fdtc=2&page={}\"\n",
    "두바이유 = pd.concat([pd.read_html(requests.get(url_d.format(idx)).text)[0]  for idx in range(197, 235)])\n",
    "\n",
    "url_wti = 'https://finance.naver.com/marketindex/worldDailyQuote.naver?fdtc=2&marketindexCd=OIL_CL&page={}'\n",
    "\n",
    "\n",
    "wti = pd.concat([pd.read_html(requests.get(url_wti.format(idx)).text)[0]  for idx in range(197, 235)])"
   ]
  }
 ],
 "metadata": {
  "kernelspec": {
   "display_name": "pandas",
   "language": "python",
   "name": "python3"
  },
  "language_info": {
   "codemirror_mode": {
    "name": "ipython",
    "version": 3
   },
   "file_extension": ".py",
   "mimetype": "text/x-python",
   "name": "python",
   "nbconvert_exporter": "python",
   "pygments_lexer": "ipython3",
   "version": "3.12.11"
  }
 },
 "nbformat": 4,
 "nbformat_minor": 5
}
