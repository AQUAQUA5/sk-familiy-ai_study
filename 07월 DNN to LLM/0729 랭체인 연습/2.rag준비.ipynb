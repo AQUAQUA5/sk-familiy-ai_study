{
 "cells": [
  {
   "cell_type": "code",
   "execution_count": 23,
   "id": "ceaedc8a",
   "metadata": {},
   "outputs": [],
   "source": [
    "from playdata import get_news_sentiment"
   ]
  },
  {
   "cell_type": "code",
   "execution_count": 24,
   "id": "051f9ae8",
   "metadata": {},
   "outputs": [
    {
     "name": "stderr",
     "output_type": "stream",
     "text": [
      "/home/user1/workspace/sk-familiy-ai_study/07월/0729 랭체인 연습/playdata.py:67: GuessedAtParserWarning: No parser was explicitly specified, so I'm using the best available HTML parser for this system (\"lxml\"). This usually isn't a problem, but if you run this code on another system, or in a different virtual environment, it may use a different parser and behave differently.\n",
      "\n",
      "The code that caused this warning is on line 67 of the file /home/user1/workspace/sk-familiy-ai_study/07월/0729 랭체인 연습/playdata.py. To get rid of this warning, pass the additional argument 'features=\"lxml\"' to the BeautifulSoup constructor.\n",
      "\n",
      "  tmp = json.loads(response.model_dump_json())\n",
      "100%|██████████| 32/32 [01:19<00:00,  2.48s/it]\n"
     ]
    },
    {
     "data": {
      "text/plain": [
       "[{'sentiment': '긍정',\n",
       "  'score': '삼성전자가 약 23조 원 규모의 반도체 위탁생산(파운드리) 공급 계약을 글로벌 대형 기업과 체결했다. 이는 삼성전자 반도체 부문에서 단일 고객 기준 최대급 계약으로, 8년 이상의 장기 계약이다. 그동안 적자를 기록하던 파운드리 사업이 대규모 수주에 성공하며 부진 탈출의 신호탄이 될 것으로 기대된다. 이번 계약으로 미국 텍사스 테일러 공장에서 AI 반도체 생산이 이뤄질 전망이며, 업계에서는 첨단 공정 수율 개선과 함께 사업 전망이 밝아졌다고 평가한다.',\n",
       "  'source': 'https://n.news.naver.com/mnews/article/001/0015533139?sid=105'},\n",
       " {'sentiment': '긍정',\n",
       "  'score': '삼성전자가 약 23조 원 규모의 반도체 위탁생산(파운드리) 공급 계약을 체결했다. 이는 단일 고객 기준 최대급 계약으로, 8년 이상의 장기 계약이다. 최근 파운드리 사업의 적자와 실적 부진이 이어졌으나, 이번 대규모 수주로 사업 회복과 성장의 계기가 될 것으로 기대된다. 계약 상대는 비공개이나 미국 빅테크 기업으로 추정된다.',\n",
       "  'source': 'https://n.news.naver.com/mnews/article/057/0001899189?sid=101'},\n",
       " {'sentiment': '긍정',\n",
       "  'score': '삼성전자가 약 23조 원 규모의 반도체 위탁생산(파운드리) 공급 계약을 글로벌 빅테크 기업과 체결했다. 이는 단일 고객 기준 역대 최대 규모로, 8년 이상의 장기 계약이다. 최근 파운드리 부문 실적 부진과 점유율 하락에도 불구하고, 이번 대규모 수주로 사업 도약이 기대된다. 계약 발표 후 삼성전자 주가도 약 3% 상승했다.',\n",
       "  'source': 'https://n.news.naver.com/mnews/article/082/0001337472?sid=101'},\n",
       " {'sentiment': '긍정',\n",
       "  'score': '삼성전자가 약 23조 원 규모의 글로벌 대형기업과 반도체 위탁생산(파운드리) 장기 공급 계약을 체결했다. 이는 삼성전자 반도체 부문에서 역대 최대급 계약으로, 첨단 2~4나노 공정을 활용한 AI 칩을 미국 텍사스 테일러 공장에서 생산할 예정이다. 이번 수주로 파운드리 사업의 적자 탈출과 추가 고객사 확보에 대한 기대가 커지고 있다. 경쟁사 인텔이 파운드리 사업을 축소하는 가운데, 삼성전자의 경쟁력 회복과 성장 가능성이 주목받고 있다.',\n",
       "  'source': 'https://n.news.naver.com/mnews/article/001/0015533332?sid=105'},\n",
       " {'sentiment': '긍정',\n",
       "  'score': '삼성전자가 글로벌 대형기업과 약 22조7천억원 규모의 반도체 위탁생산(파운드리) 공급 계약을 체결했다. 이는 삼성전자 반도체 부문에서 단일 고객 기준 최대급 계약으로, 최근 부진했던 파운드리 사업에 활력을 불어넣을 것으로 기대된다. 계약 상대방은 비공개이나, 업계에서는 테슬라와의 계약으로 추정하고 있다.',\n",
       "  'source': 'https://n.news.naver.com/mnews/article/056/0011997370?sid=101'},\n",
       " {'sentiment': '긍정',\n",
       "  'score': '삼성전자가 글로벌 대형기업과 약 22조7,648억원 규모의 반도체 위탁생산 계약을 체결했으며, 계약 기간은 2033년 12월 31일까지다. 계약 상대방과 주요 내용은 비공개다.',\n",
       "  'source': 'https://n.news.naver.com/mnews/article/001/0015532975?sid=105'},\n",
       " {'sentiment': '긍정',\n",
       "  'score': '삼성전자가 글로벌 대형기업과 약 22조7천억원 규모의 반도체 위탁생산 계약을 체결했다고 밝혔다. 계약 기간은 2033년 말까지이며, 이는 2024년 매출의 7%에 해당한다. 계약 세부 내용은 비공개다. 이 소식에 삼성전자 주가는 일시적으로 3.4% 상승했다.',\n",
       "  'source': 'https://n.news.naver.com/mnews/article/028/0002758225?sid=101'},\n",
       " {'sentiment': '긍정',\n",
       "  'score': '삼성전자가 약 23조 원 규모의 반도체 위탁생산(파운드리) 공급 계약을 체결했다. 이는 단일 고객 기준 최대급 계약으로, 8년 이상의 장기 계약이다. 계약 상대는 비공개이나 미국 빅테크 기업으로 추정된다. 이번 대규모 수주로 삼성전자 파운드리 부문의 부진을 극복할 계기가 될지 주목받고 있다.',\n",
       "  'source': 'https://n.news.naver.com/mnews/article/448/0000545497?sid=101'},\n",
       " {'sentiment': '긍정',\n",
       "  'score': '삼성전자가 글로벌 대형기업과 약 22조 8천억 원 규모의 반도체 위탁생산 공급 계약을 체결했으며, 계약 기간은 2033년 말까지입니다. 계약의 주요 내용과 상대방은 비공개입니다.',\n",
       "  'source': 'https://n.news.naver.com/mnews/article/052/0002225438?sid=101'},\n",
       " {'sentiment': '긍정',\n",
       "  'score': '삼성전자가 테슬라와 23조원 규모의 파운드리(반도체 위탁생산) 장기 공급 계약을 체결하며 반도체 사업에서 주목받고 있다. 이재용 회장은 파운드리 사업 분사에 관심이 없으며, 사업 확대 의지를 밝혔다. 삼성전자는 HBM(고대역폭메모리) 분야에서도 엔비디아와의 협력 가능성이 주목받고 있으며, 기술 경쟁력 회복에 대한 기대감이 커지고 있다. 업계에서는 이번 계약과 HBM 사업 진전이 삼성전자 반도체 사업의 반등 계기가 될 것으로 기대하고 있다.',\n",
       "  'source': 'https://n.news.naver.com/mnews/article/003/0013390329?sid=101'},\n",
       " {'sentiment': '긍정',\n",
       "  'score': '삼성전자가 테슬라와 약 23조 원 규모의 반도체 위탁생산 공급 계약을 체결했다. 계약 기간은 2033년 말까지이며, 테슬라의 차세대 AI 칩 생산에 삼성의 신공장이 전념할 예정이다. 이번 대규모 수주로 삼성전자 파운드리 사업의 부진을 극복하고 새로운 활로를 모색할 수 있을지 주목된다.',\n",
       "  'source': 'https://n.news.naver.com/mnews/article/052/0002225625?sid=101'},\n",
       " {'sentiment': '긍정',\n",
       "  'score': '테슬라가 차세대 자율주행용 AI6 칩을 삼성전자에 위탁해 생산하기로 결정했다. 삼성전자는 첨단 2나노 공정을 활용해 AI6 칩을 제조할 예정이며, 이 칩은 자율주행차뿐 아니라 로봇 등 다양한 분야에 활용될 전망이다. 이번 계약으로 삼성전자는 테슬라와의 협력 관계를 강화하고, 자율주행차 시장 선점에 나설 것으로 보인다.',\n",
       "  'source': 'https://n.news.naver.com/mnews/article/003/0013388997?sid=101'},\n",
       " {'sentiment': '긍정',\n",
       "  'score': '삼성전자가 테슬라와 차세대 인공지능(AI) 전용 칩 공급계약을 체결했다. 이 계약은 삼성 파운드리 사업의 실적 반등과 재도약의 기반이 될 것으로 평가된다. 테슬라의 자율주행용 AI6 칩을 삼성의 텍사스 공장에서 생산하며, 계약 기간은 2033년까지다. 그간 적자를 겪던 삼성 파운드리 사업부가 대형 고객사 확보로 실적 개선의 기회를 얻었다는 점에서 긍정적으로 보도됐다.',\n",
       "  'source': 'https://n.news.naver.com/mnews/article/015/0005163542?sid=101'},\n",
       " {'sentiment': '긍정',\n",
       "  'score': '삼성전자가 테슬라와 약 23조원 규모의 반도체 위탁생산 계약을 체결했다. 계약 기간은 8년 5개월로, 삼성 텍사스 공장에서 테슬라의 차세대 칩을 생산할 예정이다. 일론 머스크 테슬라 CEO가 직접 계약 사실을 공개하며, 삼성의 생산 효율성 극대화에 대한 기대를 밝혔다. 이번 계약으로 삼성의 미국 내 반도체 사업 확대와 현지 고객 확보에 긍정적인 영향을 미칠 것으로 보인다.',\n",
       "  'source': 'https://n.news.naver.com/mnews/article/003/0013388786?sid=101'},\n",
       " {'sentiment': '긍정',\n",
       "  'score': '삼성전자가 테슬라와 약 23조원 규모의 반도체 위탁생산 계약을 체결했다. 이 계약으로 삼성전자는 테슬라의 차세대 자율주행 AI 칩을 생산하게 되며, 단순 공급자를 넘어 전략적 파트너로 격상되었다. 이번 계약은 삼성전자 파운드리 사업부의 실적 개선과 글로벌 시장에서의 입지 강화에 긍정적인 영향을 줄 것으로 기대된다.',\n",
       "  'source': 'https://n.news.naver.com/mnews/article/009/0005532514?sid=101'},\n",
       " {'sentiment': '긍정',\n",
       "  'score': '삼성전자가 테슬라와 약 23조 원(165억 달러) 규모의 반도체 위탁생산(AI6 칩) 계약을 체결했다. 이 계약은 삼성전자 연 매출의 7.6%에 달하는 대형 계약으로, 미국 텍사스 테일러 팹의 가동에 활기를 불어넣고, 삼성전자 주가가 11개월 만에 7만 원을 돌파하는 등 긍정적 반응을 이끌었다. 테슬라 CEO 일론 머스크는 추가 계약 가능성도 시사했다. 이번 협력은 한미 간 산업 협력 및 글로벌 반도체 공급망 재편, 미국 내 일자리 창출 등 다양한 긍정적 효과가 기대된다.',\n",
       "  'source': 'https://n.news.naver.com/mnews/article/469/0000878607?sid=105'},\n",
       " {'sentiment': '긍정',\n",
       "  'score': '삼성전자 주가가 11개월 만에 7만원을 돌파하며 상승세를 보이고 있다. 일론 머스크 테슬라 CEO의 대규모 계약 언급과 외국인 매수세가 주가 상승에 영향을 주었으며, 증권가에서는 삼성전자 파운드리 사업의 경쟁력 회복과 대형 공급 계약 체결을 긍정적으로 평가하며 목표주가를 상향 조정하고 있다.',\n",
       "  'source': 'https://n.news.naver.com/mnews/article/018/0006076250?sid=101'},\n",
       " {'sentiment': '긍정',\n",
       "  'score': '삼성전자가 테슬라와 23조원 규모의 반도체 위탁생산 계약을 체결하며 주가가 11개월 만에 7만원을 돌파했다. 이후 단기 급등에 따른 차익실현으로 주가가 소폭 하락했으나, 증권가에서는 이번 계약이 기업가치에 긍정적 영향을 줄 것으로 평가하며 목표주가를 상향 조정했다. 전문가들은 이번 수주가 삼성전자 파운드리 사업에 의미 있는 호재라고 분석했다.',\n",
       "  'source': 'https://n.news.naver.com/mnews/article/003/0013390504?sid=101'},\n",
       " {'sentiment': '중립',\n",
       "  'score': '2025년 대학생이 일하고 싶은 기업 조사에서 SK하이닉스가 처음으로 1위를 차지했고, CJ ENM이 2위, 삼성전자가 3위에 올랐다. 대학생들은 주로 만족스러운 급여와 보상 제도를 기업 선택의 주요 이유로 꼽았다. 상위권 기업들의 순위 변동이 두드러졌으며, 기업들은 보상과 선도 기업 이미지를 강조할 필요가 있다는 분석이 나왔다.',\n",
       "  'source': 'https://n.news.naver.com/mnews/article/023/0003919741?sid=101'},\n",
       " {'sentiment': '긍정',\n",
       "  'score': \"인크루트가 실시한 '2025 대학생이 일하고 싶은 기업' 조사에서 SK하이닉스가 급여와 보상제도에 대한 호평으로 처음 1위를 차지했다. CJ ENM이 2위, 삼성전자가 3위를 기록했으며, 오뚜기가 처음으로 10위권에 진입했다. 대학생들은 주로 급여, 보상, 복리후생, 선도기업 이미지를 선호 이유로 꼽았다. 기업들은 확실한 보상과 선도 이미지가 채용 브랜딩에 중요하다는 분석이 나왔다.\",\n",
       "  'source': 'https://n.news.naver.com/mnews/article/018/0006075157?sid=101'},\n",
       " {'sentiment': '긍정',\n",
       "  'score': 'SK하이닉스가 대학생이 일하고 싶은 기업 조사에서 처음으로 1위를 차지했다. SK하이닉스는 높은 급여와 보상 제도, 성과급 지급 등으로 좋은 평가를 받았으며, D램 시장점유율 1위 등 실적도 우수했다. CJ ENM이 2위, 삼성전자가 3위를 기록했다.',\n",
       "  'source': 'https://n.news.naver.com/mnews/article/050/0000094240?sid=101'},\n",
       " {'sentiment': '긍정',\n",
       "  'score': 'SK하이닉스가 대학생이 일하고 싶은 기업 조사에서 처음으로 1위를 차지했다. CJ ENM이 2위, 삼성전자가 3위에 올랐다. 대학생들은 주로 만족스러운 급여와 보상 제도를 기업 선택의 주요 이유로 꼽았다. 상위권 기업들의 순위 변동이 두드러졌으며, 기업들은 보상과 선도 기업 이미지를 강조할 필요가 있다는 분석이 나왔다.',\n",
       "  'source': 'https://n.news.naver.com/mnews/article/014/0005383491?sid=102'},\n",
       " {'sentiment': '긍정',\n",
       "  'score': '삼성전자가 테슬라와 22.8조원 규모의 차세대 AI6 칩 파운드리 공급 계약을 체결했다. 일론 머스크는 실제 생산량이 더 많을 것이라고 밝혔으며, 삼성전자의 주가는 11개월 만에 7만 원을 돌파했다. 이번 계약은 삼성의 연간 매출 증가와 추가 수주로 이어질 것으로 전망된다.',\n",
       "  'source': 'https://n.news.naver.com/mnews/article/020/0003650767?sid=101'},\n",
       " {'sentiment': '긍정',\n",
       "  'score': '삼성전자가 테슬라로부터 약 23조원 규모의 반도체 위탁생산 계약을 수주하며 주가가 크게 상승했다. 일론 머스크 테슬라 CEO는 삼성 텍사스 공장이 테슬라의 차세대 AI6 칩 생산을 전담할 것이라고 밝혔고, 실제 거래 규모가 더 커질 가능성도 언급됐다. 이번 계약으로 삼성전자의 실적 개선과 성장 기대감이 커지고 있다.',\n",
       "  'source': 'https://n.news.naver.com/mnews/article/005/0001792433?sid=101'},\n",
       " {'sentiment': '긍정',\n",
       "  'score': '삼성전자가 테슬라와 약 22조원 규모의 반도체 위탁생산(파운드리) 계약을 체결했다는 소식에 주가가 11개월 만에 7만원대를 돌파했다. 이번 계약은 테슬라의 차세대 AI 칩 생산과 관련되어 있으며, 삼성전자의 파운드리 사업 회복과 매출 증가, 추가 계약 가능성 등 긍정적인 전망이 제기되고 있다.',\n",
       "  'source': 'https://n.news.naver.com/mnews/article/018/0006075477?sid=101'},\n",
       " {'sentiment': '긍정',\n",
       "  'score': '삼성전자가 테슬라와 23조 원 규모의 반도체 위탁생산 계약을 체결해 11개월 만에 주가가 7만 원대를 회복했다. 이번 계약으로 삼성전자는 2028년부터 2033년까지 테슬라의 차세대 AI6칩을 생산하게 되며, 이는 파운드리 사업부의 적자 해소와 미래 실적에 대한 기대감을 높였다. 또한, 대형 고객사 확보로 TSMC와의 경쟁에서 유리한 발판을 마련했다는 평가를 받고 있다.',\n",
       "  'source': 'https://n.news.naver.com/mnews/article/052/0002225754?sid=101'},\n",
       " {'sentiment': '긍정',\n",
       "  'score': '삼성전자가 테슬라로부터 약 23조원 규모의 반도체 위탁생산 계약을 수주했다는 소식에 주가가 11개월 만에 7만원대를 회복했다. 테슬라 CEO 일론 머스크는 삼성의 텍사스 공장이 테슬라의 차세대 AI 칩 생산을 전담할 것이라고 밝혔으며, 이번 계약이 양사에 긍정적인 영향을 미칠 것으로 보인다.',\n",
       "  'source': 'https://n.news.naver.com/mnews/article/015/0005163583?sid=101'},\n",
       " {'sentiment': '긍정',\n",
       "  'score': '삼성전자 주가가 6% 이상 급등해 7만원을 돌파했다. 이는 약 22조원 규모의 반도체 위탁생산 계약을 글로벌 기업(테슬라)과 체결했다는 소식에 따른 것으로, 이번 계약은 삼성전자 반도체 부문 단일 고객 기준 최대 규모다. 일론 머스크 테슬라 CEO가 삼성전자에 차세대 AI 칩 생산을 맡겼다고 직접 언급했으며, 삼성전자의 첨단 반도체 공정 기술이 안정화 단계에 접어들었다는 평가가 나온다.',\n",
       "  'source': 'https://n.news.naver.com/mnews/article/366/0001096156?sid=101'},\n",
       " {'sentiment': '긍정',\n",
       "  'score': '삼성전자가 글로벌 대형 기업과 약 23조 원 규모의 반도체 위탁생산(파운드리) 공급계약을 체결했다. 이는 단일 고객 기준 역대 최대 규모로, 계약 소식에 힘입어 삼성전자 주가가 11개월 만에 7만 원을 돌파했다. 계약 기간은 2024년 7월 24일부터 2033년 12월 31일까지이며, 구체적인 계약 내용은 비공개다.',\n",
       "  'source': 'https://n.news.naver.com/mnews/article/421/0008397084?sid=101'},\n",
       " {'sentiment': '긍정',\n",
       "  'score': '삼성전자가 약 23조원 규모의 파운드리 공급 계약을 체결하며 11개월 만에 주가가 7만원을 돌파했다. 계약 상대는 테슬라로 확인되었고, 테슬라 CEO 일론 머스크가 삼성의 텍사스 공장에서 차세대 AI 칩 생산을 맡길 것이라고 밝혔다. 이번 계약은 삼성전자 반도체 부문에서 단일 고객 기준 최대 규모로, 시장에서 긍정적으로 평가받았다.',\n",
       "  'source': 'https://n.news.naver.com/mnews/article/009/0005532309?sid=101'},\n",
       " {'sentiment': '긍정',\n",
       "  'score': '삼성전자가 테슬라와 약 23조원 규모의 반도체 위탁생산 계약을 체결했다는 소식에 힘입어 주가가 11개월 만에 7만원을 돌파했다. 이번 대규모 공급 계약은 투자심리를 개선했으며, 테슬라 CEO 일론 머스크가 직접 계약 사실을 공개해 주목을 받았다.',\n",
       "  'source': 'https://n.news.naver.com/mnews/article/003/0013389172?sid=101'},\n",
       " {'sentiment': '긍정',\n",
       "  'score': '삼성전자가 글로벌 대형기업과 22조7648억원 규모의 반도체 위탁생산(파운드리) 공급 계약을 체결했다고 공시했다. 계약 상대방이 테슬라로 확인되면서 삼성전자 주가는 약 11개월 만에 7만원대를 회복했고, 외국인과 기관투자가들의 매수세가 이어졌다.',\n",
       "  'source': 'https://n.news.naver.com/mnews/article/028/0002758293?sid=101'}]"
      ]
     },
     "execution_count": 24,
     "metadata": {},
     "output_type": "execute_result"
    }
   ],
   "source": [
    "get_news_sentiment('삼성전자', \"2024.07.22\", \"2024.07.29\")"
   ]
  },
  {
   "cell_type": "code",
   "execution_count": 25,
   "id": "405e4154",
   "metadata": {},
   "outputs": [],
   "source": [
    "from langchain_core.documents import Document\n",
    "\n",
    "docu = Document(page_content=\"문서 예시입니다. \")\n",
    "docu.metadata['source'] = 'playdata'\n",
    "docu.metadata['page'] = 'playdata'\n",
    "docu.metadata['article'] = 'playdata'"
   ]
  },
  {
   "cell_type": "code",
   "execution_count": 26,
   "id": "333bac51",
   "metadata": {},
   "outputs": [],
   "source": [
    "from langchain_community.document_loaders import PyPDFLoader\n",
    "\n",
    "loader = PyPDFLoader(\"./data/런팟(Runpod) 사용자 가이드_v1.0 (2).pdf\")\n",
    "docs = loader.load()\n",
    "\n",
    "from langchain_text_splitters import RecursiveCharacterTextSplitter\n",
    "text_splitter = RecursiveCharacterTextSplitter(chunk_size=200, chunk_overlap=0)\n",
    "loader = PyPDFLoader(\"./data/런팟(Runpod) 사용자 가이드_v1.0 (2).pdf\")\n",
    "split_docs = loader.load_and_split(text_splitter=text_splitter)"
   ]
  },
  {
   "cell_type": "code",
   "execution_count": 27,
   "id": "1d38e564",
   "metadata": {},
   "outputs": [
    {
     "data": {
      "text/plain": [
       "55"
      ]
     },
     "execution_count": 27,
     "metadata": {},
     "output_type": "execute_result"
    }
   ],
   "source": [
    "len(docs)"
   ]
  },
  {
   "cell_type": "code",
   "execution_count": 28,
   "id": "b873576c",
   "metadata": {},
   "outputs": [
    {
     "data": {
      "text/plain": [
       "210"
      ]
     },
     "execution_count": 28,
     "metadata": {},
     "output_type": "execute_result"
    }
   ],
   "source": [
    "len(split_docs)"
   ]
  },
  {
   "cell_type": "code",
   "execution_count": null,
   "id": "4150f349",
   "metadata": {},
   "outputs": [],
   "source": []
  }
 ],
 "metadata": {
  "kernelspec": {
   "display_name": "openai",
   "language": "python",
   "name": "python3"
  },
  "language_info": {
   "codemirror_mode": {
    "name": "ipython",
    "version": 3
   },
   "file_extension": ".py",
   "mimetype": "text/x-python",
   "name": "python",
   "nbconvert_exporter": "python",
   "pygments_lexer": "ipython3",
   "version": "3.11.13"
  }
 },
 "nbformat": 4,
 "nbformat_minor": 5
}
