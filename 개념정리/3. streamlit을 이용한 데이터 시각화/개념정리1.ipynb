{
 "cells": [
  {
   "metadata": {
    "ExecuteTime": {
     "end_time": "2025-05-26T08:17:33.966690Z",
     "start_time": "2025-05-26T08:17:33.960697Z"
    }
   },
   "cell_type": "code",
   "source": [
    "'''\n",
    "streamlit run linked_list.py 를 아나콘다 프롬프트에서 실행하여\n",
    "서버를 가동, 웹에 접속\n",
    "'''"
   ],
   "id": "65cc63ca3482843c",
   "outputs": [
    {
     "data": {
      "text/plain": [
       "'\\nstreamlit run linked_list.py 를 아나콘다 프롬프트에서 실행\\n'"
      ]
     },
     "execution_count": 5,
     "metadata": {},
     "output_type": "execute_result"
    }
   ],
   "execution_count": 5
  },
  {
   "metadata": {},
   "cell_type": "code",
   "outputs": [],
   "execution_count": 7,
   "source": [
    "'''\n",
    "데이터 시각화\n",
    "\n",
    "지도 이미지를 다루는 패키지 folium을 이용하여\n",
    "서울 위치를 가지는 folium.Map 객체 생성\n",
    "'''\n",
    "import folium #지도이미지를 다루는 패키지\n",
    "seoul = folium.Map(location=[37.55, 126.98], zoom_start=13)"
   ],
   "id": "673133c3a4f76928"
  },
  {
   "metadata": {
    "ExecuteTime": {
     "end_time": "2025-05-26T08:22:21.310985Z",
     "start_time": "2025-05-26T08:22:21.306245Z"
    }
   },
   "cell_type": "code",
   "source": [
    "payload = {\"in_biz_cds\":\"0\",\n",
    "\"in_scodes\":\"0\",\n",
    "\"ins_lat\":\"37.5390208\",\n",
    "\"ins_lng\":\"126.9399552\",\n",
    "\"search_text\":\"\",\n",
    "\"p_sido_cd\":\"01\",\n",
    "\"p_gugun_cd\":\"\",\n",
    "\"in_distance\":\"0\",\n",
    "\"in_biz_cd\":\"\",\n",
    "\"isError\":\"true\",\n",
    "\"searchType\":\"C\",\n",
    "\"set_date\":\"\",\n",
    "\"all_store\":\"0\",\n",
    "\"T03\":\"0\",\n",
    "\"T01\":\"0\",\n",
    "\"T27\":\"0\",\n",
    "\"T12\":\"0\",\n",
    "\"T09\":\"0\",\n",
    "\"T30\":\"0\",\n",
    "\"T05\":\"0\",\n",
    "\"T22\":\"0\",\n",
    "\"T21\":\"0\",\n",
    "\"T36\":\"0\",\n",
    "\"T43\":\"0\",\n",
    "\"Z9999\":\"0\",\n",
    "\"T64\":\"0\",\n",
    "\"T66\":\"0\",\n",
    "\"P02\":\"0\",\n",
    "\"P10\":\"0\",\n",
    "\"P50\":\"0\",\n",
    "\"P20\":\"0\",\n",
    "\"P60\":\"0\",\n",
    "\"P30\":\"0\",\n",
    "\"P70\":\"0\",\n",
    "\"P40\":\"0\",\n",
    "\"P80\":\"0\",\n",
    "\"whcroad_yn\":\"0\",\n",
    "\"P90\":\"0\",\n",
    "\"P01\":\"0\",\n",
    "\"new_bool\":\"0\",\n",
    "\"iend\":\"1000\",\n",
    "\"rndCod\":\"23COI6C94B\"}"
   ],
   "id": "ce460afb4cab7d5f",
   "outputs": [],
   "execution_count": 11
  },
  {
   "metadata": {
    "ExecuteTime": {
     "end_time": "2025-05-26T08:25:30.541717Z",
     "start_time": "2025-05-26T08:25:29.767774Z"
    }
   },
   "cell_type": "code",
   "source": [
    "'''\n",
    "request 함수를 이용하여 스타벅스 홈페이지에서\n",
    "내부 API 엔드포인트 접근\n",
    "스타벅스 페이지에서 서울시 전체의 데이터를 로드하고\n",
    "-> 개발자도구 -> network에서 -> getStore검색하여를 검색하여\n",
    "받은 데이터를 찾아야함\n",
    "'''\n",
    "import requests\n",
    "\n",
    "result = requests.post('https://www.starbucks.co.kr/store/getStore.do?r=4B5E8X6R0Q', data=payload).json()"
   ],
   "id": "c4143267b3d130e0",
   "outputs": [],
   "execution_count": 12
  },
  {
   "metadata": {
    "ExecuteTime": {
     "end_time": "2025-05-26T08:28:15.570025Z",
     "start_time": "2025-05-26T08:28:15.483810Z"
    }
   },
   "cell_type": "code",
   "source": [
    "'''\n",
    "받은 서울에 있는 매장 정보를 json파일로 저장\n",
    "'''\n",
    "import json\n",
    "with open('./starbuck_seoul_data.json', 'w', encoding='utf-8') as f:\n",
    "    json.dump(result, f, ensure_ascii=False, indent=4)"
   ],
   "id": "22620082b368097b",
   "outputs": [],
   "execution_count": 14
  },
  {
   "metadata": {
    "ExecuteTime": {
     "end_time": "2025-05-26T08:31:57.863523Z",
     "start_time": "2025-05-26T08:31:57.851206Z"
    }
   },
   "cell_type": "code",
   "source": [
    "'''\n",
    "피클 파일로 저장\n",
    "'''\n",
    "import pickle\n",
    "with open('./starbucks.pkl', 'wb') as f:\n",
    "    pickle.dump(result, f)"
   ],
   "id": "aa2a87fdf5abea0a",
   "outputs": [],
   "execution_count": 15
  },
  {
   "metadata": {
    "ExecuteTime": {
     "end_time": "2025-05-26T08:34:34.457263Z",
     "start_time": "2025-05-26T08:34:34.449849Z"
    }
   },
   "cell_type": "code",
   "source": [
    "'''\n",
    "아나콘다 프롬프트에서 현재 위치로 간다음\n",
    "streamlit run starbuck_map.py\n",
    "실행\n",
    "'''"
   ],
   "id": "37c084891e5b787",
   "outputs": [
    {
     "data": {
      "text/plain": [
       "'\\n아나콘다 프롬프트에서 현재 위치로 간다음\\nstreamlit run starbuck_map.py\\n실행\\n'"
      ]
     },
     "execution_count": 17,
     "metadata": {},
     "output_type": "execute_result"
    }
   ],
   "execution_count": 17
  },
  {
   "metadata": {
    "ExecuteTime": {
     "end_time": "2025-05-26T08:34:48.165838Z",
     "start_time": "2025-05-26T08:34:48.016815Z"
    }
   },
   "cell_type": "code",
   "source": [
    "'''\n",
    "스트림릿 사용안하고 html로 저장\n",
    "'''\n",
    "for store in result['list']:\n",
    "    folium.Marker([store['lat'], store['lot']]).add_to(seoul)\n",
    "seoul.save(\"./starbucks.html\")"
   ],
   "id": "9b012d70345ead4",
   "outputs": [],
   "execution_count": 18
  },
  {
   "metadata": {},
   "cell_type": "code",
   "outputs": [],
   "execution_count": null,
   "source": "",
   "id": "2a59ff2e95028001"
  }
 ],
 "metadata": {
  "kernelspec": {
   "display_name": "Python [conda env:base] *",
   "language": "python",
   "name": "conda-base-py"
  },
  "language_info": {
   "codemirror_mode": {
    "name": "ipython",
    "version": 2
   },
   "file_extension": ".py",
   "mimetype": "text/x-python",
   "name": "python",
   "nbconvert_exporter": "python",
   "pygments_lexer": "ipython2",
   "version": "2.7.6"
  }
 },
 "nbformat": 4,
 "nbformat_minor": 5
}
