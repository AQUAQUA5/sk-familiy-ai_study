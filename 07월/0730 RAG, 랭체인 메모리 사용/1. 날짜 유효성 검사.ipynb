{
 "cells": [
  {
   "cell_type": "code",
   "execution_count": 1,
   "id": "1c160e07",
   "metadata": {},
   "outputs": [
    {
     "name": "stderr",
     "output_type": "stream",
     "text": [
      "/tmp/ipykernel_22608/602162445.py:8: PydanticDeprecatedSince20: Pydantic V1 style `@validator` validators are deprecated. You should migrate to Pydantic V2 style `@field_validator` validators, see the migration guide for more details. Deprecated in Pydantic V2.0 to be removed in V3.0. See Pydantic V2 Migration Guide at https://errors.pydantic.dev/2.11/migration/\n",
      "  @validator(\"ds\", pre=True)\n"
     ]
    }
   ],
   "source": [
    "from pydantic import BaseModel, ValidationError, validator\n",
    "from datetime import datetime, date\n",
    "\n",
    "class Check(BaseModel):\n",
    "    title : str\n",
    "    ds: str\n",
    "    #class method\n",
    "    @validator(\"ds\", pre=True)\n",
    "    def parse_date_check(cls, v):\n",
    "        # if isinstance(v, date):\n",
    "        #     return v\n",
    "        try:\n",
    "            datetime.strptime(v, \"%Y.%m.%d\")\n",
    "            return v\n",
    "        except:\n",
    "            raise ValueError(\"날짜는 yyyy.mm.dd 형식으로 입력할 것!\")\n",
    "\n",
    "try:\n",
    "    rt = Check(title='playdata', ds='2025.07.30')\n",
    "except Exception as e :\n",
    "    print(e)"
   ]
  },
  {
   "cell_type": "code",
   "execution_count": null,
   "id": "b6d65a8d",
   "metadata": {},
   "outputs": [],
   "source": []
  }
 ],
 "metadata": {
  "kernelspec": {
   "display_name": "openai",
   "language": "python",
   "name": "python3"
  },
  "language_info": {
   "codemirror_mode": {
    "name": "ipython",
    "version": 3
   },
   "file_extension": ".py",
   "mimetype": "text/x-python",
   "name": "python",
   "nbconvert_exporter": "python",
   "pygments_lexer": "ipython3",
   "version": "3.11.13"
  }
 },
 "nbformat": 4,
 "nbformat_minor": 5
}
