{
 "cells": [
  {
   "cell_type": "code",
   "execution_count": 57,
   "id": "742cd4d7",
   "metadata": {},
   "outputs": [
    {
     "name": "stdout",
     "output_type": "stream",
     "text": [
      "Warning: Looks like you're using an outdated `kagglehub` version, please consider updating (latest version: 0.3.12)\n",
      "Path to dataset files: /home/user1/.cache/kagglehub/datasets/s076923/pytorch-transformer/versions/4\n"
     ]
    }
   ],
   "source": [
    "import kagglehub\n",
    "\n",
    "# Download latest version\n",
    "path = kagglehub.dataset_download(\"s076923/pytorch-transformer\")\n",
    "\n",
    "print(\"Path to dataset files:\", path)"
   ]
  },
  {
   "cell_type": "code",
   "execution_count": 58,
   "id": "9977840e",
   "metadata": {},
   "outputs": [],
   "source": [
    "import os\n",
    "import torch\n",
    "from PIL import Image\n",
    "from pycocotools.coco import COCO\n",
    "from torch.utils.data import Dataset"
   ]
  },
  {
   "cell_type": "code",
   "execution_count": 59,
   "id": "d19b605c",
   "metadata": {},
   "outputs": [],
   "source": [
    "class COCODataset(Dataset):\n",
    "    def __init__(self, root, train, transform=None):\n",
    "        super().__init__()\n",
    "        directory = \"train\" if train else \"val\"\n",
    "        annotations = os.path.join(root, \"annotations\", f\"{directory}_annotations.json\")\n",
    "        self.coco = COCO(annotations)\n",
    "        self.image_path = os.path.join(root, directory)\n",
    "        self.transform = transform \n",
    "        self.categories = self.__get_categories()\n",
    "        self.data = self.__load_data()\n",
    "           \n",
    "    def __get_categories(self):\n",
    "        categories = {0 : 'background'}\n",
    "        for category in self.coco.cats.values():\n",
    "            categories[category['id']] = category['name']\n",
    "        return categories\n",
    "    \n",
    "    def __load_data(self):\n",
    "        data = []\n",
    "        for _id in self.coco.imgs:\n",
    "            file_name = self.coco.loadImgs(_id)[0]['file_name']\n",
    "            image_path = os.path.join(self.image_path, file_name)\n",
    "            image = Image.open(image_path).convert(\"RGB\")\n",
    "\n",
    "            boxes = []\n",
    "            labels = []\n",
    "            anns = self.coco.loadAnns(self.coco.getAnnIds(_id))\n",
    "\n",
    "            for ann in anns:\n",
    "                x, y, w, h = ann['bbox']\n",
    "                boxes.append([x, y, x+w, y+h])\n",
    "                labels.append(ann['category_id'])\n",
    "            target = {\n",
    "                'image_id' : torch.LongTensor([_id]),\n",
    "                'boxes' : torch.FloatTensor(boxes),\n",
    "                'labels' : torch.LongTensor(labels)\n",
    "            }\n",
    "            data.append([image, target])\n",
    "        return data\n",
    "       \n",
    "    \n",
    "    def __getitem__(self, index):\n",
    "        image, target = self.data[index]\n",
    "        if self.transform:\n",
    "            image =self.transform(image)\n",
    "        return image, target\n",
    "        \n",
    "    def __len__(self):\n",
    "        return len(self.data)\n"
   ]
  },
  {
   "cell_type": "code",
   "execution_count": 60,
   "id": "121c80ea",
   "metadata": {},
   "outputs": [],
   "source": [
    "from torchvision import transforms\n",
    "from torch.utils.data import DataLoader\n"
   ]
  },
  {
   "cell_type": "code",
   "execution_count": 61,
   "id": "5eaabc01",
   "metadata": {},
   "outputs": [],
   "source": [
    "def collator(batch):\n",
    "    return tuple(zip(*batch))\n",
    "\n",
    "transform = transforms.Compose([\n",
    "    transforms.PILToTensor(),\n",
    "    transforms.ConvertImageDtype(dtype=torch.float)\n",
    "])"
   ]
  },
  {
   "cell_type": "code",
   "execution_count": 62,
   "id": "171be4db",
   "metadata": {},
   "outputs": [],
   "source": [
    "root = '/home/user1/.cache/kagglehub/datasets/s076923/pytorch-transformer/versions/4/datasets/coco'"
   ]
  },
  {
   "cell_type": "code",
   "execution_count": 63,
   "id": "4b64720f",
   "metadata": {},
   "outputs": [
    {
     "name": "stdout",
     "output_type": "stream",
     "text": [
      "loading annotations into memory...\n",
      "Done (t=0.04s)\n",
      "creating index...\n",
      "index created!\n",
      "loading annotations into memory...\n",
      "Done (t=0.01s)\n",
      "creating index...\n",
      "index created!\n"
     ]
    }
   ],
   "source": [
    "train_dataset = COCODataset(root, train=True,transform=transform)\n",
    "train_dataloader = DataLoader(train_dataset, batch_size=4, shuffle=True, drop_last = True, \n",
    "          collate_fn = collator)\n",
    "\n",
    "test_dataset = COCODataset(root, train=False,transform=transform)\n",
    "test_dataloader = DataLoader(test_dataset, batch_size=4, shuffle=True, drop_last = True, \n",
    "          collate_fn = collator)\n"
   ]
  },
  {
   "cell_type": "code",
   "execution_count": 64,
   "id": "55952911",
   "metadata": {},
   "outputs": [],
   "source": [
    "from torchvision import models \n",
    "from torchvision import ops \n",
    "from torchvision.models.detection import rpn , FasterRCNN"
   ]
  },
  {
   "cell_type": "code",
   "execution_count": 65,
   "id": "afb4b10c",
   "metadata": {},
   "outputs": [],
   "source": [
    "backbone = models.vgg16(weights=\"VGG16_Weights.IMAGENET1K_V1\").features\n",
    "backbone.out_channels = 512"
   ]
  },
  {
   "cell_type": "code",
   "execution_count": 66,
   "id": "94b87f69",
   "metadata": {},
   "outputs": [],
   "source": [
    "anchor_generator = rpn.AnchorGenerator(\n",
    "    sizes= ((32, 64, 128, 256, 512),),\n",
    "    aspect_ratios = ((0.5, 1.0, 2.0),)\n",
    ")"
   ]
  },
  {
   "cell_type": "code",
   "execution_count": 67,
   "id": "15d73456",
   "metadata": {},
   "outputs": [],
   "source": [
    "roi_pooler = ops.MultiScaleRoIAlign(\n",
    "    featmap_names = [\"0\"],\n",
    "    output_size=(7,7),\n",
    "    sampling_ratio = 2\n",
    ")"
   ]
  },
  {
   "cell_type": "code",
   "execution_count": 68,
   "id": "0443c646",
   "metadata": {},
   "outputs": [
    {
     "data": {
      "text/plain": [
       "'cuda'"
      ]
     },
     "execution_count": 68,
     "metadata": {},
     "output_type": "execute_result"
    }
   ],
   "source": [
    "device = 'cuda' if torch.cuda.is_available() else 'cpu'\n",
    "device"
   ]
  },
  {
   "cell_type": "code",
   "execution_count": 69,
   "id": "42430f06",
   "metadata": {},
   "outputs": [],
   "source": [
    "model = FasterRCNN(\n",
    "    backbone=backbone, \n",
    "    num_classes = 3,\n",
    "    rpn_anchor_generator = anchor_generator,\n",
    "    box_roi_pool  = roi_pooler\n",
    ").to(device)"
   ]
  },
  {
   "cell_type": "code",
   "execution_count": 70,
   "id": "17aa2ce3",
   "metadata": {},
   "outputs": [],
   "source": [
    "from torch import optim\n",
    "\n",
    "params = [p for p in model.parameters() if p.requires_grad]\n",
    "optimizer = optim.SGD(params, lr=0.001, momentum=0.9, weight_decay=0.0005)\n",
    "lr_scheduler = optim.lr_scheduler.StepLR(optimizer, step_size=5, gamma=0.1)"
   ]
  },
  {
   "cell_type": "code",
   "execution_count": null,
   "id": "351e4720",
   "metadata": {},
   "outputs": [
    {
     "ename": "KeyboardInterrupt",
     "evalue": "",
     "output_type": "error",
     "traceback": [
      "\u001b[31m---------------------------------------------------------------------------\u001b[39m",
      "\u001b[31mKeyboardInterrupt\u001b[39m                         Traceback (most recent call last)",
      "\u001b[36mCell\u001b[39m\u001b[36m \u001b[39m\u001b[32mIn[71]\u001b[39m\u001b[32m, line 5\u001b[39m\n\u001b[32m      2\u001b[39m cost = \u001b[32m0.0\u001b[39m\n\u001b[32m      3\u001b[39m \u001b[38;5;28;01mfor\u001b[39;00m idx, (images, targets)  \u001b[38;5;129;01min\u001b[39;00m \u001b[38;5;28menumerate\u001b[39m(train_dataloader):\n\u001b[32m      4\u001b[39m     \u001b[38;5;66;03m#image = image.to(device)\u001b[39;00m\n\u001b[32m----> \u001b[39m\u001b[32m5\u001b[39m     images = \u001b[38;5;28mlist\u001b[39m(image.to(device) \u001b[38;5;28;01mfor\u001b[39;00m image \u001b[38;5;129;01min\u001b[39;00m images)\n\u001b[32m      6\u001b[39m     targets = [{k: v.to(device) \u001b[38;5;28;01mfor\u001b[39;00m k, v \u001b[38;5;129;01min\u001b[39;00m t.items()} \u001b[38;5;28;01mfor\u001b[39;00m t \u001b[38;5;129;01min\u001b[39;00m targets]\n\u001b[32m      7\u001b[39m     loss_dict = model(images, targets)\n",
      "\u001b[36mCell\u001b[39m\u001b[36m \u001b[39m\u001b[32mIn[71]\u001b[39m\u001b[32m, line 5\u001b[39m, in \u001b[36m<genexpr>\u001b[39m\u001b[34m(.0)\u001b[39m\n\u001b[32m      2\u001b[39m cost = \u001b[32m0.0\u001b[39m\n\u001b[32m      3\u001b[39m \u001b[38;5;28;01mfor\u001b[39;00m idx, (images, targets)  \u001b[38;5;129;01min\u001b[39;00m \u001b[38;5;28menumerate\u001b[39m(train_dataloader):\n\u001b[32m      4\u001b[39m     \u001b[38;5;66;03m#image = image.to(device)\u001b[39;00m\n\u001b[32m----> \u001b[39m\u001b[32m5\u001b[39m     images = \u001b[38;5;28mlist\u001b[39m(\u001b[43mimage\u001b[49m\u001b[43m.\u001b[49m\u001b[43mto\u001b[49m\u001b[43m(\u001b[49m\u001b[43mdevice\u001b[49m\u001b[43m)\u001b[49m \u001b[38;5;28;01mfor\u001b[39;00m image \u001b[38;5;129;01min\u001b[39;00m images)\n\u001b[32m      6\u001b[39m     targets = [{k: v.to(device) \u001b[38;5;28;01mfor\u001b[39;00m k, v \u001b[38;5;129;01min\u001b[39;00m t.items()} \u001b[38;5;28;01mfor\u001b[39;00m t \u001b[38;5;129;01min\u001b[39;00m targets]\n\u001b[32m      7\u001b[39m     loss_dict = model(images, targets)\n",
      "\u001b[31mKeyboardInterrupt\u001b[39m: "
     ]
    },
    {
     "ename": "",
     "evalue": "",
     "output_type": "error",
     "traceback": [
      "\u001b[1;31mThe Kernel crashed while executing code in the current cell or a previous cell. \n",
      "\u001b[1;31mPlease review the code in the cell(s) to identify a possible cause of the failure. \n",
      "\u001b[1;31mClick <a href='https://aka.ms/vscodeJupyterKernelCrash'>here</a> for more info. \n",
      "\u001b[1;31mView Jupyter <a href='command:jupyter.viewOutput'>log</a> for further details."
     ]
    }
   ],
   "source": [
    "for epoch in range(5):\n",
    "    cost = 0.0\n",
    "    for idx, (images, targets)  in enumerate(train_dataloader):\n",
    "        #image = image.to(device)\n",
    "        images = list(image.to(device) for image in images)\n",
    "        targets = [{k: v.to(device) for k, v in t.items()} for t in targets]\n",
    "        loss_dict = model(images, targets)\n",
    "        losses = sum([loss for loss in loss_dict.values()])\n",
    "\n",
    "        optimizer.zero_grad()\n",
    "        losses.backward()\n",
    "        optimizer.step()\n",
    "        cost += losses \n",
    "    lr_scheduler.step()\n",
    "    cost = cost / len(train_dataloader)\n",
    "    print(f\"Epoch : {epoch + 1:4d}, Cost : {cost:.3f}\")"
   ]
  },
  {
   "cell_type": "code",
   "execution_count": null,
   "id": "d039a1f3",
   "metadata": {},
   "outputs": [],
   "source": []
  }
 ],
 "metadata": {
  "kernelspec": {
   "display_name": "dnn3",
   "language": "python",
   "name": "python3"
  },
  "language_info": {
   "codemirror_mode": {
    "name": "ipython",
    "version": 3
   },
   "file_extension": ".py",
   "mimetype": "text/x-python",
   "name": "python",
   "nbconvert_exporter": "python",
   "pygments_lexer": "ipython3",
   "version": "3.11.13"
  }
 },
 "nbformat": 4,
 "nbformat_minor": 5
}
