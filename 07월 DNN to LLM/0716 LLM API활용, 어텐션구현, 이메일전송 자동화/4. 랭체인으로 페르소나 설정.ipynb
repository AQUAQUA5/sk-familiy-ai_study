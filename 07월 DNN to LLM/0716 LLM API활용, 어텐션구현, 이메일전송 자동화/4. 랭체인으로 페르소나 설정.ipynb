{
 "cells": [
  {
   "cell_type": "code",
   "execution_count": 1,
   "id": "4ce15c32",
   "metadata": {},
   "outputs": [],
   "source": [
    "from langchain_openai import ChatOpenAI\n",
    "from langchain_core.prompts import PromptTemplate\n",
    "\n",
    "from langchain_core.prompts import PromptTemplate\n",
    "from langchain_openai import ChatOpenAI\n",
    "from langchain_core.prompts import ChatPromptTemplate"
   ]
  },
  {
   "cell_type": "code",
   "execution_count": 2,
   "id": "e187ab5c",
   "metadata": {},
   "outputs": [],
   "source": [
    "my_key = \"openAI API Key\""
   ]
  },
  {
   "cell_type": "code",
   "execution_count": null,
   "id": "934d6ad3",
   "metadata": {},
   "outputs": [],
   "source": [
    "llm = ChatOpenAI(\n",
    "    temperature=0.1,    # 창의성, 0~2\n",
    "    #max_tokens=32, #최대 토큰값 \n",
    "    model_name='gpt-4.1-nano',\n",
    "    api_key=my_key\n",
    "    )"
   ]
  },
  {
   "cell_type": "code",
   "execution_count": 5,
   "id": "fc221585",
   "metadata": {},
   "outputs": [],
   "source": [
    "from langchain_core.prompts import ChatPromptTemplate\n",
    "chat_template = ChatPromptTemplate.from_messages(\n",
    "    [\n",
    "        (\"system\" , \"당신은 친절한 연애 전문입니다. 당신의 이름은 {name}입니다.\"),\n",
    "        (\"human\" , \"소개팅 나가는데 뭘 입고 나갈까?\"),\n",
    "        (\"ai\" , \"무엇을 도와드릴까요?\"),\n",
    "        ('human', \"{user_input}\")\n",
    "    ]\n",
    ")"
   ]
  },
  {
   "cell_type": "code",
   "execution_count": 6,
   "id": "3bc334e4",
   "metadata": {},
   "outputs": [
    {
     "data": {
      "text/plain": [
       "'소개팅에 나가는 건 정말 설레는 일이죠! 만약 준비가 되셨다면, 자신감 있게 나가보세요. 어떤 옷을 입을지 고민 중이시라면, 깔끔하고 편안한 스타일이 좋아요. 예를 들어, 셔츠와 깔끔한 바지 또는 원피스 같은 기본 아이템이 무난하면서도 좋은 인상을 줄 수 있어요. 혹시 어떤 장소에서 만나는지 알려주시면 더 구체적인 조언도 드릴 수 있어요!'"
      ]
     },
     "execution_count": 6,
     "metadata": {},
     "output_type": "execute_result"
    }
   ],
   "source": [
    "message = chat_template.format_messages(name=\"마이클\", user_input=\"비오는데 소개팅 나가\")\n",
    "llm.invoke(message).content\n",
    "\n",
    "chain = chat_template | llm\n",
    "chain.invoke({'name' : '마이클', 'user_input' : \"소개팅 나갈까?\"}).content"
   ]
  },
  {
   "cell_type": "code",
   "execution_count": 7,
   "id": "e22f0962",
   "metadata": {},
   "outputs": [],
   "source": [
    "text = \"\"\"직업: 연애 컨설턴트, 심리 상담사\n",
    "경력: 연애 및 인간관계 분야에서 10년 이상의 상담 경험, 다수의 연애코칭 프로그램 참여\n",
    "주요 전문 분야:\n",
    "데이트 코칭 및 매칭\n",
    "이별 극복 및 재회 상담\n",
    "썸과 연애 진입, 연인 사이 갈등 조정\n",
    "자기 개발(자존감, 소통 능력 향상)\n",
    "상담 스타일:\n",
    "공감과 존중을 바탕으로 솔직하고 현실적인 조언 제공\n",
    "각 개인의 상황과 감정에 맞춘 맞춤형 솔루션 제시\n",
    "윤리와 비밀보장을 항상 우선시함\"\"\""
   ]
  },
  {
   "cell_type": "code",
   "execution_count": 8,
   "id": "96f4d146",
   "metadata": {},
   "outputs": [
    {
     "data": {
      "text/plain": [
       "'혼자가 편하다는 감정은 정말 자연스럽고 건강한 것이에요. 자신을 잘 알고 있고, 자기 자신과의 시간을 즐길 수 있다는 것은 오히려 강점이 될 수 있답니다. 그런데 소개팅을 나가게 된 이유가 무엇인지, 어떤 기대나 목표가 있는지도 함께 생각해보면 좋을 것 같아요. \\n\\n혹시 소개팅에서 어떤 모습으로 보여지고 싶거나, 어떤 분위기를 원하시는지 알려주시면 더 구체적인 조언을 드릴 수 있어요. 편안함을 유지하면서도 자연스럽게 좋은 인상을 남길 수 있는 방법도 함께 이야기해볼게요!'"
      ]
     },
     "execution_count": 8,
     "metadata": {},
     "output_type": "execute_result"
    }
   ],
   "source": [
    "chain.invoke({'name' : text, 'user_input' : \"혼자가 편해\"}).content"
   ]
  },
  {
   "cell_type": "code",
   "execution_count": 9,
   "id": "d1e978dc",
   "metadata": {},
   "outputs": [],
   "source": [
    "from langchain_core.output_parsers import StrOutputParser\n",
    "from langchain_core.prompts import ChatPromptTemplate, MessagesPlaceholder"
   ]
  },
  {
   "cell_type": "code",
   "execution_count": 10,
   "id": "a41ce644",
   "metadata": {},
   "outputs": [],
   "source": [
    "chat_prompt = ChatPromptTemplate(\n",
    "    [\n",
    "        (\"system\", \"당신은 요약 전문 AI 어시스턴스입니다. 당신의 임무는 키워드로 기사를 요약하는 것입니다.\" ),\n",
    "        MessagesPlaceholder( variable_name='article' ),\n",
    "        (\"human\" ,  \"제공된 뉴스 기사를 {word} 단어로 요약해\")\n",
    "    ]\n",
    ")"
   ]
  },
  {
   "cell_type": "code",
   "execution_count": 11,
   "id": "4c1afe8f",
   "metadata": {},
   "outputs": [],
   "source": [
    "article = \"\"\"세계 최대 커피 체인인 스타벅스가 사무직 직원 필수 출근일을 주 3일에서 주 4일로 강화했다.\n",
    "월스트리트저널(WSJ)에 따르면 브라이언 니콜 스타벅스 최고경영자(CEO)는 10월 시작하는 새 회계연도부터 주 4일 출근을 시행한다고 14일(현지시간) 밝혔다.\n",
    "이를 거부하는 직원에게는 자발적 퇴사 프로그램을 제공한다. 퇴사 결정시 퇴직금을 지급한다.\n",
    "현재 원격 근무를 하는 일부 관리자급 직원도 12개월 이내에 스타벅스 본사가 있는 미국 시애틀이나 북미 지역 거점인 캐나다 토론토로 이주해야 한다.\n",
    "앞서 스타벅스는 지부사장급 임원에게도 동일한 지침을 내린 바 있다.\n",
    "이번 조치는 니콜 CEO가 추진하는 '백 투 스타벅스' 구조조정 계획의 일환이다. 스타벅스는 2월 본사 사무직 직원 1,100명을 감원했다.\n",
    "니콜 CEO는 \"이 방침에 동의하지 않는 직원들이 있다는 점을 이해한다\"는 입장을 전했다.\n",
    "그러면서도 \"인간적 연결을 기반으로 한 회사로서 향후 구조조정을 고려할 때 이것이 스타벅스에 맞는 길이라고 믿는다\"고 강조했다.\n",
    "한편 니콜 CEO는 지난해 스타벅스 영입 당시 자신의 원격 근무를 조건으로 내세운 것으로 알려진다.\n",
    "다만 직원이 반발하자 이를 철회했다. 현재 회사가 제공하는 전용기로 시애틀 본사에 출퇴근 중이다.\"\"\""
   ]
  },
  {
   "cell_type": "code",
   "execution_count": 12,
   "id": "12f659f4",
   "metadata": {},
   "outputs": [],
   "source": [
    "chat_prompt2 = chat_prompt.format(\n",
    "    word=20,\n",
    "    article=[(\"human\",article )]\n",
    ")"
   ]
  },
  {
   "cell_type": "code",
   "execution_count": 13,
   "id": "6dcac260",
   "metadata": {},
   "outputs": [
    {
     "data": {
      "text/plain": [
       "'스타벅스, 사무직 출근일 강화, 주 4일, 퇴사 유도, 구조조정, 본사 이주 요구, 직원 반발.'"
      ]
     },
     "execution_count": 13,
     "metadata": {},
     "output_type": "execute_result"
    }
   ],
   "source": [
    "llm.invoke(chat_prompt2).content"
   ]
  },
  {
   "cell_type": "code",
   "execution_count": 14,
   "id": "90b48cde",
   "metadata": {},
   "outputs": [],
   "source": [
    "chat_prompt = ChatPromptTemplate(\n",
    "    [\n",
    "        (\"system\", \"당신은 요약 전문 AI 어시스턴스입니다. 당신의 임무는 키워드로 기사를 요약하는 것입니다.\" ),\n",
    "        MessagesPlaceholder( variable_name='article' ),\n",
    "        (\"human\" ,  \"제공된 뉴스 기사를 {word} 문장으로 요약해\")\n",
    "    ]\n",
    ")"
   ]
  },
  {
   "cell_type": "code",
   "execution_count": 15,
   "id": "f2dbc5fd",
   "metadata": {},
   "outputs": [],
   "source": [
    "chat_prompt2 = chat_prompt.format(\n",
    "    word=100,\n",
    "    article=[(\"human\",article )]\n",
    ")"
   ]
  },
  {
   "cell_type": "code",
   "execution_count": 16,
   "id": "71214370",
   "metadata": {},
   "outputs": [
    {
     "data": {
      "text/plain": [
       "'1. 스타벅스는 사무직 직원의 출근일수를 주 3일에서 주 4일로 강화했다.  \\n2. 월스트리트저널(WSJ)이 보도했다.  \\n3. 브라이언 니콜 스타벅스 CEO는 10월부터 새 회계연도에 시행한다고 밝혔다.  \\n4. 출근 강제화에 반대하는 직원에게는 자발적 퇴사 프로그램을 제공한다.  \\n5. 퇴사 시 퇴직금을 지급한다.  \\n6. 일부 원격 근무 관리자도 12개월 내에 미국 시애틀 또는 캐나다 토론토로 이주해야 한다.  \\n7. 스타벅스는 지부사장급 임원에게도 동일한 지침을 내렸다.  \\n8. 이번 조치는 ‘백 투 스타벅스’ 구조조정 계획의 일환이다.  \\n9. 스타벅스는 2월에 본사 사무직 1,100명을 감원했다.  \\n10. 니콜 CEO는 직원들이 방침에 동의하지 않을 수 있음을 이해한다고 말했다.  \\n11. 그는 이것이 스타벅스에 적합한 길이라고 믿는다고 강조했다.  \\n12. 니콜 CEO는 지난해 원격 근무 조건으로 스타벅스에 입사했다.  \\n13. 그러나 직원 반발로 원격 근무 조건을 철회했다.  \\n14. 현재 회사는 전용기를 통해 시애틀 본사로 출퇴근하게 하고 있다.  \\n15. 이번 조치는 회사의 구조조정과 문화 변화의 일환이다.  \\n16. 스타벅스는 직원들의 자율성과 유연성을 일부 제한하는 방향으로 움직이고 있다.  \\n17. 출근 강제화는 직원들의 반발을 불러일으키고 있다.  \\n18. 일부 직원은 퇴사 또는 이직을 고려하고 있다.  \\n19. 니콜 CEO는 인간적 연결을 중시하는 기업 문화 유지를 강조한다.  \\n20. 그러나 강제 출근 정책은 논란이 되고 있다.  \\n21. 스타벅스는 글로벌 기업으로서 다양한 근무 방식을 검토 중이다.  \\n22. 이번 정책은 팬데믹 이후 변화된 근무 환경에 대한 대응이다.  \\n23. 일부 관리자와 임원은 이미 본사 출근을 의무화하고 있다.  \\n24. 직원들은 자율성과 유연성을 기대했으나 변화에 적응하기 어렵다는 반응이다.  \\n25. 스타벅스는 구조조정을 통해 비용 절감과 조직 효율성을 높이려 한다.  \\n26. 니콜 CEO는 직원들의 반발에도 불구하고 정책 강행 의사를 밝혔다.  \\n27. 회사는 퇴사 프로그램을 통해 자연스러운 인력 조정을 시도한다.  \\n28. 일부 직원은 이 정책이 스타벅스의 기업 문화와 맞지 않는다고 느낀다.  \\n29. 스타벅스는 글로벌 경쟁력을 유지하기 위해 내부 정책을 재정비하고 있다.  \\n30. 이번 조치는 직원들의 사기와 업무 만족도에 영향을 미칠 수 있다.  \\n31. 일부 전문가들은 강제 출근 정책이 장기적으로 기업 이미지에 부정적 영향을 줄 수 있다고 우려한다.  \\n32. 스타벅스는 고객 서비스와 브랜드 이미지를 유지하는 것도 중요시한다.  \\n33. 니콜 CEO는 ‘인간적 연결’을 강조하며 정책을 정당화한다.  \\n34. 그러나 직원들은 자율성과 유연성을 기대하며 반발하고 있다.  \\n35. 일부는 퇴사 또는 이직을 고려하는 상황이다.  \\n36. 스타벅스는 글로벌 인력 관리 전략을 재검토 중이다.  \\n37. 이번 정책은 기업의 디지털 전환과도 연관이 있다.  \\n38. 일부 직원은 원격 근무를 선호했으나 정책 변경으로 불만이 커지고 있다.  \\n39. 회사는 출근 강제화로 조직 내 협력과 소통을 강화하려 한다.  \\n40. 그러나 이는 직원들의 업무 만족도와 동기 부여에 영향을 미칠 수 있다.  \\n41. 스타벅스는 이번 조치를 통해 비용 절감과 조직 통합을 기대한다.  \\n42. 일부 임원은 이미 본사 출근을 의무화하고 있다.  \\n43. 직원들은 자율성과 유연성을 기대했으나 정책 변경에 실망하고 있다.  \\n44. 니콜 CEO는 ‘인간적 연결’을 강조하며 정책을 정당화한다.  \\n45. 일부 직원은 퇴사 또는 이직을 고려하는 상황이다.  \\n46. 스타벅스는 글로벌 경쟁력 강화를 위해 내부 정책을 재조정하고 있다.  \\n47. 이번 조치는 팬데믹 이후 변화된 근무 환경에 대응하는 전략이다.  \\n48. 일부 전문가들은 강제 출근 정책이 장기적 기업 이미지에 부정적 영향을 미칠 수 있다고 우려한다.  \\n49. 스타벅스는 고객 서비스와 브랜드 이미지를 유지하는 것도 중요시한다.  \\n50. 직원들의 반발로 인해 내부 분위기가 긴장되고 있다.  \\n51. 일부 직원은 자율성과 유연성을 기대했으나 정책 변경으로 불만이 커지고 있다.  \\n52. 회사는 퇴사 프로그램을 통해 자연스러운 인력 조정을 시도한다.  \\n53. 이번 정책은 ‘백 투 스타벅스’ 구조조정 계획의 일환이다.  \\n54. 스타벅스는 글로벌 인력 관리 전략을 재검토 중이다.  \\n55. 일부 관리자와 임원은 이미 본사 출근을 의무화하고 있다.  \\n56. 직원들은 자율성과 유연성을 기대했으나 정책 변경에 실망하고 있다.  \\n57. 니콜 CEO는 ‘인간적 연결’을 강조하며 정책을 정당화한다.  \\n58. 일부 직원은 퇴사 또는 이직을 고려하는 상황이다.  \\n59. 스타벅스는 비용 절감과 조직 효율성을 위해 구조조정을 추진한다.  \\n60. 이번 조치는 팬데믹 이후 변화된 근무 환경에 대응하는 전략이다.  \\n61. 일부 전문가들은 강제 출근 정책이 장기적 기업 이미지에 부정적 영향을 미칠 수 있다고 우려한다.  \\n62. 스타벅스는 고객 서비스와 브랜드 이미지를 유지하는 것도 중요시한다.  \\n63. 직원들의 반발로 내부 분위기가 긴장되고 있다.  \\n64. 일부 직원은 자율성과 유연성을 기대했으나 정책 변경으로 불만이 커지고 있다.  \\n65. 회사는 퇴사 프로그램을 통해 자연스러운 인력 조정을 시도한다.  \\n66. 이번 정책은 ‘백 투 스타벅스’ 구조조정 계획의 일환이다.  \\n67. 스타벅스는 글로벌 인력 관리 전략을 재검토 중이다.  \\n68. 일부 관리자와 임원은 이미 본사 출근을 의무화하고 있다.  \\n69. 직원들은 자율성과 유연성을 기대했으나 정책 변경에 실망하고 있다.  \\n70. 니콜 CEO는 ‘인간적 연결’을 강조하며 정책을 정당화한다.  \\n71. 일부 직원은 퇴사 또는 이직을 고려하는 상황이다.  \\n72. 스타벅스는 비용 절감과 조직 효율성을 위해 구조조정을 추진한다.  \\n73. 이번 조치는 팬데믹 이후 변화된 근무 환경에 대응하는 전략이다.  \\n74. 일부 전문가들은 강제 출근 정책이 장기적 기업 이미지에 부정적 영향을 미칠 수 있다고 우려한다.  \\n75. 스타벅스는 고객 서비스와 브랜드 이미지를 유지하는 것도 중요시한다.  \\n76. 직원들의 반발로 내부 분위기가 긴장되고 있다.  \\n77. 일부 직원은 자율성과 유연성을 기대했으나 정책 변경으로 불만이 커지고 있다.  \\n78. 회사는 퇴사 프로그램을 통해 자연스러운 인력 조정을 시도한다.  \\n79. 이번 정책은 ‘백 투 스타벅스’ 구조조정 계획의 일환이다.  \\n80. 스타벅스는 글로벌 인력 관리 전략을 재검토 중이다.  \\n81. 일부 관리자와 임원은 이미 본사 출근을 의무화하고 있다.  \\n82. 직원들은 자율성과 유연성을 기대했으나 정책 변경에 실망하고 있다.  \\n83. 니콜 CEO는 ‘인간적 연결’을 강조하며 정책을 정당화한다.  \\n84. 일부 직원은 퇴사 또는 이직을 고려하는 상황이다.  \\n85. 스타벅스는 비용 절감과 조직 효율성을 위해 구조조정을 추진한다.  \\n86. 이번 조치는 팬데믹 이후 변화된 근무 환경에 대응하는 전략이다.  \\n87. 일부 전문가들은 강제 출근 정책이 장기적 기업 이미지에 부정적 영향을 미칠 수 있다고 우려한다.  \\n88. 스타벅스는 고객 서비스와 브랜드 이미지를 유지하는 것도 중요시한다.  \\n89. 직원들의 반발로 내부 분위기가 긴장되고 있다.  \\n90. 일부 직원은 자율성과 유연성을 기대했으나 정책 변경으로 불만이 커지고 있다.  \\n91. 회사는 퇴사 프로그램을 통해 자연스러운 인력 조정을 시도한다.  \\n92. 이번 정책은 ‘백 투 스타벅스’ 구조조정 계획의 일환이다.  \\n93. 스타벅스는 글로벌 인력 관리 전략을 재검토 중이다.  \\n94. 일부 관리자와 임원은 이미 본사 출근을 의무화하고 있다.  \\n95. 직원들은 자율성과 유연성을 기대했으나 정책 변경에 실망하고 있다.  \\n96. 니콜 CEO는 ‘인간적 연결’을 강조하며 정책을 정당화한다.  \\n97. 일부 직원은 퇴사 또는 이직을 고려하는 상황이다.  \\n98. 스타벅스는 비용 절감과 조직 효율성을 위해 구조조정을 추진한다.  \\n99. 이번 조치는 팬데믹 이후 변화된 근무 환경에 대응하는 전략이다.  \\n100. 전체적으로 스타벅스의 출근 정책 강화와 이에 따른 내부 반발, 구조조정이 주요 내용이다.'"
      ]
     },
     "execution_count": 16,
     "metadata": {},
     "output_type": "execute_result"
    }
   ],
   "source": [
    "llm.invoke(chat_prompt2).content"
   ]
  },
  {
   "cell_type": "code",
   "execution_count": null,
   "id": "ff152fa9",
   "metadata": {},
   "outputs": [],
   "source": []
  },
  {
   "cell_type": "code",
   "execution_count": null,
   "id": "1be5628c",
   "metadata": {},
   "outputs": [],
   "source": []
  },
  {
   "cell_type": "code",
   "execution_count": null,
   "id": "271275a3",
   "metadata": {},
   "outputs": [],
   "source": []
  }
 ],
 "metadata": {
  "kernelspec": {
   "display_name": "openai",
   "language": "python",
   "name": "python3"
  },
  "language_info": {
   "codemirror_mode": {
    "name": "ipython",
    "version": 3
   },
   "file_extension": ".py",
   "mimetype": "text/x-python",
   "name": "python",
   "nbconvert_exporter": "python",
   "pygments_lexer": "ipython3",
   "version": "3.11.13"
  }
 },
 "nbformat": 4,
 "nbformat_minor": 5
}
