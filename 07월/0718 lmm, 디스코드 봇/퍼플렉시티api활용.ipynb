{
 "cells": [
  {
   "cell_type": "code",
   "execution_count": null,
   "id": "7ac25316",
   "metadata": {},
   "outputs": [],
   "source": [
    "import os\n",
    "import requests\n",
    "\n",
    "# 1. API 키 환경 변수에서 가져오기\n",
    "API_KEY = \"key\""
   ]
  },
  {
   "cell_type": "code",
   "execution_count": null,
   "id": "53d7df26",
   "metadata": {},
   "outputs": [],
   "source": [
    "# 2. 엔드포인트 및 헤더 설정\n",
    "URL = \"https://api.perplexity.ai/chat/completions\"\n",
    "headers = {\n",
    "    \"Authorization\": f\"Bearer {API_KEY}\",\n",
    "    \"Content-Type\": \"application/json\",\n",
    "    \"Accept\": \"application/json\",\n",
    "}\n",
    "\n",
    "# 3. 페이로드 구성\n",
    "payload = {\n",
    "    \"model\": \"sonar-pro\",           # 사용할 모델\n",
    "    \"messages\": [\n",
    "        {\"role\": \"system\", \"content\": \"You are a helpful assistant.\"},\n",
    "        {\"role\": \"user\", \"content\": \"민석이에 대해서 설명해줘\"}\n",
    "    ],\n",
    "    \"stream\": False,                # 스트리밍 여부\n",
    "    \"max_tokens\": 100,              # 최대 토큰 수\n",
    "    \"temperature\": 0.5,             # 답변 랜덤성 조절\n",
    "    # 검색 모드와 추가 옵션\n",
    "    \"search_mode\": \"academic\",      \n",
    "    \"web_search_options\": {\n",
    "        \"search_context_size\": \"medium\",\n",
    "        \"search_after_date_filter\": \"07/01/2025\",\n",
    "        \"search_before_date_filter\": \"07/18/2025\"\n",
    "    }\n",
    "}\n",
    "\n",
    "# 4. API 요청 보내기\n",
    "response = requests.post(URL, headers=headers, json=payload)\n",
    "response.raise_for_status()\n",
    "\n",
    "# 5. 응답 처리\n",
    "data = response.json()\n",
    "answer = data[\"choices\"][0][\"message\"][\"content\"]\n",
    "print(\"퍼플렉시티 응답:\\n\", answer)\n"
   ]
  },
  {
   "cell_type": "code",
   "execution_count": 3,
   "id": "affc620e",
   "metadata": {},
   "outputs": [
    {
     "data": {
      "text/plain": [
       "'민석이에 대해서 설명해줘'"
      ]
     },
     "execution_count": 3,
     "metadata": {},
     "output_type": "execute_result"
    }
   ],
   "source": [
    "payload[\"messages\"][1][\"content\"] "
   ]
  },
  {
   "cell_type": "code",
   "execution_count": null,
   "id": "f1cccbef",
   "metadata": {},
   "outputs": [],
   "source": []
  }
 ],
 "metadata": {
  "kernelspec": {
   "display_name": "discord",
   "language": "python",
   "name": "python3"
  },
  "language_info": {
   "codemirror_mode": {
    "name": "ipython",
    "version": 3
   },
   "file_extension": ".py",
   "mimetype": "text/x-python",
   "name": "python",
   "nbconvert_exporter": "python",
   "pygments_lexer": "ipython3",
   "version": "3.11.13"
  }
 },
 "nbformat": 4,
 "nbformat_minor": 5
}
