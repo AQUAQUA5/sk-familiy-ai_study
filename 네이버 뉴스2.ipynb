{
 "cells": [
  {
   "metadata": {},
   "cell_type": "code",
   "outputs": [],
   "execution_count": null,
   "source": [
    "import requests\n",
    "from bs4 import BeautifulSoup as BS\n",
    "\n",
    "def naver_news_save(url):\n",
    "    bs = BS(requests.get(url).text)\n",
    "    title = bs.find(\"h2\", id=\"title_area\").text\n",
    "    date = bs.find('div', class_='media_end_head_info_datestamp').find(\"span\")['data-date-time'].replace(\":\",\"\")\n",
    "    bs.find(\"span\", class_=\"end_photo_org\").decompose()\n",
    "    with open(f\"./{title}-{date}.txt\".replace(\"?\", ''), \"w\", encoding='utf-8') as f:\n",
    "        f.write(bs.find('article', id='dic_area').text)"
   ],
   "id": "8bbe3a884020eaa1"
  }
 ],
 "metadata": {
  "kernelspec": {
   "display_name": "Python 3",
   "language": "python",
   "name": "python3"
  },
  "language_info": {
   "codemirror_mode": {
    "name": "ipython",
    "version": 2
   },
   "file_extension": ".py",
   "mimetype": "text/x-python",
   "name": "python",
   "nbconvert_exporter": "python",
   "pygments_lexer": "ipython2",
   "version": "2.7.6"
  }
 },
 "nbformat": 4,
 "nbformat_minor": 5
}
