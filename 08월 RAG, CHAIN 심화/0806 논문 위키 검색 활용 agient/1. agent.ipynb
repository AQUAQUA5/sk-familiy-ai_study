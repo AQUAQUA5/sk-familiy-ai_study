{
 "cells": [
  {
   "cell_type": "code",
   "execution_count": 1,
   "id": "4b0fd66c",
   "metadata": {},
   "outputs": [
    {
     "name": "stderr",
     "output_type": "stream",
     "text": [
      "USER_AGENT environment variable not set, consider setting it to identify your requests.\n"
     ]
    }
   ],
   "source": [
    "from langchain.agents import AgentExecutor\n",
    "from langchain.agents import create_openai_tools_agent\n",
    "from langchain import hub\n",
    "\n",
    "from langchain_community.utilities import ArxivAPIWrapper\n",
    "from langchain_community.tools import ArxivQueryRun\n",
    "\n",
    "from langchain.tools.retriever import create_retriever_tool\n",
    "from langchain_text_splitters import RecursiveCharacterTextSplitter\n",
    "from langchain_openai import OpenAIEmbeddings\n",
    "from langchain_community.vectorstores import FAISS\n",
    "from langchain_community.document_loaders import WebBaseLoader\n",
    "from langchain_community.utilities import WikipediaAPIWrapper\n",
    "from langchain_community.tools import WikipediaQueryRun\n",
    "from langchain_openai import ChatOpenAI\n",
    "import os"
   ]
  },
  {
   "cell_type": "code",
   "execution_count": 2,
   "id": "b64f3328",
   "metadata": {},
   "outputs": [
    {
     "name": "stderr",
     "output_type": "stream",
     "text": [
      "/home/user1/miniconda3/envs/openai/lib/python3.11/site-packages/langsmith/client.py:272: LangSmithMissingAPIKeyWarning: API key must be provided when using hosted LangSmith API\n",
      "  warnings.warn(\n"
     ]
    }
   ],
   "source": [
    "openai = ChatOpenAI(model='gpt-4o-mini', temperature=0)\n",
    "prompt = hub.pull(\"hwchase17/openai-functions-agent\")"
   ]
  },
  {
   "cell_type": "code",
   "execution_count": 4,
   "id": "cee64d1b",
   "metadata": {},
   "outputs": [],
   "source": [
    "api_wrapper = WikipediaAPIWrapper(top_k_results=1, doc_content_chars_max=200)\n",
    "wiki = WikipediaQueryRun(api_wrapper=api_wrapper)"
   ]
  },
  {
   "cell_type": "code",
   "execution_count": 5,
   "id": "33df572d",
   "metadata": {},
   "outputs": [],
   "source": [
    "# naver news\n",
    "loader = WebBaseLoader(\n",
    "    \"https://news.naver.com/\"\n",
    ")\n",
    "\n",
    "docs = loader.load()\n",
    "documents = RecursiveCharacterTextSplitter(\n",
    "    chunk_size=1000, chunk_overlap=200).split_documents(docs)"
   ]
  },
  {
   "cell_type": "code",
   "execution_count": null,
   "id": "de1e2bbc",
   "metadata": {},
   "outputs": [],
   "source": [
    "vectordb = FAISS.from_documents(documents, OpenAIEmbeddings())\n",
    "retriever = vectordb.as_retriever()\n",
    "\n",
    "retriever_tool = create_retriever_tool(\n",
    "    retriever, \"naver_news_search\", \"네이버 뉴스정보가 저장된 벡터 DB, 당일 뉴스 검색 가능\"\n",
    ")\n",
    "\n",
    "arxiv_wrapper = ArxivAPIWrapper(\n",
    "    top_k_results=1, doc_content_chars_max=200, load_all_available_meta=False,)\n",
    "\n",
    "arxiv = ArxivQueryRun(api_wrapper=arxiv_wrapper)\n",
    "tools = [wiki, retriever_tool, arxiv]\n",
    "\n",
    "agent = create_openai_tools_agent(llm=openai, tools=tools, prompt=prompt)\n",
    "agent_executor = AgentExecutor(agent=agent, tools=tools, verbose=True)"
   ]
  },
  {
   "cell_type": "code",
   "execution_count": 7,
   "id": "da7d0c57",
   "metadata": {},
   "outputs": [
    {
     "name": "stdout",
     "output_type": "stream",
     "text": [
      "\n",
      "\n",
      "\u001b[1m> Entering new AgentExecutor chain...\u001b[0m\n",
      "\u001b[32;1m\u001b[1;3m\n",
      "Invoking: `wikipedia` with `{'query': 'Transformer architecture'}`\n",
      "\n",
      "\n",
      "\u001b[0m\u001b[36;1m\u001b[1;3mPage: Transformer (deep learning architecture)\n",
      "Summary: In deep learning, transformer is an architecture based on the multi-head attention mechanism, in which text is converted to numerical representa\u001b[0m\u001b[32;1m\u001b[1;3m트랜스포머(Transformer) 구조는 딥러닝에서 사용되는 아키텍처로, 주로 자연어 처리(NLP) 분야에서 활용됩니다. 이 구조는 멀티 헤드 어텐션(multi-head attention) 메커니즘에 기반하여, 텍스트를 수치적 표현으로 변환하는 방식으로 작동합니다.\n",
      "\n",
      "트랜스포머는 다음과 같은 주요 구성 요소로 이루어져 있습니다:\n",
      "\n",
      "1. **인코더(Encoder)**: 입력 데이터를 처리하여 고차원 벡터로 변환합니다. 여러 개의 인코더 층으로 구성되어 있으며, 각 층은 멀티 헤드 어텐션과 피드포워드 신경망으로 이루어져 있습니다.\n",
      "\n",
      "2. **디코더(Decoder)**: 인코더에서 생성된 벡터를 바탕으로 최종 출력을 생성합니다. 디코더 역시 여러 개의 층으로 구성되어 있으며, 인코더의 출력을 참고할 수 있는 어텐션 메커니즘을 포함합니다.\n",
      "\n",
      "3. **어텐션 메커니즘(Attention Mechanism)**: 입력의 각 부분이 다른 부분에 얼마나 주의를 기울여야 하는지를 결정합니다. 멀티 헤드 어텐션은 여러 개의 어텐션 메커니즘을 병렬로 사용하여 다양한 표현을 학습할 수 있게 합니다.\n",
      "\n",
      "4. **포지셔널 인코딩(Positional Encoding)**: 순서 정보가 없는 입력 데이터에 순서를 부여하기 위해 사용됩니다. 이는 모델이 단어의 위치 정보를 이해할 수 있도록 돕습니다.\n",
      "\n",
      "트랜스포머 구조는 RNN이나 LSTM과 같은 전통적인 순환 신경망보다 더 효율적이며, 병렬 처리가 가능하여 대규모 데이터셋에 대한 학습 속도가 빠릅니다. 이러한 특성 덕분에 트랜스포머는 BERT, GPT와 같은 최신 자연어 처리 모델의 기초가 되었습니다.\u001b[0m\n",
      "\n",
      "\u001b[1m> Finished chain.\u001b[0m\n"
     ]
    }
   ],
   "source": [
    "result = agent_executor.invoke({'input' : '트랜스포머 구조를 알려줘'})"
   ]
  },
  {
   "cell_type": "code",
   "execution_count": null,
   "id": "f47b45b8",
   "metadata": {},
   "outputs": [],
   "source": []
  }
 ],
 "metadata": {
  "kernelspec": {
   "display_name": "openai",
   "language": "python",
   "name": "python3"
  },
  "language_info": {
   "codemirror_mode": {
    "name": "ipython",
    "version": 3
   },
   "file_extension": ".py",
   "mimetype": "text/x-python",
   "name": "python",
   "nbconvert_exporter": "python",
   "pygments_lexer": "ipython3",
   "version": "3.11.13"
  }
 },
 "nbformat": 4,
 "nbformat_minor": 5
}
