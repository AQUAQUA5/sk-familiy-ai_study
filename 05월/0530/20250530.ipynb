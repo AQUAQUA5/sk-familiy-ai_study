{
 "cells": [
  {
   "cell_type": "code",
   "id": "843f8f7f",
   "metadata": {},
   "source": [
    "import numpy as np\n",
    "import pandas as pd\n",
    "#넘파이와 판다스의 분산은 다르게 계산됨\n",
    "#판다스는 자유도가-1되어있음"
   ],
   "outputs": [],
   "execution_count": null
  },
  {
   "cell_type": "code",
   "id": "66d3b222",
   "metadata": {},
   "source": [
    "print('넘파이')\n",
    "print(np.arange(1,11).mean())\n",
    "print(np.arange(1,11).var())\n",
    "print(np.sum((np.arange(1,11) - np.arange(1,11).mean())**2)/9)\n",
    "\n",
    "print()\n",
    "print('판다스')\n",
    "print(pd.DataFrame(data=range(1,11)).mean())\n",
    "print(pd.DataFrame(data=range(1,11)).var())"
   ],
   "outputs": [],
   "execution_count": null
  },
  {
   "cell_type": "code",
   "id": "ac79a473",
   "metadata": {},
   "source": [
    "import requests\n",
    "import pymysql\n",
    "\n",
    "url = f\"http://data.krx.co.kr/comm/bldAttendant/getJsonData.cmd\"\n",
    "data = requests.post(url).text"
   ],
   "outputs": [],
   "execution_count": null
  },
  {
   "cell_type": "code",
   "id": "4788ada5",
   "metadata": {},
   "source": [
    "sql = \"\"\"\n",
    "create TABLE IF NOT EXISTS st_master2(\n",
    "    ISU_CD varchar(12) not null,\n",
    "    ISU_SRT_CD varchar(10) not null,\n",
    "    ISU_NM varchar(100) not null,\n",
    "    ISU_ABBRV varchar(100) not null,\n",
    "    ISU_ENG_NM varchar(100) not null,\n",
    "    LIST_DD date not null,\n",
    "    MKT_TP_NM varchar(15) not null,\n",
    "    SECUGRP_NM varchar(20) not null,\n",
    "    SECT_TP_NM varchar(30) not null,\n",
    "    KIND_STKCERT_TP_NM varchar(15) not NULL,\n",
    "    PARVAL int null default null,\n",
    "    IST_SHRS bigint not null,\n",
    "    PRIMARY KEY(ISU_SRT_CD)\n",
    ")\n",
    "\"\"\"\n"
   ],
   "outputs": [],
   "execution_count": null
  },
  {
   "cell_type": "code",
   "id": "9e737ca4",
   "metadata": {},
   "source": [
    "import pymysql\n",
    "conn = pymysql.connect(host='127.0.0.1', user='play', passwd='123', database='sk17', port=3306)\n",
    "cur = conn.cursor()\n",
    "cur.execute(sql)"
   ],
   "outputs": [],
   "execution_count": null
  },
  {
   "cell_type": "code",
   "id": "af7c1ee6",
   "metadata": {},
   "source": [
    "cur.execute('show tables')\n",
    "cur.fetchall()\n",
    "cur.execute('desc st_master2')\n",
    "cur.fetchall()"
   ],
   "outputs": [],
   "execution_count": null
  },
  {
   "cell_type": "code",
   "id": "d6561c0a",
   "metadata": {},
   "source": [
    "modify_sql = \"\"\"ALTER TABLE st_master2\n",
    "MODIFY COLUMN PARVAL float default null\"\"\"\n",
    "cur.execute(modify_sql)\n",
    "cur.execute('desc st_master2')\n",
    "cur.fetchall()"
   ],
   "outputs": [],
   "execution_count": null
  },
  {
   "cell_type": "code",
   "id": "6f6ed6af",
   "metadata": {},
   "source": [
    "import requests\n",
    "import pymysql\n",
    "\n",
    "headers1 = {\n",
    "    'Accept': 'application/json, text/javascript, */*; q=0.01',\n",
    "    'Accept-Encoding': 'gzip, deflate',\n",
    "    'Accept-Language': 'ko-KR,ko;q=0.9,en-US;q=0.8,en;q=0.7',\n",
    "    'Connection': 'keep-alive',\n",
    "    'Content-Length': '88',\n",
    "    'Content-Type': 'application/x-www-form-urlencoded; charset=UTF-8',\n",
    "    'Cookie': '__smVisitorID=jMYvcn8H966; _ga=GA1.1.7639877.1748567776; _ga_Z6N0DBVT2W=GS2.1.s1748567775$o1$g1$t1748567823$j12$l0$h0; JSESSIONID=g8b2nahgZKunheR73JiFUWtqaaPK9Fmw5b41wPRhG396lt7SlJErT5itRiUjyDuC.bWRjX2RvbWFpbi9tZGNvd2FwMi1tZGNhcHAxMQ==; _ga_808R2EHLL3=GS2.1.s1748567823$o1$g0$t1748567836$j47$l0$h0',\n",
    "    'Host': 'data.krx.co.kr',\n",
    "    'Origin': 'http://data.krx.co.kr',\n",
    "    'Referer': 'http://data.krx.co.kr/contents/MDC/MDI/mdiLoader/index.cmd?menuId=MDC0201020101',\n",
    "    'User-Agent': 'Mozilla/5.0 (Windows NT 10.0; Win64; x64) AppleWebKit/537.36 (KHTML, like Gecko) Chrome/137.0.0.0 Safari/537.36',\n",
    "    'X-Requested-With': 'XMLHttpRequest'\n",
    "}\n",
    "payload = {\n",
    "    'bld': 'dbms/MDC/STAT/standard/MDCSTAT01901',\n",
    "    'locale': 'ko_KR',\n",
    "    'mktId': 'ALL',\n",
    "    'share': '1',\n",
    "    'csvxls_isNo': 'false'\n",
    "}\n",
    "\n",
    "url = f\"http://data.krx.co.kr/comm/bldAttendant/getJsonData.cmd\"\n",
    "r = requests.post(url, data = payload, headers = headers1)"
   ],
   "outputs": [],
   "execution_count": null
  },
  {
   "cell_type": "code",
   "id": "fec5962a",
   "metadata": {},
   "source": [
    "sql = \"insert IGNORE INTO st_master values(%s, %s, %s, %s, %s, %s, %s, %s, %s, %s, %s, %s)\"\n",
    "for x in r.json()['OutBlock_1']:\n",
    "    ISU_CD, ISU_SRT_CD, ISU_NM, ISU_ABBRV, ISU_ENG_NM, LIST_DD, MKT_TP_NM, SECUGRP_NM, SECT_TP_NM, KIND_STKCERT_TP_NM, PARVAL, LIST_SHRS = x.values()\n",
    "    LIST_SHRS = LIST_SHRS.replace(\",\", \"\")\n",
    "    PARVAL = None if PARVAL == \"무액면\" else PARVAL.replace(\",\", \"\")\n",
    "    cur.execute(sql,[ISU_CD, ISU_SRT_CD, ISU_NM, ISU_ABBRV, ISU_ENG_NM, LIST_DD, MKT_TP_NM, SECUGRP_NM, SECT_TP_NM, KIND_STKCERT_TP_NM, PARVAL, LIST_SHRS] )x`\n",
    "\n",
    "\n",
    "conn.commit()\n",
    "#conn.close()"
   ],
   "outputs": [],
   "execution_count": null
  },
  {
   "cell_type": "code",
   "id": "a7777105",
   "metadata": {},
   "source": [
    "def get_sql(sql):\n",
    "    cur.execute(sql)\n",
    "    return cur.fetchall()"
   ],
   "outputs": [],
   "execution_count": null
  },
  {
   "cell_type": "code",
   "id": "fdb850fe",
   "metadata": {},
   "source": [
    "rt = get_sql(\"\"\" select isu_srt_cd from st_master where MKT_TP_NM in ('KOSPI') order by list_dd desc \"\"\")"
   ],
   "outputs": [],
   "execution_count": null
  },
  {
   "cell_type": "code",
   "id": "957d3930",
   "metadata": {},
   "source": [
    "rt.__len__()"
   ],
   "outputs": [],
   "execution_count": null
  },
  {
   "cell_type": "code",
   "id": "1d82316a",
   "metadata": {},
   "source": [
    "import pymysql\n",
    "\n",
    "conn = pymysql.connect(host='127.0.0.1', user='play', passwd='123', database='sk17', port=3306)\n",
    "cur = conn.cursor()"
   ],
   "outputs": [],
   "execution_count": null
  },
  {
   "cell_type": "code",
   "id": "0d6de0f4",
   "metadata": {},
   "source": [
    "import pandas as pd\n",
    "import streamlit\n",
    "\n",
    "rt = get_sql(\"\"\" select * from st_master where MKT_TP_NM in ('KOSPI') order by list_dd desc \"\"\")\n",
    "st.write(pd.DataFrame(rt, columns=[x[0] for x in get_sql(\"desc st_master\")]))"
   ],
   "outputs": [],
   "execution_count": null
  },
  {
   "cell_type": "code",
   "id": "abdeabb3",
   "metadata": {},
   "source": [
    "data"
   ],
   "outputs": [],
   "execution_count": null
  },
  {
   "cell_type": "code",
   "id": "a902dc0d",
   "metadata": {},
   "source": [],
   "outputs": [],
   "execution_count": null
  }
 ],
 "metadata": {
  "kernelspec": {
   "display_name": "base",
   "language": "python",
   "name": "python3"
  },
  "language_info": {
   "codemirror_mode": {
    "name": "ipython",
    "version": 3
   },
   "file_extension": ".py",
   "mimetype": "text/x-python",
   "name": "python",
   "nbconvert_exporter": "python",
   "pygments_lexer": "ipython3",
   "version": "3.11.11"
  }
 },
 "nbformat": 4,
 "nbformat_minor": 5
}
