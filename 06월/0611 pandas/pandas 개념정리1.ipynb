{
 "cells": [
  {
   "cell_type": "markdown",
   "id": "8df0b4ae",
   "metadata": {},
   "source": [
    "### 판다스란\n",
    "관계형 또는 레이블이 된 데이터로 쉽고 직관적 으로 작업할 수 있도록 설계되었고, 빠르고, 유연한 데이터 구조를 제공하는 Python 패키지  \n",
    "또한, 어떤 언어로도 사용할 수 있는 가장 강력하고 유연한 오픈 소스 데이터 분석 / 조직 도구  \n",
    "Pandas는 다음의 종류의 데이터에 적합한 분석 패키지  \n",
    "- SQL 테이블 또는 Excel 스프레드 시트에서와 같은 열과 행으로 이루어진 테이블 형식 데이터  \n",
    "- 정렬되고 정렬되지 않은 시계열 데이터  \n",
    "- 다른 형태의 관찰 / 통계 데이터 세트  \n",
    "공식 문서 : https://pandas.pydata.org/docs/reference/index.html"
   ]
  },
  {
   "cell_type": "markdown",
   "id": "e7b4bf2a",
   "metadata": {},
   "source": [
    "#### 시리즈\n",
    "Pandas의 Series는 1차원 배열  \n",
    "인덱스(index) 사용 가능  \n",
    "하나의 데이터 타입(dtype)을 가짐  \n",
    "파이썬 리스트, 튜플, 딕셔너리, 넘파이 array 등으로 생성 가능"
   ]
  },
  {
   "cell_type": "code",
   "execution_count": 16,
   "id": "888176ca",
   "metadata": {},
   "outputs": [
    {
     "name": "stdout",
     "output_type": "stream",
     "text": [
      "object\n"
     ]
    }
   ],
   "source": [
    "# 시리즈 생성\n",
    "import numpy as np\n",
    "import pandas as pd\n",
    "arr = np.arange(100, 105)\n",
    "s = pd.Series(arr)\n",
    "s = pd.Series([91, 2.5, '스포츠', 4, 5.16])\n",
    "s = pd.Series({'a': 1, 'b': 2, 'c': 3})\n",
    "s = pd.Series((10, 20, 30))\n",
    "s = pd.Series(5, index=['a', 'b', 'c'])         #모든 인덱스가 5\n",
    "\n",
    "#하나의 데이터 타입\n",
    "s = pd.Series([1, 2, 'python']) #하나의 데이터타입을 갖기 위하여, int를 문자열로 변환 후 시리즈 생성\n",
    "print(s.dtype)                  #object"
   ]
  },
  {
   "cell_type": "markdown",
   "id": "cf6e613e",
   "metadata": {},
   "source": [
    "#### 데이터프레임\n",
    "2차원 데이터 구조  \n",
    "행(row), 열(column)으로 구성  \n",
    "각 열(column)은 각각의 하나의 데이터 타입 (dtype)을 가짐  \n",
    "딕셔너리, 리스트, 튜플, 시리즈, 넘파이array 등으로 생성 가능"
   ]
  },
  {
   "cell_type": "code",
   "execution_count": null,
   "id": "48cb17a3",
   "metadata": {},
   "outputs": [],
   "source": [
    "#딕셔너리, 키값이 칼럼이 된다.\n",
    "df_dic = pd.DataFrame({'a': [1, 2, 3], 'b': [4, 5, 6]})\n",
    "df_dic = pd.DataFrame({'a': [1, 2, 3], 'b': [4, 5, 6]}, index=['x', 'y', 'z'])\n",
    "\n",
    "#리스트. 튜플도 똑같이 가능\n",
    "df_list = pd.DataFrame([[1, 2], [3, 4]], columns=['A', 'B'])\n",
    "\n",
    "#딕셔너리의 리스트 : 각 딕셔너리가 한 행이 되며, 컬럼명이 없는 값은 NaN으로 채워짐\n",
    "df_listofdic = pd.DataFrame([{'a': 1, 'b': 2}, {'a': 3, 'b': 4, 'c': 5}])\n",
    "\n",
    "#시리즈로 생성 : 시리즈의 인덱스가 칼럼명이 되며, 칼럼명이 없으면 NaN\n",
    "s1 = pd.Series([1, 2], index=['a', 'b'])\n",
    "s2 = pd.Series([3, 4], index=['a', 'b'])\n",
    "df_s = pd.DataFrame([s1, s2])\n",
    "\n",
    "#넘파이 array로 생성\n",
    "arr = np.array([[1, 2], [3, 4]])\n",
    "df_na = pd.DataFrame(arr, columns=['A', 'B'])\n",
    "\n",
    "#range, zip, set 등 반복 가능한 객체로도 생성 가능\n",
    "df_ra = pd.DataFrame(range(5), columns=['num'])"
   ]
  },
  {
   "cell_type": "markdown",
   "id": "54579de4",
   "metadata": {},
   "source": [
    "#### 시리즈, 데이터프레임의 데이터 타입\n",
    "\n",
    "판다스는 numpy의 dtype과 판다스 고유의 dtype을 지원한다.\n",
    "\n",
    "1. NumPy의 dtype인 데이터 타입\n",
    "\n",
    "| 데이터 타입                      | 설명                                                          |\n",
    "|----------------------------------|---------------------------------------------------------------|\n",
    "| int8, int16, int32, int64        | 부호 있는 정수형. 각 숫자는 비트 수를 의미.                   |\n",
    "| uint8, uint16, uint32, uint64    | 부호 없는(음수 없음) 정수형.                                  |\n",
    "| float16, float32, float64        | 부동소수점(실수)형.                                           |\n",
    "| complex64, complex128            | 복소수형.                                                     |\n",
    "| bool, bool_                      | 불리언(논리형).                                               |\n",
    "| object                           | 파이썬 객체형(주로 문자열, 여러 타입 혼합 시).                 |\n",
    "| str, string_                     | 문자열(NumPy는 string_, 판다스는 object 또는 string).          |\n",
    "| datetime64[ns]                   | 날짜 및 시간(나노초 단위, 타임존 없음).                       |\n",
    "| timedelta64[ns]                  | 시간 간격(나노초 단위).                                       |\n",
    "\n",
    "2. 판다스 고유 dtype\n",
    "\n",
    "| 데이터 타입                      | 설명                                                          |\n",
    "|----------------------------------|---------------------------------------------------------------|\n",
    "| Int8, Int16, Int32, Int64        | 판다스 확장형(결측값 지원 정수형).                            |\n",
    "| UInt8, UInt16, UInt32, UInt64    | 판다스 확장형(결측값 지원 부호 없는 정수형).                  |\n",
    "| Float32, Float64                 | 판다스 확장형(결측값 지원 실수형).                            |\n",
    "| boolean                          | 판다스 확장형(결측값 지원 불리언).                            |\n",
    "| string                           | 판다스 확장형(결측값 지원 문자열).                            |\n",
    "| category                         | 판다스 고유 범주형 데이터(메모리 효율, 성능 향상).             |\n",
    "| datetime64[ns, tz]               | 타임존 포함 날짜 및 시간.                                     |\n",
    "| period                           | 판다스 고유 기간형 데이터.                                    |\n",
    "| interval                         | 판다스 고유 구간형 데이터.                                    |\n",
    "| sparse                           | 판다스 고유 희소 데이터 타입.                                 |"
   ]
  },
  {
   "cell_type": "markdown",
   "id": "66cb138f",
   "metadata": {},
   "source": [
    "## 시리즈와 데이터프레임의 속성\n",
    "\n",
    "#### Series와 DataFrame 공통 속성\n",
    "| 속성명   | Series 반환값 타입       | DataFrame 반환값 타입    | 설명                                                        |\n",
    "|----------|------------------------|-------------------------|-------------------------------------------------------------|\n",
    "| shape    | tuple                  | tuple                   | 데이터의 형태                                               |\n",
    "| ndim     | int                    | int                     | 차원 수                                                     |\n",
    "| axes     | list                   | list                    | 축 정보                                                     |\n",
    "| T        | pandas.Series          | pandas.DataFrame        | 전치(Transpose)                                             |\n",
    "| values   | numpy.ndarray (1차원)  | numpy.ndarray (2차원)   | 실제 데이터(numpy array)                                    |\n",
    "| dtype    | numpy.dtype            | numpy.dtype             | 데이터의 dtype                                              |\n",
    "| size     | int                    | int                     | 전체 원소 개수                                              |\n",
    "| empty    | bool                   | bool                    | 비어 있는지 여부                                            |\n",
    "| index    | pandas.Index           | pandas.Index            | 행 인덱스                                                   |\n",
    "| hasnans  | bool                   | bool                    | NaN 포함 여부                                               |\n",
    "| attrs    | dict                   | dict                    | 사용자 정의 메타데이터(실험적)                              |\n",
    "| flags    | pandas.core.flags.Flags| pandas.core.flags.Flags | pandas 객체의 플래그 정보                                    |\n",
    "| nbytes   | int                    | int                     | 데이터가 차지하는 바이트 수                                  |\n",
    "\n",
    "#### DataFrame만의 속성\n",
    "| 속성명   | 반환값 타입                                 | 설명                                 |\n",
    "|----------|---------------------------------------------|--------------------------------------|\n",
    "| dtypes   | pandas.Series                               | 각 열의 데이터 타입                  |\n",
    "| columns  | pandas.Index                                | 열 인덱스(컬럼명)                    |\n",
    "| style    | pandas.io.formats.style.Styler              | 시각화 스타일링 객체                 |\n",
    "\n",
    "#### Series만의 속성\n",
    "| 속성명                  | 반환값 타입                                              | 설명                                 |\n",
    "|-------------------------|---------------------------------------------------------|--------------------------------------|\n",
    "| name                    | object                                                  | 시리즈의 이름                        |\n",
    "| array                   | pandas.api.extensions.ExtensionArray                    | 내부 데이터의 ExtensionArray         |\n",
    "| is_unique               | bool                                                    | 모든 값이 유일한지 여부              |\n",
    "| is_monotonic_increasing | bool                                                    | 값이 오름차순 단조 증가인지 여부     |\n",
    "| is_monotonic_decreasing | bool                                                    | 값이 내림차순 단조 감소인지 여부     |\n",
    "| real                    | pandas.Series                                           | 실수부(복소수일 때)                  |\n",
    "| imag                    | pandas.Series                                           | 허수부(복소수일 때)                  |\n",
    "| str                     | pandas.core.strings.accessor.StringMethods              | 문자열 메소드 접근자                 |\n",
    "| dt                      | pandas.core.indexes.accessors.DatetimeProperties        | 날짜/시간 메소드 접근자              |\n",
    "| cat                     | pandas.core.arrays.categorical.CategoricalAccessor      | 범주형 메소드 접근자                 |\n",
    "\n",
    "str, dt, cat 속성은 해당 Series의 dtype이 각각 문자열, datetime, category일 때만 사용 가능  \n",
    "pandas 2.x 기준 공식 문서 기준"
   ]
  },
  {
   "cell_type": "code",
   "execution_count": null,
   "id": "7c6c16c3",
   "metadata": {},
   "outputs": [
    {
     "data": {
      "text/plain": [
       "<bound method DataFrame.isnull of    a  b\n",
       "0  1  2\n",
       "1  3  4>"
      ]
     },
     "execution_count": 39,
     "metadata": {},
     "output_type": "execute_result"
    }
   ],
   "source": [
    "#주요 속성 사용\n",
    "df_s.shape      #(2, 2)\n",
    "df_s.size       #4\n",
    "df_s.ndim       #2\n",
    "df_s.dtypes     #a    int64     \\ b    int64     \\ dtype: object"
   ]
  },
  {
   "cell_type": "markdown",
   "id": "78a506dd",
   "metadata": {},
   "source": [
    "## 시리즈와 데이터프레임의 메소드\n",
    "\n",
    "#### Series와 DataFrame 공통 메소드\n",
    "| 메소드명              | Series 반환값 타입        | DataFrame 반환값 타입      | 설명                                      |\n",
    "|-----------------------|--------------------------|---------------------------|-------------------------------------------|\n",
    "| head(), tail()        | pandas.Series            | pandas.DataFrame          | 앞/뒤 일부 데이터 반환                    |\n",
    "| copy()                | pandas.Series            | pandas.DataFrame          | 객체 복사                                 |\n",
    "| describe()            | pandas.Series            | pandas.DataFrame          | 요약 통계량 반환                          |\n",
    "| count()               | int                     | pandas.Series             | 결측값 제외 개수                          |\n",
    "| min(), max(), sum()   | scalar                  | pandas.Series             | 최소/최대/합계                            |\n",
    "| mean(), median(), std(), var() | float         | pandas.Series             | 평균/중앙값/표준편차/분산                 |\n",
    "| mode()                | pandas.Series            | pandas.Series             | 최빈값                                    |\n",
    "| unique()              | numpy.ndarray            | numpy.ndarray             | 고유값 배열 (DataFrame은 특정 열에서만)   |\n",
    "| nunique()             | int                     | pandas.Series             | 고유값 개수                               |\n",
    "| sort_values()         | pandas.Series            | pandas.DataFrame          | 값 기준 정렬                              |\n",
    "| sort_index()          | pandas.Series            | pandas.DataFrame          | 인덱스 기준 정렬                          |\n",
    "| isnull(), isna()      | pandas.Series            | pandas.DataFrame          | 결측값 여부 (True/False)                  |\n",
    "| notnull(), notna()    | pandas.Series            | pandas.DataFrame          | 결측값 아님 여부 (True/False)             |\n",
    "| fillna()              | pandas.Series            | pandas.DataFrame          | 결측값 채우기                             |\n",
    "| dropna()              | pandas.Series            | pandas.DataFrame          | 결측값 제거                               |\n",
    "| astype()              | pandas.Series            | pandas.DataFrame          | 데이터 타입 변환                          |\n",
    "| apply()               | pandas.Series            | pandas.DataFrame          | 함수 적용                                 |\n",
    "| to_numpy()            | numpy.ndarray            | numpy.ndarray             | numpy 배열로 변환                         |\n",
    "| sample()              | pandas.Series            | pandas.DataFrame          | 임의 샘플 추출                            |\n",
    "| equals()              | bool                     | bool                      | 두 객체가 동일한지 비교                   |\n",
    "| idxmin(), idxmax()    | object/int/label         | pandas.Series             | 최소/최대값 위치 인덱스                   |\n",
    "| drop_duplicates()     | pandas.Series            | pandas.DataFrame          | 중복값 제거                               |\n",
    "| duplicated()          | pandas.Series            | pandas.DataFrame          | 중복여부(Boolean) 반환                    |\n",
    "| memory_usage()        | int                      | pandas.Series             | 메모리 사용량                             |\n",
    "| abs()                 | pandas.Series            | pandas.DataFrame          | 절댓값                                    |\n",
    "| add(), sub(), mul(), div(), pow() | pandas.Series | pandas.DataFrame          | 산술 연산                                 |\n",
    "| clip()                | pandas.Series            | pandas.DataFrame          | 값 범위 제한                              |\n",
    "| between()             | pandas.Series            | pandas.DataFrame          | 구간 포함 여부                            |\n",
    "| replace()             | pandas.Series            | pandas.DataFrame          | 값 치환                                   |\n",
    "| where(), mask()       | pandas.Series            | pandas.DataFrame          | 조건에 따라 값 선택/변경                  |\n",
    "| combine_first()       | pandas.Series            | pandas.DataFrame          | 결측값 채우기(다른 객체로)                |\n",
    "| interpolate()         | pandas.Series            | pandas.DataFrame          | 보간(결측값 채우기)                       |\n",
    "| quantile()            | float                    | pandas.Series             | 분위수                                    |\n",
    "| cumsum(), cumprod(), cummax(), cummin() | pandas.Series | pandas.DataFrame | 누적 합/곱/최대/최소                   |\n",
    "| pct_change()          | pandas.Series            | pandas.DataFrame          | 퍼센트 변화율                             |\n",
    "| rank()                | pandas.Series            | pandas.DataFrame          | 순위 반환                                 |\n",
    "| round()               | pandas.Series            | pandas.DataFrame          | 반올림                                    |\n",
    "| to_frame()            | pandas.DataFrame         | -                         | Series → DataFrame 변환                   |\n",
    "\n",
    "#### DataFrame만의 메소드\n",
    "| 메소드명              | 반환값 타입                | 설명                                  |\n",
    "|----------------------|---------------------------|---------------------------------------|\n",
    "| groupby()            | DataFrameGroupBy          | 그룹별 연산 객체 반환                 |\n",
    "| pivot(), pivot_table()| pandas.DataFrame         | 피벗 테이블 생성                      |\n",
    "| melt()               | pandas.DataFrame          | wide→long 형태 변환                   |\n",
    "| merge()              | pandas.DataFrame          | 다른 DF와 병합                        |\n",
    "| join()               | pandas.DataFrame          | 인덱스/열 기준 결합                   |\n",
    "| concat()             | pandas.DataFrame          | 여러 DF 연결                          |\n",
    "| set_index()          | pandas.DataFrame          | 인덱스 설정                           |\n",
    "| reset_index()        | pandas.DataFrame          | 인덱스 초기화                         |\n",
    "| transpose(), T       | pandas.DataFrame          | 전치(행/열 교환)                      |\n",
    "| add_prefix()         | pandas.DataFrame          | 컬럼명 접두사 추가                    |\n",
    "| add_suffix()         | pandas.DataFrame          | 컬럼명 접미사 추가                    |\n",
    "| select_dtypes()      | pandas.DataFrame          | dtype별 열 선택                       |\n",
    "| info()               | None                      | 데이터프레임 요약 정보 출력           |\n",
    "| corr(), cov()        | pandas.DataFrame          | 상관계수/공분산 반환                  |\n",
    "| plot()               | matplotlib 객체           | 그래프 그리기                         |\n",
    "| value_counts()       | pandas.Series             | 값 개수 집계 (특정 열에서 사용)       |\n",
    "| iterrows(), itertuples(), iteritems() | generator | 행/열 반복자 반환                    |\n",
    "| explode()            | pandas.DataFrame          | 리스트/배열 컬럼을 행으로 분리         |\n",
    "| filter()             | pandas.DataFrame          | 조건에 맞는 행/열 선택                |\n",
    "| assign()             | pandas.DataFrame          | 새 컬럼 추가                          |\n",
    "| drop()               | pandas.DataFrame          | 행/열 삭제                            |\n",
    "| drop_columns()       | pandas.DataFrame          | 열 삭제(비공식, drop 사용 권장)        |\n",
    "| drop_duplicates()    | pandas.DataFrame          | 중복 행 제거                          |\n",
    "| duplicated()         | pandas.Series             | 중복 행 여부(Boolean) 반환            |\n",
    "| sort_values()        | pandas.DataFrame          | 값 기준 정렬                          |\n",
    "| sort_index()         | pandas.DataFrame          | 인덱스 기준 정렬                      |\n",
    "| isnull(), notnull()  | pandas.DataFrame          | 결측값 여부(Boolean) 반환             |\n",
    "| fillna(), dropna()   | pandas.DataFrame          | 결측값 채우기/제거                    |\n",
    "| astype()             | pandas.DataFrame          | 데이터 타입 변환                      |\n",
    "| apply(), applymap()  | pandas.DataFrame          | 함수 적용                             |\n",
    "\n",
    "#### Series만의 메소드\n",
    "| 메소드명              | 반환값 타입                | 설명                                  |\n",
    "|----------------------|---------------------------|---------------------------------------|\n",
    "| map()                | pandas.Series             | 함수/딕셔너리 매핑                    |\n",
    "| to_frame()           | pandas.DataFrame          | Series를 DataFrame으로 변환            |\n",
    "| append()             | pandas.Series             | Series 이어붙이기 (deprecated, concat 권장)|\n",
    "| items()              | generator                 | (인덱스, 값) 튜플 반복자 반환         |\n",
    "| keys()               | pandas.Index              | 인덱스 반환                           |\n",
    "| get()                | scalar                    | 인덱스 값 반환 (없으면 기본값 반환)    |\n",
    "| str                  | StringMethods             | 문자열 전용 메소드 접근자              |\n",
    "| dt                   | DatetimeProperties        | datetime 전용 메소드 접근자            |\n",
    "| cat                  | CategoricalAccessor       | 범주형 전용 메소드 접근자              |\n",
    "| autocorr()           | float                     | 자기상관계수                           |\n",
    "| factorize()          | tuple                     | (라벨 배열, 고유값 배열) 반환          |\n",
    "| searchsorted()       | int 또는 배열             | 정렬된 시리즈에서 값이 들어갈 위치     |\n",
    "| combine_first()      | pandas.Series             | 결측값을 다른 Series로 채움           |\n",
    "| between()            | pandas.Series             | 구간 포함 여부(Boolean) 반환           |\n",
    "| value_counts()       | pandas.Series             | 값 개수 집계                           |\n",
    "| idxmin(), idxmax()   | label                     | 최소/최대값 위치 인덱스                |\n",
    "| add(), sub(), mul(), div(), pow() | pandas.Series | 산술 연산                             |\n",
    "| abs()                | pandas.Series             | 절댓값                                 |\n",
    "| clip()               | pandas.Series             | 값 범위 제한                           |\n",
    "| round()              | pandas.Series             | 반올림                                 |\n",
    "| cumsum(), cumprod(), cummax(), cummin() | pandas.Series | 누적 합/곱/최대/최소           |\n",
    "| pct_change()         | pandas.Series             | 퍼센트 변화율                          |\n",
    "| rank()               | pandas.Series             | 순위 반환                              |\n",
    "| interpolate()        | pandas.Series             | 보간(결측값 채우기)                    |"
   ]
  },
  {
   "cell_type": "markdown",
   "id": "73b16d1b",
   "metadata": {},
   "source": [
    "## 특수 메소드 속성 및 메소드\n",
    "\n",
    "#### Series와 DataFrame 공통 특수 속성\n",
    "\n",
    "| 속성명 | Series 반환값 타입 | DataFrame 반환값 타입 | 설명 |\n",
    "| --- | --- | --- | --- |\n",
    "| iloc | pandas.core.indexing._iLocIndexer | pandas.core.indexing._iLocIndexer | 정수 위치 기반 인덱싱 인덱서 |\n",
    "| loc | pandas.core.indexing._LocIndexer | pandas.core.indexing._LocIndexer | 라벨 기반 인덱싱 인덱서 |\n",
    "| at | pandas.core.indexing._AtIndexer | pandas.core.indexing._AtIndexer | 라벨 기반 스칼라 값 접근자 |\n",
    "| iat | pandas.core.indexing._iAtIndexer | pandas.core.indexing._iAtIndexer | 정수 위치 기반 스칼라 값 접근자 |\n",
    "| axes | list | list | 축 정보 리스트 (index, columns 등) |\n",
    "| flags | pandas.core.flags.Flags | pandas.core.flags.Flags | 객체의 플래그 정보 |\n",
    "| empty | bool | bool | 비어있는지 여부 |\n",
    "| attrs | dict | dict | 사용자 정의 메타데이터 |\n",
    "| T | pandas.Series | pandas.DataFrame | 전치 (Transpose) 객체 반환 |\n",
    "\n",
    "#### DataFrame만의 특수 속성\n",
    "\n",
    "| 속성명 | 반환값 타입 | 설명 |\n",
    "| --- | --- | --- |\n",
    "| style | pandas.io.formats.style.Styler | DataFrame 시각화 스타일링 객체 |\n",
    "\n",
    "#### Series만의 특수 속성\n",
    "\n",
    "| 속성명 | 반환값 타입 | 설명 |\n",
    "| --- | --- | --- |\n",
    "| str | pandas.core.strings.accessor.StringMethods | 문자열 메소드 접근자 |\n",
    "| dt | pandas.core.indexes.accessors.DatetimeProperties | 날짜/시간 메소드 접근자 |\n",
    "| cat | pandas.core.arrays.categorical.CategoricalAccessor | 범주형 메소드 접근자 |\n",
    "\n",
    "---\n",
    "\n",
    "#### Series와 DataFrame 공통 특수 메소드\n",
    "\n",
    "| 메소드명 | Series 반환값 타입 | DataFrame 반환값 타입 | 설명 |\n",
    "| --- | --- | --- | --- |\n",
    "| \\_\\_getitem\\_\\_ | pandas.Series, scalar 등 | pandas.DataFrame, pandas.Series, scalar 등 | 대괄호 연산자 [] 구현 메소드 (인덱싱, 슬라이싱 등) |\n",
    "| \\_\\_setitem\\_\\_ | 없음 | 없음 | 대괄호 연산자 []를 통한 값 설정 메소드 |\n",
    "| \\_\\_len\\_\\_ | int | int | 길이 반환 메소드 |\n",
    "| \\_\\_iter\\_\\_ | iterator | iterator | 이터레이터 반환 메소드 |\n",
    "| \\_\\_contains\\_\\_ | bool | bool | in 연산자 지원 메소드 |\n",
    "| pipe | pandas.Series | pandas.DataFrame | 함수형 프로그래밍 스타일 메소드, 체인 가능 |\n",
    "| query | pandas.Series | pandas.DataFrame | 조건식 문자열로 데이터 필터링 |\n",
    "| eval | pandas.Series | pandas.DataFrame | 문자열 표현식을 평가하여 계산 |\n",
    "| memory_usage | int | pandas.Series | 메모리 사용량 반환 |\n",
    "| to_dict | dict | dict | 객체를 딕셔너리로 변환 |\n",
    "| to_json | str | str | JSON 형식으로 변환 |\n",
    "| to_csv | str 또는 없음 | str 또는 없음 | CSV 파일로 저장(파일 경로 지정 시 반환값 없음) |\n",
    "| to_excel | 없음 | 없음 | 엑셀 파일로 저장 |\n",
    "| to_sql | 없음 | 없음 | SQL 데이터베이스에 저장 |\n",
    "| to_html | str | str | HTML 테이블로 변환 |\n",
    "| to_clipboard | 없음 | 없음 | 클립보드에 복사 |\n",
    "| to_string | str | str | 문자열로 변환 |\n",
    "| info | 없음 | 없음 | DataFrame 요약 정보 출력 |\n",
    "| plot | matplotlib 객체 | matplotlib 객체 | 시각화 메소드 |\n",
    "\n",
    "#### DataFrame만의 특수 메소드\n",
    "\n",
    "| 메소드명 | 반환값 타입 | 설명 |\n",
    "| --- | --- | --- |\n",
    "| to_frame | pandas.DataFrame | DataFrame으로 변환 (Series에서 주로 사용) |\n",
    "| merge | pandas.DataFrame | 다른 DataFrame과 병합 |\n",
    "| join | pandas.DataFrame | 인덱스/열 기준 결합 |\n",
    "| concat | pandas.DataFrame | 여러 DataFrame 연결 |\n",
    "| groupby | DataFrameGroupBy | 그룹별 연산 객체 반환 |\n",
    "| pivot | pandas.DataFrame | 피벗 테이블 생성 |\n",
    "| pivot_table | pandas.DataFrame | 피벗 테이블(집계 포함) 생성 |\n",
    "| melt | pandas.DataFrame | wide→long 형태 변환 |\n",
    "| set_index | pandas.DataFrame | 인덱스 설정 |\n",
    "| reset_index | pandas.DataFrame | 인덱스 초기화 |\n",
    "| add_prefix | pandas.DataFrame | 컬럼명 접두사 추가 |\n",
    "| add_suffix | pandas.DataFrame | 컬럼명 접미사 추가 |\n",
    "| select_dtypes | pandas.DataFrame | dtype별 열 선택 |\n",
    "| corr | pandas.DataFrame | 상관계수 반환 |\n",
    "| cov | pandas.DataFrame | 공분산 반환 |\n",
    "| explode | pandas.DataFrame | 리스트/배열 컬럼을 행으로 분리 |\n",
    "| filter | pandas.DataFrame | 조건에 맞는 행/열 선택 |\n",
    "| assign | pandas.DataFrame | 새 컬럼 추가 |\n",
    "| drop | pandas.DataFrame | 행/열 삭제 |\n",
    "| drop_duplicates | pandas.DataFrame | 중복 행 제거 |\n",
    "| duplicated | pandas.Series | 중복 행 여부(Boolean) 반환 |\n",
    "| sort_values | pandas.DataFrame | 값 기준 정렬 |\n",
    "| sort_index | pandas.DataFrame | 인덱스 기준 정렬 |\n",
    "| fillna | pandas.DataFrame | 결측값 채우기 |\n",
    "| dropna | pandas.DataFrame | 결측값 제거 |\n",
    "| astype | pandas.DataFrame | 데이터 타입 변환 |\n",
    "| apply | pandas.DataFrame | 함수 적용 |\n",
    "| applymap | pandas.DataFrame | 전체 요소에 함수 적용 |\n",
    "| info | 없음 | DataFrame 요약 정보 출력 |\n",
    "\n",
    "#### Series만의 특수 메소드\n",
    "\n",
    "| 메소드명 | 반환값 타입 | 설명 |\n",
    "| --- | --- | --- |\n",
    "| to_list | list | Series를 리스트로 변환 |\n"
   ]
  },
  {
   "cell_type": "markdown",
   "id": "ccf95881",
   "metadata": {},
   "source": [
    "#### 인덱스 객체\n",
    "Index객체는 Series와 DF의 행이나 열의 인덱스 값을 저장하는 객체\n",
    "- 불변(immutable) : 한 번 생성된 Index 객체는 일반적인 방법으로 그 값을 변경 불가.\n",
    "- 배열과 유사 : NumPy 배열처럼 동작, 순서가 있고 슬라이싱 등 다양한 배열 연산 가능\n",
    "- 중복 허용\n",
    "- 집합 연산 지원 : 집합 연산을 지원하여, 데이터 병합(merge)이나 조인(join) 등에서 유용하게 활용\n",
    "- 슬라이싱 및 검색: Index 객체를 통해 데이터의 특정 행이나 열을 빠르고 효율적으로 검색할 수 있습니다.\n",
    "- 이름(name) 속성: Index 객체 자체에 이름을 부여할 수 있습니다.\n",
    "- 다양한 타입 지원: 문자열, 정수, 날짜/시간 등 다양한 데이터 타입의 인덱스를 가질 수 있습니다"
   ]
  },
  {
   "cell_type": "code",
   "execution_count": 43,
   "id": "3de80814",
   "metadata": {},
   "outputs": [
    {
     "data": {
      "text/plain": [
       "pandas.core.indexes.base.Index"
      ]
     },
     "execution_count": 43,
     "metadata": {},
     "output_type": "execute_result"
    }
   ],
   "source": [
    "#인덱스 객체\n",
    "s = pd.Series({'a': 1, 'b': 2, 'c': 3})\n",
    "s.index         #Index(['a', 'b', 'c'], dtype='object')\n",
    "type(s.index)   #pandas.core.indexes.base.Index"
   ]
  },
  {
   "cell_type": "code",
   "execution_count": 44,
   "id": "33ecbeec",
   "metadata": {},
   "outputs": [],
   "source": [
    "#데이터 기본 정보 조회"
   ]
  },
  {
   "cell_type": "code",
   "execution_count": 45,
   "id": "08c6fbf5",
   "metadata": {},
   "outputs": [],
   "source": [
    "#데이터 접근"
   ]
  },
  {
   "cell_type": "code",
   "execution_count": 46,
   "id": "c64a4e34",
   "metadata": {},
   "outputs": [],
   "source": [
    "#브로드캐스팅, apply()"
   ]
  },
  {
   "cell_type": "code",
   "execution_count": 47,
   "id": "03a337b5",
   "metadata": {},
   "outputs": [],
   "source": [
    "#마스크"
   ]
  },
  {
   "cell_type": "code",
   "execution_count": 48,
   "id": "4b954054",
   "metadata": {},
   "outputs": [],
   "source": [
    "#결측치 처리"
   ]
  },
  {
   "cell_type": "code",
   "execution_count": 49,
   "id": "99a75224",
   "metadata": {},
   "outputs": [],
   "source": [
    "#concat, merge, groupby"
   ]
  },
  {
   "cell_type": "code",
   "execution_count": 50,
   "id": "d12684b5",
   "metadata": {},
   "outputs": [],
   "source": [
    "#iterrows"
   ]
  },
  {
   "cell_type": "code",
   "execution_count": null,
   "id": "8a36a8e8",
   "metadata": {},
   "outputs": [],
   "source": []
  },
  {
   "cell_type": "code",
   "execution_count": 51,
   "id": "0aab859e",
   "metadata": {},
   "outputs": [],
   "source": [
    "a = {1:2,}"
   ]
  },
  {
   "cell_type": "code",
   "execution_count": null,
   "id": "4a8b8f2b",
   "metadata": {},
   "outputs": [],
   "source": []
  }
 ],
 "metadata": {
  "kernelspec": {
   "display_name": "pandas",
   "language": "python",
   "name": "python3"
  },
  "language_info": {
   "codemirror_mode": {
    "name": "ipython",
    "version": 3
   },
   "file_extension": ".py",
   "mimetype": "text/x-python",
   "name": "python",
   "nbconvert_exporter": "python",
   "pygments_lexer": "ipython3",
   "version": "3.12.11"
  }
 },
 "nbformat": 4,
 "nbformat_minor": 5
}
