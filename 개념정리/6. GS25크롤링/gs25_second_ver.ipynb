{
 "cells": [
  {
   "cell_type": "code",
   "id": "initial_id",
   "metadata": {
    "collapsed": true,
    "ExecuteTime": {
     "end_time": "2025-06-05T06:19:50.929166Z",
     "start_time": "2025-06-05T06:19:50.561270Z"
    }
   },
   "source": [
    "import requests\n",
    "from bs4 import BeautifulSoup\n",
    "import json\n",
    "\n",
    "from dask.array.reshape import contract_tuple\n",
    "\n",
    "gs25_url = \"https://gs25.gsretail.com/gscvs/ko/store-services/locations#;\""
   ],
   "outputs": [],
   "execution_count": 1
  },
  {
   "metadata": {
    "ExecuteTime": {
     "end_time": "2025-06-05T06:19:51.621436Z",
     "start_time": "2025-06-05T06:19:51.613464Z"
    }
   },
   "cell_type": "code",
   "source": [
    "payload= {\"pageNum\" : \"1\",\n",
    "\"pageSize\" : \"100000\",\n",
    "\"searchShopName\" : \"\",\n",
    "\"searchSido\" : \"\",\n",
    "\"searchGugun\" : \"\",\n",
    "\"searchDong\" : \"\",\n",
    "\"searchType\" : \"\",\n",
    "\"searchTypeService\" : \"0\",\n",
    "\"searchTypeToto\" : \"0\",\n",
    "\"searchTypeCafe25\" : \"0\",\n",
    "\"searchTypeInstant\" : \"0\",\n",
    "\"searchTypeDrug\" : \"0\",\n",
    "\"searchTypeSelf25\" : \"0\",\n",
    "\"searchTypePost\" : \"0\",\n",
    "\"searchTypeATM\" : \"0\",\n",
    "\"searchTypeWithdrawal\" : \"0\",\n",
    "\"searchTypeTaxrefund\" : \"0\",\n",
    "\"searchTypeSmartAtm\" : \"0\",\n",
    "\"searchTypeSelfCookingUtensils\" : \"0\",\n",
    "\"searchTypeDeliveryService\" : \"0\",\n",
    "\"searchTypeParcelService\" : \"0\",\n",
    "\"searchTypePotatoes\" : \"0\",\n",
    "\"searchTypeCardiacDefi\" : \"0\",\n",
    "\"searchTypeFishShapedBun\" : \"0\",\n",
    "\"searchTypeWine25\" : \"0\",\n",
    "\"searchTypeGoPizza\" : \"0\",\n",
    "\"searchTypeSpiritWine\" : \"0\",\n",
    "\"searchTypeFreshGanghw\" : \"0\",\n",
    "\"searchTypeMusinsa\" : \"0\",\n",
    "\"searchTypePosa\" : \"0\",}\n",
    "header = {\n",
    "    'host' : 'gs25.gsretail.com',\n",
    "    'origin' : 'https://gs25.gsretail.com',\n",
    "    'referer' : 'https://gs25.gsretail.com/gscvs/ko/store-services/locations'\n",
    "}"
   ],
   "id": "762f5c7d95d8bebf",
   "outputs": [],
   "execution_count": 2
  },
  {
   "metadata": {
    "ExecuteTime": {
     "end_time": "2025-06-05T06:20:05.680701Z",
     "start_time": "2025-06-05T06:20:03.195319Z"
    }
   },
   "cell_type": "code",
   "source": [
    "url = \"https://gs25.gsretail.com/gscvs/ko/store-services/locationList?CSRFToken={}\"\n",
    "with requests.Session() as s:\n",
    "    r = s.get(gs25_url)\n",
    "    bs = BeautifulSoup(r.text)\n",
    "    csrf = bs.find(\"form\", id='CSRFForm').find(\"input\")['value']\n",
    "    r2 = s.post(url.format(csrf), data=payload, headers=header)"
   ],
   "id": "fc02ffd8ea37d69f",
   "outputs": [],
   "execution_count": 3
  },
  {
   "metadata": {
    "ExecuteTime": {
     "end_time": "2025-06-05T06:20:13.619887Z",
     "start_time": "2025-06-05T06:20:13.551526Z"
    }
   },
   "cell_type": "code",
   "source": [
    "ress = json.loads(r2.json())['results']\n",
    "len(ress)"
   ],
   "id": "46615ebd03ec68fd",
   "outputs": [
    {
     "data": {
      "text/plain": [
       "17784"
      ]
     },
     "execution_count": 4,
     "metadata": {},
     "output_type": "execute_result"
    }
   ],
   "execution_count": 4
  },
  {
   "metadata": {
    "ExecuteTime": {
     "end_time": "2025-06-05T06:20:27.118720Z",
     "start_time": "2025-06-05T06:20:26.521176Z"
    }
   },
   "cell_type": "code",
   "source": [
    "import pandas as pd\n",
    "df = pd.DataFrame(ress)\n",
    "df.iloc[:, 1:].duplicated().sum()"
   ],
   "id": "6025d6520e1855da",
   "outputs": [
    {
     "data": {
      "text/plain": [
       "0"
      ]
     },
     "execution_count": 5,
     "metadata": {},
     "output_type": "execute_result"
    }
   ],
   "execution_count": 5
  },
  {
   "metadata": {
    "ExecuteTime": {
     "end_time": "2025-06-05T06:29:24.482816Z",
     "start_time": "2025-06-05T06:29:24.390819Z"
    }
   },
   "cell_type": "code",
   "source": [
    "import pymysql\n",
    "conn = pymysql.connect(host='127.0.0.1', user='play', passwd='123', database='sk17', port=3306)\n",
    "cur = conn.cursor()"
   ],
   "id": "bb31e0b379b2993b",
   "outputs": [],
   "execution_count": 7
  },
  {
   "metadata": {
    "ExecuteTime": {
     "end_time": "2025-06-05T06:46:55.399172Z",
     "start_time": "2025-06-05T06:46:55.394073Z"
    }
   },
   "cell_type": "code",
   "source": [
    "table_name1 = 'gs25'\n",
    "table_name2 = 'gs25_service'\n",
    "insert_q1 = f\"INSERT IGNORE INTO {table_name1} VALUES (%s, %s, %s, %s, %s)\"\n",
    "insert_q2 = f\"INSERT IGNORE INTO {table_name2} VALUES (%s, %s)\"\n",
    "create_q1 = f\"\"\"create table {table_name1}(\n",
    "    shopCode varchar(20) not null,\n",
    "    longs float default null,\n",
    "    address varchar(100) default null,\n",
    "    shopName varchar(100) default null,\n",
    "    lat float default null,\n",
    "    primary key (shopCode)\n",
    ")\"\"\"\n",
    "create_q2 = f\"\"\"create table {table_name2} (\n",
    "    shopCode varchar(20) not null,\n",
    "    offeringService varchar(50) not null,\n",
    "    primary key(shopCode, offeringService),\n",
    "    FOREIGN KEY (shopCode) REFERENCES gs25(shopCode)\n",
    ")\"\"\"\n",
    "def create_table(tname,tquary):\n",
    "    cur.execute('show tables')\n",
    "    tables = [row[0] for row in cur.fetchall()]\n",
    "    if tname in tables:\n",
    "        cur.execute(f'drop table {tname}')\n",
    "    cur.execute(tquary)"
   ],
   "id": "b991ff38234ee0ba",
   "outputs": [],
   "execution_count": 20
  },
  {
   "metadata": {},
   "cell_type": "code",
   "outputs": [],
   "execution_count": null,
   "source": "create_table(table_name1,create_q1)",
   "id": "df03b16db7c611c"
  },
  {
   "metadata": {
    "ExecuteTime": {
     "end_time": "2025-06-05T06:46:28.744654Z",
     "start_time": "2025-06-05T06:46:28.648316Z"
    }
   },
   "cell_type": "code",
   "source": "create_table(table_name2,create_q2)",
   "id": "16ec0fb0dd7330dd",
   "outputs": [],
   "execution_count": 18
  },
  {
   "metadata": {
    "ExecuteTime": {
     "end_time": "2025-06-05T06:39:04.596133Z",
     "start_time": "2025-06-05T06:39:04.590881Z"
    }
   },
   "cell_type": "code",
   "source": [
    "for row in ress:\n",
    "    print(row)\n",
    "    break;"
   ],
   "id": "9427b3f5e96987da",
   "outputs": [
    {
     "name": "stdout",
     "output_type": "stream",
     "text": [
      "{'offeringService': ['toto', 'cafe25', 'post', 'withdrawal', 'parcel_service'], 'shopCode': 'V3414', 'longs': '37.51826292', 'address': '경기 부천시 오정구 석천로345,  300동 114호(삼정동 365)', 'shopName': 'GS252테크노파크점', 'lat': '126.76388845'}\n"
     ]
    }
   ],
   "execution_count": 14
  },
  {
   "metadata": {
    "ExecuteTime": {
     "end_time": "2025-06-05T06:39:16.698038Z",
     "start_time": "2025-06-05T06:39:09.795364Z"
    }
   },
   "cell_type": "code",
   "source": [
    "for res in ress:\n",
    "    row = ['']*5\n",
    "    if 'shopCode' in res:\n",
    "        row[0] = res['shopCode']\n",
    "    if 'longs' in res:\n",
    "        row[1] = res['longs']\n",
    "    if 'address' in res:\n",
    "        row[2] = res['address']\n",
    "    if 'shopName' in res:\n",
    "        row[3] = res['shopName']\n",
    "    if 'lat' in res:\n",
    "        row[4] = res['lat']\n",
    "    cur.execute(insert_q1, row)"
   ],
   "id": "753021d0ce99c239",
   "outputs": [],
   "execution_count": 15
  },
  {
   "metadata": {
    "ExecuteTime": {
     "end_time": "2025-06-05T06:39:23.446326Z",
     "start_time": "2025-06-05T06:39:23.400144Z"
    }
   },
   "cell_type": "code",
   "source": "conn.commit()",
   "id": "489bd4efb62d844a",
   "outputs": [],
   "execution_count": 16
  },
  {
   "metadata": {
    "ExecuteTime": {
     "end_time": "2025-06-05T06:47:37.954604Z",
     "start_time": "2025-06-05T06:46:58.688291Z"
    }
   },
   "cell_type": "code",
   "source": [
    "for res in ress:\n",
    "    row = ['']*2\n",
    "    if 'shopCode' not in res:\n",
    "        continue\n",
    "    if 'offeringService' not in res:\n",
    "        continue\n",
    "    row[0] = res['shopCode']\n",
    "    for service in res['offeringService']:\n",
    "        row[1] = service\n",
    "        cur.execute(insert_q2, row)"
   ],
   "id": "fcd17ad039779006",
   "outputs": [],
   "execution_count": 21
  },
  {
   "metadata": {
    "ExecuteTime": {
     "end_time": "2025-06-05T06:50:37.530016Z",
     "start_time": "2025-06-05T06:50:37.440649Z"
    }
   },
   "cell_type": "code",
   "source": "conn.commit()",
   "id": "7defb79f1a312fe6",
   "outputs": [],
   "execution_count": 22
  }
 ],
 "metadata": {
  "kernelspec": {
   "display_name": "Python [conda env:base] *",
   "language": "python",
   "name": "conda-base-py"
  },
  "language_info": {
   "codemirror_mode": {
    "name": "ipython",
    "version": 2
   },
   "file_extension": ".py",
   "mimetype": "text/x-python",
   "name": "python",
   "nbconvert_exporter": "python",
   "pygments_lexer": "ipython2",
   "version": "2.7.6"
  }
 },
 "nbformat": 4,
 "nbformat_minor": 5
}
