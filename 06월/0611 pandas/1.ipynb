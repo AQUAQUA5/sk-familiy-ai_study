{
 "cells": [
  {
   "cell_type": "code",
   "execution_count": null,
   "id": "d0ea4f1a",
   "metadata": {},
   "outputs": [],
   "source": [
    "import pandas as pd"
   ]
  },
  {
   "cell_type": "code",
   "execution_count": null,
   "id": "134ed2e7",
   "metadata": {},
   "outputs": [],
   "source": [
    "pd.__version__"
   ]
  },
  {
   "cell_type": "code",
   "execution_count": null,
   "id": "53387e6d",
   "metadata": {},
   "outputs": [],
   "source": [
    "df= pd.DataFrame({'a' : [1,2,3], 'b' : [2,3,4]})\n",
    "type(df)"
   ]
  },
  {
   "cell_type": "code",
   "execution_count": null,
   "id": "a69ad3dd",
   "metadata": {},
   "outputs": [],
   "source": [
    "df"
   ]
  },
  {
   "cell_type": "code",
   "execution_count": null,
   "id": "b379916e",
   "metadata": {},
   "outputs": [],
   "source": [
    "df['a']"
   ]
  },
  {
   "cell_type": "code",
   "execution_count": null,
   "id": "4d37de50",
   "metadata": {},
   "outputs": [],
   "source": [
    "type(df['a'])"
   ]
  },
  {
   "cell_type": "code",
   "execution_count": null,
   "id": "1249db25",
   "metadata": {},
   "outputs": [],
   "source": [
    "df['a'].values #출력 : array([1, 2, 3])\n",
    "test = df['a'].values"
   ]
  },
  {
   "cell_type": "code",
   "execution_count": null,
   "id": "c6360d46",
   "metadata": {},
   "outputs": [],
   "source": [
    "#넘파이는 선형대수에 관한 패키지 \n",
    "DF에서 행 또는 열을 가져오면 시리즈가 된다.\n",
    "DF하나의 원소는 넘파이로 되어있다.\n",
    "\n",
    "넘파이로 시리즈, 시리즈로 DF를 만든것? \n",
    "아닌것같음. 행도 시리즈, 열도 시리즈인데 겹치는 부분은 어느 시리즈에 속했는지가 명확하지 않음. \n",
    "DF는 시리즈로 구성되어있지 않음. DF에서 행 또는 열을 추츨하면 시리즈가 되는것일 뿐 DF와 시리즈는 포함관계가 아님님"
   ]
  },
  {
   "cell_type": "code",
   "execution_count": null,
   "id": "15323cd1",
   "metadata": {},
   "outputs": [],
   "source": [
    "pip install pymysql"
   ]
  },
  {
   "cell_type": "code",
   "execution_count": null,
   "id": "858374b3",
   "metadata": {},
   "outputs": [],
   "source": [
    "import pymysql\n",
    "conn = pymysql.connect(host='222.112.208.67', user='play', passwd='123', database='sk17', port=3306)\n",
    "cur = conn.cursor()\n",
    "cur.execute(\"show tables\")\n",
    "cur.fetchall()"
   ]
  },
  {
   "cell_type": "code",
   "execution_count": null,
   "id": "af2ab841",
   "metadata": {},
   "outputs": [],
   "source": [
    "sql = \"select * from kbo_player\"\n",
    "kbo_df = pd.read_sql_query(sql, con=conn) #대입 대상이 있어야함"
   ]
  },
  {
   "cell_type": "code",
   "execution_count": null,
   "id": "174e72b7",
   "metadata": {},
   "outputs": [],
   "source": [
    "kbo_df.shape"
   ]
  },
  {
   "cell_type": "code",
   "execution_count": null,
   "id": "979aac98",
   "metadata": {},
   "outputs": [],
   "source": [
    "kbo_df.info()"
   ]
  },
  {
   "cell_type": "code",
   "execution_count": null,
   "id": "953e6c74",
   "metadata": {},
   "outputs": [],
   "source": [
    "kbo_df.isnull() #모든 테이블을 True와 False로 결측치 보여줌 , isint는 없음\n",
    "kbo_df.isnull().sum() #결측치 전부 더해서 보여줌 (true는 )\n",
    "# player_number    20   결측치 20개\n",
    "# name              0\n",
    "# kbo_id            0\n",
    "# team              0\n",
    "# position          1\n",
    "# birthday          0\n",
    "# height            1\n",
    "# weight            1\n",
    "# career            0\n",
    "# dtype: int64\n",
    "\n",
    "#결측치는 평균값 삽입 혹은 삭제 등으로 처리\n",
    "#결측치가 없는 칼럼의 수는?"
   ]
  },
  {
   "cell_type": "code",
   "execution_count": null,
   "id": "b0007b31",
   "metadata": {},
   "outputs": [],
   "source": [
    "#describe()는 요약 통계(기술 통계)\n",
    "# include 옵션을 사용하면 특정 데이터 타입의 열만 골라서 요약할 수 있습니다.\n",
    "kbo_df.describe()       #기본적으로 수치형(numeric) 데이터만 요약 : 갯수, 평균, 표준편차, 최소값, 1분위값, 중위값, 3분위값, 4분위값"
   ]
  },
  {
   "cell_type": "code",
   "execution_count": null,
   "id": "2f290c29",
   "metadata": {},
   "outputs": [],
   "source": [
    "# include=['object', 'category']는\n",
    "# 문자열(텍스트) 데이터(object 타입)와\n",
    "# 범주형 데이터(category 타입) 열에 대해서만\n",
    "# 요약 통계를 보여달라는 뜻입니다.\n",
    "\n",
    "# 각 타입의 의미\n",
    "# object: 판다스에서 문자열(텍스트) 데이터가 저장되는 기본 타입\n",
    "\n",
    "# category: 범주형 데이터(예: 팀명, 등급 등 한정된 값만 가질 수 있는 데이터)\n",
    "kbo_df.describe(include=['object', 'category'])"
   ]
  },
  {
   "cell_type": "code",
   "execution_count": null,
   "id": "72f2acef",
   "metadata": {},
   "outputs": [],
   "source": [
    "kbo_df.columns  #칼럼 리스트 반환 , pandas.core.indexes.base.Index타입입"
   ]
  },
  {
   "cell_type": "code",
   "execution_count": null,
   "id": "65eefcf9",
   "metadata": {},
   "outputs": [],
   "source": [
    "#데이터 접근 iloc, loc\n",
    "#pandas.core.frame.DataFrame 타입이며, print함수로 출력 가능능\n",
    "#1:4 처럼 범위 선택 가능\n",
    "\n",
    "#iloc은 인덱스로 접근        \n",
    "kbo_df.iloc[4,1]        # 구본혁\n",
    "\n",
    "#loc는 low, column 명으로 접근\n",
    "kbo_df.loc[1,'name']    # 강민균"
   ]
  },
  {
   "cell_type": "code",
   "execution_count": null,
   "id": "2ae44e6a",
   "metadata": {},
   "outputs": [],
   "source": [
    "kbo_df.iloc[2:5, 1]"
   ]
  },
  {
   "cell_type": "code",
   "execution_count": null,
   "id": "d77e4995",
   "metadata": {},
   "outputs": [],
   "source": [
    "kbo_df.loc[1:5 ,'name':'career']"
   ]
  },
  {
   "cell_type": "code",
   "execution_count": null,
   "id": "8e7cbecf",
   "metadata": {},
   "outputs": [],
   "source": [
    "import numpy as np\n",
    "\n",
    "#넘파이는 브로드 연산 가능\n",
    "np.array([1,2,3,4]) + 10\n",
    "np.array([1,2,3,4]) == 1"
   ]
  },
  {
   "cell_type": "code",
   "execution_count": null,
   "id": "6ac0b670",
   "metadata": {},
   "outputs": [],
   "source": [
    "#넘파이를 원소로 갖는 판다스도 가능\n",
    "\n",
    "masked = kbo_df['position'] == \"투수\"\n",
    "#True or False로 이루어진 시리즈\n",
    "type(masked)        #pandas.core.series.Series"
   ]
  },
  {
   "cell_type": "code",
   "execution_count": null,
   "id": "33f24924",
   "metadata": {},
   "outputs": [],
   "source": [
    "kbo_df[masked] #투수만 반환"
   ]
  },
  {
   "cell_type": "code",
   "execution_count": null,
   "id": "bbdba2d3",
   "metadata": {},
   "outputs": [],
   "source": [
    "#두산의 투수만 반환\n",
    "#파이썬 비트연산 &, | , !\n",
    "masked = (kbo_df['position'] == \"투수\") & (kbo_df['team'] == \"두산\")\n",
    "kbo_df[masked]"
   ]
  },
  {
   "cell_type": "code",
   "execution_count": null,
   "id": "29e46510",
   "metadata": {},
   "outputs": [],
   "source": [
    "#키180이상, 몸무게 100이상 선수\n",
    "masked = (kbo_df['height'] >= 180) & (kbo_df['weight'] >= 100)\n",
    "kbo_df[masked]\n",
    "\n",
    "#두산 또는 삼성 소속 선수\n",
    "masked = (kbo_df['team'] == '두산') | (kbo_df['team'] == '삼성')\n",
    "kbo_df[masked]"
   ]
  },
  {
   "cell_type": "code",
   "execution_count": null,
   "id": "b100ec30",
   "metadata": {},
   "outputs": [],
   "source": [
    "kbo_df[[False]*893]"
   ]
  },
  {
   "cell_type": "code",
   "execution_count": null,
   "id": "aedba553",
   "metadata": {},
   "outputs": [],
   "source": []
  },
  {
   "cell_type": "code",
   "execution_count": null,
   "id": "5995d4e3",
   "metadata": {},
   "outputs": [],
   "source": [
    "#하드코딩 : 당시에만 활용 가능한 코딩\n",
    "#get_age1는 2025년에만 나이가 제대로 출력됨\n",
    "def get_age1(x):\n",
    "    2025 -int(x.split(\"-\")[0])"
   ]
  },
  {
   "cell_type": "code",
   "execution_count": null,
   "id": "8685f402",
   "metadata": {},
   "outputs": [],
   "source": [
    "from datetime import date, datetime\n",
    "\n",
    "#date.today() 오늘 날짜 출력력\n",
    "def get_age2(x):\n",
    "    return date.today().year -int(x.split(\"-\")[0])\n",
    "\n",
    "#kbo_df['birthday'] 가 datetime이어서 int(x.split(\"-\")[0])할 수 없음음"
   ]
  },
  {
   "cell_type": "code",
   "execution_count": null,
   "id": "75ca06b3",
   "metadata": {},
   "outputs": [],
   "source": [
    "def get_age3(x):\n",
    "    return date.today().year -x.year"
   ]
  },
  {
   "cell_type": "code",
   "execution_count": null,
   "id": "65a5f45d",
   "metadata": {},
   "outputs": [],
   "source": [
    "kbo_df['age'] = kbo_df['birthday'].apply(get_age3)\n",
    "#kbo_df['age'] 는 DF에 열 추가됨"
   ]
  },
  {
   "cell_type": "code",
   "execution_count": null,
   "id": "7ea9d891",
   "metadata": {},
   "outputs": [],
   "source": [
    "#apply는 람다를 많이씀\n",
    "kbo_df['age'] = kbo_df['birthday'].apply( lambda x : date.today().year - x.year)\n",
    "\n",
    "#bmi -> 몸무게 / 키^2"
   ]
  },
  {
   "cell_type": "code",
   "execution_count": null,
   "id": "a443e4da",
   "metadata": {},
   "outputs": [],
   "source": [
    "kbo_df['bmi'] = kbo_df[['weight', 'height']].apply( lambda x : x[0] / x[1]**2)"
   ]
  },
  {
   "cell_type": "code",
   "execution_count": null,
   "id": "380d682d",
   "metadata": {},
   "outputs": [],
   "source": [
    "kbo_df['bmi'] = kbo_df[['weight', 'height']].apply(\n",
    "    lambda x: x['weight'] / (x['height']/100)**2  , axis=1\n",
    ")"
   ]
  },
  {
   "cell_type": "code",
   "execution_count": null,
   "id": "2b9dd748",
   "metadata": {},
   "outputs": [],
   "source": [
    "kbo_df['bmi2'] = kbo_df['weight'] / (kbo_df['height']/100)**2"
   ]
  },
  {
   "cell_type": "code",
   "execution_count": null,
   "id": "d7993eaf",
   "metadata": {},
   "outputs": [],
   "source": [
    "#판다스는 벡터연산을 사용해야 빠름. 벡터연산 어떻게하는지 알아야함\n",
    "a = kbo_df.groupby(['team'])['height'].mean()               #시리즈 타입\n",
    "b = kbo_df.groupby(['team'])[['height']].mean()             #DF 타입\n",
    "kbo_agg = kbo_df.groupby(['team'])[['height', 'weight']].mean()   #DF 타입"
   ]
  },
  {
   "cell_type": "code",
   "execution_count": null,
   "id": "f3ca7242",
   "metadata": {},
   "outputs": [],
   "source": [
    "kbo_agg"
   ]
  },
  {
   "cell_type": "code",
   "execution_count": null,
   "id": "7be5f7c6",
   "metadata": {},
   "outputs": [],
   "source": [
    "kbo_agg.index"
   ]
  },
  {
   "cell_type": "code",
   "execution_count": null,
   "id": "7466c7ae",
   "metadata": {},
   "outputs": [],
   "source": [
    "#둘다 가능\n",
    "kbo_agg.loc['한화',]        #시리즈 타입\n",
    "kbo_agg.loc['한화']         \n",
    "\n",
    "#\n",
    "kbo_agg.loc['KT':'NC',]"
   ]
  },
  {
   "cell_type": "code",
   "execution_count": null,
   "id": "e5b1e409",
   "metadata": {},
   "outputs": [],
   "source": [
    "type(kbo_agg.loc['한화',])"
   ]
  },
  {
   "cell_type": "code",
   "execution_count": null,
   "id": "524468e8",
   "metadata": {},
   "outputs": [],
   "source": [
    "import requests\n",
    "url = \"https://www.starbucks.co.kr/store/getStore.do?r=86N465IIB2\"\n",
    "payload = {\"in_biz_cds\": \"0\",\n",
    "\"in_scodes\": \"0\",\n",
    "\"ins_lat\": \"37.4745\",\n",
    "\"ins_lng\": \"126.8918\",\n",
    "\"search_text\": \"\",\n",
    "\"p_sido_cd\": \"01\",\n",
    "\"p_gugun_cd\": \"\",\n",
    "\"in_distance\": \"0\",\n",
    "\"in_biz_cd\": \"\",\n",
    "\"isError\": \"true\",\n",
    "\"searchType\": \"C\",\n",
    "\"set_date\": \"\",\n",
    "\"all_store\": \"0\",\n",
    "\"T03\": \"0\",\n",
    "\"T01\": \"0\",\n",
    "\"T27\": \"0\",\n",
    "\"T12\": \"0\",\n",
    "\"T09\": \"0\",\n",
    "\"T30\": \"0\",\n",
    "\"T05\": \"0\",\n",
    "\"T22\": \"0\",\n",
    "\"T21\": \"0\",\n",
    "\"T36\": \"0\",\n",
    "\"T43\": \"0\",\n",
    "\"Z9999\": \"0\",\n",
    "\"T64\": \"0\",\n",
    "\"T66\": \"0\",\n",
    "\"P02\": \"0\",\n",
    "\"P10\": \"0\",\n",
    "\"P50\": \"0\",\n",
    "\"P20\": \"0\",\n",
    "\"P60\": \"0\",\n",
    "\"P30\": \"0\",\n",
    "\"P70\": \"0\",\n",
    "\"P40\": \"0\",\n",
    "\"P80\": \"0\",\n",
    "\"whcroad_yn\": \"0\",\n",
    "\"P90\": \"0\",\n",
    "\"P01\": \"0\",\n",
    "\"new_bool\": \"0\",\n",
    "\"iend\": \"1000\",\n",
    "\"rndCod\": \"XW4W0LA4X8\",}\n",
    "r = requests.post(url, data=payload)\n",
    "star = r.json()\n",
    "star_df = pd.DataFrame(star['list'])\n",
    "star_df"
   ]
  },
  {
   "cell_type": "code",
   "execution_count": null,
   "id": "e2c94d76",
   "metadata": {},
   "outputs": [],
   "source": [
    "star_df.iloc[0]"
   ]
  },
  {
   "cell_type": "code",
   "execution_count": null,
   "id": "b871d188",
   "metadata": {},
   "outputs": [],
   "source": [
    "pd.set_option('display.max_rows', None)\n",
    "pd.set_option('display.max_columns', None)"
   ]
  },
  {
   "cell_type": "code",
   "execution_count": null,
   "id": "297007a5",
   "metadata": {},
   "outputs": [],
   "source": [
    "star_df2 = star_df[[\"s_code\", \"s_name\", \"addr\",  \"defaultimage\", \"doro_address\", \"lat\",  \"lot\", \"open_dt\", ]].copy()"
   ]
  },
  {
   "cell_type": "code",
   "execution_count": null,
   "id": "6ad12f3e",
   "metadata": {},
   "outputs": [],
   "source": [
    "star_df2.tail(5)"
   ]
  },
  {
   "cell_type": "code",
   "execution_count": null,
   "id": "886a290d",
   "metadata": {},
   "outputs": [],
   "source": [
    "star_df2.info"
   ]
  },
  {
   "cell_type": "code",
   "execution_count": null,
   "id": "e294f07a",
   "metadata": {},
   "outputs": [],
   "source": [
    "#df.values or series.values 는 넘파이 배열로 반환\n",
    "star_df2.open_dt.values\n",
    "\n",
    "#이건 시리즈로 변환 \n",
    "star_df2['open_dt']"
   ]
  },
  {
   "cell_type": "code",
   "execution_count": null,
   "id": "71444e1c",
   "metadata": {},
   "outputs": [],
   "source": [
    "#open_dt를 파이썬의 날짜타입으로 변경\n",
    "from datetime import datetime, date, time\n",
    "\n",
    "star_df2['open_dt_datetype'] = star_df2['open_dt'].apply(lambda x : date(int(x[0:4]), int(x[4:6]), int(x[6:])))\n",
    "\n",
    "star_df2.open_dt_datetype2 = star_df2.open_dt.apply((lambda x : datetime.strptime(x,'%Y%m%d')))"
   ]
  },
  {
   "cell_type": "code",
   "execution_count": null,
   "id": "723156c9",
   "metadata": {},
   "outputs": [],
   "source": [
    "#open_year 추가\n",
    "star_df2['open_year'] = star_df2['open_dt_datetype'].apply(lambda x : x.year)"
   ]
  },
  {
   "cell_type": "code",
   "execution_count": null,
   "id": "dce393a5",
   "metadata": {},
   "outputs": [],
   "source": [
    "open_inyear = star_df2['open_year'].value_counts()\n",
    "type(open_inyear)\n",
    "open_inyear"
   ]
  },
  {
   "cell_type": "code",
   "execution_count": null,
   "id": "ef230c7f",
   "metadata": {},
   "outputs": [],
   "source": [
    "star_df2.tail(5)"
   ]
  },
  {
   "cell_type": "code",
   "execution_count": null,
   "id": "5d6a5c3f",
   "metadata": {},
   "outputs": [],
   "source": [
    "# 옵션 초기화\n",
    "pd.reset_option('display.max_rows')\n",
    "pd.reset_option('display.max_columns')"
   ]
  },
  {
   "cell_type": "code",
   "execution_count": null,
   "id": "c8a02b74",
   "metadata": {},
   "outputs": [],
   "source": [
    "time_url =\"https://www.starbucks.co.kr/store/getStoreTime.do\n",
    "\""
   ]
  },
  {
   "cell_type": "code",
   "execution_count": null,
   "id": "20cf4c7d",
   "metadata": {},
   "outputs": [],
   "source": [
    "time_payload = {\n",
    "    \"in_biz_cd\" : \"4247\"\n",
    "    \"in_store_type\": \"C\"\n",
    "    \"rndCod\" : \"0ZKPG4SMG6\"\n",
    "    }"
   ]
  },
  {
   "cell_type": "code",
   "execution_count": null,
   "id": "1de43165",
   "metadata": {},
   "outputs": [],
   "source": [
    "view_url = \"https://www.starbucks.co.kr/store/getStoreView.do\"\n",
    "view_payload = {'in_biz_cd' : '3672',\n",
    "                'rndCod' : '0S54HHYI84'}\n",
    "pd.DataFrame(requests.post(view_url, data=view_payload).json()['view'])"
   ]
  },
  {
   "cell_type": "code",
   "execution_count": null,
   "id": "49a762e4",
   "metadata": {},
   "outputs": [],
   "source": [
    "star_df2 = star_df[[\"s_name\" , 's_biz_code',  \"addr\",  \"defaultimage\", \"doro_address\", \"lat\",  \"lot\", \"open_dt\", ]].copy()"
   ]
  },
  {
   "cell_type": "code",
   "execution_count": null,
   "id": "cb0781c2",
   "metadata": {},
   "outputs": [],
   "source": [
    "star_df2.head(2)"
   ]
  },
  {
   "cell_type": "code",
   "execution_count": null,
   "id": "3370a22f",
   "metadata": {},
   "outputs": [],
   "source": [
    "import time , tqdm\n",
    "total =[]\n",
    "for _, data in star_df2.iterrows():\n",
    "    biz_code = data['s_biz_code']\n",
    "    view_payload['in_biz_cd'] = biz_code\n",
    "    total.append(pd.DataFrame(requests.post(view_url, data=view_payload).json()['view']))\n",
    "    if _ % 100 == 99:\n",
    "        time.sleep(3)"
   ]
  },
  {
   "cell_type": "code",
   "execution_count": null,
   "id": "b4cde1e9",
   "metadata": {},
   "outputs": [],
   "source": [
    "#iterrows()\n",
    "#인덱스와 함께 데이터를 하나씩 반환환"
   ]
  },
  {
   "cell_type": "code",
   "execution_count": null,
   "id": "b4a77a4a",
   "metadata": {},
   "outputs": [],
   "source": [
    "t1 = pd.concat(total)"
   ]
  },
  {
   "cell_type": "code",
   "execution_count": null,
   "id": "0325c245",
   "metadata": {},
   "outputs": [],
   "source": [
    "t1[\"addr\"]"
   ]
  },
  {
   "cell_type": "code",
   "execution_count": null,
   "id": "36024598",
   "metadata": {},
   "outputs": [],
   "source": [
    "import pickle\n",
    "with open(\"./\")"
   ]
  },
  {
   "cell_type": "code",
   "execution_count": null,
   "id": "87c56efd",
   "metadata": {},
   "outputs": [],
   "source": [
    "star_parking_df2 = pd.read_pickle(\"starbucks_park.pkl\")"
   ]
  },
  {
   "cell_type": "code",
   "execution_count": 212,
   "id": "86801b14",
   "metadata": {},
   "outputs": [
    {
     "data": {
      "text/html": [
       "<div>\n",
       "<style scoped>\n",
       "    .dataframe tbody tr th:only-of-type {\n",
       "        vertical-align: middle;\n",
       "    }\n",
       "\n",
       "    .dataframe tbody tr th {\n",
       "        vertical-align: top;\n",
       "    }\n",
       "\n",
       "    .dataframe thead th {\n",
       "        text-align: right;\n",
       "    }\n",
       "</style>\n",
       "<table border=\"1\" class=\"dataframe\">\n",
       "  <thead>\n",
       "    <tr style=\"text-align: right;\">\n",
       "      <th></th>\n",
       "      <th>s_biz_code</th>\n",
       "      <th>park_info</th>\n",
       "      <th>map_desc</th>\n",
       "    </tr>\n",
       "  </thead>\n",
       "  <tbody>\n",
       "    <tr>\n",
       "      <th>0</th>\n",
       "      <td>3762</td>\n",
       "      <td>1.주차가능 2.주차위치-매장 후면 3.주차가능대수-10대 이상(장애인 포함) 4....</td>\n",
       "      <td>르네상스호텔사거리 개나리주유소 옆, 역삼아레나빌딩 1층에 위치합니다.\\n선릉역 4번...</td>\n",
       "    </tr>\n",
       "    <tr>\n",
       "      <th>0</th>\n",
       "      <td>3672</td>\n",
       "      <td>주차 불가능</td>\n",
       "      <td>지하철 7호선 논현역 2번출구 강남역 방향 도보 2분이내 (70m)\\n지하철 9호선...</td>\n",
       "    </tr>\n",
       "    <tr>\n",
       "      <th>0</th>\n",
       "      <td>3858</td>\n",
       "      <td>주차 불가능</td>\n",
       "      <td>신사역 3번 출구 논현역방향 직진 성일빌딩 1층(도보 300m)</td>\n",
       "    </tr>\n",
       "    <tr>\n",
       "      <th>0</th>\n",
       "      <td>3669</td>\n",
       "      <td>1. 주차 불가</td>\n",
       "      <td>강남역 12번 출구 도보 7분, 역삼역 4번출구 도보 5분거리</td>\n",
       "    </tr>\n",
       "    <tr>\n",
       "      <th>0</th>\n",
       "      <td>3703</td>\n",
       "      <td>1.주차 불가능</td>\n",
       "      <td>3호선 대치역 3호선 2번 출구 정면에 위치 해 있습니다.</td>\n",
       "    </tr>\n",
       "    <tr>\n",
       "      <th>...</th>\n",
       "      <td>...</td>\n",
       "      <td>...</td>\n",
       "      <td>...</td>\n",
       "    </tr>\n",
       "    <tr>\n",
       "      <th>0</th>\n",
       "      <td>9686</td>\n",
       "      <td>1. 주차가능 2. 주차장위치 - 매장 옆 기계식 주차장 이용 3. 주차가능대수 -...</td>\n",
       "      <td>지하철7호선 상봉역 1번출구 또는 중앙선 상봉역 8번 출구에서 50M</td>\n",
       "    </tr>\n",
       "    <tr>\n",
       "      <th>0</th>\n",
       "      <td>3936</td>\n",
       "      <td>1. 주차 가능 2.  주차장 위치 - 입점건물 지하 3. 주차가능대수 - 10대 ...</td>\n",
       "      <td>지하철 : 태릉입구역 7번출구, 먹골역 1번출구에서 직진\\n버스 :  105, 14...</td>\n",
       "    </tr>\n",
       "    <tr>\n",
       "      <th>0</th>\n",
       "      <td>4611</td>\n",
       "      <td>주차불가</td>\n",
       "      <td>망우역에서 구리방면으로 500m (도보 7분)</td>\n",
       "    </tr>\n",
       "    <tr>\n",
       "      <th>0</th>\n",
       "      <td>4307</td>\n",
       "      <td>1. 주차 가능 (매장 주차지원없음- 회차 30분이외 주차요금 부과)  2.  주차...</td>\n",
       "      <td>경의중앙선 양원역 1번 출구</td>\n",
       "    </tr>\n",
       "    <tr>\n",
       "      <th>0</th>\n",
       "      <td>3801</td>\n",
       "      <td>1.주차불가능</td>\n",
       "      <td>중화역 3번 출구에서 노브랜드 버거 방향으로 100m입니다.</td>\n",
       "    </tr>\n",
       "  </tbody>\n",
       "</table>\n",
       "<p>643 rows × 3 columns</p>\n",
       "</div>"
      ],
      "text/plain": [
       "   s_biz_code                                          park_info  \\\n",
       "0        3762  1.주차가능 2.주차위치-매장 후면 3.주차가능대수-10대 이상(장애인 포함) 4....   \n",
       "0        3672                                             주차 불가능   \n",
       "0        3858                                             주차 불가능   \n",
       "0        3669                                          1. 주차 불가    \n",
       "0        3703                                           1.주차 불가능   \n",
       "..        ...                                                ...   \n",
       "0        9686  1. 주차가능 2. 주차장위치 - 매장 옆 기계식 주차장 이용 3. 주차가능대수 -...   \n",
       "0        3936  1. 주차 가능 2.  주차장 위치 - 입점건물 지하 3. 주차가능대수 - 10대 ...   \n",
       "0        4611                                               주차불가   \n",
       "0        4307  1. 주차 가능 (매장 주차지원없음- 회차 30분이외 주차요금 부과)  2.  주차...   \n",
       "0        3801                                            1.주차불가능   \n",
       "\n",
       "                                             map_desc  \n",
       "0   르네상스호텔사거리 개나리주유소 옆, 역삼아레나빌딩 1층에 위치합니다.\\n선릉역 4번...  \n",
       "0   지하철 7호선 논현역 2번출구 강남역 방향 도보 2분이내 (70m)\\n지하철 9호선...  \n",
       "0                 신사역 3번 출구 논현역방향 직진 성일빌딩 1층(도보 300m)  \n",
       "0                  강남역 12번 출구 도보 7분, 역삼역 4번출구 도보 5분거리  \n",
       "0                    3호선 대치역 3호선 2번 출구 정면에 위치 해 있습니다.  \n",
       "..                                                ...  \n",
       "0             지하철7호선 상봉역 1번출구 또는 중앙선 상봉역 8번 출구에서 50M   \n",
       "0   지하철 : 태릉입구역 7번출구, 먹골역 1번출구에서 직진\\n버스 :  105, 14...  \n",
       "0                          망우역에서 구리방면으로 500m (도보 7분)   \n",
       "0                                     경의중앙선 양원역 1번 출구  \n",
       "0                  중화역 3번 출구에서 노브랜드 버거 방향으로 100m입니다.   \n",
       "\n",
       "[643 rows x 3 columns]"
      ]
     },
     "execution_count": 212,
     "metadata": {},
     "output_type": "execute_result"
    }
   ],
   "source": [
    "star_parking_df2"
   ]
  },
  {
   "cell_type": "code",
   "execution_count": null,
   "id": "e0087019",
   "metadata": {},
   "outputs": [],
   "source": [
    "star_df2"
   ]
  },
  {
   "cell_type": "code",
   "execution_count": 203,
   "id": "0b0dfc7b",
   "metadata": {},
   "outputs": [],
   "source": [
    "star_df3 = pd.merge(star_df2, star_parking_df2, left_on = ['s_biz_code'], right_on=['s_biz_code'], how='inner')"
   ]
  },
  {
   "cell_type": "code",
   "execution_count": 223,
   "id": "cefd23ef",
   "metadata": {},
   "outputs": [
    {
     "data": {
      "text/plain": [
       "park_info\n",
       "주차 불가                                                                                                                                   56\n",
       "주차 불가능                                                                                                                                  40\n",
       "1.주차 불가능                                                                                                                                39\n",
       "1.주차불가능                                                                                                                                 33\n",
       "1. 주차불가능                                                                                                                                29\n",
       "                                                                                                                                        ..\n",
       "1. 주차 가능 2.  주차위치 - 건물상가 지하주차장 3. 주차가능대수 - 10대 이상 4. 주차조건 - 2시간 무료 (파트너등록요청필수)                                                           1\n",
       "1.주차가능 2.주차장 위치 - 입점 건물(1차) 지하주차장. 2차 건물 주차시 주차 지원 안됨. 3.주차가능대수 - 50대 이상 4.주차조건-조건부 무료(당일 구매시 2시간 무료) 5.주차요금정산방법 - 영수증 지참하여 파트너에게 요청     1\n",
       "1. 주차가능 2. 주차장 정보 - 입점건물 지하주차장 3.주차가능대수 - 20대 이상  4.주차조건 - 조건부 무료, 영수증 1만원이상시 총 1시간 무료(회차 30분/무료 30분)  5.주차요금정산방법 - 영수증지참하여 파트너에게 요청     1\n",
       "1. 주차가능 2. 주차장 위치- 입점건물 지하 주차장, 주차가능대수- 100대 이상 4. 주차조건- 최초 30분 무료, 이후 10분당 5백원 5. 주차요금정산방법- 파트너에게 요청                                    1\n",
       "1.주차가능 2.주차장 위치-건물지하주차장(블루라인) 3.주차가능대수 -50대이상 4.주차조건-구매시 최대 1시간 무료주차 가능 / 10분당 2,000원 추가 요금  5.주차정산방법-파트너등록요청                            1\n",
       "Name: count, Length: 345, dtype: int64"
      ]
     },
     "execution_count": 223,
     "metadata": {},
     "output_type": "execute_result"
    }
   ],
   "source": [
    "isable = star_df3['park_info'].value_counts()\n",
    "# open_inyear = star_df2['open_year'].value_counts()\n",
    "isable"
   ]
  },
  {
   "cell_type": "code",
   "execution_count": null,
   "id": "9587c8de",
   "metadata": {},
   "outputs": [],
   "source": [
    "star_df3['park_info'].notnull()."
   ]
  },
  {
   "cell_type": "code",
   "execution_count": 238,
   "id": "ebe9fc64",
   "metadata": {},
   "outputs": [
    {
     "data": {
      "text/plain": [
       "np.int64(381)"
      ]
     },
     "execution_count": 238,
     "metadata": {},
     "output_type": "execute_result"
    }
   ],
   "source": [
    "star_df3.loc[star_df3['park_info'].notnull(),]['park_info'].apply(lambda x : x.find(\"불가\") > -1).sum()"
   ]
  },
  {
   "cell_type": "code",
   "execution_count": 237,
   "id": "6a8d0ee9",
   "metadata": {},
   "outputs": [
    {
     "data": {
      "text/plain": [
       "381"
      ]
     },
     "execution_count": 237,
     "metadata": {},
     "output_type": "execute_result"
    }
   ],
   "source": [
    "sum(star_df3.park_info.str.find(\"불가\") > -1)"
   ]
  },
  {
   "cell_type": "code",
   "execution_count": 239,
   "id": "8a4de798",
   "metadata": {},
   "outputs": [
    {
     "data": {
      "text/plain": [
       "'북가좌오거리 위치,주차불가'"
      ]
     },
     "execution_count": 239,
     "metadata": {},
     "output_type": "execute_result"
    }
   ],
   "source": [
    "star_df3[star_df3.park_info.isnull()]['map_desc'].values[0]"
   ]
  },
  {
   "cell_type": "code",
   "execution_count": 240,
   "id": "da3b3d68",
   "metadata": {},
   "outputs": [],
   "source": [
    "star_df3.loc[ star_df3.park_info.isnull(), 'park_info'] = star_df3[star_df3.park_info.isnull()]['map_desc'].values[0]"
   ]
  },
  {
   "cell_type": "code",
   "execution_count": 241,
   "id": "f3bf3e18",
   "metadata": {},
   "outputs": [
    {
     "data": {
      "text/plain": [
       "np.int64(0)"
      ]
     },
     "execution_count": 241,
     "metadata": {},
     "output_type": "execute_result"
    }
   ],
   "source": [
    "star_df3.park_info.isnull().sum()"
   ]
  },
  {
   "cell_type": "code",
   "execution_count": 242,
   "id": "3c61d5b1",
   "metadata": {},
   "outputs": [
    {
     "data": {
      "text/plain": [
       "382"
      ]
     },
     "execution_count": 242,
     "metadata": {},
     "output_type": "execute_result"
    }
   ],
   "source": [
    "sum(star_df3.park_info.str.find(\"불가\") > -1)"
   ]
  },
  {
   "cell_type": "code",
   "execution_count": 245,
   "id": "6537f037",
   "metadata": {},
   "outputs": [],
   "source": [
    "star_df3.loc[star_df3.park_info.str.find(\"불가\") == -1, 'park_yn'] = True"
   ]
  },
  {
   "cell_type": "code",
   "execution_count": 249,
   "id": "f79271e4",
   "metadata": {},
   "outputs": [
    {
     "data": {
      "text/plain": [
       "np.int64(382)"
      ]
     },
     "execution_count": 249,
     "metadata": {},
     "output_type": "execute_result"
    }
   ],
   "source": [
    "star_df3.park_yn.isnull().sum()"
   ]
  },
  {
   "cell_type": "code",
   "execution_count": null,
   "id": "3cf15781",
   "metadata": {},
   "outputs": [
    {
     "name": "stderr",
     "output_type": "stream",
     "text": [
      "/tmp/ipykernel_18540/1666250794.py:1: FutureWarning: Downcasting object dtype arrays on .fillna, .ffill, .bfill is deprecated and will change in a future version. Call result.infer_objects(copy=False) instead. To opt-in to the future behavior, set `pd.set_option('future.no_silent_downcasting', True)`\n",
      "  star_df3.park_yn.fillna(False)\n",
      "/tmp/ipykernel_18540/1666250794.py:4: FutureWarning: Downcasting object dtype arrays on .fillna, .ffill, .bfill is deprecated and will change in a future version. Call result.infer_objects(copy=False) instead. To opt-in to the future behavior, set `pd.set_option('future.no_silent_downcasting', True)`\n",
      "  star_df3['park_yn'] = star_df3.park_yn.fillna(False)\n"
     ]
    }
   ],
   "source": [
    "star_df3.park_yn.fillna(False)\n",
    "#fillna 는 결측치를 채워서 반환\n",
    "\n",
    "star_df3['park_yn'] = star_df3.park_yn.fillna(False)\n",
    "#이렇게 해야함"
   ]
  },
  {
   "cell_type": "code",
   "execution_count": 252,
   "id": "a283290e",
   "metadata": {},
   "outputs": [
    {
     "data": {
      "text/plain": [
       "0       True\n",
       "1      False\n",
       "2      False\n",
       "3      False\n",
       "4      False\n",
       "       ...  \n",
       "638     True\n",
       "639     True\n",
       "640    False\n",
       "641     True\n",
       "642    False\n",
       "Name: park_yn, Length: 643, dtype: bool"
      ]
     },
     "execution_count": 252,
     "metadata": {},
     "output_type": "execute_result"
    }
   ],
   "source": [
    "star_df3.park_yn"
   ]
  },
  {
   "cell_type": "code",
   "execution_count": null,
   "id": "9d673ce7",
   "metadata": {},
   "outputs": [],
   "source": [
    "star_df3.open_dt = star_df3.open_dt.apply(lambda x : datetime.strptime(x, \"%Y%m%d\"))\n",
    "\n",
    "\n",
    "\n",
    "\n",
    "star_df3.open_dt.apply(lambda x : x.weekday()).value_counts()\n",
    "\n",
    "\n",
    "star_df3.sort_values(by=['open_dt'], ascending=False)\n",
    "\n",
    "\n",
    "star_df3.open_dt.apply(lambda x : x.year).value_counts().sort_index().plot()"
   ]
  }
 ],
 "metadata": {
  "kernelspec": {
   "display_name": "pandas",
   "language": "python",
   "name": "python3"
  },
  "language_info": {
   "codemirror_mode": {
    "name": "ipython",
    "version": 3
   },
   "file_extension": ".py",
   "mimetype": "text/x-python",
   "name": "python",
   "nbconvert_exporter": "python",
   "pygments_lexer": "ipython3",
   "version": "3.12.11"
  }
 },
 "nbformat": 4,
 "nbformat_minor": 5
}
