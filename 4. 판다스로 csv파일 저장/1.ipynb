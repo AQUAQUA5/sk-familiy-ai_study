{
 "cells": [
  {
   "cell_type": "code",
   "execution_count": null,
   "id": "initial_id",
   "metadata": {
    "collapsed": true
   },
   "outputs": [],
   "source": [
    "from mpmath import arange\n",
    "\n",
    "\n",
    "def fibonacci_recursive(n: int) -> int:\n",
    "    \"\"\"\n",
    "    n번째 피보나치 수를 재귀적으로 계산하여 반환합니다.\n",
    "    (F(0)=0, F(1)=1 기준)\n",
    "\n",
    "    주의: 이 순수 재귀 방식은 n이 커질수록 동일한 계산을 반복하여\n",
    "          매우 비효율적입니다 (시간 복잡도 O(2^n)).\n",
    "          실제 사용 시에는 메모이제이션(동적 프로그래밍)을 사용한 최적화가 필요합니다.\n",
    "    \"\"\"\n",
    "    if not isinstance(n, int) or n < 0:\n",
    "        raise ValueError(\"입력값은 0 이상의 정수여야 합니다.\")\n",
    "    if n <= 1:  # 기본 조건: F(0) = 0, F(1) = 1\n",
    "        return n\n",
    "    else:\n",
    "        # F(n) = F(n-1) + F(n-2)\n",
    "        return fibonacci_recursive(n - 1) + fibonacci_recursive(n - 2)\n"
   ]
  },
  {
   "cell_type": "code",
   "execution_count": null,
   "id": "d6e653a7133ee298",
   "metadata": {},
   "outputs": [],
   "source": [
    "help(fibonacci_recursive)"
   ]
  },
  {
   "cell_type": "code",
   "execution_count": null,
   "id": "86dc7c0849deafb",
   "metadata": {},
   "outputs": [],
   "source": [
    "import numpy as np"
   ]
  },
  {
   "cell_type": "code",
   "execution_count": null,
   "id": "efd83215c0b997d7",
   "metadata": {},
   "outputs": [],
   "source": [
    "np.array([1,2,3,4,5])"
   ]
  },
  {
   "cell_type": "code",
   "execution_count": null,
   "id": "ecef0a4ef24e2452",
   "metadata": {},
   "outputs": [],
   "source": [
    "print(np.arange(20).reshape(4,5))\n",
    "np.arange(20).reshape(4,5).ndim"
   ]
  },
  {
   "cell_type": "code",
   "execution_count": null,
   "id": "7434f9cce03eb8f",
   "metadata": {},
   "outputs": [],
   "source": [
    "np.arange(20).reshape(-1,4,5)\n",
    "'''\n",
    "reshape 에서 -1은 해당 칸을 자동으로 계산\n",
    "20을 n,4,5로 리쉐입하는데, n은 1이어야 값이 맞으니 1로 설정함\n",
    "np.arange(21).reshape(2,-1) 처럼 어떻게도 값이 남거나 부족하면 오류\n",
    "'''"
   ]
  },
  {
   "cell_type": "code",
   "execution_count": null,
   "id": "a2df764aa7b21799",
   "metadata": {},
   "outputs": [],
   "source": [
    "np.arange(20).reshape(2,10)"
   ]
  },
  {
   "cell_type": "code",
   "execution_count": null,
   "id": "34586f8a7c292923",
   "metadata": {},
   "outputs": [],
   "source": []
  },
  {
   "cell_type": "code",
   "execution_count": null,
   "id": "9b29c677a3af9702",
   "metadata": {},
   "outputs": [],
   "source": [
    "a= [10,20,30,40,50,60,70,80]\n",
    "sum(a)/len(a)\n"
   ]
  },
  {
   "cell_type": "code",
   "execution_count": null,
   "id": "e70d637dab1bfc3",
   "metadata": {},
   "outputs": [],
   "source": [
    "np.float64(45.0)"
   ]
  },
  {
   "cell_type": "code",
   "execution_count": null,
   "id": "5b98f66a418ce634",
   "metadata": {},
   "outputs": [],
   "source": [
    "[x - 45.0 for x in a]"
   ]
  },
  {
   "cell_type": "code",
   "execution_count": null,
   "id": "bfdb2de5a9e997ae",
   "metadata": {},
   "outputs": [],
   "source": [
    "import zipfile"
   ]
  },
  {
   "cell_type": "code",
   "execution_count": null,
   "id": "a3b9961712c4247a",
   "metadata": {},
   "outputs": [],
   "source": [
    "from pathlib import Path\n",
    "p1 = r'C:\\Users\\51chi\\OneDrive\\바탕 화면\\파이썬 작업 디렉토리\\1. 부트캠\\1. 실습\\2. 파일 저장 및 삭제\\이름_생년_성별_10000.zip'\n",
    "pa = Path(p1)\n",
    "with zipfile.ZipFile(pa, 'r') as f:\n",
    "    f.extractall(\"./name\")"
   ]
  },
  {
   "cell_type": "code",
   "execution_count": null,
   "id": "31305a6647bbb220",
   "metadata": {},
   "outputs": [],
   "source": [
    "import os\n",
    "f = open(\"./myfilelist.txt\", \"w\", encoding='utf-8')\n",
    "for roots, dirs, files in os.walk(\"c:/windows/\"):\n",
    "    for file in files:\n",
    "        f.write(f\"{roots}{file}\\n\")\n",
    "f.close()"
   ]
  },
  {
   "cell_type": "code",
   "execution_count": 39,
   "id": "b254297bc3c919ce",
   "metadata": {
    "ExecuteTime": {
     "end_time": "2025-05-27T01:49:22.450847Z",
     "start_time": "2025-05-27T01:49:18.606570Z"
    }
   },
   "outputs": [],
   "source": [
    "import shutil\n",
    "Path('./customer/male').mkdir(parents=True, exist_ok=True)\n",
    "Path('./customer/female').mkdir(parents=True, exist_ok=True)\n",
    "\n",
    "male = []\n",
    "female = []\n",
    "for file in os.listdir(\"./name\"):\n",
    "    # 남성\n",
    "    if file.split(\"_\")[-1][0] in ['1', '3']:\n",
    "        with open(f\"./name/{file}\", \"r\") as f:\n",
    "            male.append(int(f.read().replace(\",\", \"\")))\n",
    "        shutil.move(f\"./name/{file}\", f\"./customer/male/{file}\" )\n",
    "    elif file.split(\"_\")[-1][0] in ['2', '4']:\n",
    "        with open(f\"./name/{file}\", \"r\") as f:\n",
    "            female.append(int(f.read().replace(\",\", \"\")))\n",
    "        shutil.move(f\"./name/{file}\", f\"./customer/female/{file}\" )\n",
    "    else:\n",
    "        print(\"잘못된 파일입니다. \")\n"
   ]
  },
  {
   "cell_type": "code",
   "execution_count": 63,
   "id": "21f7aeaf790b1ebb",
   "metadata": {},
   "outputs": [],
   "source": [
    "import requests"
   ]
  },
  {
   "cell_type": "code",
   "execution_count": 77,
   "id": "e49e5628",
   "metadata": {},
   "outputs": [
    {
     "name": "stdout",
     "output_type": "stream",
     "text": [
      "https://m.stock.naver.com/front-api/external/chart/domestic/notice?symbol=010140\n",
      "startTime=20141017endTime=20150702\n",
      "requestType=0\n"
     ]
    }
   ],
   "source": [
    "\n",
    "url = \"https://m.stock.naver.com/front-api/external/chart/domestic/notice?symbol=010140\\nstartTime=20141017endTime=20150702\\nrequestType=0\"\n",
    "\n",
    "print(url)"
   ]
  },
  {
   "cell_type": "code",
   "execution_count": 78,
   "id": "0dcad5a3",
   "metadata": {},
   "outputs": [],
   "source": [
    "data = requests.get(url).text"
   ]
  },
  {
   "cell_type": "code",
   "execution_count": 66,
   "id": "ae737fa0",
   "metadata": {},
   "outputs": [],
   "source": [
    "from xml.etree import ElementTree as ET"
   ]
  },
  {
   "cell_type": "code",
   "execution_count": 79,
   "id": "f7b9e44d",
   "metadata": {},
   "outputs": [
    {
     "name": "stdout",
     "output_type": "stream",
     "text": [
      "<?xml version=\"1.0\" encoding=\"UTF-8\"\n",
      "?><protocol/>\n",
      "\n"
     ]
    },
    {
     "data": {
      "text/plain": [
       "'\\nitem 태그 안에 data를 속성으로 갖는것을 확인\\n'"
      ]
     },
     "execution_count": 79,
     "metadata": {},
     "output_type": "execute_result"
    }
   ],
   "source": [
    "print(data)\n",
    "'''\n",
    "item 태그 안에 data를 속성으로 갖는것을 확인\n",
    "'''"
   ]
  },
  {
   "cell_type": "code",
   "execution_count": 67,
   "id": "8bc700a0",
   "metadata": {},
   "outputs": [],
   "source": [
    "root = ET.fromstring(data)"
   ]
  },
  {
   "cell_type": "code",
   "execution_count": 68,
   "id": "42288549",
   "metadata": {},
   "outputs": [
    {
     "data": {
      "text/plain": [
       "<_elementtree._element_iterator at 0x7fe1835bf560>"
      ]
     },
     "execution_count": 68,
     "metadata": {},
     "output_type": "execute_result"
    }
   ],
   "source": [
    "items = root.iter(tag='item')\n",
    "items"
   ]
  },
  {
   "cell_type": "code",
   "execution_count": 69,
   "id": "dc6ccc32",
   "metadata": {},
   "outputs": [
    {
     "data": {
      "text/plain": [
       "[]"
      ]
     },
     "execution_count": 69,
     "metadata": {},
     "output_type": "execute_result"
    }
   ],
   "source": [
    "total = []\n",
    "for i in items:\n",
    "    for x in i:\n",
    "        total.append(i.get('data'), x.text)\n",
    "total"
   ]
  },
  {
   "cell_type": "code",
   "execution_count": 21,
   "id": "4d1835ae",
   "metadata": {},
   "outputs": [
    {
     "data": {
      "text/plain": [
       "['date', 'no', 'src']"
      ]
     },
     "execution_count": 21,
     "metadata": {},
     "output_type": "execute_result"
    }
   ],
   "source": [
    "i.keys()"
   ]
  },
  {
   "cell_type": "code",
   "execution_count": 39,
   "id": "a9d1143d",
   "metadata": {},
   "outputs": [],
   "source": [
    "total2 = [{'date' : i.get('data'), 'information' : x.text} for i in root.iter(tag='item') for x in i]"
   ]
  },
  {
   "cell_type": "code",
   "execution_count": 54,
   "id": "3bfe72d4",
   "metadata": {},
   "outputs": [],
   "source": [
    "import pandas as pd"
   ]
  },
  {
   "cell_type": "code",
   "execution_count": 55,
   "id": "c0fecad7",
   "metadata": {},
   "outputs": [],
   "source": [
    "pd.DataFrame(total2).to_csv(\"./test.csv\", index=False)"
   ]
  },
  {
   "cell_type": "code",
   "execution_count": 71,
   "id": "c5fcca5a",
   "metadata": {},
   "outputs": [],
   "source": [
    "from urllib.parse import urlparse, urlencode, quote\n",
    "from xml.etree import ElementTree as ET\n",
    "import pandas as pd\n",
    "\n",
    "\n",
    "def func(code, s_date, e_date, dir='./'):\n",
    "    host = \"https://m.stock.naver.com/front-api/external/chart/domestic/notice?s\"\n",
    "    payload = {\n",
    "        'ymbol' : code,\n",
    "        'nstartTime' : s_date,\n",
    "        'nendTime' : e_date,\n",
    "        'nrequestType' : 0\n",
    "    }\n",
    "    \n",
    "    url = host + urlencode(payload, doseq=True)\n",
    "    data = requests.get(url).text\n",
    "    root = ET.fromstring(data)\n",
    "    total2 = [{'date' : i.get('data'), 'information' : x.text} for i in root.iter(tag='item') for x in i]\n",
    "    pd.DataFrame(total2).to_csv(f\"{dir}test.csv\", index=False)\n",
    "\n",
    "    return"
   ]
  },
  {
   "cell_type": "code",
   "execution_count": 72,
   "id": "4d706e49",
   "metadata": {},
   "outputs": [],
   "source": [
    "func('005930', '20020209', '20040419')"
   ]
  },
  {
   "cell_type": "code",
   "execution_count": 74,
   "id": "0413c63a",
   "metadata": {},
   "outputs": [
    {
     "ename": "EmptyDataError",
     "evalue": "No columns to parse from file",
     "output_type": "error",
     "traceback": [
      "\u001b[31m---------------------------------------------------------------------------\u001b[39m",
      "\u001b[31mEmptyDataError\u001b[39m                            Traceback (most recent call last)",
      "\u001b[36mCell\u001b[39m\u001b[36m \u001b[39m\u001b[32mIn[74]\u001b[39m\u001b[32m, line 2\u001b[39m\n\u001b[32m      1\u001b[39m \u001b[38;5;28;01mimport\u001b[39;00m\u001b[38;5;250m \u001b[39m\u001b[34;01mpandas\u001b[39;00m\u001b[38;5;250m \u001b[39m\u001b[38;5;28;01mas\u001b[39;00m\u001b[38;5;250m \u001b[39m\u001b[34;01mpd\u001b[39;00m\n\u001b[32m----> \u001b[39m\u001b[32m2\u001b[39m df = \u001b[43mpd\u001b[49m\u001b[43m.\u001b[49m\u001b[43mread_csv\u001b[49m\u001b[43m(\u001b[49m\u001b[33;43m'\u001b[39;49m\u001b[33;43m./test.csv\u001b[39;49m\u001b[33;43m'\u001b[39;49m\u001b[43m)\u001b[49m\n\u001b[32m      3\u001b[39m \u001b[38;5;28mprint\u001b[39m(df.head())\n",
      "\u001b[36mFile \u001b[39m\u001b[32m~/miniconda3/lib/python3.11/site-packages/pandas/io/parsers/readers.py:1026\u001b[39m, in \u001b[36mread_csv\u001b[39m\u001b[34m(filepath_or_buffer, sep, delimiter, header, names, index_col, usecols, dtype, engine, converters, true_values, false_values, skipinitialspace, skiprows, skipfooter, nrows, na_values, keep_default_na, na_filter, verbose, skip_blank_lines, parse_dates, infer_datetime_format, keep_date_col, date_parser, date_format, dayfirst, cache_dates, iterator, chunksize, compression, thousands, decimal, lineterminator, quotechar, quoting, doublequote, escapechar, comment, encoding, encoding_errors, dialect, on_bad_lines, delim_whitespace, low_memory, memory_map, float_precision, storage_options, dtype_backend)\u001b[39m\n\u001b[32m   1013\u001b[39m kwds_defaults = _refine_defaults_read(\n\u001b[32m   1014\u001b[39m     dialect,\n\u001b[32m   1015\u001b[39m     delimiter,\n\u001b[32m   (...)\u001b[39m\u001b[32m   1022\u001b[39m     dtype_backend=dtype_backend,\n\u001b[32m   1023\u001b[39m )\n\u001b[32m   1024\u001b[39m kwds.update(kwds_defaults)\n\u001b[32m-> \u001b[39m\u001b[32m1026\u001b[39m \u001b[38;5;28;01mreturn\u001b[39;00m \u001b[43m_read\u001b[49m\u001b[43m(\u001b[49m\u001b[43mfilepath_or_buffer\u001b[49m\u001b[43m,\u001b[49m\u001b[43m \u001b[49m\u001b[43mkwds\u001b[49m\u001b[43m)\u001b[49m\n",
      "\u001b[36mFile \u001b[39m\u001b[32m~/miniconda3/lib/python3.11/site-packages/pandas/io/parsers/readers.py:620\u001b[39m, in \u001b[36m_read\u001b[39m\u001b[34m(filepath_or_buffer, kwds)\u001b[39m\n\u001b[32m    617\u001b[39m _validate_names(kwds.get(\u001b[33m\"\u001b[39m\u001b[33mnames\u001b[39m\u001b[33m\"\u001b[39m, \u001b[38;5;28;01mNone\u001b[39;00m))\n\u001b[32m    619\u001b[39m \u001b[38;5;66;03m# Create the parser.\u001b[39;00m\n\u001b[32m--> \u001b[39m\u001b[32m620\u001b[39m parser = \u001b[43mTextFileReader\u001b[49m\u001b[43m(\u001b[49m\u001b[43mfilepath_or_buffer\u001b[49m\u001b[43m,\u001b[49m\u001b[43m \u001b[49m\u001b[43m*\u001b[49m\u001b[43m*\u001b[49m\u001b[43mkwds\u001b[49m\u001b[43m)\u001b[49m\n\u001b[32m    622\u001b[39m \u001b[38;5;28;01mif\u001b[39;00m chunksize \u001b[38;5;129;01mor\u001b[39;00m iterator:\n\u001b[32m    623\u001b[39m     \u001b[38;5;28;01mreturn\u001b[39;00m parser\n",
      "\u001b[36mFile \u001b[39m\u001b[32m~/miniconda3/lib/python3.11/site-packages/pandas/io/parsers/readers.py:1620\u001b[39m, in \u001b[36mTextFileReader.__init__\u001b[39m\u001b[34m(self, f, engine, **kwds)\u001b[39m\n\u001b[32m   1617\u001b[39m     \u001b[38;5;28mself\u001b[39m.options[\u001b[33m\"\u001b[39m\u001b[33mhas_index_names\u001b[39m\u001b[33m\"\u001b[39m] = kwds[\u001b[33m\"\u001b[39m\u001b[33mhas_index_names\u001b[39m\u001b[33m\"\u001b[39m]\n\u001b[32m   1619\u001b[39m \u001b[38;5;28mself\u001b[39m.handles: IOHandles | \u001b[38;5;28;01mNone\u001b[39;00m = \u001b[38;5;28;01mNone\u001b[39;00m\n\u001b[32m-> \u001b[39m\u001b[32m1620\u001b[39m \u001b[38;5;28mself\u001b[39m._engine = \u001b[38;5;28;43mself\u001b[39;49m\u001b[43m.\u001b[49m\u001b[43m_make_engine\u001b[49m\u001b[43m(\u001b[49m\u001b[43mf\u001b[49m\u001b[43m,\u001b[49m\u001b[43m \u001b[49m\u001b[38;5;28;43mself\u001b[39;49m\u001b[43m.\u001b[49m\u001b[43mengine\u001b[49m\u001b[43m)\u001b[49m\n",
      "\u001b[36mFile \u001b[39m\u001b[32m~/miniconda3/lib/python3.11/site-packages/pandas/io/parsers/readers.py:1898\u001b[39m, in \u001b[36mTextFileReader._make_engine\u001b[39m\u001b[34m(self, f, engine)\u001b[39m\n\u001b[32m   1895\u001b[39m     \u001b[38;5;28;01mraise\u001b[39;00m \u001b[38;5;167;01mValueError\u001b[39;00m(msg)\n\u001b[32m   1897\u001b[39m \u001b[38;5;28;01mtry\u001b[39;00m:\n\u001b[32m-> \u001b[39m\u001b[32m1898\u001b[39m     \u001b[38;5;28;01mreturn\u001b[39;00m \u001b[43mmapping\u001b[49m\u001b[43m[\u001b[49m\u001b[43mengine\u001b[49m\u001b[43m]\u001b[49m\u001b[43m(\u001b[49m\u001b[43mf\u001b[49m\u001b[43m,\u001b[49m\u001b[43m \u001b[49m\u001b[43m*\u001b[49m\u001b[43m*\u001b[49m\u001b[38;5;28;43mself\u001b[39;49m\u001b[43m.\u001b[49m\u001b[43moptions\u001b[49m\u001b[43m)\u001b[49m\n\u001b[32m   1899\u001b[39m \u001b[38;5;28;01mexcept\u001b[39;00m \u001b[38;5;167;01mException\u001b[39;00m:\n\u001b[32m   1900\u001b[39m     \u001b[38;5;28;01mif\u001b[39;00m \u001b[38;5;28mself\u001b[39m.handles \u001b[38;5;129;01mis\u001b[39;00m \u001b[38;5;129;01mnot\u001b[39;00m \u001b[38;5;28;01mNone\u001b[39;00m:\n",
      "\u001b[36mFile \u001b[39m\u001b[32m~/miniconda3/lib/python3.11/site-packages/pandas/io/parsers/c_parser_wrapper.py:93\u001b[39m, in \u001b[36mCParserWrapper.__init__\u001b[39m\u001b[34m(self, src, **kwds)\u001b[39m\n\u001b[32m     90\u001b[39m \u001b[38;5;28;01mif\u001b[39;00m kwds[\u001b[33m\"\u001b[39m\u001b[33mdtype_backend\u001b[39m\u001b[33m\"\u001b[39m] == \u001b[33m\"\u001b[39m\u001b[33mpyarrow\u001b[39m\u001b[33m\"\u001b[39m:\n\u001b[32m     91\u001b[39m     \u001b[38;5;66;03m# Fail here loudly instead of in cython after reading\u001b[39;00m\n\u001b[32m     92\u001b[39m     import_optional_dependency(\u001b[33m\"\u001b[39m\u001b[33mpyarrow\u001b[39m\u001b[33m\"\u001b[39m)\n\u001b[32m---> \u001b[39m\u001b[32m93\u001b[39m \u001b[38;5;28mself\u001b[39m._reader = \u001b[43mparsers\u001b[49m\u001b[43m.\u001b[49m\u001b[43mTextReader\u001b[49m\u001b[43m(\u001b[49m\u001b[43msrc\u001b[49m\u001b[43m,\u001b[49m\u001b[43m \u001b[49m\u001b[43m*\u001b[49m\u001b[43m*\u001b[49m\u001b[43mkwds\u001b[49m\u001b[43m)\u001b[49m\n\u001b[32m     95\u001b[39m \u001b[38;5;28mself\u001b[39m.unnamed_cols = \u001b[38;5;28mself\u001b[39m._reader.unnamed_cols\n\u001b[32m     97\u001b[39m \u001b[38;5;66;03m# error: Cannot determine type of 'names'\u001b[39;00m\n",
      "\u001b[36mFile \u001b[39m\u001b[32mparsers.pyx:581\u001b[39m, in \u001b[36mpandas._libs.parsers.TextReader.__cinit__\u001b[39m\u001b[34m()\u001b[39m\n",
      "\u001b[31mEmptyDataError\u001b[39m: No columns to parse from file"
     ]
    }
   ],
   "source": [
    "import pandas as pd\n",
    "df = pd.read_csv('./test.csv')\n",
    "print(df.head())"
   ]
  },
  {
   "cell_type": "code",
   "execution_count": null,
   "id": "438df1cd",
   "metadata": {},
   "outputs": [],
   "source": []
  }
 ],
 "metadata": {
  "kernelspec": {
   "display_name": "base",
   "language": "python",
   "name": "python3"
  },
  "language_info": {
   "codemirror_mode": {
    "name": "ipython",
    "version": 3
   },
   "file_extension": ".py",
   "mimetype": "text/x-python",
   "name": "python",
   "nbconvert_exporter": "python",
   "pygments_lexer": "ipython3",
   "version": "3.11.11"
  }
 },
 "nbformat": 4,
 "nbformat_minor": 5
}
