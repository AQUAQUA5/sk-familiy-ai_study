{
 "cells": [
  {
   "cell_type": "code",
   "execution_count": 1,
   "id": "4a7e1768",
   "metadata": {},
   "outputs": [
    {
     "name": "stderr",
     "output_type": "stream",
     "text": [
      "USER_AGENT environment variable not set, consider setting it to identify your requests.\n"
     ]
    }
   ],
   "source": [
    "from langchain.retrievers import BM25Retriever, EnsembleRetriever\n",
    "from langchain_community.document_loaders import WebBaseLoader\n",
    "import bs4\n",
    "\n",
    "\n",
    "loader = WebBaseLoader(\n",
    "    web_paths= (\"https://news.naver.com/section/101\",),\n",
    "    bs_kwargs=dict(\n",
    "        parse_only=bs4.SoupStrainer(\n",
    "            class_=(\"sa_text\", \"sa_item_SECTION_HEADLINE\")\n",
    "        )\n",
    "    )\n",
    ")\n",
    "docs = loader.load()"
   ]
  },
  {
   "cell_type": "code",
   "execution_count": 4,
   "id": "69562fad",
   "metadata": {},
   "outputs": [
    {
     "data": {
      "text/plain": [
       "[Document(metadata={'source': 'https://news.naver.com/section/101'}, page_content='이데일리\\n\\n19분전\\n\\n\\n\\n\\n\\n\\n\\n\\n다시 고개 든 관세 경계감… 코스피·코스닥 하락 출발'),\n",
       " Document(metadata={'source': 'https://news.naver.com/section/101'}, page_content='LGD, 전사 AI 전환 가속…\"3년 내 생산성 30% 향상이 목표\"\\n\\nLG디스플레이가 전 사업 영역에 인공지능(AI)을 적용하는 AX((AI Transformation, AI 전환) 추진에 속도를 낸다. 이를 통해 3년 안에 업무 생산성을 30% 향상 시키는 게 목표다. LG디스플레이\\n\\n\\n아이뉴스24\\n\\n\\n\\n\\n42\\n개의 관련뉴스 더보기'),\n",
       " Document(metadata={'source': 'https://news.naver.com/section/101'}, page_content=\"NH투자증권은 6일 디어유에 대해 올해 2분기 기대치를 밑도는 실적을 기록했지만 중국 진출로 앞으로 실적이 개선될 것으로 내다봤다. 투자의견 '매수'와 목표주가를 기존 6만5000원으로 유지했다. 디어유의 올해 2분\\n\\n\\n머니투데이\\n\\n30분전\")]"
      ]
     },
     "execution_count": 4,
     "metadata": {},
     "output_type": "execute_result"
    }
   ],
   "source": [
    "from langchain.text_splitter import RecursiveCharacterTextSplitter\n",
    "text_splitter = RecursiveCharacterTextSplitter.from_tiktoken_encoder(\n",
    "    chunk_size=300,\n",
    "    chunk_overlap=50\n",
    ")\n",
    "splits = text_splitter.split_documents(docs) # text_splitter\n",
    "from langchain_openai import OpenAIEmbeddings\n",
    "from langchain_community.vectorstores import Chroma\n",
    "vectorstore = Chroma.from_documents(\n",
    "    documents=splits, embedding=OpenAIEmbeddings()\n",
    ")\n",
    "retriever = vectorstore.as_retriever(\n",
    "    search_type='mmr',\n",
    "    search_kwargs={\"k\" : 1, \"fetch_k\" : 4}\n",
    ")\n",
    "\n",
    "bm25_retriever = BM25Retriever.from_documents(splits)\n",
    "bm25_retriever.k = 2\n",
    "ensemble_retriever = EnsembleRetriever(retrievers=[bm25_retriever, retriever],\n",
    "                weights=[0.2, 0.8])\n",
    "ensemble_retriever.invoke(\"오늘의 증시\")"
   ]
  },
  {
   "cell_type": "code",
   "execution_count": 5,
   "id": "db5a08eb",
   "metadata": {},
   "outputs": [
    {
     "name": "stderr",
     "output_type": "stream",
     "text": [
      "/tmp/ipykernel_7880/21748928.py:30: LangChainBetaWarning: The function `loads` is in beta. It is actively being worked on, so the API may change.\n",
      "  reranked_results = [ (loads(doc), score)\n"
     ]
    }
   ],
   "source": [
    "from langchain.prompts import ChatPromptTemplate\n",
    "from langchain_openai import ChatOpenAI\n",
    "from langchain_core.output_parsers import StrOutputParser\n",
    "\n",
    "template = \"\"\"\n",
    "당신은 AI 언어 모델 조수입니다. 당신의 임무는 주어진 사용자 질문에 대해 벡터 데이터베이스에서 관련 문서를 검색할 수 있도록 다섯 가지 다른 버전을 생성하는 것입니다.\n",
    "사용자 질문에 대한 여러 관점을 생성함으로써, 거리 기반 유사성 검색의 한계를 극복하는 데 도움을 주는 것이 목표입니다.\n",
    "각 질문은 새 줄로 구분하여 제공하세요. 원본 질문: {question}\n",
    "\"\"\"\n",
    "prompt_perspectives = ChatPromptTemplate.from_template(template)\n",
    "\n",
    "generate_queries = (\n",
    "    prompt_perspectives\n",
    "    | ChatOpenAI(model_name=\"chatgpt-4o-latest\", temperature=0)\n",
    "    | StrOutputParser()\n",
    "    | (lambda x : x.split(\"\\n\"))\n",
    ")\n",
    "\n",
    "from langchain.load import dumps, loads\n",
    "def reciprocal_rank_fusion(results, k=60, top_n=2):\n",
    "    fused_scores = {}\n",
    "    for docs in results:\n",
    "        for rank, doc in enumerate(docs):\n",
    "            doc_str = dumps(docs)\n",
    "            if doc_str not in fused_scores:\n",
    "                fused_scores[doc_str] = 0\n",
    "            previous_score = fused_scores[doc_str]\n",
    "            fused_scores[doc_str] += 1 / (rank + k)\n",
    "   \n",
    "    reranked_results = [ (loads(doc), score)\n",
    "        for doc, score in sorted(fused_scores.items(), key=lambda x : x[1], reverse=True)\n",
    "    ]\n",
    "    return reranked_results[:top_n]\n",
    "\n",
    "chain = generate_queries | ensemble_retriever.map() | reciprocal_rank_fusion\n",
    "docs = chain.invoke(\"오늘의 증시\")"
   ]
  },
  {
   "cell_type": "code",
   "execution_count": 6,
   "id": "09a330bd",
   "metadata": {},
   "outputs": [
    {
     "data": {
      "text/plain": [
       "[([Document(metadata={'source': 'https://news.naver.com/section/101'}, page_content='코스피 지수가 다시 3200선 아래로 내려앉았다. 전장에서 기술적 반등에 성공했지만 세제개편안 후폭풍이 여전한 데다 미국의 관세 영향이 가시화되며 뉴욕증시 3대 지수가 일제히 하락한 영향으로 해석된다. 6일 엠피닥터\\n\\n\\n이데일리\\n\\n12분전'),\n",
       "   Document(metadata={'source': 'https://news.naver.com/section/101'}, page_content='쿠팡의 올해 2분기 신선식품 부문 매출이 전년 동기보다 25% 증가한 것으로 나타났다. 특히 농산물·육류·해산물 등 주요 품목군 확대가 매출 증가에 영향을 준 것으로 보인다. 김범석 쿠팡Inc 의장은 6일(한국시각)\\n\\n\\n뉴시스\\n\\n\\n\\n\\n60\\n개의 관련뉴스 더보기'),\n",
       "   Document(metadata={'source': 'https://news.naver.com/section/101'}, page_content='서울신문\\n\\n10분전\\n\\n\\n\\n\\n\\n\\n\\n\\n[서울데이터랩]개장 직후 인기 검색 종목 20選')],\n",
       "  0.049189141547682),\n",
       " ([Document(metadata={'source': 'https://news.naver.com/section/101'}, page_content='지난해 퇴직연금 실물이전 제도가 시작된 이후 가장 많은 퇴직연금이 몰린 증권사는 한국투자증권인 것으로 확인됐다. 퇴직연금 실물이전은 계좌 내 운용 중인 상품을 해지하지 않고 다른 금융사로 이전할 수 있도록 한 제도다\\n\\n\\n머니투데이\\n\\n27분전'),\n",
       "   Document(metadata={'source': 'https://news.naver.com/section/101'}, page_content='LGD, 전사 AI 전환 가속…\"3년 내 생산성 30% 향상이 목표\"\\n\\nLG디스플레이가 전 사업 영역에 인공지능(AI)을 적용하는 AX((AI Transformation, AI 전환) 추진에 속도를 낸다. 이를 통해 3년 안에 업무 생산성을 30% 향상 시키는 게 목표다. LG디스플레이\\n\\n\\n아이뉴스24\\n\\n\\n\\n\\n42\\n개의 관련뉴스 더보기'),\n",
       "   Document(metadata={'source': 'https://news.naver.com/section/101'}, page_content=\"NH투자증권은 6일 디어유에 대해 올해 2분기 기대치를 밑도는 실적을 기록했지만 중국 진출로 앞으로 실적이 개선될 것으로 내다봤다. 투자의견 '매수'와 목표주가를 기존 6만5000원으로 유지했다. 디어유의 올해 2분\\n\\n\\n머니투데이\\n\\n30분전\")],\n",
       "  0.049189141547682)]"
      ]
     },
     "execution_count": 6,
     "metadata": {},
     "output_type": "execute_result"
    }
   ],
   "source": [
    "docs"
   ]
  },
  {
   "cell_type": "code",
   "execution_count": 7,
   "id": "ecfb5501",
   "metadata": {},
   "outputs": [],
   "source": [
    "from langchain_core.runnables import RunnablePassthrough\n",
    "template = \"\"\"다음 맥락을 바탕으로 질문에 답변할 것\n",
    "{context}\n",
    "질문: {question}\n",
    "\"\"\"\n",
    "prompt = ChatPromptTemplate.from_template(template)\n",
    "final_chain = (\n",
    "    {\n",
    "        \"context\" : chain,\n",
    "        \"question\" : RunnablePassthrough()\n",
    "    }\n",
    "    | prompt | ChatOpenAI(model_name=\"chatgpt-4o-latest\", temperature=0)\n",
    "    | StrOutputParser()\n",
    ")"
   ]
  },
  {
   "cell_type": "code",
   "execution_count": 8,
   "id": "cd2cae71",
   "metadata": {},
   "outputs": [
    {
     "data": {
      "text/plain": [
       "'오늘 국내 증시는 하락세를 보였습니다. 코스피 지수는 다시 3200선 아래로 내려앉았으며, 이는 전일 기술적 반등 이후에도 세제개편안의 여파와 미국의 관세 영향이 본격화되면서 뉴욕증시 3대 지수가 일제히 하락한 데 따른 것으로 분석됩니다.\\n\\n또한, 개장 직후 투자자들의 관심을 받은 종목으로는 네이처셀이 있으며, 개장 5분 만에 높은 검색 비율(9.78%)을 기록하며 주목받았습니다. 현재가는 24,750원으로 전 거래일 대비 상승한 상태입니다.\\n\\n요약:\\n\\n- 코스피 지수: 3200선 아래로 하락\\n- 주요 원인: 세제개편안 후폭풍, 미국 관세 영향, 뉴욕증시 하락\\n- 인기 종목: 네이처셀 (개장 직후 높은 검색 비율 기록)\\n\\n투자자들은 세제 변화와 글로벌 시장 흐름에 주의할 필요가 있습니다.'"
      ]
     },
     "execution_count": 8,
     "metadata": {},
     "output_type": "execute_result"
    }
   ],
   "source": [
    "rt = final_chain.invoke(\"오늘의 증시\")\n",
    "rt"
   ]
  },
  {
   "cell_type": "code",
   "execution_count": null,
   "id": "2c84cce2",
   "metadata": {},
   "outputs": [],
   "source": []
  },
  {
   "cell_type": "code",
   "execution_count": null,
   "id": "04177a56",
   "metadata": {},
   "outputs": [],
   "source": []
  },
  {
   "cell_type": "code",
   "execution_count": null,
   "id": "ddd20c45",
   "metadata": {},
   "outputs": [],
   "source": []
  }
 ],
 "metadata": {
  "kernelspec": {
   "display_name": "openai",
   "language": "python",
   "name": "python3"
  },
  "language_info": {
   "codemirror_mode": {
    "name": "ipython",
    "version": 3
   },
   "file_extension": ".py",
   "mimetype": "text/x-python",
   "name": "python",
   "nbconvert_exporter": "python",
   "pygments_lexer": "ipython3",
   "version": "3.11.13"
  }
 },
 "nbformat": 4,
 "nbformat_minor": 5
}
