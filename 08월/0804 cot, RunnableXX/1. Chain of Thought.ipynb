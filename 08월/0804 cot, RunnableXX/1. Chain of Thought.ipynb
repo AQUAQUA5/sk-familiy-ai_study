{
 "cells": [
  {
   "cell_type": "code",
   "execution_count": null,
   "id": "620145c5",
   "metadata": {},
   "outputs": [],
   "source": [
    "#cot는 LLM에게 단계별로 추론을 생성하게 한 후 파서로 결론만 잘라서 사용자에게 보여주는 기법이다.\n",
    "#예제에서는 추론 1단계, 파서 1단계지만 여러 단계의 추론을 생성하게 할 수 있다."
   ]
  },
  {
   "cell_type": "code",
   "execution_count": 2,
   "id": "4dbbbc1b",
   "metadata": {},
   "outputs": [
    {
     "data": {
      "text/plain": [
       "30"
      ]
     },
     "execution_count": 2,
     "metadata": {},
     "output_type": "execute_result"
    }
   ],
   "source": [
    "from operator import itemgetter\n",
    "\n",
    "my_list = ['a', 'b', 'c', 'd']\n",
    "my_dict = {'name' : 'Alice', 'age' : 30}\n",
    "get_index_1 = itemgetter(1)\n",
    "\n",
    "get_age = itemgetter('age')\n",
    "get_age(my_dict)"
   ]
  },
  {
   "cell_type": "code",
   "execution_count": 3,
   "id": "42a05c86",
   "metadata": {},
   "outputs": [
    {
     "name": "stdout",
     "output_type": "stream",
     "text": [
      "010-9999-4567\n",
      "010-9999-4567\n"
     ]
    }
   ],
   "source": [
    "import re\n",
    "text = \"안녕하세요! 제 번호는 010-9999-4567 입니다.\"\n",
    "match = re.search(r\"(\\d{3}-\\d{4}-\\d{4})\", text)\n",
    "if match:\n",
    "    phone_number = match.group(1)\n",
    "    print(phone_number)\n",
    "\n",
    "#바다코끼리 연산자 \n",
    "import re\n",
    "text = \"안녕하세요! 제 번호는 010-9999-4567 입니다.\"\n",
    "if match :=  re.search(r\"(\\d{3}-\\d{4}-\\d{4})\", text):\n",
    "    phone_number = match.group(1)\n",
    "    print(phone_number)"
   ]
  },
  {
   "cell_type": "code",
   "execution_count": 4,
   "id": "0d5b9bd0",
   "metadata": {},
   "outputs": [
    {
     "data": {
      "text/plain": [
       "'라면은 간편하게 만들 수 있는 인기 있는 요리입니다. 기본적인 라면 레시피를 소개할게요.\\n\\n### 재료\\n- 라면 1봉지\\n- 물 550ml (약 2컵 반)\\n- 스프 (라면 봉지에 포함된 것)\\n- 선택 재료 (선택 사항)\\n  - 계란 1개\\n  - 대파 (썰어서)\\n  - 김치\\n  - 채소 (시금치, 버섯 등)\\n  - 고기 (햄, 소시지 등)\\n\\n### 조리 방법\\n1. **물 끓이기**: 냄비에 물 550ml를 붓고 중불로 끓입니다.\\n2. **면 넣기**: 물이 끓기 시작하면 라면 면을 넣습니다. 면이 풀어질 때까지 약 2-3분간 끓입니다.\\n3. **스프 추가**: 면이 익으면 라면 스프를 넣고 잘 저어줍니다.\\n4. **선택 재료 추가**: \\n   - 계란을 넣고 싶다면, 면이 거의 다 익었을 때 계란을 깨서 넣고 저어줍니다.\\n   - 대파, 김치, 채소, 고기 등을 추가하고 1-2분 더 끓입니다.\\n5. **완성**: 모든 재료가 잘 섞이고 익으면 불을 끄고 그릇에 담아냅니다.\\n\\n### 팁\\n- 매운 맛을 원한다면 고추가루나 청양고추를 추가해보세요.\\n- 치즈를 넣으면 더욱 고소한 맛을 즐길 수 있습니다.\\n\\n맛있게 드세요!'"
      ]
     },
     "execution_count": 4,
     "metadata": {},
     "output_type": "execute_result"
    }
   ],
   "source": [
    "from langchain_core.output_parsers import StrOutputParser\n",
    "from langchain_core.prompts import ChatPromptTemplate\n",
    "from langchain_openai import ChatOpenAI\n",
    "\n",
    "prompt = ChatPromptTemplate.from_messages(\n",
    "    [\n",
    "        (\"system\", \"사용자 입력한 요리의 레시피를 생각하세요\"),\n",
    "        (\"human\", \"{dish}\")\n",
    "    ]\n",
    ")\n",
    "\n",
    "model = ChatOpenAI(model='gpt-4o-mini', temperature=0)\n",
    "chain = prompt | model | StrOutputParser()\n",
    "chain.invoke({'dish':'라면'})   "
   ]
  },
  {
   "cell_type": "code",
   "execution_count": 5,
   "id": "1320009a",
   "metadata": {},
   "outputs": [
    {
     "name": "stdout",
     "output_type": "stream",
     "text": [
      "마라탕은 중국 사천 지방의 매운 국물 요리로, 다양한 재료를 넣어 즐길 수 있는 요리입니다. 아래는 마라탕의 기본 레시피입니다.\n",
      "\n",
      "### 재료\n",
      "- **육수 재료:**\n",
      "  - 물 1.5리터\n",
      "  - 닭뼈 또는 소고기 뼈 300g (선택 사항)\n",
      "  - 생강 1조각\n",
      "  - 파 1대\n",
      "  - 마늘 3쪽\n",
      "\n",
      "- **양념:**\n",
      "  - 고추기름 3큰술\n",
      "  - 사천 후추 1큰술\n",
      "  - 두반장 1큰술\n",
      "  - 간장 1큰술\n",
      "  - 소금 적당량\n",
      "\n",
      "- **주재료:**\n",
      "  - 원하는 채소 (버섯, 청경채, 브로콜리 등)\n",
      "  - 면 (중국식 면 또는 우동면)\n",
      "  - 두부 (부드러운 두부 또는 튀긴 두부)\n",
      "  - 고기 (소고기, 닭고기, 양고기 등)\n",
      "  - 해산물 (새우, 오징어 등)\n",
      "\n",
      "### 조리 방법\n",
      "1. **육수 만들기:**\n",
      "   - 큰 냄비에 물을 붓고, 닭뼈 또는 소고기 뼈, 생강, 파, 마늘을 넣고 끓입니다.\n",
      "   - 끓기 시작하면 중불로 줄이고 30분 정도 끓여 육수를 우려냅니다.\n",
      "   - 육수가 우러나면 건더기를 제거하고 육수만 남깁니다.\n",
      "\n",
      "2. **양념 준비:**\n",
      "   - 다른 팬에 고추기름을 데우고, 사천 후추와 두반장을 넣고 볶아 향을 내줍니다.\n",
      "   - 볶은 양념을 육수에 넣고 간장과 소금을 추가하여 간을 맞춥니다.\n",
      "\n",
      "3. **재료 준비:**\n",
      "   - 원하는 채소와 고기를 적당한 크기로 썰어 준비합니다.\n",
      "   - 면은 포장지에 적힌 대로 삶아 준비합니다.\n",
      "\n",
      "4. **마라탕 조리:**\n",
      "   - 육수가 끓으면 준비한 고기와 해산물을 먼저 넣고 익힙니다.\n",
      "   - 고기가 익으면 채소를 넣고 살짝 익힙니다.\n",
      "   - 마지막으로 삶은 면을 넣고 잘 섞어줍니다.\n",
      "\n",
      "5. **서빙:**\n",
      "   - 그릇에 담고, 원한다면 추가로 고추기름이나 사천 후추를 뿌려서 매운 맛을 더할 수 있습니다.\n",
      "   - 뜨거운 상태로 즐기세요!\n",
      "\n",
      "마라탕은 개인의 취향에 따라 재료를 조절할 수 있으니, 다양한 재료를 시도해 보세요!"
     ]
    }
   ],
   "source": [
    "for chunk in chain.stream({'dish' : '마라탕'}):\n",
    "    print(chunk, end=\"\")\n",
    "output = chain.batch([{'dish':'라면'}, {'dish' : '떡볶이'}])"
   ]
  },
  {
   "cell_type": "code",
   "execution_count": null,
   "id": "cd283715",
   "metadata": {},
   "outputs": [],
   "source": [
    "from dotenv import load_dotenv\n",
    "load_dotenv()\n",
    "import os\n",
    "os.environ['LANGCHAIN_ENDPOINT']\n",
    "\n",
    "cot_prompt = ChatPromptTemplate.from_messages(\n",
    "    [\n",
    "        (\"system\", \"사용자의 질문에 단계적으로 답변하세요\"),\n",
    "        (\"human\" , \"{question}\")\n",
    "    ]\n",
    ")"
   ]
  },
  {
   "cell_type": "code",
   "execution_count": 8,
   "id": "9f41046b",
   "metadata": {},
   "outputs": [],
   "source": [
    "cot_chain = cot_prompt | model | StrOutputParser()\n",
    "\n",
    "summarize_prompt = ChatPromptTemplate.from_messages(\n",
    "    [\n",
    "        (\"system\", \"단계적으로 생각한 답변에서 결론만 추출할 것\"),\n",
    "        (\"human\" , \"{text}\")\n",
    "    ]\n",
    ")\n",
    "\n",
    "summarize_chain = summarize_prompt | model | StrOutputParser()\n",
    "cot_summarize_chain = cot_chain | summarize_chain\n",
    "output = cot_summarize_chain.invoke({'question' : \"10 + 5 * 3\"})"
   ]
  },
  {
   "cell_type": "code",
   "execution_count": null,
   "id": "ea2778fd",
   "metadata": {},
   "outputs": [
    {
     "data": {
      "text/plain": [
       "'결론: \\\\(10 + 5 * 3 = 25\\\\)입니다.'"
      ]
     },
     "execution_count": 9,
     "metadata": {},
     "output_type": "execute_result"
    }
   ],
   "source": [
    "output\n",
    "#cot는 llm에게 여러 과정을 통해서 답을 받은 후 파서로 결론만 출력하는 기법"
   ]
  }
 ],
 "metadata": {
  "kernelspec": {
   "display_name": "openai",
   "language": "python",
   "name": "python3"
  },
  "language_info": {
   "codemirror_mode": {
    "name": "ipython",
    "version": 3
   },
   "file_extension": ".py",
   "mimetype": "text/x-python",
   "name": "python",
   "nbconvert_exporter": "python",
   "pygments_lexer": "ipython3",
   "version": "3.11.13"
  }
 },
 "nbformat": 4,
 "nbformat_minor": 5
}
