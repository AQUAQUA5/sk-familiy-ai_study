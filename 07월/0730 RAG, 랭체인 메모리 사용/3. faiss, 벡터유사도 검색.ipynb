{
 "cells": [
  {
   "cell_type": "code",
   "execution_count": 1,
   "id": "2c7d678b",
   "metadata": {},
   "outputs": [],
   "source": [
    "import faiss\n",
    "from langchain_openai import OpenAIEmbeddings\n",
    "from langchain.docstore import InMemoryDocstore\n",
    "from langchain.vectorstores import FAISS"
   ]
  },
  {
   "cell_type": "code",
   "execution_count": 3,
   "id": "727db336",
   "metadata": {},
   "outputs": [],
   "source": [
    "import os\n",
    "from dotenv import load_dotenv\n",
    "from langchain_openai import ChatOpenAI\n",
    "\n",
    "load_dotenv(dotenv_path=\"../../.env\")\n",
    "api_key = os.getenv(\"API_KEY\")"
   ]
  },
  {
   "cell_type": "code",
   "execution_count": 4,
   "id": "0cab9027",
   "metadata": {},
   "outputs": [
    {
     "name": "stderr",
     "output_type": "stream",
     "text": [
      "`embedding_function` is expected to be an Embeddings object, support for passing in a function will soon be removed.\n",
      "/tmp/ipykernel_23175/310630537.py:11: LangChainDeprecationWarning: Please see the migration guide at: https://python.langchain.com/docs/versions/migrating_memory/\n",
      "  memory = VectorStoreRetrieverMemory(retriever=retriever)\n"
     ]
    },
    {
     "name": "stdout",
     "output_type": "stream",
     "text": [
      "human: 안녕하세요, 오늘 면접에 참석해 주셔서 감사합니다. 자기소개 부탁드립니다.\n",
      "ai: 안녕하세요. 저는 컴퓨터 과학을 전공한 신입 개발자입니다. 대학에서는 주로 자바와 파이썬을 사용했으며, 최근에는 웹 개발 프로젝트에 참여하여 실제 사용자를 위한 서비스를 개발하는 경험을 했습니다.\n",
      "---\n",
      "human: 프로젝트에서 어떤 역할을 맡았나요?\n",
      "ai: 제가 맡은 역할은 백엔드 개발자였습니다. 사용자 데이터 처리와 서버 로직 개발을 담당했으며, RESTful API를 구현하여 프런트엔드와의 통신을 담당했습니다. 또한, 데이터베이스 설계에도 참여했습니다.\n"
     ]
    }
   ],
   "source": [
    "embeddings_model = OpenAIEmbeddings(api_key=api_key)\n",
    "embedding_size = 1536\n",
    "index = faiss.IndexFlatL2(embedding_size)\n",
    "vectorstore = FAISS(embeddings_model.embed_query, index, InMemoryDocstore({}), {})\n",
    "from langchain.memory import VectorStoreRetrieverMemory\n",
    "# 리트리버 설정: k=1로 가장 관련성 높은 1개 문서를 반환하도록 지정\n",
    "retriever = vectorstore.as_retriever(search_kwargs={\"k\": 1})\n",
    "\n",
    "\n",
    "# VectorStoreRetrieverMemory 객체 생성\n",
    "memory = VectorStoreRetrieverMemory(retriever=retriever)\n",
    "# 임의의 대화 4턴 저장\n",
    "memory.save_context(\n",
    "    inputs={\"human\": \"안녕하세요, 오늘 면접에 참석해 주셔서 감사합니다. 자기소개 부탁드립니다.\"},\n",
    "    outputs={\"ai\": \"안녕하세요. 저는 컴퓨터 과학을 전공한 신입 개발자입니다. 대학에서는 주로 자바와 파이썬을 사용했으며, 최근에는 웹 개발 프로젝트에 참여하여 실제 사용자를 위한 서비스를 개발하는 경험을 했습니다.\"},\n",
    ")\n",
    "memory.save_context(\n",
    "    inputs={\"human\": \"프로젝트에서 어떤 역할을 맡았나요?\"},\n",
    "    outputs={\"ai\": \"제가 맡은 역할은 백엔드 개발자였습니다. 사용자 데이터 처리와 서버 로직 개발을 담당했으며, RESTful API를 구현하여 프런트엔드와의 통신을 담당했습니다. 또한, 데이터베이스 설계에도 참여했습니다.\"},\n",
    ")\n",
    "memory.save_context(\n",
    "    inputs={\"human\": \"팀 프로젝트에서 어려움을 겪었던 경험이 있다면...\"},\n",
    "    outputs={\"ai\": \"프로젝트 초기에 의사소통 문제로 몇 가지 어려움이 있었지만, 정기적인 팀 회의와 명확한 역할 분담을 통해 이를 극복하고 성공적으로 프로젝트를 완료했습니다.\"},\n",
    ")\n",
    "memory.save_context(\n",
    "    inputs={\"human\": \"개발자로서 자신의 강점은 무엇이라고 생각하나요?\"},\n",
    "    outputs={\"ai\": \"제 강점은 빠른 학습 능력과 문제 해결 능력입니다. 새로운 기술을 배우고 적용하는 데 주저함이 없으며, 복잡한 문제에 직면했을 때 논리적으로 접근하여 해결책을 찾는 것을 즐깁니다.\"},\n",
    ")\n",
    "\n",
    "# 쿼리 구문을 통해 가장 관련성 높은 대화 1개 턴 검색\n",
    "print(memory.load_memory_variables({\"human\": \"면접자 전공은 무엇 인가요?\"})[\"history\"])\n",
    "print(\"---\")\n",
    "print(memory.load_memory_variables({\"human\": \"면접자가 프로젝트에서 맡은 역할은 무엇인가요?\"})[\"history\"])\n"
   ]
  },
  {
   "cell_type": "code",
   "execution_count": null,
   "id": "b598a4fe",
   "metadata": {},
   "outputs": [],
   "source": []
  }
 ],
 "metadata": {
  "kernelspec": {
   "display_name": "openai",
   "language": "python",
   "name": "python3"
  },
  "language_info": {
   "codemirror_mode": {
    "name": "ipython",
    "version": 3
   },
   "file_extension": ".py",
   "mimetype": "text/x-python",
   "name": "python",
   "nbconvert_exporter": "python",
   "pygments_lexer": "ipython3",
   "version": "3.11.13"
  }
 },
 "nbformat": 4,
 "nbformat_minor": 5
}
