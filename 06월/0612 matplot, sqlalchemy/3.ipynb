{
 "cells": [
  {
   "cell_type": "code",
   "execution_count": 6,
   "id": "58dc901c",
   "metadata": {},
   "outputs": [],
   "source": [
    "import os\n",
    "import pandas as pd\n",
    "import zipfile"
   ]
  },
  {
   "cell_type": "code",
   "execution_count": null,
   "id": "026d4fc9",
   "metadata": {},
   "outputs": [],
   "source": [
    "with zipfile.ZipFile(\"./소상공인시장진흥공단_상가(상권)정보_20240331(수정).zip\") as f:\n",
    "    f.extractall(\"./commerical_data/\")"
   ]
  },
  {
   "cell_type": "code",
   "execution_count": 7,
   "id": "aa678145",
   "metadata": {},
   "outputs": [
    {
     "ename": "KeyboardInterrupt",
     "evalue": "",
     "output_type": "error",
     "traceback": [
      "\u001b[31m---------------------------------------------------------------------------\u001b[39m",
      "\u001b[31mKeyboardInterrupt\u001b[39m                         Traceback (most recent call last)",
      "\u001b[36mCell\u001b[39m\u001b[36m \u001b[39m\u001b[32mIn[7]\u001b[39m\u001b[32m, line 5\u001b[39m\n\u001b[32m      3\u001b[39m \u001b[38;5;28;01mfor\u001b[39;00m file \u001b[38;5;129;01min\u001b[39;00m os.listdir(path):\n\u001b[32m      4\u001b[39m     \u001b[38;5;28;01mif\u001b[39;00m file[-\u001b[32m3\u001b[39m:] == \u001b[33m\"\u001b[39m\u001b[33mcsv\u001b[39m\u001b[33m\"\u001b[39m:\n\u001b[32m----> \u001b[39m\u001b[32m5\u001b[39m         total.append(\u001b[43mpd\u001b[49m\u001b[43m.\u001b[49m\u001b[43mread_csv\u001b[49m\u001b[43m(\u001b[49m\u001b[43mpath\u001b[49m\u001b[43m \u001b[49m\u001b[43m+\u001b[49m\u001b[43m \u001b[49m\u001b[43mfile\u001b[49m\u001b[43m \u001b[49m\u001b[43m,\u001b[49m\u001b[43m \u001b[49m\u001b[43mlow_memory\u001b[49m\u001b[43m=\u001b[49m\u001b[38;5;28;43;01mFalse\u001b[39;49;00m\u001b[43m)\u001b[49m)\n",
      "\u001b[36mFile \u001b[39m\u001b[32m~/miniconda3/envs/pandas/lib/python3.12/site-packages/pandas/io/parsers/readers.py:1026\u001b[39m, in \u001b[36mread_csv\u001b[39m\u001b[34m(filepath_or_buffer, sep, delimiter, header, names, index_col, usecols, dtype, engine, converters, true_values, false_values, skipinitialspace, skiprows, skipfooter, nrows, na_values, keep_default_na, na_filter, verbose, skip_blank_lines, parse_dates, infer_datetime_format, keep_date_col, date_parser, date_format, dayfirst, cache_dates, iterator, chunksize, compression, thousands, decimal, lineterminator, quotechar, quoting, doublequote, escapechar, comment, encoding, encoding_errors, dialect, on_bad_lines, delim_whitespace, low_memory, memory_map, float_precision, storage_options, dtype_backend)\u001b[39m\n\u001b[32m   1013\u001b[39m kwds_defaults = _refine_defaults_read(\n\u001b[32m   1014\u001b[39m     dialect,\n\u001b[32m   1015\u001b[39m     delimiter,\n\u001b[32m   (...)\u001b[39m\u001b[32m   1022\u001b[39m     dtype_backend=dtype_backend,\n\u001b[32m   1023\u001b[39m )\n\u001b[32m   1024\u001b[39m kwds.update(kwds_defaults)\n\u001b[32m-> \u001b[39m\u001b[32m1026\u001b[39m \u001b[38;5;28;01mreturn\u001b[39;00m \u001b[43m_read\u001b[49m\u001b[43m(\u001b[49m\u001b[43mfilepath_or_buffer\u001b[49m\u001b[43m,\u001b[49m\u001b[43m \u001b[49m\u001b[43mkwds\u001b[49m\u001b[43m)\u001b[49m\n",
      "\u001b[36mFile \u001b[39m\u001b[32m~/miniconda3/envs/pandas/lib/python3.12/site-packages/pandas/io/parsers/readers.py:626\u001b[39m, in \u001b[36m_read\u001b[39m\u001b[34m(filepath_or_buffer, kwds)\u001b[39m\n\u001b[32m    623\u001b[39m     \u001b[38;5;28;01mreturn\u001b[39;00m parser\n\u001b[32m    625\u001b[39m \u001b[38;5;28;01mwith\u001b[39;00m parser:\n\u001b[32m--> \u001b[39m\u001b[32m626\u001b[39m     \u001b[38;5;28;01mreturn\u001b[39;00m \u001b[43mparser\u001b[49m\u001b[43m.\u001b[49m\u001b[43mread\u001b[49m\u001b[43m(\u001b[49m\u001b[43mnrows\u001b[49m\u001b[43m)\u001b[49m\n",
      "\u001b[36mFile \u001b[39m\u001b[32m~/miniconda3/envs/pandas/lib/python3.12/site-packages/pandas/io/parsers/readers.py:1923\u001b[39m, in \u001b[36mTextFileReader.read\u001b[39m\u001b[34m(self, nrows)\u001b[39m\n\u001b[32m   1916\u001b[39m nrows = validate_integer(\u001b[33m\"\u001b[39m\u001b[33mnrows\u001b[39m\u001b[33m\"\u001b[39m, nrows)\n\u001b[32m   1917\u001b[39m \u001b[38;5;28;01mtry\u001b[39;00m:\n\u001b[32m   1918\u001b[39m     \u001b[38;5;66;03m# error: \"ParserBase\" has no attribute \"read\"\u001b[39;00m\n\u001b[32m   1919\u001b[39m     (\n\u001b[32m   1920\u001b[39m         index,\n\u001b[32m   1921\u001b[39m         columns,\n\u001b[32m   1922\u001b[39m         col_dict,\n\u001b[32m-> \u001b[39m\u001b[32m1923\u001b[39m     ) = \u001b[38;5;28;43mself\u001b[39;49m\u001b[43m.\u001b[49m\u001b[43m_engine\u001b[49m\u001b[43m.\u001b[49m\u001b[43mread\u001b[49m\u001b[43m(\u001b[49m\u001b[43m  \u001b[49m\u001b[38;5;66;43;03m# type: ignore[attr-defined]\u001b[39;49;00m\n\u001b[32m   1924\u001b[39m \u001b[43m        \u001b[49m\u001b[43mnrows\u001b[49m\n\u001b[32m   1925\u001b[39m \u001b[43m    \u001b[49m\u001b[43m)\u001b[49m\n\u001b[32m   1926\u001b[39m \u001b[38;5;28;01mexcept\u001b[39;00m \u001b[38;5;167;01mException\u001b[39;00m:\n\u001b[32m   1927\u001b[39m     \u001b[38;5;28mself\u001b[39m.close()\n",
      "\u001b[36mFile \u001b[39m\u001b[32m~/miniconda3/envs/pandas/lib/python3.12/site-packages/pandas/io/parsers/c_parser_wrapper.py:239\u001b[39m, in \u001b[36mCParserWrapper.read\u001b[39m\u001b[34m(self, nrows)\u001b[39m\n\u001b[32m    236\u001b[39m         data = _concatenate_chunks(chunks)\n\u001b[32m    238\u001b[39m     \u001b[38;5;28;01melse\u001b[39;00m:\n\u001b[32m--> \u001b[39m\u001b[32m239\u001b[39m         data = \u001b[38;5;28;43mself\u001b[39;49m\u001b[43m.\u001b[49m\u001b[43m_reader\u001b[49m\u001b[43m.\u001b[49m\u001b[43mread\u001b[49m\u001b[43m(\u001b[49m\u001b[43mnrows\u001b[49m\u001b[43m)\u001b[49m\n\u001b[32m    240\u001b[39m \u001b[38;5;28;01mexcept\u001b[39;00m \u001b[38;5;167;01mStopIteration\u001b[39;00m:\n\u001b[32m    241\u001b[39m     \u001b[38;5;28;01mif\u001b[39;00m \u001b[38;5;28mself\u001b[39m._first_chunk:\n",
      "\u001b[36mFile \u001b[39m\u001b[32mparsers.pyx:820\u001b[39m, in \u001b[36mpandas._libs.parsers.TextReader.read\u001b[39m\u001b[34m()\u001b[39m\n",
      "\u001b[36mFile \u001b[39m\u001b[32mparsers.pyx:921\u001b[39m, in \u001b[36mpandas._libs.parsers.TextReader._read_rows\u001b[39m\u001b[34m()\u001b[39m\n",
      "\u001b[36mFile \u001b[39m\u001b[32mparsers.pyx:1083\u001b[39m, in \u001b[36mpandas._libs.parsers.TextReader._convert_column_data\u001b[39m\u001b[34m()\u001b[39m\n",
      "\u001b[36mFile \u001b[39m\u001b[32mparsers.pyx:1456\u001b[39m, in \u001b[36mpandas._libs.parsers._maybe_upcast\u001b[39m\u001b[34m()\u001b[39m\n",
      "\u001b[36mFile \u001b[39m\u001b[32m~/miniconda3/envs/pandas/lib/python3.12/site-packages/numpy/_core/multiarray.py:1156\u001b[39m, in \u001b[36mputmask\u001b[39m\u001b[34m(a, mask, values)\u001b[39m\n\u001b[32m   1108\u001b[39m \u001b[38;5;250m    \u001b[39m\u001b[33;03m\"\"\"\u001b[39;00m\n\u001b[32m   1109\u001b[39m \u001b[33;03m    copyto(dst, src, casting='same_kind', where=True)\u001b[39;00m\n\u001b[32m   1110\u001b[39m \n\u001b[32m   (...)\u001b[39m\u001b[32m   1151\u001b[39m \n\u001b[32m   1152\u001b[39m \u001b[33;03m    \"\"\"\u001b[39;00m\n\u001b[32m   1153\u001b[39m     \u001b[38;5;28;01mreturn\u001b[39;00m (dst, src, where)\n\u001b[32m-> \u001b[39m\u001b[32m1156\u001b[39m \u001b[38;5;129m@array_function_from_c_func_and_dispatcher\u001b[39m(_multiarray_umath.putmask)\n\u001b[32m   1157\u001b[39m \u001b[38;5;28;01mdef\u001b[39;00m\u001b[38;5;250m \u001b[39m\u001b[34mputmask\u001b[39m(a, /, mask, values):\n\u001b[32m   1158\u001b[39m \u001b[38;5;250m    \u001b[39m\u001b[33;03m\"\"\"\u001b[39;00m\n\u001b[32m   1159\u001b[39m \u001b[33;03m    putmask(a, mask, values)\u001b[39;00m\n\u001b[32m   1160\u001b[39m \n\u001b[32m   (...)\u001b[39m\u001b[32m   1197\u001b[39m \n\u001b[32m   1198\u001b[39m \u001b[33;03m    \"\"\"\u001b[39;00m\n\u001b[32m   1199\u001b[39m     \u001b[38;5;28;01mreturn\u001b[39;00m (a, mask, values)\n",
      "\u001b[31mKeyboardInterrupt\u001b[39m: "
     ]
    }
   ],
   "source": [
    "path =\"./commerical_data/\"\n",
    "total = []\n",
    "for file in os.listdir(path):\n",
    "    if file[-3:] == \"csv\":\n",
    "        total.append(pd.read_csv(path + file , low_memory=False))"
   ]
  },
  {
   "cell_type": "code",
   "execution_count": 5,
   "id": "1ed2abea",
   "metadata": {},
   "outputs": [
    {
     "ename": "NameError",
     "evalue": "name 'pd' is not defined",
     "output_type": "error",
     "traceback": [
      "\u001b[31m---------------------------------------------------------------------------\u001b[39m",
      "\u001b[31mNameError\u001b[39m                                 Traceback (most recent call last)",
      "\u001b[36mCell\u001b[39m\u001b[36m \u001b[39m\u001b[32mIn[5]\u001b[39m\u001b[32m, line 1\u001b[39m\n\u001b[32m----> \u001b[39m\u001b[32m1\u001b[39m df1 = \u001b[43mpd\u001b[49m.concat(total)\n",
      "\u001b[31mNameError\u001b[39m: name 'pd' is not defined"
     ]
    }
   ],
   "source": [
    "df1 = pd.concat(total)"
   ]
  },
  {
   "cell_type": "code",
   "execution_count": null,
   "id": "86787688",
   "metadata": {},
   "outputs": [],
   "source": [
    "df1.shape"
   ]
  },
  {
   "cell_type": "code",
   "execution_count": null,
   "id": "3cf1ccf5",
   "metadata": {},
   "outputs": [],
   "source": [
    "df1[(df1.상호명.str.find(\"다복\") > -1)  & (df1.상호명.str.find(\"순대\") > -1)]"
   ]
  },
  {
   "cell_type": "code",
   "execution_count": null,
   "id": "3810508a",
   "metadata": {},
   "outputs": [],
   "source": [
    "df1.columns"
   ]
  },
  {
   "cell_type": "code",
   "execution_count": null,
   "id": "4b08f8c5",
   "metadata": {},
   "outputs": [],
   "source": [
    "#상권업종대분류코드 #상권업종중분류코드 표준산업분류코드\n",
    "df1[(df1.상호명.str.find(\"치킨\") > -1)][[\"상권업종대분류코드\", \"상권업종중분류코드\", \"표준산업분류코드\"]]\n",
    "#I2\tI210\tI56193"
   ]
  },
  {
   "cell_type": "code",
   "execution_count": null,
   "id": "f5fe0ae8",
   "metadata": {},
   "outputs": [],
   "source": [
    "#상권업종대분류코드     #상권업종중분류코드 표준산업분류코드\n",
    "#I2                 I212\t            I56221\n",
    "df1[(df1.상호명.str.find(\"커피\") > -1)][[\"상권업종대분류코드\", \"상권업종중분류코드\", \"표준산업분류코드\"]]"
   ]
  },
  {
   "cell_type": "code",
   "execution_count": null,
   "id": "4160c271",
   "metadata": {},
   "outputs": [],
   "source": [
    "df1[ (df1['상권업종대분류코드'] == 'I2' ) & ( df1['상권업종중분류코드'] == 'I210' ) & ( df1['표준산업분류코드'] == 'I56193' )]['상호명']"
   ]
  },
  {
   "cell_type": "code",
   "execution_count": null,
   "id": "652a7a70",
   "metadata": {},
   "outputs": [],
   "source": [
    "df1[ (df1['표준산업분류코드'] == 'I56193') ].groupby('시도명')[[\"시도명\", \"상호명\"]].count()"
   ]
  },
  {
   "cell_type": "code",
   "execution_count": null,
   "id": "f1389283",
   "metadata": {},
   "outputs": [],
   "source": [
    "df1[df1['표준산업분류코드'] == 'I56193'].sort_values('표준산업분류코드')[['상호명', '시도명']]"
   ]
  },
  {
   "cell_type": "code",
   "execution_count": null,
   "id": "e9379f1e",
   "metadata": {},
   "outputs": [],
   "source": [
    "df1[(df1['시도명'] == '서울특별시') & (df1['표준산업분류코드'] == 'I56193')].groupby('시군구명')['상호명'].count()"
   ]
  },
  {
   "cell_type": "code",
   "execution_count": null,
   "id": "c49cdee1",
   "metadata": {},
   "outputs": [],
   "source": [
    "df1[(df1['시도명'] == '서울특별시') & (df1['표준산업분류코드'] == 'I56221')].groupby('시군구명')['상호명'].count()"
   ]
  },
  {
   "cell_type": "code",
   "execution_count": 3,
   "id": "0845aff9",
   "metadata": {},
   "outputs": [
    {
     "ename": "NameError",
     "evalue": "name 'df1' is not defined",
     "output_type": "error",
     "traceback": [
      "\u001b[31m---------------------------------------------------------------------------\u001b[39m",
      "\u001b[31mNameError\u001b[39m                                 Traceback (most recent call last)",
      "\u001b[36mCell\u001b[39m\u001b[36m \u001b[39m\u001b[32mIn[3]\u001b[39m\u001b[32m, line 1\u001b[39m\n\u001b[32m----> \u001b[39m\u001b[32m1\u001b[39m 치킨 = \u001b[43mdf1\u001b[49m[(df1.상권업종소분류명 == \u001b[33m'\u001b[39m\u001b[33m치킨\u001b[39m\u001b[33m'\u001b[39m) & (df1.시도명 == \u001b[33m'\u001b[39m\u001b[33m서울특별시\u001b[39m\u001b[33m'\u001b[39m)].copy()\n",
      "\u001b[31mNameError\u001b[39m: name 'df1' is not defined"
     ]
    }
   ],
   "source": [
    "치킨 = df1[(df1.상권업종소분류명 == '치킨') & (df1.시도명 == '서울특별시')].copy()"
   ]
  },
  {
   "cell_type": "code",
   "execution_count": 4,
   "id": "197ded68",
   "metadata": {},
   "outputs": [
    {
     "ename": "NameError",
     "evalue": "name 'df1' is not defined",
     "output_type": "error",
     "traceback": [
      "\u001b[31m---------------------------------------------------------------------------\u001b[39m",
      "\u001b[31mNameError\u001b[39m                                 Traceback (most recent call last)",
      "\u001b[36mCell\u001b[39m\u001b[36m \u001b[39m\u001b[32mIn[4]\u001b[39m\u001b[32m, line 1\u001b[39m\n\u001b[32m----> \u001b[39m\u001b[32m1\u001b[39m 카페 = \u001b[43mdf1\u001b[49m[(df1.상권업종소분류명 == \u001b[33m'\u001b[39m\u001b[33m카페\u001b[39m\u001b[33m'\u001b[39m) & (df1.시도명 == \u001b[33m'\u001b[39m\u001b[33m서울특별시\u001b[39m\u001b[33m'\u001b[39m)].copy()\n",
      "\u001b[31mNameError\u001b[39m: name 'df1' is not defined"
     ]
    }
   ],
   "source": [
    "카페 = df1[(df1.상권업종소분류명 == '카페') & (df1.시도명 == '서울특별시')].copy()"
   ]
  },
  {
   "cell_type": "code",
   "execution_count": 2,
   "id": "ae5a6461",
   "metadata": {},
   "outputs": [
    {
     "ename": "NameError",
     "evalue": "name '치킨' is not defined",
     "output_type": "error",
     "traceback": [
      "\u001b[31m---------------------------------------------------------------------------\u001b[39m",
      "\u001b[31mNameError\u001b[39m                                 Traceback (most recent call last)",
      "\u001b[36mCell\u001b[39m\u001b[36m \u001b[39m\u001b[32mIn[2]\u001b[39m\u001b[32m, line 1\u001b[39m\n\u001b[32m----> \u001b[39m\u001b[32m1\u001b[39m 치킨_집계 = \u001b[43m치킨\u001b[49m.groupby([\u001b[33m'\u001b[39m\u001b[33m시군구명\u001b[39m\u001b[33m'\u001b[39m])[[\u001b[33m'\u001b[39m\u001b[33m상호명\u001b[39m\u001b[33m'\u001b[39m]].count()\n\u001b[32m      2\u001b[39m 카페_집계 = 카페.groupby([\u001b[33m'\u001b[39m\u001b[33m시군구명\u001b[39m\u001b[33m'\u001b[39m])[[\u001b[33m'\u001b[39m\u001b[33m상호명\u001b[39m\u001b[33m'\u001b[39m]].count()\n",
      "\u001b[31mNameError\u001b[39m: name '치킨' is not defined"
     ]
    }
   ],
   "source": [
    "치킨_집계 = 치킨.groupby(['시군구명'])[['상호명']].count()\n",
    "카페_집계 = 카페.groupby(['시군구명'])[['상호명']].count()"
   ]
  },
  {
   "cell_type": "code",
   "execution_count": null,
   "id": "1631fb77",
   "metadata": {},
   "outputs": [],
   "source": [
    "집계 = pd.merge(치킨_집계, 카페_집계, left_index=True,right_index=True, how='inner')\n",
    "집계.columns  = ['치킨 매장 수', '커피 매장 수']"
   ]
  },
  {
   "cell_type": "code",
   "execution_count": 1,
   "id": "6fe238c0",
   "metadata": {},
   "outputs": [
    {
     "ename": "NameError",
     "evalue": "name '집계' is not defined",
     "output_type": "error",
     "traceback": [
      "\u001b[31m---------------------------------------------------------------------------\u001b[39m",
      "\u001b[31mNameError\u001b[39m                                 Traceback (most recent call last)",
      "\u001b[36mCell\u001b[39m\u001b[36m \u001b[39m\u001b[32mIn[1]\u001b[39m\u001b[32m, line 1\u001b[39m\n\u001b[32m----> \u001b[39m\u001b[32m1\u001b[39m \u001b[43m집계\u001b[49m\n",
      "\u001b[31mNameError\u001b[39m: name '집계' is not defined"
     ]
    }
   ],
   "source": [
    "집계"
   ]
  },
  {
   "cell_type": "code",
   "execution_count": null,
   "id": "3f45e95c",
   "metadata": {},
   "outputs": [],
   "source": [
    "path =\"./commerical_data2/\"\n",
    "with zipfile.ZipFile(\"./소상공인시장진흥공단_상가(상권)정보_20240630.zip\") as f:\n",
    "    f.extractall(path)"
   ]
  },
  {
   "cell_type": "code",
   "execution_count": null,
   "id": "2f36db0f",
   "metadata": {},
   "outputs": [],
   "source": [
    "total = []\n",
    "for file in os.listdir(path):\n",
    "    if (file[-3:] == \"csv\") and ('서울' in file):\n",
    "        total.append(pd.read_csv(path + file , low_memory=False))"
   ]
  },
  {
   "cell_type": "code",
   "execution_count": null,
   "id": "9d0f2e74",
   "metadata": {},
   "outputs": [],
   "source": [
    "df2 = pd.concat(total)\n",
    "df2.shape"
   ]
  },
  {
   "cell_type": "code",
   "execution_count": null,
   "id": "9b1b7fcb",
   "metadata": {},
   "outputs": [],
   "source": [
    "df1_seoul = df1[(df1['시도명'] == '서울특별시')].copy()"
   ]
  },
  {
   "cell_type": "code",
   "execution_count": null,
   "id": "cae0bc6c",
   "metadata": {},
   "outputs": [],
   "source": [
    "df1_seoul.shape"
   ]
  },
  {
   "cell_type": "code",
   "execution_count": null,
   "id": "f88b05f3",
   "metadata": {},
   "outputs": [],
   "source": [
    "치킨1 = df1_seoul[(df1_seoul.상권업종소분류명 == '치킨')]\n",
    "치킨2 = df2[(df2.상권업종소분류명 == '치킨')]"
   ]
  },
  {
   "cell_type": "code",
   "execution_count": null,
   "id": "7b530e6e",
   "metadata": {},
   "outputs": [],
   "source": [
    "치킨1_집계 = 치킨1.groupby(['시군구명'])[['상호명']].count()\n",
    "치킨2_집계 = 치킨2.groupby(['시군구명'])[['상호명']].count()"
   ]
  },
  {
   "cell_type": "code",
   "execution_count": null,
   "id": "46cdb17a",
   "metadata": {},
   "outputs": [],
   "source": [
    "서울시_군구별_치킨_매장수비교 = pd.merge(치킨1_집계, 치킨2_집계, left_index=True,right_index=True, how='inner')\n",
    "서울시_군구별_치킨_매장수비교.columns = ['치킨1_매장수', '치킨2_매장수']"
   ]
  },
  {
   "cell_type": "code",
   "execution_count": null,
   "id": "7117e80f",
   "metadata": {},
   "outputs": [],
   "source": [
    "서울시_군구별_치킨_매장수비교[df.]"
   ]
  },
  {
   "cell_type": "code",
   "execution_count": null,
   "id": "71a368b9",
   "metadata": {},
   "outputs": [],
   "source": [
    "서울시_군구별_치킨_매장수비교[서울시_군구별_치킨_매장수비교['치킨1_매장수'] < 서울시_군구별_치킨_매장수비교['치킨2_매장수']]"
   ]
  },
  {
   "cell_type": "code",
   "execution_count": null,
   "id": "5c9e204d",
   "metadata": {},
   "outputs": [],
   "source": [
    "df2"
   ]
  },
  {
   "cell_type": "code",
   "execution_count": 8,
   "id": "d49c451d",
   "metadata": {},
   "outputs": [
    {
     "ename": "NameError",
     "evalue": "name 'df2' is not defined",
     "output_type": "error",
     "traceback": [
      "\u001b[31m---------------------------------------------------------------------------\u001b[39m",
      "\u001b[31mNameError\u001b[39m                                 Traceback (most recent call last)",
      "\u001b[36mCell\u001b[39m\u001b[36m \u001b[39m\u001b[32mIn[8]\u001b[39m\u001b[32m, line 3\u001b[39m\n\u001b[32m      1\u001b[39m \u001b[38;5;66;03m#df1_seould과 df2의 비교를 통해 마라탕 유행 여부 판다.\u001b[39;00m\n\u001b[32m      2\u001b[39m \u001b[38;5;66;03m#두 df 중 음식점에서 업종별 폐업률을 비교하여 마라탕의 폐업률이 어떤지 확인\u001b[39;00m\n\u001b[32m----> \u001b[39m\u001b[32m3\u001b[39m \u001b[43mdf2\u001b[49m[\u001b[33m'\u001b[39m\u001b[33m상권업종대분류명\u001b[39m\u001b[33m'\u001b[39m].unique()\n",
      "\u001b[31mNameError\u001b[39m: name 'df2' is not defined"
     ]
    }
   ],
   "source": [
    "#df1_seould과 df2의 비교를 통해 마라탕 유행 여부 판다.\n",
    "#두 df 중 음식점에서 업종별 폐업률을 비교하여 마라탕의 폐업률이 어떤지 확인\n",
    "df2['상권업종대분류명'].unique()"
   ]
  },
  {
   "cell_type": "code",
   "execution_count": null,
   "id": "1ae22a62",
   "metadata": {},
   "outputs": [],
   "source": [
    "df2_food = df2[df2['상권업종대분류명'] == '음식']\n",
    "df1_food= df1_seoul[df1_seoul['상권업종대분류명'] == '음식']"
   ]
  },
  {
   "cell_type": "code",
   "execution_count": null,
   "id": "90eb7ddc",
   "metadata": {},
   "outputs": [],
   "source": [
    "df1_food = df1_food.groupby(\"상권업종소분류명\")[\"상권업종소분류명\"].count()\n",
    "df2_food = df2_food.groupby(\"상권업종소분류명\")[\"상권업종소분류명\"].count()"
   ]
  },
  {
   "cell_type": "code",
   "execution_count": null,
   "id": "e2ac4add",
   "metadata": {},
   "outputs": [],
   "source": [
    "폐업률 = pd.merge(df1_food, df2_food, left_index=True,right_index=True, how='inner')\n",
    "폐업률.columns = ['1 매장수', '2 매장수']\n",
    "폐업률"
   ]
  },
  {
   "cell_type": "code",
   "execution_count": null,
   "id": "fb747bbb",
   "metadata": {},
   "outputs": [],
   "source": [
    "폐업률['폐업률'] = (1 - (폐업률['2 매장수'] /폐업률['1 매장수'])) * 100 \n",
    "폐업률률"
   ]
  },
  {
   "cell_type": "code",
   "execution_count": null,
   "id": "110e07ce",
   "metadata": {},
   "outputs": [],
   "source": [
    "폐업률['폐업률'].describe()"
   ]
  },
  {
   "cell_type": "code",
   "execution_count": null,
   "id": "fe431388",
   "metadata": {},
   "outputs": [],
   "source": [
    "import matplotlib.pyplot as plt\n",
    "import seaborn as sns\n"
   ]
  },
  {
   "cell_type": "code",
   "execution_count": null,
   "id": "87355e62",
   "metadata": {},
   "outputs": [],
   "source": [
    "plt.figure(figsize=(8, 5))\n",
    "sns.kdeplot(폐업률['폐업률'], color='blue', fill=False)\n",
    "plt.title('폐업률 분포 곡선')\n",
    "plt.xlabel('폐업률')\n",
    "plt.ylabel('밀도')\n",
    "plt.show()"
   ]
  },
  {
   "cell_type": "markdown",
   "id": "fad0a730",
   "metadata": {},
   "source": []
  },
  {
   "cell_type": "code",
   "execution_count": null,
   "id": "b707a927",
   "metadata": {},
   "outputs": [],
   "source": [
    "df1_mara = df1_seoul[df1_seoul.상호명.str.find('마라') > -1 ]\n",
    "df2_mara = df2[df2.상호명.str.find('마라') > -1 ]"
   ]
  },
  {
   "cell_type": "code",
   "execution_count": null,
   "id": "d61f2d60",
   "metadata": {},
   "outputs": [],
   "source": [
    "mara_v = 100-(df2_mara.shape[0]/df1_mara.shape[0])*100"
   ]
  },
  {
   "cell_type": "code",
   "execution_count": null,
   "id": "a9e570c1",
   "metadata": {},
   "outputs": [],
   "source": [
    "plt.figure(figsize=(8, 5))\n",
    "sns.kdeplot(폐업률['폐업률'], color='blue', fill=False)\n",
    "plt.axvline(x=mara_v, color='red', linestyle='--')  # x=mara_v 위치에 빨간 점선 추가\n",
    "plt.title('폐업률 분포 곡선')\n",
    "plt.xlabel('폐업률')\n",
    "plt.ylabel('밀도')\n",
    "plt.show()"
   ]
  },
  {
   "cell_type": "code",
   "execution_count": null,
   "id": "365c0dba",
   "metadata": {},
   "outputs": [],
   "source": [
    "# 한글 폰트 설정 (예: 맑은 고딕)\n",
    "plt.rcParams['font.family'] = 'nanum'\n",
    "plt.rcParams['axes.unicode_minus'] = False\n",
    "\n",
    "plt.figure(figsize=(8, 5))\n",
    "sns.kdeplot(폐업률['폐업률'], color='blue', fill=False)\n",
    "plt.axvline(x=mara_v, color='red', linestyle='--')\n",
    "\n",
    "# y축 최대값의 90% 위치에 텍스트 추가\n",
    "plt.text(mara_v, plt.ylim()[1]*0.9, '마라탕 폐업률', color='red', rotation=90, verticalalignment='center')\n",
    "\n",
    "plt.title('폐업률 분포 곡선')\n",
    "plt.xlabel('폐업률')\n",
    "plt.ylabel('밀도')\n",
    "plt.show()\n"
   ]
  },
  {
   "cell_type": "code",
   "execution_count": null,
   "id": "a6a81441",
   "metadata": {},
   "outputs": [],
   "source": []
  },
  {
   "cell_type": "code",
   "execution_count": null,
   "id": "9df9749b",
   "metadata": {},
   "outputs": [],
   "source": []
  }
 ],
 "metadata": {
  "kernelspec": {
   "display_name": "pandas",
   "language": "python",
   "name": "python3"
  },
  "language_info": {
   "codemirror_mode": {
    "name": "ipython",
    "version": 3
   },
   "file_extension": ".py",
   "mimetype": "text/x-python",
   "name": "python",
   "nbconvert_exporter": "python",
   "pygments_lexer": "ipython3",
   "version": "3.12.11"
  }
 },
 "nbformat": 4,
 "nbformat_minor": 5
}
