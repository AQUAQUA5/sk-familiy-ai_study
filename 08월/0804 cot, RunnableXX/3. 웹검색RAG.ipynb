{
 "cells": [
  {
   "cell_type": "code",
   "execution_count": null,
   "id": "6d1675b4",
   "metadata": {},
   "outputs": [],
   "source": [
    "# https://www.tavily.com/  가입 후 api 키 받기 \n",
    "# .env 파일 안에 추가 \n",
    "# TAVILY_API_KEY=키\n",
    "# pip install tavily-python==0.5.0\n",
    "#키 값 나오는지 확인 \n",
    "import os\n",
    "from dotenv import load_dotenv\n",
    "load_dotenv()\n",
    "os.environ['TAVILY_API_KEY']"
   ]
  },
  {
   "cell_type": "code",
   "execution_count": null,
   "id": "33cf6139",
   "metadata": {},
   "outputs": [],
   "source": [
    "from langchain_community.retrievers import TavilySearchAPIRetriever\n",
    "retriever = TavilySearchAPIRetriever(k=3)\n",
    "prompt = ChatPromptTemplate.from_template(\n",
    "    '''다음 문맥만을 고려해 질문에 대답할 것!\n",
    "    문맥: \"\"\"{context}\"\"\"\n",
    "    질문: {question}\n",
    "    '''\n",
    ")\n",
    "\n",
    "from langchain_core.runnables import RunnablePassthrough\n",
    "chain = (\n",
    "    {'context' : retriever, 'question' : RunnablePassthrough()}\n",
    "    | prompt\n",
    "    | model\n",
    "    | StrOutputParser()\n",
    ")\n",
    "chain.invoke(\"서울의 오늘 날씨는?\")"
   ]
  }
 ],
 "metadata": {
  "language_info": {
   "name": "python"
  }
 },
 "nbformat": 4,
 "nbformat_minor": 5
}
