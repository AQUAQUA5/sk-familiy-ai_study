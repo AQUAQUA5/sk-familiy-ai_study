{
 "cells": [
  {
   "cell_type": "code",
   "execution_count": 2,
   "id": "0815a801",
   "metadata": {},
   "outputs": [],
   "source": [
    "from langchain_community.retrievers import WikipediaRetriever\n",
    "\n",
    "retriever = WikipediaRetriever(\n",
    "    lang=\"ko\",\n",
    "    doc_content_chars_max=100,\n",
    "    top_k_results=3\n",
    ")"
   ]
  },
  {
   "cell_type": "code",
   "execution_count": 10,
   "id": "5b894725",
   "metadata": {},
   "outputs": [],
   "source": [
    "result = retriever.invoke(\"러우 전쟁\")"
   ]
  },
  {
   "cell_type": "code",
   "execution_count": 14,
   "id": "3493637c",
   "metadata": {},
   "outputs": [
    {
     "data": {
      "text/plain": [
       "[Document(metadata={'title': '러시아-우크라이나 전쟁', 'summary': '러시아-우크라이나 전쟁(러시아어: российско-украинская война, 우크라이나어: російсько-українська війна) 또는 러우 전쟁은 2014년 2월부터 시작된 분쟁으로, 우크라이나와 침략국 러시아 및 우크라이나 내 친러 분리주의 세력 간의 분쟁을 뜻한다. 여러 국가가 우크라이나에게 다양한 수준의 지원을 제공하였으며, 벨라루스는 2022년 러시아의 우크라이나 전면 침공 당시 벨라루스 영토 내 러시아군의 통행을 제공하였다. 2014년 우크라이나 혁명 직후 러시아가 적대 행위를 시작하였으며 이는 대부분 크림반도와 돈바스의 정치적 지위 문제에 집중되었는데 돈바스의 경우에는 국제적으로 우크라이나의 영토로 인정받고 있다. 우크라이나 영토 침공 행위는 러시아의 크림반도 합병으로 절정에 달했고, 그로부터 얼마 지나지 않아 러시아의 지원을 받는 분리주의 세력과 우크라이나 사이 돈바스 전쟁이 발발하였다. 그 외에도 분쟁 시작 후 8년 동안 해상 충돌, 사이버전, 다양한 정치적 긴장 고조 등 여러 사건이 발생하였다. 2021년 내내 우크라이나 영토 주변 러시아군의 증강으로 양국 간 긴장이 고조되었으며, 2022년 2월 24일 러시아의 우크라이나 침공으로 분쟁이 전면전으로 격화되었다.\\n2014년 2월 2일, 당시 우크라이나의 대통령이었던 빅토르 야누코비치가 유럽 연합-우크라이나 공동체 협정 협상을 거부하고 유라시아 경제 연합과 더욱 긴밀히 연계하기로 결정하자 발생한 유로마이단 시위와 이후 일어난 혁명으로 쫓겨났다. 야누코비치가 러시아로 망명한 직후 동부와 남부 우크라이나에서는 친러 봉기가 발발하였다. 같은 시기 아무런 표식이 없는 러시아군이 우크라이나의 크림반도로 이동하여 주요 전략지대와 인프라를 장악하고, 2014년 2월 27일에는 크림의 의회 건물도 점령하였다. 3월 16일에는 러시아로 합병하자는 크림 주민투표를 열고 주민투표가 열린지 이틀 후에는 크림 공화국이 러시아 영토로 다시 합병되었으나 국제적으로는 인정받지 못하고 있다. 2014년 4월에는 동우크라이나의 친러 분리주의 세력이 러시아로부터 정치인, 특수부대, 부인할 수 없는 군사 고문관 등의 지원을 받아 우크라이나 도네츠크주에 도네츠크 인민 공화국을, 루한스크주에는 루한스크 인민 공화국을 세워 분리독립을 선언했다.\\n2014년 8월에는 표식이 없는 러시아 군용 차량 행렬이 러시아-우크라이나 국경을 넘어 우크라이나 도네츠크주로 진입하기 시작했다. 러시아는 개입 시도를 감추러 시도했지만 러시아군이 돈바스에서 일어난 전쟁에서 여러 중요 전투에 참여하였고 필요한 때에는 우크라이나 내로 진입할 수 있는 전략예비대도 유지하였다. 2015년 2월 러시아와 우크라이나의 양국간 분쟁을 종식하기 위한 양자협정인 민스크 II 협정이 체결되었지만 여러 분쟁으로 인해 협정의 조항이 완전하게 지켜지진 못했다. 돈바스 전쟁은 결국 우크라이나와 러시아의 지원을 받는 2개 괴뢰국 사이 정적인 분쟁으로 고착화되었으며 여러 차례의 해결 시도에도 휴전이 유지되지 않고 있다. 2019년에는 우크라이나 정부가 우크라이나 영토의 7%를 러시아가 일시적으로 점령중이라고 발표했다. 2022년 9월 기준으로는 우크라이나 영토의 최대 18%를 러시아가 점령했다.\\n2021년 초부터 2022년 1월까지 러시아는 벨라루스와 함께 대규모 군사 주둔을 통해 우크라이나를 포위하였다. 북대서양 조약 기구(NATO)는 러시아가 우크라이나 침공을 준비하고 있다고 비난했지만 러시아 정부는 이를 부인했다. 긴장이 고조되면서 러시아의 블라디미르 푸틴 대통령은 나토의 확장을 비판하며 우크라이나의 나토 가입을 절대 금지할 것을 요구하였다. 또한 러시아 민족통일주의을 주장하고 러시아의 존재할 권리를 부정하며 우크라이나는 소련 시기 블라디미르 레닌이 수립했다는 틀린 주장을 펼쳤다. 2022년 2월 21일에는 러시아가 공식적으로 도네츠크 인민공화국과 루간스크 인민공화국을 국가승인했으며 공개적으로 우크라이나 내 두 공화국이 수립된 지역에 러시아군을 파견하기 시작했다. 3일 후인 2월 24일 푸틴 대통령은 텔레비전 방송을 통해 \"특별 군사 작전의 실행에 대하여\"를 발표하며 러시아가 우크라이나 본토를 전면 침공하기 시작했다고 발표하였다. 러시아군이 우크라이나 동부와 남부로, 또한 벨라루스를 향해 우크라이나 북부를 침공하면서 러시아가 대대적으로 우크라이나를 침공하자 국제사회의 수많은 국가와 단체가 러시아가 우크라이나의 주권과 국제법을 심각하게 위반했다며 극렬하게 비판하였다. 2014년 이후 여러 국가에서 어떤 형태로든 부과되었던 대러시아 제재는 2022년 2월 이후 더욱 강화되었다. 추가로 러시아의 침공을 적극적으로 지원하던 벨라루스도 국제적인 보이콧과 경제 제재에 들어가게 되었다.', 'source': 'https://ko.wikipedia.org/wiki/%EB%9F%AC%EC%8B%9C%EC%95%84-%EC%9A%B0%ED%81%AC%EB%9D%BC%EC%9D%B4%EB%82%98_%EC%A0%84%EC%9F%81'}, page_content='러시아-우크라이나 전쟁(러시아어: российско-украинская война, 우크라이나어: російсько-українська війна) 또는 러우 전쟁은 2014년 2'),\n",
       " Document(metadata={'title': '베트남 전쟁', 'summary': '베트남 전쟁(베트남어: Chiến tranh Việt Nam찌엔짠비엣남, 영어: Vietnam War, 프랑스어: Guerre du Vietnam) 또는 월남 전쟁(한자:越南戰爭), 월남전(한자:越南戰)은 제1차 인도차이나 전쟁(1946년 12월 19일 ~ 1954년 8월 1일) 이후 분단되었던 베트남에서 1955년 11월 1일부터 1975년 4월 30일까지 사이에 벌어진 전쟁이다. 이 전쟁은 분단된 남북 베트남 사이의 내전임과 동시에 냉전 시대에 자본주의 진영과 공산주의 진영이 대립한 대리 전쟁 양상을 띠었고, 1964년 8월부터 1973년 3월까지는 미국 등 외국 군대가 개입하고 캄보디아·라오스로 전선이 확대되어 국제전으로 치러졌다.\\n베트남 전쟁은 남베트남 민족해방전선(베트남어: Mặt Trận Dân Tộc Giải Phóng Miền Nam)의 게릴라전과 북베트남 정규군인 베트남 인민군의 정규전이 동시에 전개되었다. 1964년 8월에 미국이 통킹만 사건을 구실로 개입함으로써 국제전으로 확대되었고, 1965년에 미국, 대한민국, 오스트레일리아 등이 지상군을 파병하였다. 이후 8년간의 전쟁 끝에 1973년 1월에 프랑스 파리에서 평화 협정이 체결되어 그 해 3월 말까지 미군이 전부 철수하였고, 1975년 4월 30일에 사이공 함락으로 북베트남이 무력 통일을 이뤄 1976년에 베트남 사회주의 공화국이 선포되었다.\\n이 전쟁은 제공권을 장악한 압도적 군사력의 미군이 폭격과 공습, 포격, 수색 섬멸 작전 과정에서 네이팜탄과 같은 대량살상무기를 투하하고 고엽제 등 화학 무기를 사용하여 무차별적으로 민간인을 희생시킴으로써, 미국 내에서 반전 운동을 촉발시켰을 뿐만 아니라 미국의 국제적 군사개입에 대한 정당성에 큰 타격을 입혔다. 이 전쟁에서 300만명에서 500만명의 사람들이 죽었다.', 'source': 'https://ko.wikipedia.org/wiki/%EB%B2%A0%ED%8A%B8%EB%82%A8_%EC%A0%84%EC%9F%81'}, page_content='베트남 전쟁(베트남어: Chiến tranh Việt Nam찌엔짠비엣남, 영어: Vietnam War, 프랑스어: Guerre du Vietnam) 또는 월남 전쟁(한자:越南戰爭)'),\n",
       " Document(metadata={'title': '김일성', 'summary': '김일성(金日成, 1912년 4월 15일~1994년 7월 8일)은 조선민주주의인민공화국의 초대 최고지도자이다.\\n일제강점기 때 중국공산당의 당원으로서 동북항일연군에서 복무했고, 이후 일제를 피해 소련군 제88독립보병여단에서 복무하였다. 해방 후 조선공산당 북조선분국, 북조선공산당, 북조선로동당의 소비에트 연방 대리자로 활동하였고, 남북조선의 로동당 통합 이후 조선로동당의 위원장이 되었다. 1948년 8월 최고인민회의를 구성하고, 9월 9일 내각 총리가 되었다.\\n1950년 6월 25일 04시 소련의 이오시프 스탈린과 중화인민공화국의 중국의 마오쩌둥을 설득해 승인을 받아 6.25 전쟁을 일으켰고 조선인민군 최고사령관으로 인민군을 지휘했으나 한국군과 유엔군이 반격하자 중국인민지원군 지원군과 소련군의 도움으로 1953년 7월 27일 22시 휴전을 하고 휴전선 북쪽을 지배하게 되었다. 전후 천리마 운동으로 조선민주주의인민공화국의 경제를 복구하려는 시도를 하였다. 1952년에는 허가이를 숙청, 1953년 박헌영, 리승엽 등의 국내파 공산주의자들을 숙청했고, 1956년에는 8월 종파 사건으로 연안파 최창익, 윤공흠을, 1958년에는 중국파 김원봉 계열을, 1961년에는 김두봉 일파를 숙청 했으며, 1972년에는 사회주의헌법을 제정, 국가주석직을 신설하여 공식적인 국가원수가 되어 1인 독재 체제를 확립하였다.\\n1960년 이후 김일성은 주체이념을 기조로 한 주체사상을 발표했다. 1972년 국방위원회 위원장에 추대되었고, 1993년 국방위원회 위원장직은 아들 김정일이 세습했다. 1994년 7월 8일 사망, 1998년에 개정된 조선민주주의인민공화국 헌법에서 정한 공화국의 영원한 주석으로 추대되었다. 조선민주주의인민공화국에서 김일성을 호칭할 때에는 그 이름 앞에 최상의 수식어, 최상의 경어를 붙여야 하기에 조선민주주의인민공화국에서는 김일성을 \"위대한 수령\", \"어버이 수령님\", \"아버지 장군님\"으로 호칭한다.\\n본명은 김성주(金成柱 또는 金聖柱)이고, 만주 빨치산 시절인 1938년 무렵부터 이후 소련군 시절 8.15 해방때까지 한자로 金日成이란 이름을 쓴 것이 확인된다. 그러나 그는 자신의 이름을 김일성 아닌 중국 발음 진지첸(진르청, Jīn Rìchéng)으로 읽었으며, 러시아어로 된 소련군 문서에도 이름이 진지첸(Цзин Жи Чен, 또는 Цзин Жичэн, Jing Zhichen)으로 적혀 있다. 해방 직후 평양에 온 초기에는 김영환(金英煥)이란 가명을 쓰다가, 10월 14일 대중 앞에 김일성(金日成) 장군의 이름으로 처음 나섰다.\\n한편 한국 전쟁, 전쟁 범죄, 한국 전쟁 장본인 의혹과 반정부 인사 및 정적 숙청, 인권 탄압 등에 대해서 논란을 받고 있다. 개신교 가계 출신인 그는 원래 개신교 신자였으나 공산주의자가 되면서 종교를 탄압하고 자신을 신격화하는 반종교 인신론자로 바뀌었다.', 'source': 'https://ko.wikipedia.org/wiki/%EA%B9%80%EC%9D%BC%EC%84%B1'}, page_content='김일성(金日成, 1912년 4월 15일~1994년 7월 8일)은 조선민주주의인민공화국의 초대 최고지도자이다.\\n일제강점기 때 중국공산당의 당원으로서 동북항일연군에서 복무했고, 이후 ')]"
      ]
     },
     "execution_count": 14,
     "metadata": {},
     "output_type": "execute_result"
    }
   ],
   "source": [
    "result"
   ]
  },
  {
   "cell_type": "code",
   "execution_count": 4,
   "id": "e3d669c1",
   "metadata": {},
   "outputs": [],
   "source": [
    "from langchain_core.prompts import ChatPromptTemplate\n",
    "from langchain_core.runnables import RunnablePassthrough\n",
    "from langchain_core.output_parsers import StrOutputParser"
   ]
  },
  {
   "cell_type": "code",
   "execution_count": 5,
   "id": "14b4e611",
   "metadata": {},
   "outputs": [],
   "source": [
    "template = \"\"\"\n",
    "당신은 주어진 맥락(context)만을 사용하여 질문에 답변하는 AI 어시스턴트입니다.\n",
    "절대 당신의 사전 지식을 사용하지 마세요. 맥락에서 답을 찾을 수 없다면, \"모르겠습니다\"라고 답변하세요.\n",
    "# 맥락 (Context):\n",
    "{context}\n",
    "# 질문 (Question):\n",
    "{question}\n",
    "\"\"\"\n",
    "prompt = ChatPromptTemplate.from_template(template) "
   ]
  },
  {
   "cell_type": "code",
   "execution_count": 6,
   "id": "7f4cb1be",
   "metadata": {},
   "outputs": [],
   "source": [
    "import os\n",
    "from dotenv import load_dotenv\n",
    "from langchain_openai import ChatOpenAI\n",
    "\n",
    "load_dotenv(dotenv_path=\"../../.env\")\n",
    "api_key = os.getenv(\"API_KEY\")"
   ]
  },
  {
   "cell_type": "code",
   "execution_count": 8,
   "id": "27a752f2",
   "metadata": {},
   "outputs": [],
   "source": [
    "from langchain_openai import ChatOpenAI\n",
    "model = ChatOpenAI(model='gpt-4.1-2025-04-14', temperature=0, api_key=api_key)\n",
    "output_parser = StrOutputParser()"
   ]
  },
  {
   "cell_type": "code",
   "execution_count": 11,
   "id": "eca48136",
   "metadata": {},
   "outputs": [],
   "source": [
    "tmp = []\n",
    "for words in result:\n",
    "    tmp.append(words.metadata['summary'])\n",
    "texts = \"\\n\".join(tmp)\n",
    "texts = \"\\n\".join([words.metadata['summary'] for words in result])\n",
    "def format_docs(docs):\n",
    "    return \"\\n\".join([words.metadata['summary'] for words in docs])\n",
    "\n",
    "chain  = {\"context\"  : retriever | format_docs, \"question\": RunnablePassthrough()} | \\\n",
    " prompt | model | output_parser"
   ]
  },
  {
   "cell_type": "code",
   "execution_count": null,
   "id": "a88ef7fd",
   "metadata": {},
   "outputs": [],
   "source": [
    "response = chain.invoke(\"러우 전쟁과 베트남 전쟁의 비슷한 부분 알려줘\")"
   ]
  },
  {
   "cell_type": "code",
   "execution_count": 13,
   "id": "8c3c8c34",
   "metadata": {},
   "outputs": [
    {
     "data": {
      "text/plain": [
       "'모르겠습니다.'"
      ]
     },
     "execution_count": 13,
     "metadata": {},
     "output_type": "execute_result"
    }
   ],
   "source": [
    "response"
   ]
  },
  {
   "cell_type": "code",
   "execution_count": null,
   "id": "92e8c7af",
   "metadata": {},
   "outputs": [],
   "source": [
    "pip install unstructured"
   ]
  },
  {
   "cell_type": "code",
   "execution_count": null,
   "id": "f558d073",
   "metadata": {},
   "outputs": [],
   "source": [
    "pip install \"unstructured[docx]\""
   ]
  },
  {
   "cell_type": "code",
   "execution_count": 19,
   "id": "cd5230e1",
   "metadata": {},
   "outputs": [
    {
     "name": "stderr",
     "output_type": "stream",
     "text": [
      "/tmp/ipykernel_24831/2781564609.py:6: LangChainDeprecationWarning: The class `UnstructuredFileLoader` was deprecated in LangChain 0.2.8 and will be removed in 1.0. An updated version of the class exists in the :class:`~langchain-unstructured package and should be used instead. To use it run `pip install -U :class:`~langchain-unstructured` and import as `from :class:`~langchain_unstructured import UnstructuredLoader``.\n",
      "  loader = UnstructuredFileLoader(\"./data/ADsP - 정리.docx\")\n"
     ]
    }
   ],
   "source": [
    "from langchain_community.document_loaders import UnstructuredFileLoader\n",
    "from langchain_community.vectorstores import Chroma\n",
    "from langchain_openai import OpenAIEmbeddings\n",
    "from langchain.text_splitter import RecursiveCharacterTextSplitter\n",
    "\n",
    "loader = UnstructuredFileLoader(\"./data/ADsP - 정리.docx\")\n",
    "documents = loader.load()"
   ]
  },
  {
   "cell_type": "code",
   "execution_count": 20,
   "id": "c9d0d1e2",
   "metadata": {},
   "outputs": [],
   "source": [
    "text_splitter = RecursiveCharacterTextSplitter(chunk_size=1000, chunk_overlap=200) \n",
    "docs = text_splitter.split_documents(documents)"
   ]
  },
  {
   "cell_type": "code",
   "execution_count": null,
   "id": "da9ba5bf",
   "metadata": {},
   "outputs": [],
   "source": [
    "pip install chromadb"
   ]
  },
  {
   "cell_type": "code",
   "execution_count": 29,
   "id": "20b00394",
   "metadata": {},
   "outputs": [
    {
     "name": "stderr",
     "output_type": "stream",
     "text": [
      "/tmp/ipykernel_24831/3151611992.py:4: LangChainDeprecationWarning: The class `Chroma` was deprecated in LangChain 0.2.9 and will be removed in 1.0. An updated version of the class exists in the :class:`~langchain-chroma package and should be used instead. To use it run `pip install -U :class:`~langchain-chroma` and import as `from :class:`~langchain_chroma import Chroma``.\n",
      "  db = Chroma(\n"
     ]
    },
    {
     "data": {
      "text/plain": [
       "[Document(metadata={'source': './data/ADsP - 정리.docx'}, page_content=\"8) 포아송분포: 단위 시간 내 발생할 수 있는 사건의 발생 횟수에 대한 분포\\n\\n예) 하루동안 발생하는 출생자 수, 한 시간 동안 사무실에 걸려온 전화의 수\\n\\n☞ '베포항항하'\\n\\n(2) 연속 확률분포\\n\\n값을 셀 수 없는 분포, 확률밀도함수로 표현\\n\\n1) 정규분포: 우리가 일상생활에서 흔히 보는 확률변수의 평균 분포를 근사한 분포 (Z검정 활용)\\n\\n예) 사람들의 키 혹은 IQ 점수의 분포, 시험 성적의 분포\\n\\n2) t분포: 정규분포와 유사하지만, 꼬리 부분이 더 두껍고 긴 분포\\n\\n(T검정 활용) 표본이 30개 보다 작은 집단에 대한 평균 검정\\n\\n3) 카이제곱분포: 독립적인 정규분포를 따르는 변수들의 제곱합으로 구성된 분포\\n\\n(카이제곱 검정 활용) 두 집단의 동질성 검정, 단일 집단의 모분산 검정\\n\\n4) F분포: 두 개의 서로 다른 카이제곱 분포의 비율\\n\\n(F검정 활용) 두 집단의 분산 동질성 검정\\n\\n확률분포의 기댓값\\n\\n확률변수 X의 f(x) 확률분포의 대한 기댓값(E(X))\\n\\n1) 이산 확률변수: E(X)= ∑ xf(x)\\n\\n\\n\\n2) 연속적 확률변수: E(X)=∫ xf(x)\\n\\n중심극한정리\\n\\n임의의 모집단으로부터 추출된 표본분포는 표본크기가 충분히 크면(30개 이상) 정규분포\\n\\n모집단의 분포에 상관없이 표본분포가 정규분포를 이룸\\n\\n표본평균의 표본분포\\n\\n(1) 표본평균의 표본분포의 평균: \\n\\n(2) 표본평균의 표본분포의 분산: \\n\\n(3) 표본평균의 표준화: \\n\\n(: 모집단의 평균, : 모집단의 표준편차, : 표본평균, : 표본의 크기)\\n\\n점추정\\n\\n모집단이 특정한 값으로 추정하며, 추정량(Estimator)으로 모수를 추정\\n\\n(1) 추정량의 조건\\n\\n1) 불편성(Unbiasedness) : 추정량의 기댓값이 실제 모수와 같음 (편향이 0이 되는 경우)\\n\\n2) 효율성(Efficiency): 여러 추정량 중 분산이 작은 것이 더 효율적인 추정량\\n\\n3) 일치성(Consistency): 표본 크기가 증가할수록 추정량이 모수에 가까워짐\"),\n",
       " Document(metadata={'source': './data/ADsP - 정리.docx'}, page_content='의사 코드: 일반적인 언어로 프로그래밍 언어의 알고리즘을 유사한 형식으로 써 놓은 것\\n\\n모델링: 알고리즘 설명서는 상세히 작성\\n\\n모델 평가 및 검증: 성능이 저조한 모델은 튜닝 작업 수행\\n\\n\\n\\n분석 과제 발굴\\n\\n하향식 접근 방법\\n\\n문제가 주어지고 해답을 찾기 위해 진행\\n\\n문제 탐색 → 문제 정의 → 해결방안 → 타당성 검토\\n\\n(1) 문제 탐색\\n\\n1) 빠짐없이 문제를 도출하고 식별하며, 솔루션 초점 보다는 가치에 초점\\n\\n2) 비즈니스 모델 캔버스 단순화 측면: 업무, 제품, 고객, 규제와 감사, 지원인프라\\n\\n\\xa0  ☞ \"지원인프라 업무 중에 고객이 제품을 규제와 감사 했다.”\\n\\n3) 관점\\n\\n거시적 관점: STEEP (사회, 기술, 경제, 환경, 정치)\\n\\n경쟁자 확대 관점: 대체자, 경쟁자, 신규 진입자\\n\\n시장의 니즈 탐색 관점: 고객, 채널, 영향자\\n\\n(2) 문제 정의\\n\\n비즈니스 문제를 데이터 문제로 변환하여 정의\\n\\n(3) 해결 방안\\n\\n기존 시스템 활용, 시스템 고도화, 인적 자원 확보, 아웃소싱 등\\n\\n(4) 타당성 검토\\n\\n경제적 타당성: 비용대비 편익 분석관점 접근\\n\\n데이터 타당성: 데이터 존재 여부, 분석역량이 필요\\n\\n기술적 타당성: 역량 확보 방안 사전에 수립\\n\\n상향식 접근 방법\\n\\n문제 정의 자체가 어려울 때, 사물 그대로 인식하는 What 관점\\n\\n주로 비지도 학습 활용\\n\\n혼합 접근 방법\\n\\n1) 발산 단계: 상향식 접근 방법, 가능한 방안들을 도출\\n\\n2) 수렴 단계: 하향식 접근 방법, 도출된 방안들을 분석\\n\\n\\n\\n디자인 싱킹\\n\\n사용자에 공감으로 시작해서 아이디어 발산/수렴 과정을 통한 피드백으로 발전하는 과정\\n\\n공감하기 → 문제정의 → 아이디어 도출 → 프로토타입 → 테스트\\n\\n지도학습, 비지도학습\\n\\n(1) 지도 학습: 정답이 있는 데이터를 학습 (하향식 접근법)\\n\\n분류분석, 회귀분석, 의사결정트리, KNN, SVM\\n\\n(2) 비지도 학습: 정답이 없는 데이터를 학습 (상향식 접근법)\\n\\n군집분석, 차원축소, 연관규칙분석\\n\\n분석 프로젝트 관리 방안'),\n",
       " Document(metadata={'source': './data/ADsP - 정리.docx'}, page_content=\"(3) ROC 커브\\n - 가로축을 1-특이도(FPR), 세로축을 민감도(TPR)로 두어 시각화한 그래프\\n - 그래프 면적(AUC)은 0.5~1사이이며, 1에 가까울수록 모델의 성능이 좋다고 평가\\n(4) 이익도표(Lift chart)\\n - 임의로 나눈 각 등급별로 반응검출율, 반응률, 리프트 등의 정보를 산출하여 나타내는 도표\\n - 향상도 곡선: 이익도표를 시각화한 곡선\\n\\n\\n\\n군집분석\\n\\n군집분석\\n- 비지도 학습으로 데이터들 간 거리나 유사성을 기준으로 군집을 나누는 분석\\n\\n거리측도\\n(1) 연속형 변수\\n - 유클리디안 거리: 두 점 사이의 직선 거리\\n - 맨하튼 거리: 각 변수들의 차이의 단순 합\\n - 체비셰프 거리: 변수 거리 차 중 최댓값\\n - 표준화 거리 : 유클리디안 거리를 표준편차로 나눔\\n - 민코우스키 거리: 유클리드, 맨하튼 거리를 일반화한 거리\\n - 마할라노비스 거리: 표준화 거리에서 변수의 상관성 고려\\n\\n(2) 범주형 변수\\n\\n자카드 유사도(합집합과 교집합의 비율)\\n- 코사인 유사도(코사인 각도 활용)\\n☞ '맨체스터 유나이티드' '자코'\\n\\n계층적 군집분석\\n(1) 거리측정 방법\\n 1) 최단 연결법(단일 연결법): 군집간 가장 가까운 데이터\\n 2) 최장 연결법 (완전 연결법): 군집간 가장 먼 데이터\\n 3) 평균 연결법: 군집의 모든 데이터들의 평균\\n 4) 중심 연결법: 두 군집의 중심\\n 5) 와드 연결법: 두 군집의 편차 제곱합이 최소가 되는 위치\\n\\n(2) 덴드로그램\\n - 계층적 군집화를 시각적으로 나타내는 Tree모양의 그래프\\n\\n거리를 15에서 나누면 3개의 클러스터, 25에서 나누면 2개의 클러스터로 나눌 수 있음\\n\\n\\n\\nK평균 군집화(K-means Clustering)\\n\\n비계층적 군집화 방법으로 거리기반\\n\\n(1) 특징\\n\\n안정된 군집은 보장하나 최적의 보장은 어려움\\n\\n한번 군집에 속한 데이터는 중심점이 변경되면 군집이 변할 수 있음\\n\\n초기 중심 값에 따라 결과가 달라짐\\n\\n(2) 과정\"),\n",
       " Document(metadata={'source': './data/ADsP - 정리.docx'}, page_content=\"2) 구성요소: 원칙, 조직, 프로세스\\n\\n☞ ‘원조프’\\n\\n3) 중요 관리대상: 마스터 데이터, 메타데이터, 데이터 사전 등\\n\\n마스터 데이터: 자료 처리에 기준이 되는 자료\\n\\n메타데이터: 다른 데이터를 설명해 주는 데이터\\n\\n데이터 사전: DB에 저장된 정보를 요약\\n\\n(2) 데이터 거버넌스 체계\\n\\n1) 데이터 표준화: 메타데이터 및 사전 구축\\n\\n2) 데이터 관리 체계: 효율성을 위함\\n\\n3) 데이터 저장소 관리: 저장소 구성\\n\\n4) 표준화 활동: 모니터링, 표준 개선 활동\\n\\n빅데이터 거버넌스\\n\\n데이터 거버넌스 체계 + 빅데이터 효율적 관리, 데이터 최적화, 정보보호, 데이터 카테고리 별 관리책임자 지정 등을 포함\\n\\n조직 및 인력방안 수립(DSCoE: 분석조직)\\n\\n집중 구조: 독립적인 전담 조직 구성 (중복 업무 가능성 존재)\\n\\n기능 구조: 해당 부서에서 직접 분석 (DSCoE 없음)\\n\\n분산 구조: 분석 조직 인력을 현업 부서에 배치\\n\\n☞ ‘집기분’\\n\\n\\n\\n3과목 - 데이터분석\\n\\n1. R기초와 데이터 마트\\n\\n데이터 마트\\n\\n데이터 마트(DM)\\n\\n데이터 웨어하우스의 한 분야로 특정 목적을 위해 사용 (소규모 데이터웨어하우스)\\n\\n요약변수와 파생변수\\n\\n(1) 요약변수: 수집된 정보를 종합한 변수로서 재활용성이 높음 (1개월간 수입)\\n\\n(2) 파생변수: 의미를 부여한 변수, 논리적 타당성 필요 (고객구매등급)\\n\\n결측값과 이상값 검색\\n\\nEDA (탐색적 자료 분석)\\n\\n데이터의 의미를 찾기 위해 통계, 시각화를 통해 파악\\n\\nEDA의 4가지 주제\\n\\n1) 저항성의 강조: 자료 변동에 민감하지 않음\\n\\n2) 잔차 계산: 값들이 주경향으로부터 얼마나 벗어나 있는지 확인하는 척도\\n\\n3) 자료변수의 재표현: 원래 변수를 적당한 척도로 변환\\n\\n4) 그래프를 통한 현시성: 시각화를 통하여 효율적으로 파악\\n\\n\\xa0\\xa0☞ '저잔재현'\\n\\n결측값 처리\\n\\n존재하지 않는 데이터, null/NA로 표시\\n\\n(1) 완전분석법: 결측값 가지는 데이터 삭제\")]"
      ]
     },
     "execution_count": 29,
     "metadata": {},
     "output_type": "execute_result"
    }
   ],
   "source": [
    "from langchain_community.vectorstores import Chroma\n",
    "from langchain_openai import ChatOpenAI, OpenAIEmbeddings\n",
    "embeddings = OpenAIEmbeddings(api_key=api_key)\n",
    "db = Chroma(\n",
    "    persist_directory=\"./chroma_db\",\n",
    "    embedding_function=embeddings\n",
    ")\n",
    "db.similarity_search(\"정규분포\")"
   ]
  },
  {
   "cell_type": "code",
   "execution_count": 30,
   "id": "b43a0e40",
   "metadata": {},
   "outputs": [],
   "source": [
    "db = Chroma.from_documents(\n",
    "    documents=docs,\n",
    "    embedding=embeddings,\n",
    "    persist_directory=\"./chroma_db\"\n",
    ")\n",
    "\n",
    "rt = db.similarity_search(\"정규분포는 무엇인가?\")\n",
    "\n",
    "retriever = db.as_retriever()\n",
    "def format_docs(docs):\n",
    "    return \"\\n\".join([words.page_content for words in docs])\n",
    "\n",
    "chain_db  = {\"context\"  : retriever | format_docs, \"question\": RunnablePassthrough()} | \\\n",
    " prompt | model | output_parser\n",
    "\n",
    "result_doc = chain_db.invoke(\"정규분포에 대한 시험문제\")\n",
    "\n",
    "template = \"\"\"\n",
    "당신은 주어진 맥락(context)만을 사용하여 질문에 답변하는 AI 어시스턴트입니다.\n",
    "절대 당신의 사전 지식을 사용하지 마세요. 제공된 맥락에서 아래 제시된 예시처럼 최소 3문제 이상 생성하세요.\n",
    "\n",
    "# 예시\n",
    "1. 다음중 데이터의 특성이 다른 하나는?\n",
    "① 풍량\n",
    "② 강수량\n",
    "③ 기상특보\n",
    "④ 습도\n",
    "\n",
    "# 맥락 (Context):\n",
    "{context}\n",
    "\n",
    "# 질문 (Question):\n",
    "{question}\n",
    "\"\"\"\n",
    "prompt = ChatPromptTemplate.from_template(template)\n",
    "\n",
    "chain_db  = {\"context\"  : retriever | format_docs, \"question\": RunnablePassthrough()} | \\\n",
    " prompt | model | output_parser\n",
    "result_doc = chain_db.invoke(\"정규분포에 대한 시험문제\")\n"
   ]
  },
  {
   "cell_type": "code",
   "execution_count": 31,
   "id": "560f3835",
   "metadata": {},
   "outputs": [
    {
     "data": {
      "text/plain": [
       "'1. 다음 중 정규분포의 예시로 가장 적절한 것은?\\n① 하루 동안 발생하는 출생자 수  \\n② 한 시간 동안 사무실에 걸려온 전화의 수  \\n③ 사람들의 키 분포  \\n④ 두 집단의 분산 동질성 검정  \\n\\n2. 정규분포에 대한 설명으로 옳지 않은 것은?\\n① 일상생활에서 흔히 볼 수 있는 확률변수의 평균 분포를 근사한다.  \\n② 확률밀도함수로 표현되는 연속 확률분포이다.  \\n③ 표본이 30개보다 작은 집단의 평균 검정에 주로 사용된다.  \\n④ Z검정에 활용된다.  \\n\\n3. 다음 중 정규분포와 가장 관련이 깊은 통계적 검정 방법은?\\n① T검정  \\n② Z검정  \\n③ 카이제곱 검정  \\n④ F검정  \\n\\n4. 중심극한정리에 따르면, 표본의 크기가 충분히 크면 표본평균의 분포는 어떤 분포를 따르는가?\\n① 포아송분포  \\n② 정규분포  \\n③ 카이제곱분포  \\n④ F분포  '"
      ]
     },
     "execution_count": 31,
     "metadata": {},
     "output_type": "execute_result"
    }
   ],
   "source": [
    "result_doc"
   ]
  },
  {
   "cell_type": "code",
   "execution_count": null,
   "id": "b201466c",
   "metadata": {},
   "outputs": [],
   "source": []
  }
 ],
 "metadata": {
  "kernelspec": {
   "display_name": "openai",
   "language": "python",
   "name": "python3"
  },
  "language_info": {
   "codemirror_mode": {
    "name": "ipython",
    "version": 3
   },
   "file_extension": ".py",
   "mimetype": "text/x-python",
   "name": "python",
   "nbconvert_exporter": "python",
   "pygments_lexer": "ipython3",
   "version": "3.11.13"
  }
 },
 "nbformat": 4,
 "nbformat_minor": 5
}
