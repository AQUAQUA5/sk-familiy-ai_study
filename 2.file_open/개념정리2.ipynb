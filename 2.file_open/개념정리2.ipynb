{
 "cells": [
  {
   "cell_type": "code",
   "id": "initial_id",
   "metadata": {
    "collapsed": true,
    "ExecuteTime": {
     "end_time": "2025-05-25T02:44:00.730622Z",
     "start_time": "2025-05-25T02:43:56.979945Z"
    }
   },
   "source": [
    "import zipfile\n",
    "import os\n",
    "import shutil\n",
    "with zipfile.ZipFile(\"./이름_생년_성별_10000.zip\", 'r') as f:\n",
    "    f.extractall(\"./data/이름_생년\")"
   ],
   "outputs": [],
   "execution_count": 6
  },
  {
   "metadata": {
    "ExecuteTime": {
     "end_time": "2025-05-25T02:42:48.191968Z",
     "start_time": "2025-05-25T02:42:48.188420Z"
    }
   },
   "cell_type": "code",
   "source": [
    "'''\n",
    "폴더 만들기\n",
    "'''\n",
    "import os\n",
    "os.makedirs('data/female', exist_ok=True)\n",
    "os.makedirs('data/male', exist_ok=True)"
   ],
   "id": "26678901b28ac277",
   "outputs": [],
   "execution_count": 2
  },
  {
   "metadata": {
    "ExecuteTime": {
     "end_time": "2025-05-25T02:43:15.521428Z",
     "start_time": "2025-05-25T02:43:15.516587Z"
    }
   },
   "cell_type": "code",
   "source": [
    "import os\n",
    "os.makedirs('data/female', exist_ok=True)\n",
    "os.makedirs('data/male', exist_ok=True)"
   ],
   "id": "81ee6d8157028a66",
   "outputs": [],
   "execution_count": 3
  },
  {
   "metadata": {
    "ExecuteTime": {
     "end_time": "2025-05-25T02:43:17.784902Z",
     "start_time": "2025-05-25T02:43:17.779848Z"
    }
   },
   "cell_type": "code",
   "source": [
    "'''폴더 삭제'''\n",
    "import shutil\n",
    "shutil.rmtree('./data/female')\n",
    "shutil.rmtree('./data/male')"
   ],
   "id": "45b2ebb3b8253413",
   "outputs": [],
   "execution_count": 4
  },
  {
   "metadata": {
    "ExecuteTime": {
     "end_time": "2025-05-25T02:43:36.215352Z",
     "start_time": "2025-05-25T02:43:34.929149Z"
    }
   },
   "cell_type": "code",
   "source": [
    "#경로객체, 폴더 생성\n",
    "pathlib.Path(f\"./lyrics/{path}\").mkdir(parents=True, exist_ok=True)"
   ],
   "id": "e2303036a42ad74b",
   "outputs": [],
   "execution_count": 5
  },
  {
   "metadata": {},
   "cell_type": "code",
   "outputs": [],
   "execution_count": null,
   "source": [
    "'''\n",
    "구분\tos.mkdir()\t                                os.makedirs()\n",
    "생성 범위\t한 번에 한 개의 폴더만 생성\t                여러 단계의 폴더(중첩된 폴더 구조)도 한 번에 생성 가능\n",
    "상위 폴더 필요\t상위 폴더가 반드시 미리 존재해야 함\t상위 폴더가 없으면 자동으로 중간 폴더까지 모두 생성\n",
    "존재 시 동작\t이미 폴더가 있으면 오류 발생\t            exist_ok=True 옵션 사용 시, 이미 폴더가 있어도 오류 없음\n",
    "사용 예시\tos.mkdir(\"./a\")\t                        os.makedirs(\"./a/b/c\", exist_ok=True)\n",
    "\n",
    "\n",
    "os.mkdir(\"./a/b/c\") → a, b가 없으면 에러\n",
    "os.makedirs(\"./a/b/c\") → a, b가 없어도 자동생성\n",
    "'''"
   ],
   "id": "abd4164d1277c34d"
  }
 ],
 "metadata": {
  "kernelspec": {
   "display_name": "Python [conda env:base] *",
   "language": "python",
   "name": "conda-base-py"
  },
  "language_info": {
   "codemirror_mode": {
    "name": "ipython",
    "version": 2
   },
   "file_extension": ".py",
   "mimetype": "text/x-python",
   "name": "python",
   "nbconvert_exporter": "python",
   "pygments_lexer": "ipython2",
   "version": "2.7.6"
  }
 },
 "nbformat": 4,
 "nbformat_minor": 5
}
