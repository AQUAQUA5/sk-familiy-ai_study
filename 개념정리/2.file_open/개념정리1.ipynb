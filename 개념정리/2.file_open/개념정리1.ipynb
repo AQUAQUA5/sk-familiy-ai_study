{
 "cells": [
  {
   "metadata": {},
   "cell_type": "code",
   "outputs": [],
   "execution_count": null,
   "source": [
    "\"\"\"\n",
    "파일 생성 및 읽기 : 내장함수 open, os.open , pathlib.open 이 있으며 pathlib이 자주사용\n",
    "파일 삭제 : os.remove, pathlib.unlink , shutil.rmtree 이 있음\n",
    "비어있지 않은 폴더 삭제 : shutil 나머진 안됨\n",
    "파일 이동 : shutil.move\t, os.rename / os.replace\t, pathlib.Path().rename\n",
    "            shutil 권장\n",
    "\"\"\"\n",
    "import shutil"
   ],
   "id": "4000fde6c451c7d"
  },
  {
   "metadata": {},
   "cell_type": "code",
   "outputs": [
    {
     "data": {
      "text/plain": [
       "\"\\nr: 읽기 파일 없으면 `FileNotFoundError` 예외가 발생합니다\\nw: 쓰기 파일 있으면 덮어쓰고 없으면 생성\\na: 추가 파일 없으면 생성 있으면 끝에 이어씀\\nb: 바이너리 파일 관리, 다른 모드 뒤에 붙혀 씀 ex) rb, wb, ab\\n+: 업데이트 다른 모드 문자 뒤에 붙여 사용 (예: `'r+'`(읽고 쓰기), `'w+'`(쓰고 읽기), `'a+'`(이어쓰고 읽기)).\\n\\n파일 삭제는\\nfile_path = './test2.txt'\\nos.remove(file_path)\\n\""
      ]
     },
     "execution_count": 31,
     "metadata": {},
     "output_type": "execute_result"
    }
   ],
   "execution_count": 31,
   "source": [
    "path ='./test1.txt'\n",
    "file_object = open(path, mode='w', encoding='utf-8')\n",
    "file_object.close()     #반드시 close() 할것\n",
    "'''\n",
    "r: 읽기 파일 없으면 `FileNotFoundError` 예외가 발생합니다\n",
    "w: 쓰기 파일 있으면 덮어쓰고 없으면 생성\n",
    "a: 추가 파일 없으면 생성 있으면 끝에 이어씀\n",
    "b: 바이너리 파일 관리, 다른 모드 뒤에 붙혀 씀 ex) rb, wb, ab\n",
    "+: 업데이트 다른 모드 문자 뒤에 붙여 사용 (예: `'r+'`(읽고 쓰기), `'w+'`(쓰고 읽기), `'a+'`(이어쓰고 읽기)).\n",
    "\n",
    "파일 삭제는\n",
    "file_path = './test2.txt'\n",
    "os.remove(file_path)\n",
    "'''"
   ],
   "id": "initial_id"
  },
  {
   "metadata": {
    "ExecuteTime": {
     "end_time": "2025-05-24T14:11:03.378738Z",
     "start_time": "2025-05-24T14:11:03.374049Z"
    }
   },
   "cell_type": "code",
   "source": [
    "path = './test2.txt'\n",
    "str = \"테스트\"\n",
    "with open(path, mode='w', encoding='utf-8') as f:\n",
    "    print(f.write(str))\n",
    "    f.write('테스트2')\n",
    "\n",
    "'''\n",
    "테스트테스트2 저장됨\n",
    "f.write는 적은 문자열 숫자 반환\n",
    "open 을 실행하는 시점에만 파일을 (생성) 혹은 (삭제및생성)\n",
    "때문에, write를 2번해도 이어서 쓰게됨\n",
    "줄바꿈은 직접 \\n을 적어야함\n",
    "'''"
   ],
   "id": "aca024a1690ea6ec",
   "outputs": [
    {
     "name": "stdout",
     "output_type": "stream",
     "text": [
      "3\n"
     ]
    },
    {
     "data": {
      "text/plain": [
       "'\\n테스트테스트2 저장됨\\nf.write는 적은 문자열 숫자 반환\\nopen 을 실행하는 시점에만 파일을 (생성) 혹은 (삭제및생성)\\n때문에, write를 2번해도 이어서 쓰게됨\\n줄바꿈은 직접 \\n을 적어야함\\n'"
      ]
     },
     "execution_count": 28,
     "metadata": {},
     "output_type": "execute_result"
    }
   ],
   "execution_count": 28
  },
  {
   "metadata": {
    "ExecuteTime": {
     "end_time": "2025-05-24T14:11:04.314853Z",
     "start_time": "2025-05-24T14:11:04.311488Z"
    }
   },
   "cell_type": "code",
   "source": [
    "import datetime\n",
    "path = './test3.txt'\n",
    "\n",
    "lines_to_write = [\n",
    "    \"첫줄\\n\", # 각 문자열 끝에 \\n 포함\n",
    "    \"둘째줄\\n\",\n",
    "    f\"데이터 생성 시각: {datetime.datetime.now().strftime('%Y-%m-%d %H:%M')}\\n\" # 현재 시간 활용\n",
    "]\n",
    "\n",
    "with open(path, mode='w', encoding='utf-8') as f:\n",
    "    f.writelines(lines_to_write)"
   ],
   "id": "5200e7bf03b87305",
   "outputs": [],
   "execution_count": 29
  },
  {
   "metadata": {
    "ExecuteTime": {
     "end_time": "2025-05-24T14:11:07.519670Z",
     "start_time": "2025-05-24T14:11:07.516701Z"
    }
   },
   "cell_type": "code",
   "source": [
    "#삭제\n",
    "import os\n",
    "del_list = ['./test1.txt', './test2.txt', './test3.txt']\n",
    "for i in del_list:\n",
    "    os.remove(i)"
   ],
   "id": "6c47ed72c0592bbb",
   "outputs": [],
   "execution_count": 30
  },
  {
   "metadata": {
    "ExecuteTime": {
     "end_time": "2025-05-24T14:12:24.682892Z",
     "start_time": "2025-05-24T14:12:24.670416Z"
    }
   },
   "cell_type": "code",
   "source": [
    "path = './test4.txt'\n",
    "f = open(path, mode='w', encoding='utf-8')\n",
    "os.remove(path)\n",
    "\n",
    "# open만 하고 close 안하면 오류"
   ],
   "id": "618c2669dd5ec8b7",
   "outputs": [
    {
     "ename": "PermissionError",
     "evalue": "[WinError 32] 다른 프로세스가 파일을 사용 중이기 때문에 프로세스가 액세스 할 수 없습니다: './test4.txt'",
     "output_type": "error",
     "traceback": [
      "\u001B[1;31m---------------------------------------------------------------------------\u001B[0m",
      "\u001B[1;31mPermissionError\u001B[0m                           Traceback (most recent call last)",
      "Cell \u001B[1;32mIn[34], line 3\u001B[0m\n\u001B[0;32m      1\u001B[0m path \u001B[38;5;241m=\u001B[39m \u001B[38;5;124m'\u001B[39m\u001B[38;5;124m./test4.txt\u001B[39m\u001B[38;5;124m'\u001B[39m\n\u001B[0;32m      2\u001B[0m f \u001B[38;5;241m=\u001B[39m \u001B[38;5;28mopen\u001B[39m(path, mode\u001B[38;5;241m=\u001B[39m\u001B[38;5;124m'\u001B[39m\u001B[38;5;124mw\u001B[39m\u001B[38;5;124m'\u001B[39m, encoding\u001B[38;5;241m=\u001B[39m\u001B[38;5;124m'\u001B[39m\u001B[38;5;124mutf-8\u001B[39m\u001B[38;5;124m'\u001B[39m)\n\u001B[1;32m----> 3\u001B[0m os\u001B[38;5;241m.\u001B[39mremove(path)\n",
      "\u001B[1;31mPermissionError\u001B[0m: [WinError 32] 다른 프로세스가 파일을 사용 중이기 때문에 프로세스가 액세스 할 수 없습니다: './test4.txt'"
     ]
    }
   ],
   "execution_count": 34
  },
  {
   "metadata": {
    "ExecuteTime": {
     "end_time": "2025-05-24T14:14:10.408186Z",
     "start_time": "2025-05-24T14:14:10.396997Z"
    }
   },
   "cell_type": "code",
   "source": [
    "path = './test100.txt'\n",
    "os.remove(path)\n",
    "\n",
    "#파일이 없어도 오류"
   ],
   "id": "105b59a5dcf01dd4",
   "outputs": [
    {
     "ename": "FileNotFoundError",
     "evalue": "[WinError 2] 지정된 파일을 찾을 수 없습니다: './test100.txt'",
     "output_type": "error",
     "traceback": [
      "\u001B[1;31m---------------------------------------------------------------------------\u001B[0m",
      "\u001B[1;31mFileNotFoundError\u001B[0m                         Traceback (most recent call last)",
      "Cell \u001B[1;32mIn[36], line 2\u001B[0m\n\u001B[0;32m      1\u001B[0m path \u001B[38;5;241m=\u001B[39m \u001B[38;5;124m'\u001B[39m\u001B[38;5;124m./test100.txt\u001B[39m\u001B[38;5;124m'\u001B[39m\n\u001B[1;32m----> 2\u001B[0m os\u001B[38;5;241m.\u001B[39mremove(path)\n",
      "\u001B[1;31mFileNotFoundError\u001B[0m: [WinError 2] 지정된 파일을 찾을 수 없습니다: './test100.txt'"
     ]
    }
   ],
   "execution_count": 36
  },
  {
   "metadata": {
    "ExecuteTime": {
     "end_time": "2025-05-24T14:16:37.096252Z",
     "start_time": "2025-05-24T14:16:37.092481Z"
    }
   },
   "cell_type": "code",
   "source": [
    "#오류 처리\n",
    "path = './test4.txt'\n",
    "f = open(path, mode='w', encoding='utf-8')\n",
    "\n",
    "try:\n",
    "    os.remove(path)\n",
    "except FileNotFoundError:\n",
    "    print(\"파일이 존재하지 않습니다.\")\n",
    "except PermissionError:\n",
    "    print(\"권한이 없습니다.\")\n",
    "except Exception as e:\n",
    "    print(f\"예기치 못한 오류 발생: {e}\")"
   ],
   "id": "647f3f963ef88419",
   "outputs": [
    {
     "name": "stdout",
     "output_type": "stream",
     "text": [
      "권한이 없습니다.\n"
     ]
    }
   ],
   "execution_count": 39
  },
  {
   "metadata": {},
   "cell_type": "code",
   "outputs": [],
   "execution_count": null,
   "source": "",
   "id": "5629b31d59157397"
  }
 ],
 "metadata": {
  "kernelspec": {
   "display_name": "Python [conda env:base] *",
   "language": "python",
   "name": "conda-base-py"
  },
  "language_info": {
   "codemirror_mode": {
    "name": "ipython",
    "version": 2
   },
   "file_extension": ".py",
   "mimetype": "text/x-python",
   "name": "python",
   "nbconvert_exporter": "python",
   "pygments_lexer": "ipython2",
   "version": "2.7.6"
  }
 },
 "nbformat": 4,
 "nbformat_minor": 5
}
