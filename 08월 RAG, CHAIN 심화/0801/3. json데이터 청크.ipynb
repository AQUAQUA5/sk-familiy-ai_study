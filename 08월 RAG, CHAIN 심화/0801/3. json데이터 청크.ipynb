{
 "cells": [
  {
   "cell_type": "code",
   "execution_count": null,
   "id": "7dfe4fa5",
   "metadata": {},
   "outputs": [],
   "source": [
    "import requests\n",
    "import json\n",
    "from langchain_text_splitters import RecursiveJsonSplitter\n",
    "\n",
    "\n",
    "# JSON 데이터를 로드 (예시: LangSmith OpenAPI 스펙)\n",
    "json_data = requests.get(\"https://api.smith.langchain.com/openapi.json\").json()\n",
    "\n",
    "\n",
    "# RecursiveJsonSplitter 초기화 (최대 300자 크기의 청크로 분할)\n",
    "splitter = RecursiveJsonSplitter(max_chunk_size=300)\n",
    "\n",
    "\n",
    "# 1. JSON 데이터를 재귀적으로 분할하여 JSON 조각 리스트 생성\n",
    "json_chunks = splitter.split_json(json_data=json_data)\n",
    "# 2. JSON 데이터를 기반으로 Document 형식의 문서 생성\n",
    "docs = splitter.create_documents(texts=[json_data])\n",
    "# 3. JSON 데이터를 문자열로 변환한 후 max_chunk_size에 맞춰 청크 단위로 나눔\n",
    "texts = splitter.split_text(json_data=json_data)\n",
    "\n",
    "\n",
    "# 첫 번째 document 객체의 내용과 첫 번째 문자열 청크 출력\n",
    "print(docs)\n",
    "print(\"===\" * 20)\n",
    "print(texts)"
   ]
  }
 ],
 "metadata": {
  "language_info": {
   "name": "python"
  }
 },
 "nbformat": 4,
 "nbformat_minor": 5
}
