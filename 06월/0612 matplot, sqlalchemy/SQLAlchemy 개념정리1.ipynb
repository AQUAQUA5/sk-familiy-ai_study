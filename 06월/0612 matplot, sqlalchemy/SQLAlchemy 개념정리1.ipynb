{
 "cells": [
  {
   "cell_type": "code",
   "execution_count": null,
   "id": "cb64626c",
   "metadata": {},
   "outputs": [],
   "source": [
    "import sqlalchemy\n",
    "\n",
    "user= 'play'\n",
    "password = '123'\n",
    "host='192.168.0.22'\n",
    "port = 3306\n",
    "database='sk17'\n",
    "engine = sqlalchemy.create_engine(f\"mysql://{user}:{password}@{host}:{port}/{database}\")"
   ]
  },
  {
   "cell_type": "code",
   "execution_count": null,
   "id": "8912c1b2",
   "metadata": {},
   "outputs": [],
   "source": [
    "#DF를 DB에 테이블로 저장\n",
    "df.to_sql(name='테이블이름', con=engine, if_exists='replace', index=False)"
   ]
  },
  {
   "cell_type": "code",
   "execution_count": null,
   "id": "49bca3c3",
   "metadata": {},
   "outputs": [],
   "source": [
    "#테이블 가져와서 DF로 반환\n",
    "dfname = pd.read_sql_table(\"테이블이름\", con=engine)"
   ]
  }
 ],
 "metadata": {
  "language_info": {
   "name": "python"
  }
 },
 "nbformat": 4,
 "nbformat_minor": 5
}
